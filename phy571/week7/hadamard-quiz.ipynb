{
 "cells": [
  {
   "cell_type": "markdown",
   "metadata": {},
   "source": [
    "# Week 7 Quiz - Adam Thomson - Hadamard Gate"
   ]
  },
  {
   "cell_type": "markdown",
   "metadata": {},
   "source": [
    "## Use Qiskit to verify the effect of the Hadamard Gate  (H) on the vector (1,0). You will need to show a hand calculation, the Qiskit result and interpret."
   ]
  },
  {
   "cell_type": "markdown",
   "metadata": {},
   "source": [
    "### Calculate the result of H((1,0))"
   ]
  },
  {
   "cell_type": "code",
   "execution_count": 11,
   "metadata": {},
   "outputs": [
    {
     "name": "stdout",
     "output_type": "stream",
     "text": [
      "Applying Hadamard Gate to (1,0) results in: [0.70710678 0.70710678]\n",
      "Resulting in a measurement of <0: 0.5, 1: 0.5>\n"
     ]
    }
   ],
   "source": [
    "import numpy as np\n",
    "\n",
    "vec0 = np.array([1,0])\n",
    "had = (2**(-1/2)) * np.array([[1,1], [1,-1]])\n",
    "\n",
    "had0 = np.dot(had, vec0)\n",
    "print(f'Applying Hadamard Gate to (1,0) results in: {had0}')\n",
    "\n",
    "# Square each aplitude to get the probability of measurement\n",
    "had_probs = [i**2 for i in had0]\n",
    "print(f'Resulting in a measurement of <0: {round(had_probs[0], 5)}, 1: {round(had_probs[1], 5)}>')"
   ]
  },
  {
   "cell_type": "markdown",
   "metadata": {},
   "source": [
    "This superposition of 0 and 1 is foundational to quantum computing"
   ]
  },
  {
   "cell_type": "markdown",
   "metadata": {},
   "source": [
    "### Verify results with qiskit"
   ]
  },
  {
   "cell_type": "code",
   "execution_count": 13,
   "metadata": {},
   "outputs": [
    {
     "data": {
      "text/html": [
       "<pre style=\"word-wrap: normal;white-space: pre;background: #fff0;line-height: 1.1;font-family: &quot;Courier New&quot;,Courier,monospace\">        ┌───┐ ░ ┌─┐\n",
       "     q: ┤ H ├─░─┤M├\n",
       "        └───┘ ░ └╥┘\n",
       "meas: 1/═════════╩═\n",
       "                 0 </pre>"
      ],
      "text/plain": [
       "        ┌───┐ ░ ┌─┐\n",
       "     q: ┤ H ├─░─┤M├\n",
       "        └───┘ ░ └╥┘\n",
       "meas: 1/═════════╩═\n",
       "                 0 "
      ]
     },
     "execution_count": 13,
     "metadata": {},
     "output_type": "execute_result"
    }
   ],
   "source": [
    "from qiskit import QuantumCircuit\n",
    "from qiskit.visualization import plot_histogram\n",
    "from qiskit_aer.primitives import SamplerV2\n",
    "\n",
    "# Setup single qubit circuit, initialized to |0>\n",
    "qch = QuantumCircuit(1)\n",
    "\n",
    "# Apply Hadamard gate to our qubit\n",
    "qch.h(0)\n",
    "\n",
    "# Measure the new state of the quibit\n",
    "qch.measure_all()\n",
    "\n",
    "# Draw a diagram of the circuit\n",
    "qch.draw()"
   ]
  },
  {
   "cell_type": "markdown",
   "metadata": {},
   "source": [
    "### Sample circuit and plot results"
   ]
  },
  {
   "cell_type": "code",
   "execution_count": 21,
   "metadata": {},
   "outputs": [
    {
     "data": {
      "image/png": "[encoded data removed]",
      "text/plain": [
       "<Figure size 640x480 with 1 Axes>"
      ]
     },
     "execution_count": 21,
     "metadata": {},
     "output_type": "execute_result"
    }
   ],
   "source": [
    "N_SAMPLES = 1000\n",
    "\n",
    "# Setup a sampler and run the circuit N times to verify hand calculation\n",
    "sampler = SamplerV2()\n",
    "result = sampler.run([qch], shots=N_SAMPLES).result()\n",
    "plot_histogram(result[0].data.meas.get_counts())"
   ]
  },
  {
   "cell_type": "markdown",
   "metadata": {},
   "source": [
    "Resulting graph shows an average of N/2 counts for 0 and N/2 counts for 1!"
   ]
  }
 ],
 "metadata": {
  "kernelspec": {
   "display_name": "qhw",
   "language": "python",
   "name": "python3"
  },
  "language_info": {
   "codemirror_mode": {
    "name": "ipython",
    "version": 3
   },
   "file_extension": ".py",
   "mimetype": "text/x-python",
   "name": "python",
   "nbconvert_exporter": "python",
   "pygments_lexer": "ipython3",
   "version": "3.12.7"
  }
 },
 "nbformat": 4,
 "nbformat_minor": 2
}
