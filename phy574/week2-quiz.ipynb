{
 "cells": [
  {
   "cell_type": "markdown",
   "metadata": {},
   "source": [
    "# Adam Thomson - PHY 574 - Quiz 2"
   ]
  },
  {
   "cell_type": "markdown",
   "metadata": {},
   "source": [
    "#### Show the path of equivalency between equations (5.7) and (5.13) in Mermin's text."
   ]
  },
  {
   "cell_type": "code",
   "execution_count": 10,
   "metadata": {},
   "outputs": [],
   "source": [
    "# import libraries\n",
    "import math\n",
    "import numpy as np\n",
    "from IPython.display import Math\n",
    "\n",
    "# Setup display util function\n",
    "def dm(i):\n",
    "    return display(Math(i))"
   ]
  },
  {
   "cell_type": "code",
   "execution_count": 64,
   "metadata": {},
   "outputs": [
    {
     "data": {
      "text/latex": [
       "$\\displaystyle \\text{These equations all describe different ways of representing the state of a qubit with some environmental error applied to it.}$"
      ],
      "text/plain": [
       "<IPython.core.display.Math object>"
      ]
     },
     "metadata": {},
     "output_type": "display_data"
    },
    {
     "data": {
      "text/latex": [
       "$\\displaystyle (5.7): \\begin{cases} \\ket{e}\\ket0 = \\ket{e_0}\\ket0 + \\ket{e_1}\\ket1 \\\\ \\ket{e}\\ket1 = \\ket{e_2}\\ket0 + \\ket{e_3}\\ket1 \\end{cases}$"
      ],
      "text/plain": [
       "<IPython.core.display.Math object>"
      ]
     },
     "metadata": {},
     "output_type": "display_data"
    },
    {
     "data": {
      "text/latex": [
       "$\\displaystyle (5.10): \\ket{e}\\ket{x} =\n",
       "   \\big( [\\ket{e_0} 1 + \\ket{e_1} X] P_0 \\big)\\ket{x} +\n",
       "   \\big( [\\ket{e_2} X + \\ket{e_3} 1] P_1 \\big)\\ket{x}\n",
       "$"
      ],
      "text/plain": [
       "<IPython.core.display.Math object>"
      ]
     },
     "metadata": {},
     "output_type": "display_data"
    },
    {
     "data": {
      "text/latex": [
       "$\\displaystyle (5.13) : \\ket{e}\\ket{x} = \\big( \n",
       "   \\frac{\\ket{e_0}+\\ket{e_3}}2 1 + \\frac{\\ket{e_0}-\\ket{e_3}}2 Z +\n",
       "   \\frac{\\ket{e_2}+\\ket{e_1}}2 X + \\frac{\\ket{e_2}-\\ket{e_1}}2 Y\n",
       "\\big) \\ket{x}$"
      ],
      "text/plain": [
       "<IPython.core.display.Math object>"
      ]
     },
     "metadata": {},
     "output_type": "display_data"
    }
   ],
   "source": [
    "# Describe the equations we're working with\n",
    "dm(r\"\\text{These equations all describe different ways of representing the state of a qubit with some environmental error applied to it.}\")\n",
    "dm(r\"(5.7): \\begin{cases} \\ket{e}\\ket0 = \\ket{e_0}\\ket0 + \\ket{e_1}\\ket1 \\\\ \\ket{e}\\ket1 = \\ket{e_2}\\ket0 + \\ket{e_3}\\ket1 \\end{cases}\")\n",
    "dm(r\"\"\"(5.10): \\ket{e}\\ket{x} =\n",
    "   \\big( [\\ket{e_0} 1 + \\ket{e_1} X] P_0 \\big)\\ket{x} +\n",
    "   \\big( [\\ket{e_2} X + \\ket{e_3} 1] P_1 \\big)\\ket{x}\n",
    "\"\"\")\n",
    "dm(r\"\"\"(5.13) : \\ket{e}\\ket{x} = \\big( \n",
    "   \\frac{\\ket{e_0}+\\ket{e_3}}2 1 + \\frac{\\ket{e_0}-\\ket{e_3}}2 Z +\n",
    "   \\frac{\\ket{e_2}+\\ket{e_1}}2 X + \\frac{\\ket{e_2}-\\ket{e_1}}2 Y\n",
    "\\big) \\ket{x}\"\"\")"
   ]
  },
  {
   "cell_type": "code",
   "execution_count": 65,
   "metadata": {},
   "outputs": [
    {
     "data": {
      "text/latex": [
       "$\\displaystyle \\text{We start with some arbitrary state } \\ket{x} \\text{ and we want to know the effect of } \\ket{e}$"
      ],
      "text/plain": [
       "<IPython.core.display.Math object>"
      ]
     },
     "metadata": {},
     "output_type": "display_data"
    },
    {
     "data": {
      "text/latex": [
       "$\\displaystyle \\ket{e}\\ket{x} = \\ ?$"
      ],
      "text/plain": [
       "<IPython.core.display.Math object>"
      ]
     },
     "metadata": {},
     "output_type": "display_data"
    }
   ],
   "source": [
    "# State what we want to solve\n",
    "dm(r\"\\text{We start with some arbitrary state } \\ket{x} \\text{ and we want to know the effect of } \\ket{e}\")\n",
    "dm(r\"\\ket{e}\\ket{x} = \\ ?\")"
   ]
  },
  {
   "cell_type": "code",
   "execution_count": 66,
   "metadata": {},
   "outputs": [
    {
     "data": {
      "text/latex": [
       "$\\displaystyle \\text{We use the the ability to expand any state into a linear combination of } \\ket0 \\text{ and } \\ket1$"
      ],
      "text/plain": [
       "<IPython.core.display.Math object>"
      ]
     },
     "metadata": {},
     "output_type": "display_data"
    },
    {
     "data": {
      "text/latex": [
       "$\\displaystyle \\text{In combination with the definition of } \\ket{e} \\text{ given by (5.7) to expand each term of (5.10) using the definition of } P_x$"
      ],
      "text/plain": [
       "<IPython.core.display.Math object>"
      ]
     },
     "metadata": {},
     "output_type": "display_data"
    },
    {
     "data": {
      "text/latex": [
       "$\\displaystyle (5.9): P_x = \\frac{1 + (-1)^xZ}2$"
      ],
      "text/plain": [
       "<IPython.core.display.Math object>"
      ]
     },
     "metadata": {},
     "output_type": "display_data"
    },
    {
     "data": {
      "text/latex": [
       "$\\displaystyle \\big( [\\ket{e_0} 1 + \\ket{e_1} X] P_0 \\big)\\ket{x} = \n",
       "    \\frac12( (1 + Z)\\ket{e_0} + (X + XZ)\\ket{e_1} ) \\ket{x}\n",
       "$"
      ],
      "text/plain": [
       "<IPython.core.display.Math object>"
      ]
     },
     "metadata": {},
     "output_type": "display_data"
    },
    {
     "data": {
      "text/latex": [
       "$\\displaystyle \\big( [\\ket{e_2} X + \\ket{e_3} 1] P_1 \\big)\\ket{x} = \n",
       "    \\frac12( (X - XZ)\\ket{e_2} + (1 - Z)\\ket{e_3} ) \\ket{x}\n",
       "$"
      ],
      "text/plain": [
       "<IPython.core.display.Math object>"
      ]
     },
     "metadata": {},
     "output_type": "display_data"
    }
   ],
   "source": [
    "# Introduce the projection operator\n",
    "dm(r\"\\text{We use the the ability to expand any state into a linear combination of } \\ket0 \\text{ and } \\ket1\")\n",
    "dm(r\"\\text{In combination with the definition of } \\ket{e} \\text{ given by (5.7) to expand each term of (5.10) using the definition of } P_x\")\n",
    "dm(r\"(5.9): P_x = \\frac{1 + (-1)^xZ}2\")\n",
    "dm(r\"\"\"\\big( [\\ket{e_0} 1 + \\ket{e_1} X] P_0 \\big)\\ket{x} = \n",
    "    \\frac12( (1 + Z)\\ket{e_0} + (X + XZ)\\ket{e_1} ) \\ket{x}\n",
    "\"\"\")\n",
    "dm(r\"\"\"\\big( [\\ket{e_2} X + \\ket{e_3} 1] P_1 \\big)\\ket{x} = \n",
    "    \\frac12( (X - XZ)\\ket{e_2} + (1 - Z)\\ket{e_3} ) \\ket{x}\n",
    "\"\"\")"
   ]
  },
  {
   "cell_type": "code",
   "execution_count": 67,
   "metadata": {},
   "outputs": [
    {
     "data": {
      "text/latex": [
       "$\\displaystyle Y := ZX ; -Y = XZ$"
      ],
      "text/plain": [
       "<IPython.core.display.Math object>"
      ]
     },
     "metadata": {},
     "output_type": "display_data"
    },
    {
     "data": {
      "text/latex": [
       "$\\displaystyle \\text{Simplify previous terms with Y to get the full expansion of (5.10)}$"
      ],
      "text/plain": [
       "<IPython.core.display.Math object>"
      ]
     },
     "metadata": {},
     "output_type": "display_data"
    },
    {
     "data": {
      "text/latex": [
       "$\\displaystyle \\ket{e}\\ket{x} = \\frac12 [\n",
       "    \\ket{e_0}(1 + Z) + \\ket{e_1}(X - Y)  +\n",
       "    \\ket{e_2}(X + Y) + \\ket{e_3}(1 - Z) ] \\ket{x}\n",
       "$"
      ],
      "text/plain": [
       "<IPython.core.display.Math object>"
      ]
     },
     "metadata": {},
     "output_type": "display_data"
    },
    {
     "data": {
      "text/latex": [
       "$\\displaystyle \\text{By reorganizing terms, we can reach (5.13)}$"
      ],
      "text/plain": [
       "<IPython.core.display.Math object>"
      ]
     },
     "metadata": {},
     "output_type": "display_data"
    },
    {
     "data": {
      "text/latex": [
       "$\\displaystyle \\ket{e}\\ket{x} = \\frac12 [\n",
       "    (\\ket{e_0} + \\ket{e_3}) 1 + (\\ket{e_1} + \\ket{e_2}) X +\n",
       "    (-\\ket{e_1} + \\ket{e_2}) Y + (\\ket{e_0} - \\ket{e_3}) Z\n",
       "]\\ket{x}$"
      ],
      "text/plain": [
       "<IPython.core.display.Math object>"
      ]
     },
     "metadata": {},
     "output_type": "display_data"
    },
    {
     "data": {
      "text/latex": [
       "$\\displaystyle \\ket{e}\\ket{x} = \\Big( \n",
       "   \\frac{\\ket{e_0} + \\ket{e_3}}2 1 + \\frac{\\ket{e_0} - \\ket{e_3}}2 Z +\n",
       "   \\frac{\\ket{e_2} + \\ket{e_1}}2 X + \\frac{\\ket{e_2} - \\ket{e_1}}2 Y\n",
       "\\Big)\\ket{x}$"
      ],
      "text/plain": [
       "<IPython.core.display.Math object>"
      ]
     },
     "metadata": {},
     "output_type": "display_data"
    }
   ],
   "source": [
    "# Use defition of Y to simplify and combine\n",
    "dm(r\"Y := ZX ; -Y = XZ\")\n",
    "dm(r\"\\text{Simplify previous terms with Y to get the full expansion of (5.10)}\")\n",
    "dm(r\"\"\"\\ket{e}\\ket{x} = \\frac12 [\n",
    "    \\ket{e_0}(1 + Z) + \\ket{e_1}(X - Y)  +\n",
    "    \\ket{e_2}(X + Y) + \\ket{e_3}(1 - Z) ] \\ket{x}\n",
    "\"\"\")\n",
    "dm(r\"\\text{By reorganizing terms, we can reach (5.13)}\")\n",
    "dm(r\"\"\"\\ket{e}\\ket{x} = \\frac12 [\n",
    "    (\\ket{e_0} + \\ket{e_3}) 1 + (\\ket{e_1} + \\ket{e_2}) X +\n",
    "    (-\\ket{e_1} + \\ket{e_2}) Y + (\\ket{e_0} - \\ket{e_3}) Z\n",
    "]\\ket{x}\"\"\")\n",
    "dm(r\"\"\"\\ket{e}\\ket{x} = \\Big( \n",
    "   \\frac{\\ket{e_0} + \\ket{e_3}}2 1 + \\frac{\\ket{e_0} - \\ket{e_3}}2 Z +\n",
    "   \\frac{\\ket{e_2} + \\ket{e_1}}2 X + \\frac{\\ket{e_2} - \\ket{e_1}}2 Y\n",
    "\\Big)\\ket{x}\"\"\")"
   ]
  }
 ],
 "metadata": {
  "kernelspec": {
   "display_name": "Python 3",
   "language": "python",
   "name": "python3"
  },
  "language_info": {
   "codemirror_mode": {
    "name": "ipython",
    "version": 3
   },
   "file_extension": ".py",
   "mimetype": "text/x-python",
   "name": "python",
   "nbconvert_exporter": "python",
   "pygments_lexer": "ipython3",
   "version": "3.12.6"
  }
 },
 "nbformat": 4,
 "nbformat_minor": 2
}
