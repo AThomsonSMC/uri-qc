{
 "cells": [
  {
   "cell_type": "markdown",
   "metadata": {},
   "source": [
    "# Adam Thomson - PHY 574 - Week 2"
   ]
  },
  {
   "cell_type": "markdown",
   "metadata": {},
   "source": [
    "### Measurement Error Mitigation\n",
    "Follow the qiskit notebook for measurement error mitigation https://github.com/Qiskit/textbook/blob/main/notebooks/quantum-hardware/measurement-error-mitigation.ipynb\n",
    "- Copy the code to follow along\n",
    "- Add comments and change the inputs, describe results"
   ]
  },
  {
   "cell_type": "code",
   "execution_count": 92,
   "metadata": {},
   "outputs": [],
   "source": [
    "# import libraries\n",
    "from collections import defaultdict\n",
    "from IPython.display import Math\n",
    "import numpy as np\n",
    "import scipy.linalg as la\n",
    "\n",
    "from qiskit import QuantumCircuit, QuantumRegister\n",
    "from qiskit_aer import AerSimulator\n",
    "from qiskit_aer.noise import NoiseModel\n",
    "from qiskit_aer.noise.errors import pauli_error, depolarizing_error\n",
    "from qiskit.visualization import plot_histogram\n",
    "\n",
    "# Initialize local simulator\n",
    "sampler = AerSimulator()\n",
    "\n",
    "# Declare shortcut function\n",
    "def dm(x):\n",
    "    return display(Math(x))"
   ]
  },
  {
   "cell_type": "markdown",
   "metadata": {},
   "source": [
    "For this notebook, we will be focusing on handling error between measurement and return to the user. This can be modelled fairly simply by preparing each possible state and then taking an immediate measurement - we can then check which qubits were flipped in the results."
   ]
  },
  {
   "cell_type": "code",
   "execution_count": 93,
   "metadata": {},
   "outputs": [],
   "source": [
    "# define noise model util generator\n",
    "def get_noise(p):\n",
    "    error_meas = pauli_error([('X', p), ('I', 1-p)])  # Apply an X gate with p probability\n",
    "    \n",
    "    noise_model = NoiseModel()      # instantiate the noise model\n",
    "    # Apply our error to measurement steps\n",
    "    noise_model.add_all_qubit_quantum_error(error_meas, \"measure\")\n",
    "\n",
    "    return noise_model"
   ]
  },
  {
   "cell_type": "markdown",
   "metadata": {},
   "source": [
    "Let's take a closer look at the 2-qubit example for p=1%"
   ]
  },
  {
   "cell_type": "code",
   "execution_count": 6,
   "metadata": {},
   "outputs": [],
   "source": [
    "# Construct p=0.01 noise model\n",
    "noise_model = get_noise(0.01)"
   ]
  },
  {
   "cell_type": "code",
   "execution_count": 94,
   "metadata": {},
   "outputs": [
    {
     "name": "stdout",
     "output_type": "stream",
     "text": [
      "00 becomes {'11': 1, '01': 99, '10': 109, '00': 9791}\n",
      "01 becomes {'10': 1, '00': 99, '01': 9788, '11': 112}\n",
      "10 becomes {'11': 102, '00': 113, '10': 9785}\n",
      "11 becomes {'00': 2, '10': 123, '01': 101, '11': 9774}\n"
     ]
    }
   ],
   "source": [
    "# Prepare each possible 2-qubit state and then measure\n",
    "counts_2q = {}\n",
    "qcs_2q = []\n",
    "STATES_2Q = ['00', '01', '10', '11']\n",
    "for state in STATES_2Q:\n",
    "    qc = QuantumCircuit(2,2)   # construct a circuit for this state\n",
    "    \n",
    "    # Prepare the intended state by applying X gates\n",
    "    if state[0] == '1':\n",
    "        qc.x(1)\n",
    "    if state[1] == '1':\n",
    "        qc.x(0)\n",
    "\n",
    "    # Measure the qubits\n",
    "    qc.measure(qc.qregs[0], qc.cregs[0])\n",
    "    \n",
    "    # Add this circuit to the list of 2-qubit state preparations\n",
    "    qcs_2q.append(qc)\n",
    "\n",
    "    # Run a 10K sampling\n",
    "    state_counts = sampler.run([qc], noise_model=noise_model, shots=10000).result().get_counts()\n",
    "    \n",
    "    # Add the counts to a dict for later\n",
    "    counts_2q[state] = state_counts\n",
    "\n",
    "    # Print the results\n",
    "    print(state + ' becomes', state_counts)"
   ]
  },
  {
   "cell_type": "markdown",
   "metadata": {},
   "source": [
    "Increasing our p_meas should have a direct impact on these counts, let's verify."
   ]
  },
  {
   "cell_type": "code",
   "execution_count": 95,
   "metadata": {},
   "outputs": [
    {
     "name": "stdout",
     "output_type": "stream",
     "text": [
      "00 becomes {'11': 403, '01': 1572, '00': 6404, '10': 1621}\n",
      "01 becomes {'10': 410, '00': 1568, '11': 1585, '01': 6437}\n",
      "10 becomes {'01': 393, '00': 1529, '10': 6460, '11': 1618}\n",
      "11 becomes {'01': 1565, '00': 405, '10': 1589, '11': 6441}\n"
     ]
    }
   ],
   "source": [
    "# repeat with p=20% instead\n",
    "noise_model_p20 = get_noise(0.2)\n",
    "# Store the counts for later\n",
    "counts_p20 = {}\n",
    "for state in STATES_2Q:\n",
    "    qc = QuantumCircuit(2,2)   # construct a circuit for this state\n",
    "    \n",
    "    # Prepare the intended state by applying X gates\n",
    "    if state[0] == '1':\n",
    "        qc.x(1)\n",
    "    if state[1] == '1':\n",
    "        qc.x(0)\n",
    "\n",
    "    # Measure the qubits\n",
    "    qc.measure(qc.qregs[0], qc.cregs[0])\n",
    "    \n",
    "    # Run a 10k sampling\n",
    "    p20_counts = sampler.run([qc], noise_model=noise_model_p20, shots=10000).result().get_counts()\n",
    "    \n",
    "    # Add the counts to a dict for later\n",
    "    counts_p20[state] = p20_counts\n",
    "\n",
    "    # Print the results\n",
    "    print(state + ' becomes', p20_counts)"
   ]
  },
  {
   "cell_type": "markdown",
   "metadata": {},
   "source": [
    "Indeed, we are much more likely than before to measure a result other than the intended state that was prepared."
   ]
  },
  {
   "cell_type": "markdown",
   "metadata": {},
   "source": [
    "Let's examine the results for a bell state such as (|00> + |11>)"
   ]
  },
  {
   "cell_type": "code",
   "execution_count": 97,
   "metadata": {},
   "outputs": [
    {
     "name": "stdout",
     "output_type": "stream",
     "text": [
      "{'01': 92, '11': 4826, '10': 111, '00': 4971}\n"
     ]
    }
   ],
   "source": [
    "# Prepare a Bell state and examine measurements\n",
    "qc = QuantumCircuit(2,2)\n",
    "qc.h(0)     # Apply H-gate\n",
    "qc.cx(0,1)  # Apply CX-gate with superposition control\n",
    "qc.measure(qc.qregs[0], qc.cregs[0])\n",
    "bell_counts = sampler.run([qc], noise_model=noise_model, shots=10000).result().get_counts()\n",
    "print(bell_counts)\n"
   ]
  },
  {
   "cell_type": "markdown",
   "metadata": {},
   "source": [
    "We measure `00` and `11` most often with similar probability, but theoretically `01` and `10` should never be measured - how can we mitigate this? "
   ]
  },
  {
   "cell_type": "markdown",
   "metadata": {},
   "source": [
    "### Error mitigation with linear algebra"
   ]
  },
  {
   "cell_type": "markdown",
   "metadata": {},
   "source": [
    "We can describe our measurement counts as a vector:"
   ]
  },
  {
   "cell_type": "code",
   "execution_count": 98,
   "metadata": {},
   "outputs": [
    {
     "data": {
      "text/latex": [
       "$\\displaystyle C_{B} = \\begin{pmatrix} 4971 \\\\ 92 \\\\ 111 \\\\ 4826 \\end{pmatrix}$"
      ],
      "text/plain": [
       "<IPython.core.display.Math object>"
      ]
     },
     "metadata": {},
     "output_type": "display_data"
    }
   ],
   "source": [
    "# Represent Bell state measurements as vector\n",
    "dm(r\"C_{B} = \\begin{pmatrix} {c00} \\\\ {c01} \\\\ {c10} \\\\ {c11} \\end{pmatrix}\"\n",
    "    .replace(\"{c00}\", str(bell_counts['00']))\n",
    "    .replace(\"{c01}\", str(bell_counts['01']))\n",
    "    .replace(\"{c10}\", str(bell_counts['10']))\n",
    "    .replace(\"{c11}\", str(bell_counts['11']))\n",
    ")"
   ]
  },
  {
   "cell_type": "markdown",
   "metadata": {},
   "source": [
    "By inputting this vector into a normalized matrix of the combined noisy basis state measurement, we can return to an idealized count vector. Let's take a closer look at this by using the notebook example."
   ]
  },
  {
   "cell_type": "code",
   "execution_count": 99,
   "metadata": {},
   "outputs": [
    {
     "name": "stdout",
     "output_type": "stream",
     "text": [
      "C_noisy =\n",
      " [[4904.5]\n",
      " [ 101. ]\n",
      " [  91.5]\n",
      " [4903. ]]\n"
     ]
    }
   ],
   "source": [
    "# Calc C_noisy for the Bell state\n",
    "\n",
    "# copy the normalized noise matrix provided by qiskit\n",
    "M = [[0.9808,0.0107,0.0095,0.0001],\n",
    "    [0.0095,0.9788,0.0001,0.0107],\n",
    "    [0.0096,0.0002,0.9814,0.0087],\n",
    "    [0.0001,0.0103,0.0090,0.9805]]\n",
    "\n",
    "# our expected results with no noise, |00> + |11>\n",
    "Cideal = [[5000],\n",
    "          [0],\n",
    "          [0],\n",
    "          [5000]]\n",
    "\n",
    "# Apply the noise matrix to the ideal state\n",
    "Cnoisy = np.dot(M, Cideal)\n",
    "# Show our expected noisy state\n",
    "print('C_noisy =\\n', Cnoisy)"
   ]
  },
  {
   "cell_type": "markdown",
   "metadata": {},
   "source": [
    "This is the opposite of what we want - so instead, we use the inverse matrix and apply it to our measured count vector."
   ]
  },
  {
   "cell_type": "code",
   "execution_count": 100,
   "metadata": {},
   "outputs": [
    {
     "name": "stdout",
     "output_type": "stream",
     "text": [
      "[[ 1.01978044e+00 -1.11470783e-02 -9.87135367e-03  1.05228426e-04]\n",
      " [-9.89772783e-03  1.02188470e+00  9.39504466e-05 -1.11514471e-02]\n",
      " [-9.97422955e-03 -4.05845410e-06  1.01913199e+00 -9.04172099e-03]\n",
      " [ 9.15212840e-05 -1.07335657e-02 -9.35458279e-03  1.02008794e+00]]\n"
     ]
    }
   ],
   "source": [
    "# find the inverse of M\n",
    "Minv = la.inv(M)  # Use the inverse function from linear algebra library\n",
    "print(Minv)"
   ]
  },
  {
   "cell_type": "code",
   "execution_count": 101,
   "metadata": {},
   "outputs": [
    {
     "data": {
      "text/latex": [
       "$\\displaystyle C_{mitigated} = \\begin{pmatrix}\n",
       "    4999.999999999998 \\\\ 0.0 \\\\ 1.4210854715202004e-14 \\\\ 5000.0\n",
       "\\end{pmatrix}$"
      ],
      "text/plain": [
       "<IPython.core.display.Math object>"
      ]
     },
     "metadata": {},
     "output_type": "display_data"
    }
   ],
   "source": [
    "# Apply to our noisy measurement counts\n",
    "Cmitigated = np.dot(Minv, Cnoisy)\n",
    "dm(r\"\"\"C_{mitigated} = \\begin{pmatrix}\n",
    "    {Cm0} \\\\ {Cm1} \\\\ {Cm2} \\\\ {Cm3}\n",
    "\\end{pmatrix}\"\"\"\n",
    "   .replace('{Cm0}', str(Cmitigated[0][0]))\n",
    "   .replace('{Cm1}', str(Cmitigated[1][0]))\n",
    "   .replace('{Cm2}', str(Cmitigated[2][0]))\n",
    "   .replace('{Cm3}', str(Cmitigated[3][0]))\n",
    ")"
   ]
  },
  {
   "cell_type": "markdown",
   "metadata": {},
   "source": [
    "When rounded to an integer for counts, this exactly matches the ideal!"
   ]
  },
  {
   "cell_type": "markdown",
   "metadata": {},
   "source": [
    "### Error mitigation in qiskit"
   ]
  },
  {
   "cell_type": "markdown",
   "metadata": {},
   "source": [
    "Although the `qiskit_utils.mitigation` module is deprecated in the current version of qiskit, we'll follow the rest of the example as best we can. The replacement library `qiskit-addon-mthree` is designed specifically to hide the underlying matrix math and would make the rest of the exercise moot."
   ]
  },
  {
   "cell_type": "markdown",
   "metadata": {},
   "source": [
    "Let's use the circuit for `p=20%` from earlier to examine these results further."
   ]
  },
  {
   "cell_type": "code",
   "execution_count": 105,
   "metadata": {},
   "outputs": [
    {
     "name": "stdout",
     "output_type": "stream",
     "text": [
      "{'11': 3366, '01': 1581, '10': 1610, '00': 3443}\n"
     ]
    }
   ],
   "source": [
    "# Run Bell circuit using the p=0.2 noise model\n",
    "qc = QuantumCircuit(2,2)\n",
    "qc.h(0)     # Apply H-gate\n",
    "qc.cx(0,1)  # Apply CX-gate with superposition control\n",
    "qc.measure(qc.qregs[0], qc.cregs[0])\n",
    "bell_p20_counts = sampler.run([qc], noise_model=noise_model_p20, shots=10000).result().get_counts()\n",
    "print(bell_p20_counts)"
   ]
  },
  {
   "cell_type": "markdown",
   "metadata": {},
   "source": [
    "We see a significant increase in occurances of |01> and |10> in the counts, does the technique still hold?"
   ]
  },
  {
   "cell_type": "code",
   "execution_count": 103,
   "metadata": {},
   "outputs": [
    {
     "data": {
      "text/latex": [
       "$\\displaystyle C_{noisy_{p20}} = \\begin{pmatrix} 3403.5 \\\\ 1576.5 \\\\ 1573.5 \\\\ 3423.0 \\end{pmatrix}$"
      ],
      "text/plain": [
       "<IPython.core.display.Math object>"
      ]
     },
     "metadata": {},
     "output_type": "display_data"
    },
    {
     "name": "stdout",
     "output_type": "stream",
     "text": [
      "[[ 1.76560652 -0.43006536 -0.44191059  0.10636943]\n",
      " [-0.42707605  1.75640451  0.10171779 -0.43104625]\n",
      " [-0.41579087  0.10131436  1.7540043  -0.43952779]\n",
      " [ 0.09532605 -0.42471435 -0.42964251  1.75903081]]\n"
     ]
    }
   ],
   "source": [
    "# Calculate C_noisy and Minv_p20\n",
    "\n",
    "# Parse the counts from earlier into a normalized matrix\n",
    "M_p20 = [\n",
    "    [counts_p20['00'][i]/10000 for i in STATES_2Q],\n",
    "    [counts_p20['01'][i]/10000 for i in STATES_2Q],\n",
    "    [counts_p20['10'][i]/10000 for i in STATES_2Q],\n",
    "    [counts_p20['11'][i]/10000 for i in STATES_2Q]\n",
    "]\n",
    "\n",
    "# Apply the noise matrix to the ideal Bell state\n",
    "Cnoisy_p20 = np.dot(M_p20, Cideal)\n",
    "dm(r\"C_{noisy_{p20}} = \\begin{pmatrix} {Cnoisy_p20} \\end{pmatrix}\"\n",
    "    .replace(\"{Cnoisy_p20}\", (r' \\\\ ').join([str(i[0]) for i in Cnoisy_p20])))\n",
    "\n",
    "# Calculate the inverse noise matrix\n",
    "Minv_p20 = la.inv(M_p20)\n",
    "print(Minv_p20)"
   ]
  },
  {
   "cell_type": "code",
   "execution_count": 106,
   "metadata": {},
   "outputs": [
    {
     "data": {
      "text/latex": [
       "$\\displaystyle C_{mitigated_{p20}} = \\begin{pmatrix}\n",
       "    5045.613369415114 \\\\ 19.316651679512688 \\\\ 73.10641621143009 \\\\ 4885.90745693968\n",
       "\\end{pmatrix}$"
      ],
      "text/plain": [
       "<IPython.core.display.Math object>"
      ]
     },
     "metadata": {},
     "output_type": "display_data"
    }
   ],
   "source": [
    "# Calculated the mitigated state\n",
    "Cmit_p20 = np.dot(Minv_p20, [[bell_p20_counts[i]] for i in STATES_2Q])\n",
    "dm(r\"\"\"C_{mitigated_{p20}} = \\begin{pmatrix}\n",
    "    {Cm0} \\\\ {Cm1} \\\\ {Cm2} \\\\ {Cm3}\n",
    "\\end{pmatrix}\"\"\"\n",
    "   .replace('{Cm0}', str(Cmit_p20[0][0]))\n",
    "   .replace('{Cm1}', str(Cmit_p20[1][0]))\n",
    "   .replace('{Cm2}', str(Cmit_p20[2][0]))\n",
    "   .replace('{Cm3}', str(Cmit_p20[3][0]))\n",
    ")"
   ]
  },
  {
   "cell_type": "code",
   "execution_count": 107,
   "metadata": {},
   "outputs": [
    {
     "data": {
      "image/png": "[encoded data removed]",
      "text/plain": [
       "<Figure size 640x480 with 1 Axes>"
      ]
     },
     "execution_count": 107,
     "metadata": {},
     "output_type": "execute_result"
    }
   ],
   "source": [
    "# plot the results\n",
    "mitigated_p20_counts = defaultdict(int)\n",
    "for i, j in enumerate(STATES_2Q):\n",
    "    mitigated_p20_counts[j] = Cmit_p20[i][0]\n",
    "plot_histogram([bell_p20_counts, mitigated_p20_counts], legend=['noisy', 'mitigated'])"
   ]
  },
  {
   "cell_type": "markdown",
   "metadata": {},
   "source": [
    "Even with a larger probability of error, we can still rely on this method for error mitigation. We've taken a circuit with over 30% chance of measuring a value other than what we expect, and reduced that to less than 1% by applying the inverted noise matrix!"
   ]
  }
 ],
 "metadata": {
  "kernelspec": {
   "display_name": "Python 3",
   "language": "python",
   "name": "python3"
  },
  "language_info": {
   "codemirror_mode": {
    "name": "ipython",
    "version": 3
   },
   "file_extension": ".py",
   "mimetype": "text/x-python",
   "name": "python",
   "nbconvert_exporter": "python",
   "pygments_lexer": "ipython3",
   "version": "3.12.6"
  }
 },
 "nbformat": 4,
 "nbformat_minor": 2
}
