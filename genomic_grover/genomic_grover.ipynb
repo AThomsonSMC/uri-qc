{
 "cells": [
  {
   "metadata": {},
   "cell_type": "markdown",
   "source": [
    "# Adam Thomson - PHY 573 - Genomic Grover Search\n",
    "Implementation based on qiskit tutorial for Grover's algorithm: https://learning.quantum.ibm.com/tutorial/grovers-algorithm "
   ],
   "id": "49e4ed133af10efd"
  },
  {
   "metadata": {},
   "cell_type": "markdown",
   "source": "The goal of this project is to demonstrate the ability for Grover's algorithm to perform simple bioinformatic queries. I will do this by first examining why genomic sequence searching is an appropriate application of Grover's algorithm, and a thorough instruction for a trivial example. I will then focus on how to construct the oracle gate for a given genomic query, as well as the full quantum circuit to implement the algorithm. I finish the demonstration by comparing the results from more complex queries when running on a local simulator vs. real hardware. The demonstration will conclude with thoughts about the current limitations of this approach and what the future may hold for the potential field of quantum bioinformatics!",
   "id": "64d485b87a003062"
  },
  {
   "metadata": {},
   "cell_type": "markdown",
   "source": "## Setup",
   "id": "dfe2c7c92643486f"
  },
  {
   "cell_type": "code",
   "id": "initial_id",
   "metadata": {
    "collapsed": true,
    "ExecuteTime": {
     "end_time": "2025-02-09T16:31:39.085767Z",
     "start_time": "2025-02-09T16:31:39.082049Z"
    }
   },
   "source": [
    "# Import libraries\n",
    "from IPython.display import Math, HTML\n",
    "import math\n",
    "import matplotlib\n",
    "\n",
    "# Imports from Qiskit\n",
    "from qiskit import QuantumCircuit, transpile\n",
    "from qiskit.circuit.library import GroverOperator, MCMT, ZGate\n",
    "from qiskit.visualization import plot_distribution, plot_histogram\n",
    "\n",
    "# Imports from Qiskit Runtime for running on real hardware\n",
    "from qiskit_ibm_runtime import QiskitRuntimeService\n",
    "from qiskit_ibm_runtime import SamplerV2 as Sampler\n",
    "from qiskit.transpiler.preset_passmanagers import generate_preset_pass_manager"
   ],
   "outputs": [],
   "execution_count": 14
  },
  {
   "metadata": {
    "ExecuteTime": {
     "end_time": "2025-02-09T15:35:18.468538Z",
     "start_time": "2025-02-09T15:35:18.463082Z"
    }
   },
   "cell_type": "code",
   "source": [
    "# Import constants\n",
    "from constants import BASE_MAP, REFERENCE_GENOMES"
   ],
   "id": "c0e4c446ffcb0e00",
   "outputs": [],
   "execution_count": 4
  },
  {
   "metadata": {
    "ExecuteTime": {
     "end_time": "2025-02-09T15:34:24.706593Z",
     "start_time": "2025-02-09T15:34:24.702844Z"
    }
   },
   "cell_type": "code",
   "source": [
    "# Initialize local simulator\n",
    "from qiskit_aer import AerSimulator\n",
    "\n",
    "sim_sampler = AerSimulator()"
   ],
   "id": "b83a2795f0d346ff",
   "outputs": [],
   "execution_count": 3
  },
  {
   "metadata": {
    "ExecuteTime": {
     "end_time": "2025-02-09T16:20:34.477956Z",
     "start_time": "2025-02-09T16:20:34.474588Z"
    }
   },
   "cell_type": "code",
   "source": [
    "# Utility function required for example\n",
    "\"\"\"\n",
    "Convert a sequence of genomic base-pairs to the bitstring representation\n",
    "\"\"\"\n",
    "def _convert_bp_seq_to_bstr(seq):\n",
    "    bstr = \"\"\n",
    "    for bp in seq:\n",
    "        bstr += BASE_MAP[bp]\n",
    "    return bstr"
   ],
   "id": "45a8574d63dc2b2e",
   "outputs": [],
   "execution_count": 10
  },
  {
   "metadata": {},
   "cell_type": "markdown",
   "source": [
    "## Example Walkthrough\n",
    "\n",
    "Let's start by examining the steps of the algorithm to see how it performs on the trivial example of a 4-basepair reference sequence and 1-basepair search string with a single match."
   ],
   "id": "59f8dd0d852b7bb2"
  },
  {
   "metadata": {
    "ExecuteTime": {
     "end_time": "2025-02-09T16:21:29.123285Z",
     "start_time": "2025-02-09T16:21:29.119945Z"
    }
   },
   "cell_type": "code",
   "source": [
    "# Setup trivial example\n",
    "trivial_ref = \"GCAT\"\n",
    "trivial_search = \"A\"\n",
    "\n",
    "# Now convert each to their respective bstrs\n",
    "trivial_ref_bstr = _convert_bp_seq_to_bstr(trivial_ref)\n",
    "trivial_search_bstr = _convert_bp_seq_to_bstr(trivial_search)"
   ],
   "id": "fe63b111cf064132",
   "outputs": [],
   "execution_count": 11
  },
  {
   "metadata": {
    "ExecuteTime": {
     "end_time": "2025-02-09T16:32:41.398029Z",
     "start_time": "2025-02-09T16:32:41.392439Z"
    }
   },
   "cell_type": "code",
   "source": [
    "# We will need 2 qubits to capture all 4 possible indexes for a match\n",
    "display(Math(r\"\"\"\n",
    "\\ket{\\psi_0}} = \\ket{00}\n",
    "\"\"\"))"
   ],
   "id": "50523e280080dd5e",
   "outputs": [
    {
     "data": {
      "text/plain": [
       "<IPython.core.display.Math object>"
      ],
      "text/latex": "$\\displaystyle \n\\ket{\\psi_0}} = \\ket{00}\n$"
     },
     "metadata": {},
     "output_type": "display_data"
    }
   ],
   "execution_count": 16
  },
  {
   "metadata": {
    "ExecuteTime": {
     "end_time": "2025-02-09T16:39:38.608228Z",
     "start_time": "2025-02-09T16:39:38.604110Z"
    }
   },
   "cell_type": "code",
   "source": [
    "# Begin by putting all qubits into a superposition with Hadamard gates\n",
    "display(Math(r\"\"\"\n",
    "\\ket{\\psi_1} = (\\Eta \\otimes \\Eta)\\ket{\\psi_0}\n",
    "\\qquad = (\\Eta \\otimes \\Eta)\\ket{00}\n",
    "\\qquad = \\Eta \\ket0 \\otimes \\Eta \\ket0\n",
    "\\qquad = \\frac1{\\sqrt2}(\\ket0 + \\ket1) \\otimes \\frac1{\\sqrt2}(\\ket0 + \\ket1)\n",
    "\\qquad = \\frac12(\\ket{00} + \\ket{01} + \\ket{10} + \\ket{11}\n",
    "\"\"\"))"
   ],
   "id": "5689603a08478caa",
   "outputs": [
    {
     "data": {
      "text/plain": [
       "<IPython.core.display.Math object>"
      ],
      "text/latex": "$\\displaystyle \n\\ket{\\psi_1} = (\\Eta \\otimes \\Eta)\\ket{\\psi_0}\n\\qquad = (\\Eta \\otimes \\Eta)\\ket{00}\n\\qquad = \\Eta \\ket0 \\otimes \\Eta \\ket0\n\\qquad = \\frac1{\\sqrt2}(\\ket0 + \\ket1) \\otimes \\frac1{\\sqrt2}(\\ket0 + \\ket1)\n\\qquad = \\frac12(\\ket{00} + \\ket{01} + \\ket{10} + \\ket{11}\n$"
     },
     "metadata": {},
     "output_type": "display_data"
    }
   ],
   "execution_count": 24
  },
  {
   "metadata": {},
   "cell_type": "code",
   "outputs": [],
   "execution_count": null,
   "source": [
    "# Since \"A\" is in the 3rd position of GCAT, we know our desired state is |10> \n",
    "# to account for 0-indexing, thus we \"mark\" the 2nd qubit because it is 0\n",
    "display(Math(r\"\"\"\n",
    "\\ket{\\psi_2} = (\\Iota \\otimes \\Chi)\\ket{\\psi_1}\n",
    "\\qquad = \\frac12(\\ket{01} + \\ket{00} + \\ket{11} + \\ket{10})\n",
    "\"\"\"))"
   ],
   "id": "7d3146d0ad59b67c"
  },
  {
   "metadata": {},
   "cell_type": "code",
   "outputs": [],
   "execution_count": null,
   "source": [
    "# Next, apply the multi-target-multi-control Z gate to flip the phase of the desired state\n",
    "# This acts as our \"oracle\" function in the larger algorithm\n",
    "# TODO: ADD MORE DETAILS ABOUT THE MCMT OPERATOR\n",
    "display(Math(r\"\"\"\n",
    "\\ket{\\psi_3} = MCMT\\ket{\\psi_2}\n",
    "\\ket{\\psi_3} = /frac12(\\ket{01} + \\ket{00} + \\ket{11} - \\ket{10})\n",
    "\"\"\"))"
   ],
   "id": "4106361c88f8bb7b"
  },
  {
   "metadata": {},
   "cell_type": "code",
   "outputs": [],
   "execution_count": null,
   "source": "# Apply another X gate to the 2nd qubit to finish \"wrapping\" it",
   "id": "b1de9639e52a8947"
  },
  {
   "metadata": {},
   "cell_type": "markdown",
   "source": "### Utility functions",
   "id": "a6ff72c337606664"
  },
  {
   "metadata": {
    "ExecuteTime": {
     "end_time": "2025-02-09T16:12:07.397925Z",
     "start_time": "2025-02-09T16:12:07.392862Z"
    }
   },
   "cell_type": "code",
   "source": [
    "\"\"\"\n",
    "Search the input reference string for instances of the search string(s)\n",
    "and return indexes for the start of all matches.\n",
    "!!! Make sure not to return odd indexes !!!\n",
    "\"\"\"\n",
    "def _find_bstr_index(search_seqs, reference):\n",
    "    # If only searching for a single sequence, convert to list\n",
    "    if not isinstance(search_seqs, list):\n",
    "        search_seqs = [search_seqs]\n",
    "   \n",
    "    # Convert the sequences being searched for into bit strings\n",
    "    search_bstrs = [\n",
    "        _convert_bp_seq_to_bstr(base_seq)\n",
    "        for base_seq in search_seqs\n",
    "    ]\n",
    "    \n",
    "    # Convert the reference being searched into a bit string\n",
    "    ref_bstr = _convert_bp_seq_to_bstr(reference)\n",
    "    \n",
    "    # Initialize list of indexes to be returned\n",
    "    all_marked_indexes = []\n",
    "    \n",
    "    # Loop through all searches, and find all matches for each\n",
    "    for search_bstr in search_bstrs:\n",
    "        # Reset search start index to beginning of reference\n",
    "        i = 0\n",
    "        # Continue finding matches until we reach the end of reference\n",
    "        while i < len(ref_bstr):\n",
    "            try:\n",
    "                n = ref_bstr.index(search_bstr, i)\n",
    "                # only mark n if it's even! n % 2 = 1 would imply a match that starts mid-basepair\n",
    "                if n % 2 == 0:\n",
    "                    # Divide by 2 to convert from bstr index to bp index\n",
    "                    all_marked_indexes.append(int(n / 2))\n",
    "                # Next search will only check the reference after the current match\n",
    "                i = n + 1\n",
    "            # Will always eventually hit this when no matches exist in the rest of reference\n",
    "            except ValueError:\n",
    "                i = len(ref_bstr) + 1\n",
    "                \n",
    "    return all_marked_indexes"
   ],
   "id": "cefd5718100f7cd7",
   "outputs": [],
   "execution_count": 6
  },
  {
   "metadata": {
    "ExecuteTime": {
     "end_time": "2025-02-09T16:12:09.123092Z",
     "start_time": "2025-02-09T16:12:09.117739Z"
    }
   },
   "cell_type": "code",
   "source": [
    "\"\"\"\n",
    "Build a Grover oracle gate to mark the indexes of input base pair sequences in the reference sequence \n",
    "\n",
    "Parameters:\n",
    "    base_seqs (str or list): Sequence(s) being searched for\n",
    "    reference str: Reference being searched in\n",
    "\n",
    "Returns:\n",
    "    QuantumCircuit: Quantum circuit representing Grover oracle\n",
    "\"\"\"\n",
    "def sequence_oracle(base_seqs, reference):\n",
    "    # Compute the number of qubits required for circuit, log_2(N) (always round up)\n",
    "    num_qubits = math.ceil(math.log(len(reference), 2))\n",
    "\n",
    "    # Initialize quantum circuit with that many qubits\n",
    "    qc = QuantumCircuit(num_qubits)\n",
    "    \n",
    "    # Search the reference for the desired strings and mark the indexes found\n",
    "    marked_states = _find_bstr_index(base_seqs, reference)\n",
    "    # Print it out for manual verification\n",
    "    print(f\"Marked the indexes: {marked_states}\")\n",
    "    \n",
    "    # Mark each target state in the input list\n",
    "    for target_idx in marked_states:\n",
    "        if target_idx > 0 and math.log(target_idx, 2) > num_qubits:\n",
    "            raise ValueError('Marked an index beyond range of reference, try again')\n",
    "        \n",
    "        # Convert the target index into binary and strip leading '0b' identifier\n",
    "        target = bin(target_idx)[2:]\n",
    "        \n",
    "        # Pad the binary index with enough 0s to match num_qubits\n",
    "        pad_target = \"0\"*(num_qubits-len(target)) + target\n",
    "        \n",
    "        # Flip target bit-string to match Qiskit bit-ordering\n",
    "        rev_target = pad_target[::-1]\n",
    "        \n",
    "        # Find the indices of all the '0' elements in bit-string\n",
    "        zero_inds = [ind for ind in range(num_qubits) if rev_target.startswith(\"0\", ind)]\n",
    "        \n",
    "        # Add a multi-controlled Z-gate wrapped in X-gates where the target bit-string has a '0' entry\n",
    "        qc.x(zero_inds)\n",
    "        qc.compose(MCMT(ZGate(), num_qubits - 1, 1), inplace=True)\n",
    "        qc.x(zero_inds)\n",
    "\n",
    "    return qc, len(marked_states)"
   ],
   "id": "e712ce4c1b1607d4",
   "outputs": [],
   "execution_count": 7
  }
 ],
 "metadata": {
  "kernelspec": {
   "display_name": "Python 3",
   "language": "python",
   "name": "python3"
  },
  "language_info": {
   "codemirror_mode": {
    "name": "ipython",
    "version": 2
   },
   "file_extension": ".py",
   "mimetype": "text/x-python",
   "name": "python",
   "nbconvert_exporter": "python",
   "pygments_lexer": "ipython2",
   "version": "2.7.6"
  }
 },
 "nbformat": 4,
 "nbformat_minor": 5
}
