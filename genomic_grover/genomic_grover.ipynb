{
 "cells": [
  {
   "cell_type": "markdown",
   "id": "49e4ed133af10efd",
   "metadata": {},
   "source": [
    "# Adam Thomson - PHY 573 - Genomic Grover Search"
   ]
  },
  {
   "cell_type": "markdown",
   "id": "64d485b87a003062",
   "metadata": {},
   "source": [
    "The goal of this project is to demonstrate the ability for Grover's algorithm to perform simple bioinformatic queries. I will do this by first examining why genomic sequence searching is an appropriate application of Grover's algorithm, and a thorough instruction for a trivial example. I will then focus on how to construct the oracle gate for a given genomic query, as well as the full quantum circuit to implement the algorithm. I finish the demonstration by comparing the results from more complex queries when running on a local simulator vs. real hardware. The demonstration will conclude with thoughts about the current limitations of this approach and what the future may hold for the potential field of quantum bioinformatics!"
   ]
  },
  {
   "cell_type": "code",
   "execution_count": 9,
   "id": "472b0df3",
   "metadata": {},
   "outputs": [],
   "source": [
    "# Import libraries\n",
    "from IPython.display import Math, HTML\n",
    "import math\n",
    "import matplotlib\n",
    "\n",
    "# Imports from Qiskit\n",
    "from qiskit import QuantumCircuit, transpile\n",
    "from qiskit.circuit.library import GroverOperator, MCMT, ZGate\n",
    "from qiskit.visualization import plot_distribution, plot_histogram\n",
    "\n",
    "# Imports from Qiskit Runtime for running on real hardware\n",
    "from qiskit_ibm_runtime import QiskitRuntimeService\n",
    "from qiskit_ibm_runtime import SamplerV2 as Sampler\n",
    "from qiskit.transpiler.preset_passmanagers import generate_preset_pass_manager\n",
    "\n",
    "# Declare shortcut function\n",
    "def dm(x):\n",
    "    return display(Math(x))"
   ]
  },
  {
   "cell_type": "markdown",
   "id": "adee0b77",
   "metadata": {},
   "source": [
    "## Grover's Algorithm"
   ]
  },
  {
   "cell_type": "markdown",
   "id": "9c20c8a7",
   "metadata": {},
   "source": [
    "Grover's algorithm, also known as the quantum search algorithm, was originally published as a way to search an “unsorted database…of which just one item satisfies a given condition,”$^{1}$ proving itself to be \"significantly faster than any classical algorithm can be.\"$^{1}$ Since then, Grover and others have developed enhancements to the algorithm;$^{2}$ for this notebook I will leverage the ability to search for potentially multiple items satisfying the condition. Vazirani provides a timeless comparison for what this algorithm does,$^{3}$ trying to find a needle in a haystack. A classical computer's approach is to scan every object in the stack until coming across the needle, which may require checking the entire haystack. But Grover's quantum approach is like \"using a giant magnet so...you find your needle very quickly.\"$^{3}$ On average, the classical approach requires (N/2) steps to find the solution, while the quantum algorithm will find it in √N steps!"
   ]
  },
  {
   "cell_type": "markdown",
   "id": "e8c19e68",
   "metadata": {},
   "source": [
    "The quantum search algorithm has the potential for profound implications in many fields of research, such as biophysics and chemistry, leading to advancements in medical devices and pharmaceuticals. Shortly after Grover published his algorithm, Hollenberg showed how it could be applied to \"protein sequence analysis\"$^{4}$ and envisioned the same approach scaled up for \"nucleotide sequence comparison in DNA.\"$^{4}$ In this notebook, I will demonstrate exactly that.\n",
    "\n",
    "However, let's first examine exactly how the algorithm performs so much better than the classical counterpart."
   ]
  },
  {
   "cell_type": "code",
   "execution_count": 96,
   "id": "2c2d114c",
   "metadata": {},
   "outputs": [
    {
     "data": {
      "text/latex": [
       "$\\displaystyle \\text{Say you have a function } U_\\omega \\text{ such that }$"
      ],
      "text/plain": [
       "<IPython.core.display.Math object>"
      ]
     },
     "metadata": {},
     "output_type": "display_data"
    },
    {
     "data": {
      "text/latex": [
       "$\\displaystyle U_\\omega(x) = \\begin{cases}\n",
       "0 &\\text{for } x \\neq \\omega \\\\\n",
       "1 &\\text{for } x = \\omega\n",
       "\\end{cases}$"
      ],
      "text/plain": [
       "<IPython.core.display.Math object>"
      ]
     },
     "metadata": {},
     "output_type": "display_data"
    },
    {
     "data": {
      "text/latex": [
       "$\\displaystyle \\text{Where } 0 \\leq x \\leq (N-1), N = 2^n$"
      ],
      "text/plain": [
       "<IPython.core.display.Math object>"
      ]
     },
     "metadata": {},
     "output_type": "display_data"
    },
    {
     "data": {
      "text/latex": [
       "$\\displaystyle \\text{We want to find } \\omega$"
      ],
      "text/plain": [
       "<IPython.core.display.Math object>"
      ]
     },
     "metadata": {},
     "output_type": "display_data"
    }
   ],
   "source": [
    "# Describe the problem statement\n",
    "dm(r\"\\text{Say you have a function } U_\\omega \\text{ such that }\")\n",
    "dm(r\"\"\"U_\\omega(x) = \\begin{cases}\n",
    "0 &\\text{for } x \\neq \\omega \\\\\n",
    "1 &\\text{for } x = \\omega\n",
    "\\end{cases}\"\"\")\n",
    "dm(r\"\\text{Where } 0 \\leq x \\leq (N-1), N = 2^n\")\n",
    "dm(r\"\\text{We want to find } \\omega\")"
   ]
  },
  {
   "cell_type": "markdown",
   "id": "9ce9d501",
   "metadata": {},
   "source": [
    "The quantum approach has 3 components: setup, the oracle function, and the diffusion operator.\n",
    "The initial setup only happens once, and then the oracle and diffusion operator are repeated a number of times dependent on the problem.\n",
    "Construction of the oracle function is unimportant for the sake of the algorithm, only that it phase flips the correct qubits.\n",
    "The diffusion operator will then perform 'inversion about the mean' to amplify the desired state(s) while dampening all others.\n",
    "Finally, after enough iterations, we measure the qubits and check the answer to verify the result."
   ]
  },
  {
   "cell_type": "code",
   "execution_count": 43,
   "id": "cfd2d03e",
   "metadata": {},
   "outputs": [
    {
     "data": {
      "text/latex": [
       "$\\displaystyle \\text{The algorithm setup is one that many quantum algorithms use, putting all input qubits into a uniform superposition.}$"
      ],
      "text/plain": [
       "<IPython.core.display.Math object>"
      ]
     },
     "metadata": {},
     "output_type": "display_data"
    },
    {
     "data": {
      "text/latex": [
       "$\\displaystyle \\text{This is achieved by applying a Hadamard gate to all qubits.}$"
      ],
      "text/plain": [
       "<IPython.core.display.Math object>"
      ]
     },
     "metadata": {},
     "output_type": "display_data"
    },
    {
     "data": {
      "text/latex": [
       "$\\displaystyle \\ket{\\psi_0} = \\ket{00..0}$"
      ],
      "text/plain": [
       "<IPython.core.display.Math object>"
      ]
     },
     "metadata": {},
     "output_type": "display_data"
    },
    {
     "data": {
      "text/latex": [
       "$\\displaystyle \\ket{\\psi_0'} = H^{\\otimes n} \\ket{\\psi_0} = (H\\ket0) \\otimes (H\\ket0) \\otimes ... (H\\ket0)$"
      ],
      "text/plain": [
       "<IPython.core.display.Math object>"
      ]
     },
     "metadata": {},
     "output_type": "display_data"
    },
    {
     "data": {
      "text/latex": [
       "$\\displaystyle \\qquad = \\frac1{\\sqrt2}(\\ket{0} + \\ket{1}) \\otimes \\frac1{\\sqrt2}(\\ket{0} + \\ket{1}) \\otimes ... \\frac1{\\sqrt2}(\\ket{0} + \\ket{1})$"
      ],
      "text/plain": [
       "<IPython.core.display.Math object>"
      ]
     },
     "metadata": {},
     "output_type": "display_data"
    },
    {
     "data": {
      "text/latex": [
       "$\\displaystyle \\qquad = \\frac1{2^{\\frac{n}{2}}} (\\ket{0} + \\ket{1})^{\\otimes n}$"
      ],
      "text/plain": [
       "<IPython.core.display.Math object>"
      ]
     },
     "metadata": {},
     "output_type": "display_data"
    },
    {
     "data": {
      "text/latex": [
       "$\\displaystyle \\ket{\\psi_0'} = \\frac1{\\sqrt{N}} \\sum_{x=0}^{N-1} \\ket{x}$"
      ],
      "text/plain": [
       "<IPython.core.display.Math object>"
      ]
     },
     "metadata": {},
     "output_type": "display_data"
    }
   ],
   "source": [
    "# State initialization\n",
    "dm(r\"\\text{The algorithm setup is one that many quantum algorithms use, putting all input qubits into a uniform superposition.}\")\n",
    "dm(r\"\\text{This is achieved by applying a Hadamard gate to all qubits.}\")\n",
    "dm(r\"\\ket{\\psi_0} = \\ket{00..0}\")\n",
    "dm(r\"\\ket{\\psi_0'} = H^{\\otimes n} \\ket{\\psi_0} = (H\\ket0) \\otimes (H\\ket0) \\otimes ... (H\\ket0)\")\n",
    "dm(r\"\\qquad = \\frac1{\\sqrt2}(\\ket{0} + \\ket{1}) \\otimes \\frac1{\\sqrt2}(\\ket{0} + \\ket{1}) \\otimes ... \\frac1{\\sqrt2}(\\ket{0} + \\ket{1})\")\n",
    "dm(r\"\\qquad = \\frac1{2^{\\frac{n}{2}}} (\\ket{0} + \\ket{1})^{\\otimes n}\")\n",
    "dm(r\"\\ket{\\psi_0'} = \\frac1{\\sqrt{N}} \\sum_{x=0}^{N-1} \\ket{x}\")"
   ]
  },
  {
   "cell_type": "code",
   "execution_count": 49,
   "id": "9aa36a0c",
   "metadata": {},
   "outputs": [
    {
     "data": {
      "text/latex": [
       "$\\displaystyle \\text{The oracle operator will then perform a phase flip on the qubits corresponding to a solution state.}$"
      ],
      "text/plain": [
       "<IPython.core.display.Math object>"
      ]
     },
     "metadata": {},
     "output_type": "display_data"
    },
    {
     "data": {
      "text/latex": [
       "$\\displaystyle \\ket{\\psi_0''} = U_\\omega \\ket{\\psi_0'}$"
      ],
      "text/plain": [
       "<IPython.core.display.Math object>"
      ]
     },
     "metadata": {},
     "output_type": "display_data"
    },
    {
     "data": {
      "text/latex": [
       "$\\displaystyle \\qquad = \\frac1{\\sqrt{N}} \\sum_{x=0}^{N-1} \\begin{cases}\n",
       "\\ket{x} &\\text{for } x \\neq \\omega \\\\\n",
       "-\\ket{x} &\\text{for } x = \\omega\n",
       "\\end{cases}$"
      ],
      "text/plain": [
       "<IPython.core.display.Math object>"
      ]
     },
     "metadata": {},
     "output_type": "display_data"
    }
   ],
   "source": [
    "# Apply the oracle operator\n",
    "dm(r\"\\text{The oracle operator will then perform a phase flip on the qubits corresponding to a solution state.}\")\n",
    "dm(r\"\\ket{\\psi_0''} = U_\\omega \\ket{\\psi_0'}\")\n",
    "dm(r\"\"\"\\qquad = \\frac1{\\sqrt{N}} \\sum_{x=0}^{N-1} \\begin{cases}\n",
    "\\ket{x} &\\text{for } x \\neq \\omega \\\\\n",
    "-\\ket{x} &\\text{for } x = \\omega\n",
    "\\end{cases}\"\"\")"
   ]
  },
  {
   "cell_type": "code",
   "execution_count": 70,
   "id": "50e4a422",
   "metadata": {},
   "outputs": [
    {
     "data": {
      "text/latex": [
       "$\\displaystyle \\text{And the diffusion operator will amplify the state } \\ket{\\omega} \\text{ as well as dampen all other } \\ket{x}$"
      ],
      "text/plain": [
       "<IPython.core.display.Math object>"
      ]
     },
     "metadata": {},
     "output_type": "display_data"
    },
    {
     "data": {
      "text/latex": [
       "$\\displaystyle U_s = 2\\ket{s} \\bra{s} - 1 \\text{; Where } \\ket{s} = H^{\\otimes n}\\ket{0}_n$"
      ],
      "text/plain": [
       "<IPython.core.display.Math object>"
      ]
     },
     "metadata": {},
     "output_type": "display_data"
    },
    {
     "data": {
      "text/latex": [
       "$\\displaystyle \\ket{\\psi_1} = U_s \\ket{\\psi_0''} = U_s U_\\omega H^{\\otimes n} \\ket{\\psi_0}$"
      ],
      "text/plain": [
       "<IPython.core.display.Math object>"
      ]
     },
     "metadata": {},
     "output_type": "display_data"
    },
    {
     "data": {
      "text/latex": [
       "$\\displaystyle \\text{Depending on the size of the search space and the number of solutions, now may be a good time to measure. But if not, repeat...}$"
      ],
      "text/plain": [
       "<IPython.core.display.Math object>"
      ]
     },
     "metadata": {},
     "output_type": "display_data"
    },
    {
     "data": {
      "text/latex": [
       "$\\displaystyle \\ket{\\psi_2} = U_s U_\\omega \\ket{\\psi_1} = (U_s U_\\omega)^2 H^{\\otimes n} \\ket{\\psi_0}$"
      ],
      "text/plain": [
       "<IPython.core.display.Math object>"
      ]
     },
     "metadata": {},
     "output_type": "display_data"
    },
    {
     "data": {
      "text/latex": [
       "$\\displaystyle \\ket{\\psi_t} = (U_s U_\\omega)^t H^{\\otimes n} \\ket{\\psi_0}$"
      ],
      "text/plain": [
       "<IPython.core.display.Math object>"
      ]
     },
     "metadata": {},
     "output_type": "display_data"
    }
   ],
   "source": [
    "# Apply the diffusion operator\n",
    "dm(r\"\\text{And the diffusion operator will amplify the state } \\ket{\\omega} \\text{ as well as dampen all other } \\ket{x}\")\n",
    "dm(r\"U_s = 2\\ket{s} \\bra{s} - 1 \\text{; Where } \\ket{s} = H^{\\otimes n}\\ket{0}_n\")\n",
    "dm(r\"\\ket{\\psi_1} = U_s \\ket{\\psi_0''} = U_s U_\\omega H^{\\otimes n} \\ket{\\psi_0}\")\n",
    "dm(r\"\\text{Depending on the size of the search space and the number of solutions, now may be a good time to measure. But if not, repeat...}\")\n",
    "dm(r\"\\ket{\\psi_2} = U_s U_\\omega \\ket{\\psi_1} = (U_s U_\\omega)^2 H^{\\otimes n} \\ket{\\psi_0}\")\n",
    "dm(r\"\\ket{\\psi_t} = (U_s U_\\omega)^t H^{\\otimes n} \\ket{\\psi_0}\")"
   ]
  },
  {
   "cell_type": "code",
   "execution_count": 62,
   "id": "aca409d5",
   "metadata": {},
   "outputs": [
    {
     "data": {
      "text/latex": [
       "$\\displaystyle \\text{There are multiple ways to approach a calculation for an optimal } t, \\text{ with the following equation widely used:}$"
      ],
      "text/plain": [
       "<IPython.core.display.Math object>"
      ]
     },
     "metadata": {},
     "output_type": "display_data"
    },
    {
     "data": {
      "text/latex": [
       "$\\displaystyle t = \\lfloor \\frac{\\pi}4 \\sqrt{\\frac{N}{m}} \\rfloor$"
      ],
      "text/plain": [
       "<IPython.core.display.Math object>"
      ]
     },
     "metadata": {},
     "output_type": "display_data"
    },
    {
     "data": {
      "text/latex": [
       "$\\displaystyle \\text{Where } N \\text{ is the size of the search space, while } m \\text{ is the number of matches.}$"
      ],
      "text/plain": [
       "<IPython.core.display.Math object>"
      ]
     },
     "metadata": {},
     "output_type": "display_data"
    },
    {
     "data": {
      "text/latex": [
       "$\\displaystyle \\text{I will demonstrate what happens when you use a non-optimal } t \\text{ later in the notebook.}$"
      ],
      "text/plain": [
       "<IPython.core.display.Math object>"
      ]
     },
     "metadata": {},
     "output_type": "display_data"
    }
   ],
   "source": [
    "# Describe how to determine optimal t\n",
    "dm(r\"\\text{There are multiple ways to approach a calculation for an optimal } t, \\text{ with the following equation widely used:}\")\n",
    "dm(r\"t = \\lfloor \\frac{\\pi}4 \\sqrt{\\frac{N}{m}} \\rfloor\")\n",
    "dm(r\"\\text{Where } N \\text{ is the size of the search space, while } m \\text{ is the number of matches.}\")\n",
    "dm(r\"\\text{I will demonstrate what happens when you use a non-optimal } t \\text{ later in the notebook.}\")"
   ]
  },
  {
   "cell_type": "markdown",
   "id": "6cc96c47",
   "metadata": {},
   "source": [
    "Let's examine in detail how these pieces come together for a simple genomic sequence search."
   ]
  },
  {
   "cell_type": "markdown",
   "id": "59f8dd0d852b7bb2",
   "metadata": {},
   "source": [
    "## Example Walkthrough\n",
    "\n",
    "I'll start by examining each intermediary state in the trivial example of a 4-basepair reference sequence and 1-basepair search string with a single match. In this case, we are attempting to find the index of \"A\" in the sequence `GCAT`"
   ]
  },
  {
   "cell_type": "code",
   "execution_count": 7,
   "id": "50523e280080dd5e",
   "metadata": {
    "ExecuteTime": {
     "end_time": "2025-02-09T16:32:41.398029Z",
     "start_time": "2025-02-09T16:32:41.392439Z"
    }
   },
   "outputs": [
    {
     "data": {
      "text/latex": [
       "$\\displaystyle \n",
       "\\ket{\\psi_0} = \\ket{00}\n",
       "$"
      ],
      "text/plain": [
       "<IPython.core.display.Math object>"
      ]
     },
     "metadata": {},
     "output_type": "display_data"
    }
   ],
   "source": [
    "# We will need 2 qubits to capture all 4 possible indexes for a match\n",
    "dm(r\"\\ket{\\psi_0} = \\ket{00}\")"
   ]
  },
  {
   "cell_type": "code",
   "execution_count": 64,
   "id": "5689603a08478caa",
   "metadata": {
    "ExecuteTime": {
     "end_time": "2025-02-09T16:39:38.608228Z",
     "start_time": "2025-02-09T16:39:38.604110Z"
    }
   },
   "outputs": [
    {
     "data": {
      "text/latex": [
       "$\\displaystyle \\ket{\\psi_0'} = (\\Eta \\otimes \\Eta)\\ket{\\psi_0}$"
      ],
      "text/plain": [
       "<IPython.core.display.Math object>"
      ]
     },
     "metadata": {},
     "output_type": "display_data"
    },
    {
     "data": {
      "text/latex": [
       "$\\displaystyle \\qquad = (H \\otimes H)\\ket{00}$"
      ],
      "text/plain": [
       "<IPython.core.display.Math object>"
      ]
     },
     "metadata": {},
     "output_type": "display_data"
    },
    {
     "data": {
      "text/latex": [
       "$\\displaystyle \\qquad = H \\ket0 \\otimes H \\ket0$"
      ],
      "text/plain": [
       "<IPython.core.display.Math object>"
      ]
     },
     "metadata": {},
     "output_type": "display_data"
    },
    {
     "data": {
      "text/latex": [
       "$\\displaystyle \\qquad = \\frac1{\\sqrt2}(\\ket0 + \\ket1) \\otimes \\frac1{\\sqrt2}(\\ket0 + \\ket1)$"
      ],
      "text/plain": [
       "<IPython.core.display.Math object>"
      ]
     },
     "metadata": {},
     "output_type": "display_data"
    },
    {
     "data": {
      "text/latex": [
       "$\\displaystyle \\qquad = \\frac12(\\ket{00} + \\ket{01} + \\ket{10} + \\ket{11}$"
      ],
      "text/plain": [
       "<IPython.core.display.Math object>"
      ]
     },
     "metadata": {},
     "output_type": "display_data"
    }
   ],
   "source": [
    "# Begin by putting all qubits into a superposition with Hadamard gates\n",
    "dm(r\"\\ket{\\psi_0'} = (\\Eta \\otimes \\Eta)\\ket{\\psi_0}\")\n",
    "dm(r\"\\qquad = (H \\otimes H)\\ket{00}\")\n",
    "dm(r\"\\qquad = H \\ket0 \\otimes H \\ket0\")\n",
    "dm(r\"\\qquad = \\frac1{\\sqrt2}(\\ket0 + \\ket1) \\otimes \\frac1{\\sqrt2}(\\ket0 + \\ket1)\")\n",
    "dm(r\"\\qquad = \\frac12(\\ket{00} + \\ket{01} + \\ket{10} + \\ket{11}\")\n"
   ]
  },
  {
   "cell_type": "code",
   "execution_count": 73,
   "id": "7d3146d0ad59b67c",
   "metadata": {},
   "outputs": [
    {
     "data": {
      "text/latex": [
       "$\\displaystyle \\ket{\\psi_0''} = U_\\omega \\ket{\\psi_0'}$"
      ],
      "text/plain": [
       "<IPython.core.display.Math object>"
      ]
     },
     "metadata": {},
     "output_type": "display_data"
    },
    {
     "data": {
      "text/latex": [
       "$\\displaystyle \\qquad = \\frac12(\\ket{00} + \\ket{01} - \\ket{10} + \\ket{11})$"
      ],
      "text/plain": [
       "<IPython.core.display.Math object>"
      ]
     },
     "metadata": {},
     "output_type": "display_data"
    }
   ],
   "source": [
    "# Since \"A\" is in the 3rd position of GCAT, we know the oracle performs a phase flip for |10>\n",
    "dm(r\"\\ket{\\psi_0''} = U_\\omega \\ket{\\psi_0'}\")\n",
    "dm(r\"\\qquad = \\frac12(\\ket{00} + \\ket{01} - \\ket{10} + \\ket{11})\")\n"
   ]
  },
  {
   "cell_type": "code",
   "execution_count": 94,
   "id": "4106361c88f8bb7b",
   "metadata": {},
   "outputs": [
    {
     "data": {
      "text/latex": [
       "$\\displaystyle \\ket{\\psi_1} = U_s \\ket{\\psi_0''} = (2\\ket{s} \\bra{s} - 1)\\ket{\\psi_0''}$"
      ],
      "text/plain": [
       "<IPython.core.display.Math object>"
      ]
     },
     "metadata": {},
     "output_type": "display_data"
    },
    {
     "data": {
      "text/latex": [
       "$\\displaystyle \\qquad = 2\\ket{s}\\braket{s|\\psi_0''} - \\ket{\\psi_0''}$"
      ],
      "text/plain": [
       "<IPython.core.display.Math object>"
      ]
     },
     "metadata": {},
     "output_type": "display_data"
    },
    {
     "data": {
      "text/latex": [
       "$\\displaystyle \\braket{s|\\psi_0''} = \\frac1{2^2}(1 + 1 - 1 + 1) = \\frac12$"
      ],
      "text/plain": [
       "<IPython.core.display.Math object>"
      ]
     },
     "metadata": {},
     "output_type": "display_data"
    },
    {
     "data": {
      "text/latex": [
       "$\\displaystyle \\ket{\\psi_1} = \\ket{s} - \\ket{\\psi_0''}$"
      ],
      "text/plain": [
       "<IPython.core.display.Math object>"
      ]
     },
     "metadata": {},
     "output_type": "display_data"
    },
    {
     "data": {
      "text/latex": [
       "$\\displaystyle \\qquad = \\frac12(\\cancel{\\ket{00}} + \\cancel{\\ket{01}} + \\ket{10} + \\cancel{\\ket{11}})\n",
       "    - \\frac12(\\cancel{\\ket{00}} + \\cancel{\\ket{01}} - \\ket{10} + \\cancel{\\ket{11}})$"
      ],
      "text/plain": [
       "<IPython.core.display.Math object>"
      ]
     },
     "metadata": {},
     "output_type": "display_data"
    },
    {
     "data": {
      "text/latex": [
       "$\\displaystyle \\ket{\\psi_1} = \\ket{10}$"
      ],
      "text/plain": [
       "<IPython.core.display.Math object>"
      ]
     },
     "metadata": {},
     "output_type": "display_data"
    }
   ],
   "source": [
    "# Apply the diffusion operator\n",
    "dm(r\"\\ket{\\psi_1} = U_s \\ket{\\psi_0''} = (2\\ket{s} \\bra{s} - 1)\\ket{\\psi_0''}\")\n",
    "dm(r\"\\qquad = 2\\ket{s}\\braket{s|\\psi_0''} - \\ket{\\psi_0''}\")\n",
    "dm(r\"\\braket{s|\\psi_0''} = \\frac1{2^2}(1 + 1 - 1 + 1) = \\frac12\")\n",
    "dm(r\"\\ket{\\psi_1} = \\ket{s} - \\ket{\\psi_0''}\")\n",
    "dm(r\"\"\"\\qquad = \\frac12(\\cancel{\\ket{00}} + \\cancel{\\ket{01}} + \\ket{10} + \\cancel{\\ket{11}})\n",
    "    - \\frac12(\\cancel{\\ket{00}} + \\cancel{\\ket{01}} - \\ket{10} + \\cancel{\\ket{11}})\"\"\")\n",
    "dm(r\"\\ket{\\psi_1} = \\ket{10}\")"
   ]
  },
  {
   "cell_type": "markdown",
   "id": "0300b3fc",
   "metadata": {},
   "source": [
    "With just a single iteration of Grover's algorithm, we have (theoretically) put the qubits into a state with 100% probability of measuring the correct answer |10> = \"A\"! Recall that A classical computer would take 2.5 attempts on average, with a worst case maximum of 4."
   ]
  },
  {
   "cell_type": "markdown",
   "id": "a6ff72c337606664",
   "metadata": {},
   "source": [
    "### Utility functions\n",
    "\n",
    "Before continuing to building circuits, I'll describe some utility functions for the genomic sequence application."
   ]
  },
  {
   "cell_type": "code",
   "execution_count": 105,
   "id": "cefd5718100f7cd7",
   "metadata": {
    "ExecuteTime": {
     "end_time": "2025-02-09T16:12:07.397925Z",
     "start_time": "2025-02-09T16:12:07.392862Z"
    }
   },
   "outputs": [],
   "source": [
    "\"\"\"\n",
    "Search the input reference string for instances of the search string(s)\n",
    "and return indexes for the start of all matches.\n",
    "\"\"\"\n",
    "def _find_match_indexes(search_seqs, reference, num_qubits):\n",
    "    # If only searching for a single sequence, convert to list\n",
    "    if not isinstance(search_seqs, list):\n",
    "        search_seqs = [search_seqs]\n",
    "   \n",
    "    # Initialize list of indexes to be returned\n",
    "    all_marked_indexes = []\n",
    "    \n",
    "    # Loop through all searches, and find all matches for each\n",
    "    for search_seq in search_seqs:\n",
    "        # Reset search start index to beginning of reference\n",
    "        i = 0\n",
    "        # Continue finding matches until we reach the end of reference\n",
    "        while i < len(reference):\n",
    "            try:\n",
    "                n = reference.index(search_seq, i)\n",
    "                all_marked_indexes.append(int(n / 2))\n",
    "                # Next search will only check the reference after the current match\n",
    "                i = n + 1\n",
    "            # Will always eventually hit this when no matches exist in the rest of reference\n",
    "            except ValueError:\n",
    "                i = len(reference) + 1\n",
    "    \n",
    "    # Convert indexes to 0-padded binary strings\n",
    "    return [bin(i)[2:].zfill(num_qubits) for i in all_marked_indexes]"
   ]
  },
  {
   "cell_type": "code",
   "execution_count": 103,
   "id": "e712ce4c1b1607d4",
   "metadata": {
    "ExecuteTime": {
     "end_time": "2025-02-09T16:12:09.123092Z",
     "start_time": "2025-02-09T16:12:09.117739Z"
    }
   },
   "outputs": [],
   "source": [
    "\"\"\"\n",
    "Build a Grover Operator gate, consisting of both the oracle function\n",
    "and diffusion operator for a given list of search strings and reference\n",
    "\n",
    "Parameters:\n",
    "    base_seqs <str|list>: Sequence(s) being searched for\n",
    "    reference <str>: Reference being searched\n",
    "\n",
    "Returns:\n",
    "    QuantumCircuit: Quantum circuit representing Grover Operator gate\n",
    "\"\"\"\n",
    "def genomic_oracle_gate(base_seqs, reference):\n",
    "    # Compute the number of qubits required for circuit, log_2(N) (always round up)\n",
    "    num_qubits = math.ceil(math.log(len(reference), 2))\n",
    "\n",
    "    # Initialize quantum circuit with that many qubits\n",
    "    qc = QuantumCircuit(num_qubits)\n",
    "    \n",
    "    # Search the reference for the desired strings and mark the indexes found\n",
    "    marked_states = _find_match_indexes(base_seqs, reference, num_qubits)\n",
    "    # Print it out for manual verification\n",
    "    print(f\"Marked the indexes: {marked_states}\")\n",
    "    \n",
    "    qc = QuantumCircuit(num_qubits)\n",
    "    # Mark each target state in the input list\n",
    "    for target in marked_states:\n",
    "        # Flip target bit-string to match Qiskit bit-ordering\n",
    "        rev_target = target[::-1]\n",
    "        # Find the indices of all the '0' elements in bit-string\n",
    "        zero_inds = [ind for ind in range(num_qubits) if rev_target.startswith(\"0\", ind)]\n",
    "        # Add a multi-controlled Z-gate with pre- and post-applied X-gates (open-controls)\n",
    "        # where the target bit-string has a '0' entry\n",
    "        qc.x(zero_inds)\n",
    "        qc.compose(MCMT(ZGate(), num_qubits - 1, 1), inplace=True)\n",
    "        qc.x(zero_inds)\n",
    "\n",
    "    # Also return the number of marked states found for determining number of iterations\n",
    "    return qc, len(marked_states)"
   ]
  },
  {
   "cell_type": "code",
   "execution_count": 104,
   "id": "6e2effdf",
   "metadata": {},
   "outputs": [],
   "source": [
    "\"\"\"Determine the optimal number of iterations\"\"\"\n",
    "def optimal_num_iterations(match_count, num_qubits):\n",
    "    # t = floor((pi/4)*(sqrt(N/m))), at least 1\n",
    "    return max(\n",
    "        math.floor(\n",
    "            (math.pi / 4) * (math.sqrt(match_count / 2**num_qubits))\n",
    "        ), 1)"
   ]
  },
  {
   "cell_type": "code",
   "execution_count": null,
   "id": "4a7a4060",
   "metadata": {},
   "outputs": [],
   "source": [
    "\"\"\"Given a reference and input sequence, build a circuit to find indexes of matches\"\"\"\n",
    "def build_genomic_grover(search_seqs, ref_str):\n",
    "    # Figure out how many qubits are needed for the circuit\n",
    "    nqubits = math.ceil(math.log(len(ref_str), 2))\n",
    "    qc = QuantumCircuit(nqubits)\n",
    "\n",
    "    # Initialize by applying Hadamard gates to all qubits\n",
    "    qc.h(range(nqubits))\n",
    "\n",
    "    # Build the oracle function\n",
    "    "
   ]
  },
  {
   "cell_type": "markdown",
   "id": "b6715198",
   "metadata": {},
   "source": [
    "## Example Circuit"
   ]
  },
  {
   "cell_type": "code",
   "execution_count": 101,
   "id": "7fd28d9d",
   "metadata": {},
   "outputs": [],
   "source": [
    "# Import test references\n",
    "from constants import REFERENCE_GENOMES"
   ]
  },
  {
   "cell_type": "code",
   "execution_count": null,
   "id": "45acb1a5",
   "metadata": {},
   "outputs": [],
   "source": [
    "# Initialize local simulator\n",
    "from qiskit_aer import AerSimulator\n",
    "\n",
    "sim_sampler = AerSimulator()"
   ]
  },
  {
   "cell_type": "code",
   "execution_count": null,
   "id": "83009db9",
   "metadata": {},
   "outputs": [],
   "source": [
    "# Setup trivial example\n",
    "trivial_ref = \"GCAT\"\n",
    "trivial_search = \"A\"\n",
    "\n",
    "# Now convert each to their respective bstrs\n",
    "trivial_ref_bstr = _convert_bp_seq_to_bstr(trivial_ref)\n",
    "trivial_search_bstr = _convert_bp_seq_to_bstr(trivial_search)"
   ]
  },
  {
   "cell_type": "markdown",
   "id": "65a0cd6f",
   "metadata": {},
   "source": [
    "## References"
   ]
  },
  {
   "cell_type": "markdown",
   "id": "693547da",
   "metadata": {},
   "source": [
    "Algorithm implementation based on qiskit tutorial notebook: https://learning.quantum.ibm.com/tutorial/grovers-algorithm \n",
    "\n",
    "[1] Grover, L. “A fast quantum mechanical algorithm for database search” Proceedings, 28th Annual ACM Symposium on the Theory of Computing May, 1996 https://doi.org/10.48550/arXiv.quant-ph/9605043\n",
    "\n",
    "[2] Grover, L., Rudolf, T. “Creating superpositions that correspond to efficiently integrable probability\n",
    "distributions” 2002 https://doi.org/10.48550/arXiv.2406.13785 \n",
    "\n",
    "[3] Vazirani, U. \"Lecture 11 1 NEEDLE IN A HAYSTACK\" 2019, Sandro Mareco, https://youtu.be/-nFbjqYyoEI?list=PLXEJgM3ycgQW5ysL69uaEdPoof4it6seB\n",
    "\n",
    "[4] Hollenberg, L. “Fast Quantum Search Algorithms in Protein Sequence Comparison - Quantum Biocomputing” 25, Feb 2000 https://doi.org/10.48550/arXiv.quant-ph/0002076 "
   ]
  },
  {
   "cell_type": "markdown",
   "id": "825ae287",
   "metadata": {},
   "source": []
  }
 ],
 "metadata": {
  "kernelspec": {
   "display_name": "Python 3",
   "language": "python",
   "name": "python3"
  },
  "language_info": {
   "codemirror_mode": {
    "name": "ipython",
    "version": 3
   },
   "file_extension": ".py",
   "mimetype": "text/x-python",
   "name": "python",
   "nbconvert_exporter": "python",
   "pygments_lexer": "ipython3",
   "version": "3.12.6"
  }
 },
 "nbformat": 4,
 "nbformat_minor": 5
}
