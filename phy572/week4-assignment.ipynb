{
 "cells": [
  {
   "cell_type": "markdown",
   "metadata": {},
   "source": [
    "# PHY 572 Week 4 Assignment\n"
   ]
  },
  {
   "cell_type": "markdown",
   "metadata": {},
   "source": [
    "### Apply X, Y, and Z operators to the vecors |0>, |1>, |+>, and |-> and view the change in Bloch Sphere representation"
   ]
  },
  {
   "cell_type": "markdown",
   "metadata": {},
   "source": [
    "#### Setup quantum circuit factories"
   ]
  },
  {
   "cell_type": "code",
   "execution_count": 27,
   "metadata": {},
   "outputs": [
    {
     "name": "stdout",
     "output_type": "stream",
     "text": [
      "Quantum Circuit Factories initialized\n"
     ]
    }
   ],
   "source": [
    "from qiskit import QuantumCircuit\n",
    "\n",
    "# Quantum circuits initialize in |0> state\n",
    "def init_qc0():\n",
    "    return QuantumCircuit(1)\n",
    "\n",
    "# Use X operator to flip to |1> state\n",
    "def init_qc1():\n",
    "    qc1 = QuantumCircuit(1)\n",
    "    qc1.x(0)\n",
    "    return qc1\n",
    "\n",
    "# Use Hadamard gate to put into |+> superposition\n",
    "def init_qc_plus():\n",
    "    qc_plus = QuantumCircuit(1)\n",
    "    qc_plus.h(0)\n",
    "    return qc_plus\n",
    "\n",
    "# Use X then Hadamard gates to put into |1>, then |-> state.\n",
    "def init_qc_minus():\n",
    "    qc_minus = QuantumCircuit(1)\n",
    "    qc_minus.x(0)\n",
    "    qc_minus.h(0)\n",
    "    return qc_minus\n",
    "\n",
    "print('Quantum Circuit Factories initialized')"
   ]
  },
  {
   "cell_type": "markdown",
   "metadata": {},
   "source": [
    "### Bloch Sphere for |0> state"
   ]
  },
  {
   "cell_type": "code",
   "execution_count": 18,
   "metadata": {},
   "outputs": [
    {
     "name": "stderr",
     "output_type": "stream",
     "text": [
      "/tmp/ipykernel_13873/4042464322.py:7: DeprecationWarning: The function ``qiskit.visualization.transition_visualization.visualize_transition()`` is deprecated as of qiskit 1.2.0. It will be removed in the 2.0 release.\n",
      "  visualize_transition(qc0x, True)\n"
     ]
    }
   ],
   "source": [
    "from qiskit.visualization import visualize_transition\n",
    "\n",
    "# Apply X operator and then visualize\n",
    "\n",
    "qc0x = init_qc0()\n",
    "qc0x.x(0)\n",
    "visualize_transition(qc0x, True)"
   ]
  },
  {
   "cell_type": "code",
   "execution_count": null,
   "metadata": {},
   "outputs": [],
   "source": [
    "# Apply the Y operator and then visualize\n",
    "\n",
    "qc0y = init_qc0()\n",
    "qc0y.y(0)\n",
    "visualize_transition(qc0y, True)"
   ]
  },
  {
   "cell_type": "code",
   "execution_count": null,
   "metadata": {},
   "outputs": [],
   "source": [
    "# Apply the Z operator and then visualize\n",
    "\n",
    "qc0z = init_qc0()\n",
    "qc0z.z(0)\n",
    "visualize_transition(qc0z, True)"
   ]
  },
  {
   "cell_type": "markdown",
   "metadata": {},
   "source": [
    "The visualizations show that the vector \"rotates\" around the given axis from |0> to |1> for X and Y, and does nothing for Z."
   ]
  },
  {
   "cell_type": "markdown",
   "metadata": {},
   "source": [
    "### Bloch Sphere for |1> state transitions"
   ]
  },
  {
   "cell_type": "code",
   "execution_count": 1,
   "metadata": {},
   "outputs": [
    {
     "ename": "NameError",
     "evalue": "name 'init_qc1' is not defined",
     "output_type": "error",
     "traceback": [
      "\u001b[0;31m---------------------------------------------------------------------------\u001b[0m",
      "\u001b[0;31mNameError\u001b[0m                                 Traceback (most recent call last)",
      "Cell \u001b[0;32mIn[1], line 3\u001b[0m\n\u001b[1;32m      1\u001b[0m \u001b[38;5;66;03m# Apply X operator and then visualize\u001b[39;00m\n\u001b[0;32m----> 3\u001b[0m qc1x \u001b[38;5;241m=\u001b[39m \u001b[43minit_qc1\u001b[49m()\n\u001b[1;32m      4\u001b[0m qc1x\u001b[38;5;241m.\u001b[39mx(\u001b[38;5;241m0\u001b[39m)\n\u001b[1;32m      5\u001b[0m visualize_transition(qc1x, \u001b[38;5;28;01mTrue\u001b[39;00m)\n",
      "\u001b[0;31mNameError\u001b[0m: name 'init_qc1' is not defined"
     ]
    }
   ],
   "source": [
    "# Apply X operator and then visualize\n",
    "\n",
    "qc1x = init_qc1()\n",
    "qc1x.x(0)\n",
    "visualize_transition(qc1x, True)"
   ]
  },
  {
   "cell_type": "code",
   "execution_count": 2,
   "metadata": {},
   "outputs": [
    {
     "ename": "NameError",
     "evalue": "name 'init_qc1' is not defined",
     "output_type": "error",
     "traceback": [
      "\u001b[0;31m---------------------------------------------------------------------------\u001b[0m",
      "\u001b[0;31mNameError\u001b[0m                                 Traceback (most recent call last)",
      "Cell \u001b[0;32mIn[2], line 3\u001b[0m\n\u001b[1;32m      1\u001b[0m \u001b[38;5;66;03m# Apply Y operator and then visualize\u001b[39;00m\n\u001b[0;32m----> 3\u001b[0m qc1y \u001b[38;5;241m=\u001b[39m \u001b[43minit_qc1\u001b[49m()\n\u001b[1;32m      4\u001b[0m qc1y\u001b[38;5;241m.\u001b[39my(\u001b[38;5;241m0\u001b[39m)\n\u001b[1;32m      5\u001b[0m visualize_transition(qc1y, \u001b[38;5;28;01mTrue\u001b[39;00m)\n",
      "\u001b[0;31mNameError\u001b[0m: name 'init_qc1' is not defined"
     ]
    }
   ],
   "source": [
    "# Apply Y operator and then visualize\n",
    "\n",
    "qc1y = init_qc1()\n",
    "qc1y.y(0)\n",
    "visualize_transition(qc1y, True)"
   ]
  },
  {
   "cell_type": "code",
   "execution_count": 3,
   "metadata": {},
   "outputs": [
    {
     "ename": "NameError",
     "evalue": "name 'init_qc1' is not defined",
     "output_type": "error",
     "traceback": [
      "\u001b[0;31m---------------------------------------------------------------------------\u001b[0m",
      "\u001b[0;31mNameError\u001b[0m                                 Traceback (most recent call last)",
      "Cell \u001b[0;32mIn[3], line 3\u001b[0m\n\u001b[1;32m      1\u001b[0m \u001b[38;5;66;03m# Apply X operator and then visualize\u001b[39;00m\n\u001b[0;32m----> 3\u001b[0m qc1z \u001b[38;5;241m=\u001b[39m \u001b[43minit_qc1\u001b[49m()\n\u001b[1;32m      4\u001b[0m qc1z\u001b[38;5;241m.\u001b[39mz(\u001b[38;5;241m0\u001b[39m)\n\u001b[1;32m      5\u001b[0m visualize_transition(qc1z, \u001b[38;5;28;01mTrue\u001b[39;00m)\n",
      "\u001b[0;31mNameError\u001b[0m: name 'init_qc1' is not defined"
     ]
    }
   ],
   "source": [
    "# Apply Z operator and then visualize\n",
    "\n",
    "qc1z = init_qc1()\n",
    "qc1z.z(0)\n",
    "visualize_transition(qc1z, True)"
   ]
  },
  {
   "cell_type": "markdown",
   "metadata": {},
   "source": [
    "After the initial flip to |1>, we see the same behavior of \"rotation\" around the axis of the operator. This means that the X and Y operators flip |1> back to |0> while the Z operator continues to be a null operation."
   ]
  },
  {
   "cell_type": "markdown",
   "metadata": {},
   "source": [
    "### Bloch Sphere for |+> state transitions"
   ]
  },
  {
   "cell_type": "code",
   "execution_count": 4,
   "metadata": {},
   "outputs": [
    {
     "ename": "NameError",
     "evalue": "name 'init_qc_plus' is not defined",
     "output_type": "error",
     "traceback": [
      "\u001b[0;31m---------------------------------------------------------------------------\u001b[0m",
      "\u001b[0;31mNameError\u001b[0m                                 Traceback (most recent call last)",
      "Cell \u001b[0;32mIn[4], line 3\u001b[0m\n\u001b[1;32m      1\u001b[0m \u001b[38;5;66;03m# Apply X operator and then visualize\u001b[39;00m\n\u001b[0;32m----> 3\u001b[0m qc_plusx \u001b[38;5;241m=\u001b[39m \u001b[43minit_qc_plus\u001b[49m()\n\u001b[1;32m      4\u001b[0m qc_plusx\u001b[38;5;241m.\u001b[39mx(\u001b[38;5;241m0\u001b[39m)\n\u001b[1;32m      5\u001b[0m visualize_transition(qc_plusx, \u001b[38;5;28;01mTrue\u001b[39;00m)\n",
      "\u001b[0;31mNameError\u001b[0m: name 'init_qc_plus' is not defined"
     ]
    }
   ],
   "source": [
    "# Apply X operator and then visualize\n",
    "\n",
    "qc_plusx = init_qc_plus()\n",
    "qc_plusx.x(0)\n",
    "visualize_transition(qc_plusx, True)"
   ]
  },
  {
   "cell_type": "code",
   "execution_count": 5,
   "metadata": {},
   "outputs": [
    {
     "ename": "NameError",
     "evalue": "name 'init_qc_plus' is not defined",
     "output_type": "error",
     "traceback": [
      "\u001b[0;31m---------------------------------------------------------------------------\u001b[0m",
      "\u001b[0;31mNameError\u001b[0m                                 Traceback (most recent call last)",
      "Cell \u001b[0;32mIn[5], line 3\u001b[0m\n\u001b[1;32m      1\u001b[0m \u001b[38;5;66;03m# Apply X operator and then visualize\u001b[39;00m\n\u001b[0;32m----> 3\u001b[0m qc_plusy \u001b[38;5;241m=\u001b[39m \u001b[43minit_qc_plus\u001b[49m()\n\u001b[1;32m      4\u001b[0m qc_plusy\u001b[38;5;241m.\u001b[39my(\u001b[38;5;241m0\u001b[39m)\n\u001b[1;32m      5\u001b[0m visualize_transition(qc_plusy, \u001b[38;5;28;01mTrue\u001b[39;00m)\n",
      "\u001b[0;31mNameError\u001b[0m: name 'init_qc_plus' is not defined"
     ]
    }
   ],
   "source": [
    "# Apply Y operator and then visualize\n",
    "\n",
    "qc_plusy = init_qc_plus()\n",
    "qc_plusy.y(0)\n",
    "visualize_transition(qc_plusy, True)"
   ]
  },
  {
   "cell_type": "code",
   "execution_count": 6,
   "metadata": {},
   "outputs": [
    {
     "ename": "NameError",
     "evalue": "name 'init_qc_plus' is not defined",
     "output_type": "error",
     "traceback": [
      "\u001b[0;31m---------------------------------------------------------------------------\u001b[0m",
      "\u001b[0;31mNameError\u001b[0m                                 Traceback (most recent call last)",
      "Cell \u001b[0;32mIn[6], line 3\u001b[0m\n\u001b[1;32m      1\u001b[0m \u001b[38;5;66;03m# Apply X operator and then visualize\u001b[39;00m\n\u001b[0;32m----> 3\u001b[0m qc_plusz \u001b[38;5;241m=\u001b[39m \u001b[43minit_qc_plus\u001b[49m()\n\u001b[1;32m      4\u001b[0m qc_plusz\u001b[38;5;241m.\u001b[39mz(\u001b[38;5;241m0\u001b[39m)\n\u001b[1;32m      5\u001b[0m visualize_transition(qc_plusz, \u001b[38;5;28;01mTrue\u001b[39;00m)\n",
      "\u001b[0;31mNameError\u001b[0m: name 'init_qc_plus' is not defined"
     ]
    }
   ],
   "source": [
    "# Apply Z operator and then visualize\n",
    "\n",
    "qc_plusz = init_qc_plus()\n",
    "qc_plusz.z(0)\n",
    "visualize_transition(qc_plusz, True)"
   ]
  },
  {
   "cell_type": "markdown",
   "metadata": {},
   "source": [
    "Note that the initial Hadamard gate to get to |+> state does not correspond to rotation around one of the Bloch Sphere axis. However, after that initial move, we continue to see the behavior of operators causing rotation about that axis. From the |+> state, the X operator does nothing but X and Y flip the state to |->"
   ]
  },
  {
   "cell_type": "markdown",
   "metadata": {},
   "source": [
    "### Bloch Sphere for |-> state transitions"
   ]
  },
  {
   "cell_type": "code",
   "execution_count": 7,
   "metadata": {},
   "outputs": [
    {
     "ename": "NameError",
     "evalue": "name 'init_qc_minus' is not defined",
     "output_type": "error",
     "traceback": [
      "\u001b[0;31m---------------------------------------------------------------------------\u001b[0m",
      "\u001b[0;31mNameError\u001b[0m                                 Traceback (most recent call last)",
      "Cell \u001b[0;32mIn[7], line 3\u001b[0m\n\u001b[1;32m      1\u001b[0m \u001b[38;5;66;03m# Apply X operator and then visualize\u001b[39;00m\n\u001b[0;32m----> 3\u001b[0m qc_minusx \u001b[38;5;241m=\u001b[39m \u001b[43minit_qc_minus\u001b[49m()\n\u001b[1;32m      4\u001b[0m qc_minusx\u001b[38;5;241m.\u001b[39mx(\u001b[38;5;241m0\u001b[39m)\n\u001b[1;32m      5\u001b[0m visualize_transition(qc_minusx, \u001b[38;5;28;01mTrue\u001b[39;00m)\n",
      "\u001b[0;31mNameError\u001b[0m: name 'init_qc_minus' is not defined"
     ]
    }
   ],
   "source": [
    "# Apply X operator and then visualize\n",
    "\n",
    "qc_minusx = init_qc_minus()\n",
    "qc_minusx.x(0)\n",
    "visualize_transition(qc_minusx, True)"
   ]
  },
  {
   "cell_type": "code",
   "execution_count": 8,
   "metadata": {},
   "outputs": [
    {
     "ename": "NameError",
     "evalue": "name 'init_qc_minus' is not defined",
     "output_type": "error",
     "traceback": [
      "\u001b[0;31m---------------------------------------------------------------------------\u001b[0m",
      "\u001b[0;31mNameError\u001b[0m                                 Traceback (most recent call last)",
      "Cell \u001b[0;32mIn[8], line 3\u001b[0m\n\u001b[1;32m      1\u001b[0m \u001b[38;5;66;03m# Apply Y operator and then visualize\u001b[39;00m\n\u001b[0;32m----> 3\u001b[0m qc_minusy \u001b[38;5;241m=\u001b[39m \u001b[43minit_qc_minus\u001b[49m()\n\u001b[1;32m      4\u001b[0m qc_minusy\u001b[38;5;241m.\u001b[39my(\u001b[38;5;241m0\u001b[39m)\n\u001b[1;32m      5\u001b[0m visualize_transition(qc_minusy, \u001b[38;5;28;01mTrue\u001b[39;00m)\n",
      "\u001b[0;31mNameError\u001b[0m: name 'init_qc_minus' is not defined"
     ]
    }
   ],
   "source": [
    "# Apply Y operator and then visualize\n",
    "\n",
    "qc_minusy = init_qc_minus()\n",
    "qc_minusy.y(0)\n",
    "visualize_transition(qc_minusy, True)"
   ]
  },
  {
   "cell_type": "code",
   "execution_count": 9,
   "metadata": {},
   "outputs": [
    {
     "ename": "NameError",
     "evalue": "name 'init_qc_minus' is not defined",
     "output_type": "error",
     "traceback": [
      "\u001b[0;31m---------------------------------------------------------------------------\u001b[0m",
      "\u001b[0;31mNameError\u001b[0m                                 Traceback (most recent call last)",
      "Cell \u001b[0;32mIn[9], line 3\u001b[0m\n\u001b[1;32m      1\u001b[0m \u001b[38;5;66;03m# Apply Z operator and then visualize\u001b[39;00m\n\u001b[0;32m----> 3\u001b[0m qc_minusz \u001b[38;5;241m=\u001b[39m \u001b[43minit_qc_minus\u001b[49m()\n\u001b[1;32m      4\u001b[0m qc_minusz\u001b[38;5;241m.\u001b[39mz(\u001b[38;5;241m0\u001b[39m)\n\u001b[1;32m      5\u001b[0m visualize_transition(qc_minusz, \u001b[38;5;28;01mTrue\u001b[39;00m)\n",
      "\u001b[0;31mNameError\u001b[0m: name 'init_qc_minus' is not defined"
     ]
    }
   ],
   "source": [
    "# Apply Z operator and then visualize\n",
    "\n",
    "qc_minusz = init_qc_minus()\n",
    "qc_minusz.z(0)\n",
    "visualize_transition(qc_minusz, True)"
   ]
  },
  {
   "cell_type": "markdown",
   "metadata": {},
   "source": [
    "## Perform operators twice on given states"
   ]
  },
  {
   "cell_type": "markdown",
   "metadata": {},
   "source": [
    "### Since all Pauli matrices squared are the identity matrix, we expect that performing any operation twice on a given state will result in the same state"
   ]
  },
  {
   "cell_type": "code",
   "execution_count": 11,
   "metadata": {},
   "outputs": [
    {
     "ename": "NameError",
     "evalue": "name 'init_qc0' is not defined",
     "output_type": "error",
     "traceback": [
      "\u001b[0;31m---------------------------------------------------------------------------\u001b[0m",
      "\u001b[0;31mNameError\u001b[0m                                 Traceback (most recent call last)",
      "Cell \u001b[0;32mIn[11], line 3\u001b[0m\n\u001b[1;32m      1\u001b[0m \u001b[38;5;66;03m# Apply XX, YY, and ZZ operators and then visualize\u001b[39;00m\n\u001b[0;32m----> 3\u001b[0m qc0xx \u001b[38;5;241m=\u001b[39m \u001b[43minit_qc0\u001b[49m()\n\u001b[1;32m      4\u001b[0m qc0xx\u001b[38;5;241m.\u001b[39mx(\u001b[38;5;241m0\u001b[39m)\n\u001b[1;32m      5\u001b[0m qc0xx\u001b[38;5;241m.\u001b[39mx(\u001b[38;5;241m0\u001b[39m)\n",
      "\u001b[0;31mNameError\u001b[0m: name 'init_qc0' is not defined"
     ]
    }
   ],
   "source": [
    "# Apply XX, YY, and ZZ operators and then visualize\n",
    "\n",
    "qc0xx = init_qc0()\n",
    "qc0xx.x(0)\n",
    "qc0xx.x(0)\n",
    "\n",
    "qc0yy = init_qc0()\n",
    "qc0yy.y(0)\n",
    "qc0yy.y(0)\n",
    "\n",
    "qc0zz = init_qc0()\n",
    "qc0zz.z(0)\n",
    "qc0zz.z(0)"
   ]
  },
  {
   "cell_type": "code",
   "execution_count": 12,
   "metadata": {},
   "outputs": [
    {
     "ename": "NameError",
     "evalue": "name 'visualize_transition' is not defined",
     "output_type": "error",
     "traceback": [
      "\u001b[0;31m---------------------------------------------------------------------------\u001b[0m",
      "\u001b[0;31mNameError\u001b[0m                                 Traceback (most recent call last)",
      "Cell \u001b[0;32mIn[12], line 1\u001b[0m\n\u001b[0;32m----> 1\u001b[0m \u001b[43mvisualize_transition\u001b[49m(qc0xx, \u001b[38;5;28;01mTrue\u001b[39;00m)\n",
      "\u001b[0;31mNameError\u001b[0m: name 'visualize_transition' is not defined"
     ]
    }
   ],
   "source": [
    "visualize_transition(qc0xx, True)"
   ]
  },
  {
   "cell_type": "code",
   "execution_count": 13,
   "metadata": {},
   "outputs": [
    {
     "ename": "NameError",
     "evalue": "name 'visualize_transition' is not defined",
     "output_type": "error",
     "traceback": [
      "\u001b[0;31m---------------------------------------------------------------------------\u001b[0m",
      "\u001b[0;31mNameError\u001b[0m                                 Traceback (most recent call last)",
      "Cell \u001b[0;32mIn[13], line 1\u001b[0m\n\u001b[0;32m----> 1\u001b[0m \u001b[43mvisualize_transition\u001b[49m(qc0yy, \u001b[38;5;28;01mTrue\u001b[39;00m)\n",
      "\u001b[0;31mNameError\u001b[0m: name 'visualize_transition' is not defined"
     ]
    }
   ],
   "source": [
    "visualize_transition(qc0yy, True)"
   ]
  },
  {
   "cell_type": "code",
   "execution_count": 14,
   "metadata": {},
   "outputs": [
    {
     "ename": "NameError",
     "evalue": "name 'visualize_transition' is not defined",
     "output_type": "error",
     "traceback": [
      "\u001b[0;31m---------------------------------------------------------------------------\u001b[0m",
      "\u001b[0;31mNameError\u001b[0m                                 Traceback (most recent call last)",
      "Cell \u001b[0;32mIn[14], line 1\u001b[0m\n\u001b[0;32m----> 1\u001b[0m \u001b[43mvisualize_transition\u001b[49m(qc0zz, \u001b[38;5;28;01mTrue\u001b[39;00m)\n",
      "\u001b[0;31mNameError\u001b[0m: name 'visualize_transition' is not defined"
     ]
    }
   ],
   "source": [
    "visualize_transition(qc0zz, True)"
   ]
  },
  {
   "cell_type": "code",
   "execution_count": 15,
   "metadata": {},
   "outputs": [
    {
     "ename": "NameError",
     "evalue": "name 'init_qc1' is not defined",
     "output_type": "error",
     "traceback": [
      "\u001b[0;31m---------------------------------------------------------------------------\u001b[0m",
      "\u001b[0;31mNameError\u001b[0m                                 Traceback (most recent call last)",
      "Cell \u001b[0;32mIn[15], line 3\u001b[0m\n\u001b[1;32m      1\u001b[0m \u001b[38;5;66;03m# Apply XX, YY, and ZZ operators and then visualize\u001b[39;00m\n\u001b[0;32m----> 3\u001b[0m qc1xx \u001b[38;5;241m=\u001b[39m \u001b[43minit_qc1\u001b[49m()\n\u001b[1;32m      4\u001b[0m qc1xx\u001b[38;5;241m.\u001b[39mx(\u001b[38;5;241m0\u001b[39m)\n\u001b[1;32m      5\u001b[0m qc1xx\u001b[38;5;241m.\u001b[39mx(\u001b[38;5;241m0\u001b[39m)\n",
      "\u001b[0;31mNameError\u001b[0m: name 'init_qc1' is not defined"
     ]
    }
   ],
   "source": [
    "# Apply XX, YY, and ZZ operators and then visualize\n",
    "\n",
    "qc1xx = init_qc1()\n",
    "qc1xx.x(0)\n",
    "qc1xx.x(0)\n",
    "\n",
    "qc1yy = init_qc1()\n",
    "qc1yy.y(0)\n",
    "qc1yy.y(0)\n",
    "\n",
    "qc1zz = init_qc1()\n",
    "qc1zz.z(0)\n",
    "qc1zz.z(0)"
   ]
  },
  {
   "cell_type": "code",
   "execution_count": 16,
   "metadata": {},
   "outputs": [
    {
     "ename": "NameError",
     "evalue": "name 'visualize_transition' is not defined",
     "output_type": "error",
     "traceback": [
      "\u001b[0;31m---------------------------------------------------------------------------\u001b[0m",
      "\u001b[0;31mNameError\u001b[0m                                 Traceback (most recent call last)",
      "Cell \u001b[0;32mIn[16], line 1\u001b[0m\n\u001b[0;32m----> 1\u001b[0m \u001b[43mvisualize_transition\u001b[49m(qc1xx, \u001b[38;5;28;01mTrue\u001b[39;00m)\n",
      "\u001b[0;31mNameError\u001b[0m: name 'visualize_transition' is not defined"
     ]
    }
   ],
   "source": [
    "visualize_transition(qc1xx, True)"
   ]
  },
  {
   "cell_type": "code",
   "execution_count": 17,
   "metadata": {},
   "outputs": [
    {
     "ename": "NameError",
     "evalue": "name 'visualize_transition' is not defined",
     "output_type": "error",
     "traceback": [
      "\u001b[0;31m---------------------------------------------------------------------------\u001b[0m",
      "\u001b[0;31mNameError\u001b[0m                                 Traceback (most recent call last)",
      "Cell \u001b[0;32mIn[17], line 1\u001b[0m\n\u001b[0;32m----> 1\u001b[0m \u001b[43mvisualize_transition\u001b[49m(qc1yy, \u001b[38;5;28;01mTrue\u001b[39;00m)\n",
      "\u001b[0;31mNameError\u001b[0m: name 'visualize_transition' is not defined"
     ]
    }
   ],
   "source": [
    "visualize_transition(qc1yy, True)"
   ]
  },
  {
   "cell_type": "code",
   "execution_count": 18,
   "metadata": {},
   "outputs": [
    {
     "ename": "NameError",
     "evalue": "name 'visualize_transition' is not defined",
     "output_type": "error",
     "traceback": [
      "\u001b[0;31m---------------------------------------------------------------------------\u001b[0m",
      "\u001b[0;31mNameError\u001b[0m                                 Traceback (most recent call last)",
      "Cell \u001b[0;32mIn[18], line 1\u001b[0m\n\u001b[0;32m----> 1\u001b[0m \u001b[43mvisualize_transition\u001b[49m(qc1zz, \u001b[38;5;28;01mTrue\u001b[39;00m)\n",
      "\u001b[0;31mNameError\u001b[0m: name 'visualize_transition' is not defined"
     ]
    }
   ],
   "source": [
    "visualize_transition(qc1zz, True)"
   ]
  },
  {
   "cell_type": "code",
   "execution_count": 19,
   "metadata": {},
   "outputs": [
    {
     "ename": "NameError",
     "evalue": "name 'init_qc_plus' is not defined",
     "output_type": "error",
     "traceback": [
      "\u001b[0;31m---------------------------------------------------------------------------\u001b[0m",
      "\u001b[0;31mNameError\u001b[0m                                 Traceback (most recent call last)",
      "Cell \u001b[0;32mIn[19], line 3\u001b[0m\n\u001b[1;32m      1\u001b[0m \u001b[38;5;66;03m# Apply XX, YY, and ZZ operators and then visualize\u001b[39;00m\n\u001b[0;32m----> 3\u001b[0m qc_plusxx \u001b[38;5;241m=\u001b[39m \u001b[43minit_qc_plus\u001b[49m()\n\u001b[1;32m      4\u001b[0m qc_plusxx\u001b[38;5;241m.\u001b[39mx(\u001b[38;5;241m0\u001b[39m)\n\u001b[1;32m      5\u001b[0m qc_plusxx\u001b[38;5;241m.\u001b[39mx(\u001b[38;5;241m0\u001b[39m)\n",
      "\u001b[0;31mNameError\u001b[0m: name 'init_qc_plus' is not defined"
     ]
    }
   ],
   "source": [
    "# Apply XX, YY, and ZZ operators and then visualize\n",
    "\n",
    "qc_plusxx = init_qc_plus()\n",
    "qc_plusxx.x(0)\n",
    "qc_plusxx.x(0)\n",
    "\n",
    "qc_plusyy = init_qc_plus()\n",
    "qc_plusyy.y(0)\n",
    "qc_plusyy.y(0)\n",
    "\n",
    "qc_pluszz = init_qc_plus()\n",
    "qc_pluszz.z(0)\n",
    "qc_pluszz.z(0)"
   ]
  },
  {
   "cell_type": "code",
   "execution_count": 20,
   "metadata": {},
   "outputs": [
    {
     "ename": "NameError",
     "evalue": "name 'visualize_transition' is not defined",
     "output_type": "error",
     "traceback": [
      "\u001b[0;31m---------------------------------------------------------------------------\u001b[0m",
      "\u001b[0;31mNameError\u001b[0m                                 Traceback (most recent call last)",
      "Cell \u001b[0;32mIn[20], line 1\u001b[0m\n\u001b[0;32m----> 1\u001b[0m \u001b[43mvisualize_transition\u001b[49m(qc_plusxx, \u001b[38;5;28;01mTrue\u001b[39;00m)\n",
      "\u001b[0;31mNameError\u001b[0m: name 'visualize_transition' is not defined"
     ]
    }
   ],
   "source": [
    "visualize_transition(qc_plusxx, True)"
   ]
  },
  {
   "cell_type": "code",
   "execution_count": 21,
   "metadata": {},
   "outputs": [
    {
     "ename": "NameError",
     "evalue": "name 'visualize_transition' is not defined",
     "output_type": "error",
     "traceback": [
      "\u001b[0;31m---------------------------------------------------------------------------\u001b[0m",
      "\u001b[0;31mNameError\u001b[0m                                 Traceback (most recent call last)",
      "Cell \u001b[0;32mIn[21], line 1\u001b[0m\n\u001b[0;32m----> 1\u001b[0m \u001b[43mvisualize_transition\u001b[49m(qc_plusyy, \u001b[38;5;28;01mTrue\u001b[39;00m)\n",
      "\u001b[0;31mNameError\u001b[0m: name 'visualize_transition' is not defined"
     ]
    }
   ],
   "source": [
    "visualize_transition(qc_plusyy, True)"
   ]
  },
  {
   "cell_type": "code",
   "execution_count": 22,
   "metadata": {},
   "outputs": [
    {
     "ename": "NameError",
     "evalue": "name 'visualize_transition' is not defined",
     "output_type": "error",
     "traceback": [
      "\u001b[0;31m---------------------------------------------------------------------------\u001b[0m",
      "\u001b[0;31mNameError\u001b[0m                                 Traceback (most recent call last)",
      "Cell \u001b[0;32mIn[22], line 1\u001b[0m\n\u001b[0;32m----> 1\u001b[0m \u001b[43mvisualize_transition\u001b[49m(qc_pluszz, \u001b[38;5;28;01mTrue\u001b[39;00m)\n",
      "\u001b[0;31mNameError\u001b[0m: name 'visualize_transition' is not defined"
     ]
    }
   ],
   "source": [
    "visualize_transition(qc_pluszz, True)"
   ]
  },
  {
   "cell_type": "code",
   "execution_count": 23,
   "metadata": {},
   "outputs": [
    {
     "ename": "NameError",
     "evalue": "name 'init_qc_minus' is not defined",
     "output_type": "error",
     "traceback": [
      "\u001b[0;31m---------------------------------------------------------------------------\u001b[0m",
      "\u001b[0;31mNameError\u001b[0m                                 Traceback (most recent call last)",
      "Cell \u001b[0;32mIn[23], line 3\u001b[0m\n\u001b[1;32m      1\u001b[0m \u001b[38;5;66;03m# Apply XX, YY, and ZZ operators and then visualize\u001b[39;00m\n\u001b[0;32m----> 3\u001b[0m qc_minusxx \u001b[38;5;241m=\u001b[39m \u001b[43minit_qc_minus\u001b[49m()\n\u001b[1;32m      4\u001b[0m qc_minusxx\u001b[38;5;241m.\u001b[39mx(\u001b[38;5;241m0\u001b[39m)\n\u001b[1;32m      5\u001b[0m qc_minusxx\u001b[38;5;241m.\u001b[39mx(\u001b[38;5;241m0\u001b[39m)\n",
      "\u001b[0;31mNameError\u001b[0m: name 'init_qc_minus' is not defined"
     ]
    }
   ],
   "source": [
    "# Apply XX, YY, and ZZ operators and then visualize\n",
    "\n",
    "qc_minusxx = init_qc_minus()\n",
    "qc_minusxx.x(0)\n",
    "qc_minusxx.x(0)\n",
    "\n",
    "qc_minusyy = init_qc_minus()\n",
    "qc_minusyy.y(0)\n",
    "qc_minusyy.y(0)\n",
    "\n",
    "qc_minuszz = init_qc_minus()\n",
    "qc_minuszz.z(0)\n",
    "qc_minuszz.z(0)"
   ]
  },
  {
   "cell_type": "code",
   "execution_count": 24,
   "metadata": {},
   "outputs": [
    {
     "ename": "NameError",
     "evalue": "name 'visualize_transition' is not defined",
     "output_type": "error",
     "traceback": [
      "\u001b[0;31m---------------------------------------------------------------------------\u001b[0m",
      "\u001b[0;31mNameError\u001b[0m                                 Traceback (most recent call last)",
      "Cell \u001b[0;32mIn[24], line 1\u001b[0m\n\u001b[0;32m----> 1\u001b[0m \u001b[43mvisualize_transition\u001b[49m(qc_minusxx, \u001b[38;5;28;01mTrue\u001b[39;00m)\n",
      "\u001b[0;31mNameError\u001b[0m: name 'visualize_transition' is not defined"
     ]
    }
   ],
   "source": [
    "visualize_transition(qc_minusxx, True)"
   ]
  },
  {
   "cell_type": "code",
   "execution_count": 25,
   "metadata": {},
   "outputs": [
    {
     "ename": "NameError",
     "evalue": "name 'visualize_transition' is not defined",
     "output_type": "error",
     "traceback": [
      "\u001b[0;31m---------------------------------------------------------------------------\u001b[0m",
      "\u001b[0;31mNameError\u001b[0m                                 Traceback (most recent call last)",
      "Cell \u001b[0;32mIn[25], line 1\u001b[0m\n\u001b[0;32m----> 1\u001b[0m \u001b[43mvisualize_transition\u001b[49m(qc_minusyy, \u001b[38;5;28;01mTrue\u001b[39;00m)\n",
      "\u001b[0;31mNameError\u001b[0m: name 'visualize_transition' is not defined"
     ]
    }
   ],
   "source": [
    "visualize_transition(qc_minusyy, True)"
   ]
  },
  {
   "cell_type": "code",
   "execution_count": 26,
   "metadata": {},
   "outputs": [
    {
     "ename": "NameError",
     "evalue": "name 'visualize_transition' is not defined",
     "output_type": "error",
     "traceback": [
      "\u001b[0;31m---------------------------------------------------------------------------\u001b[0m",
      "\u001b[0;31mNameError\u001b[0m                                 Traceback (most recent call last)",
      "Cell \u001b[0;32mIn[26], line 1\u001b[0m\n\u001b[0;32m----> 1\u001b[0m \u001b[43mvisualize_transition\u001b[49m(qc_minuszz, \u001b[38;5;28;01mTrue\u001b[39;00m)\n",
      "\u001b[0;31mNameError\u001b[0m: name 'visualize_transition' is not defined"
     ]
    }
   ],
   "source": [
    "visualize_transition(qc_minuszz, True)"
   ]
  },
  {
   "cell_type": "markdown",
   "metadata": {},
   "source": [
    "### All of our visualizations confirm the expectation!"
   ]
  }
 ],
 "metadata": {
  "kernelspec": {
   "display_name": "qhw",
   "language": "python",
   "name": "python3"
  },
  "language_info": {
   "codemirror_mode": {
    "name": "ipython",
    "version": 3
   },
   "file_extension": ".py",
   "mimetype": "text/x-python",
   "name": "python",
   "nbconvert_exporter": "python",
   "pygments_lexer": "ipython3",
   "version": "3.12.7"
  }
 },
 "nbformat": 4,
 "nbformat_minor": 2
}
