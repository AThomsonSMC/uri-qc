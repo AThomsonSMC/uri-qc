{
 "cells": [
  {
   "cell_type": "markdown",
   "metadata": {},
   "source": [
    "# PHY 572 Week 4 Assignment\n"
   ]
  },
  {
   "cell_type": "markdown",
   "metadata": {},
   "source": [
    "### Apply X, Y, and Z operators to the vecors |0>, |1>, |+>, and |-> and view the change in Bloch Sphere representation"
   ]
  },
  {
   "cell_type": "markdown",
   "metadata": {},
   "source": [
    "#### Setup quantum circuit factories"
   ]
  },
  {
   "cell_type": "code",
   "execution_count": 4,
   "metadata": {},
   "outputs": [
    {
     "name": "stdout",
     "output_type": "stream",
     "text": [
      "Quantum Circuit Factories initialized\n"
     ]
    }
   ],
   "source": [
    "from qiskit import QuantumCircuit\n",
    "from qiskit.visualization import visualize_transition\n",
    "\n",
    "# Quantum circuits initialize in |0> state\n",
    "def init_qc0():\n",
    "    return QuantumCircuit(1)\n",
    "\n",
    "# Use X operator to flip to |1> state\n",
    "def init_qc1():\n",
    "    qc1 = QuantumCircuit(1)\n",
    "    qc1.x(0)\n",
    "    return qc1\n",
    "\n",
    "# Use Hadamard gate to put into |+> superposition\n",
    "def init_qc_plus():\n",
    "    qc_plus = QuantumCircuit(1)\n",
    "    qc_plus.h(0)\n",
    "    return qc_plus\n",
    "\n",
    "# Use X then Hadamard gates to put into |1>, then |-> state.\n",
    "def init_qc_minus():\n",
    "    qc_minus = QuantumCircuit(1)\n",
    "    qc_minus.x(0)\n",
    "    qc_minus.h(0)\n",
    "    return qc_minus\n",
    "\n",
    "print('Quantum Circuit Factories initialized')"
   ]
  },
  {
   "cell_type": "markdown",
   "metadata": {},
   "source": [
    "### Bloch Sphere for |0> state"
   ]
  },
  {
   "cell_type": "code",
   "execution_count": null,
   "metadata": {},
   "outputs": [],
   "source": [
    "# Apply X operator and then visualize\n",
    "\n",
    "qc0x = init_qc0()\n",
    "qc0x.x(0)\n",
    "visualize_transition(qc0x, True)"
   ]
  },
  {
   "cell_type": "code",
   "execution_count": null,
   "metadata": {},
   "outputs": [],
   "source": [
    "# Apply the Y operator and then visualize\n",
    "\n",
    "qc0y = init_qc0()\n",
    "qc0y.y(0)\n",
    "visualize_transition(qc0y, True)"
   ]
  },
  {
   "cell_type": "code",
   "execution_count": null,
   "metadata": {},
   "outputs": [],
   "source": [
    "# Apply the Z operator and then visualize\n",
    "\n",
    "qc0z = init_qc0()\n",
    "qc0z.z(0)\n",
    "visualize_transition(qc0z, True)"
   ]
  },
  {
   "cell_type": "markdown",
   "metadata": {},
   "source": [
    "The visualizations show that the vector \"rotates\" around the given axis from |0> to |1> for X and Y, and does nothing for Z."
   ]
  },
  {
   "cell_type": "markdown",
   "metadata": {},
   "source": [
    "### Bloch Sphere for |1> state transitions"
   ]
  },
  {
   "cell_type": "code",
   "execution_count": null,
   "metadata": {},
   "outputs": [],
   "source": [
    "# Apply X operator and then visualize\n",
    "\n",
    "qc1x = init_qc1()\n",
    "qc1x.x(0)\n",
    "visualize_transition(qc1x, True)"
   ]
  },
  {
   "cell_type": "code",
   "execution_count": null,
   "metadata": {},
   "outputs": [],
   "source": [
    "# Apply Y operator and then visualize\n",
    "\n",
    "qc1y = init_qc1()\n",
    "qc1y.y(0)\n",
    "visualize_transition(qc1y, True)"
   ]
  },
  {
   "cell_type": "code",
   "execution_count": null,
   "metadata": {},
   "outputs": [],
   "source": [
    "# Apply Z operator and then visualize\n",
    "\n",
    "qc1z = init_qc1()\n",
    "qc1z.z(0)\n",
    "visualize_transition(qc1z, True)"
   ]
  },
  {
   "cell_type": "markdown",
   "metadata": {},
   "source": [
    "After the initial flip to |1>, we see the same behavior of \"rotation\" around the axis of the operator. This means that the X and Y operators flip |1> back to |0> while the Z operator continues to be a null operation."
   ]
  },
  {
   "cell_type": "markdown",
   "metadata": {},
   "source": [
    "### Bloch Sphere for |+> state transitions"
   ]
  },
  {
   "cell_type": "code",
   "execution_count": null,
   "metadata": {},
   "outputs": [],
   "source": [
    "# Apply X operator and then visualize\n",
    "\n",
    "qc_plusx = init_qc_plus()\n",
    "qc_plusx.x(0)\n",
    "visualize_transition(qc_plusx, True)"
   ]
  },
  {
   "cell_type": "code",
   "execution_count": null,
   "metadata": {},
   "outputs": [],
   "source": [
    "# Apply Y operator and then visualize\n",
    "\n",
    "qc_plusy = init_qc_plus()\n",
    "qc_plusy.y(0)\n",
    "visualize_transition(qc_plusy, True)"
   ]
  },
  {
   "cell_type": "code",
   "execution_count": null,
   "metadata": {},
   "outputs": [],
   "source": [
    "# Apply Z operator and then visualize\n",
    "\n",
    "qc_plusz = init_qc_plus()\n",
    "qc_plusz.z(0)\n",
    "visualize_transition(qc_plusz, True)"
   ]
  },
  {
   "cell_type": "markdown",
   "metadata": {},
   "source": [
    "Note that the initial Hadamard gate to get to |+> state does not correspond to rotation around one of the Bloch Sphere axis. However, after that initial move, we continue to see the behavior of operators causing rotation about that axis. From the |+> state, the X operator does nothing but X and Y flip the state to |->"
   ]
  },
  {
   "cell_type": "markdown",
   "metadata": {},
   "source": [
    "### Bloch Sphere for |-> state transitions"
   ]
  },
  {
   "cell_type": "code",
   "execution_count": null,
   "metadata": {},
   "outputs": [],
   "source": [
    "# Apply X operator and then visualize\n",
    "\n",
    "qc_minusx = init_qc_minus()\n",
    "qc_minusx.x(0)\n",
    "visualize_transition(qc_minusx, True)"
   ]
  },
  {
   "cell_type": "code",
   "execution_count": null,
   "metadata": {},
   "outputs": [],
   "source": [
    "# Apply Y operator and then visualize\n",
    "\n",
    "qc_minusy = init_qc_minus()\n",
    "qc_minusy.y(0)\n",
    "visualize_transition(qc_minusy, True)"
   ]
  },
  {
   "cell_type": "code",
   "execution_count": null,
   "metadata": {},
   "outputs": [],
   "source": [
    "# Apply Z operator and then visualize\n",
    "\n",
    "qc_minusz = init_qc_minus()\n",
    "qc_minusz.z(0)\n",
    "visualize_transition(qc_minusz, True)"
   ]
  },
  {
   "cell_type": "markdown",
   "metadata": {},
   "source": [
    "Similar to the |+> state, we find that the X operator does nothing on the |-> state, while Y and Z operators bring it to the |+> state."
   ]
  },
  {
   "cell_type": "markdown",
   "metadata": {},
   "source": [
    "## Perform operators twice on given states"
   ]
  },
  {
   "cell_type": "markdown",
   "metadata": {},
   "source": [
    "### Since all Pauli matrices squared are the identity matrix, we expect that performing any operation twice on a given state will result in the same state"
   ]
  },
  {
   "cell_type": "code",
   "execution_count": null,
   "metadata": {},
   "outputs": [],
   "source": [
    "# Apply XX, YY, and ZZ operators and then visualize\n",
    "\n",
    "qc0xx = init_qc0()\n",
    "qc0xx.x(0)\n",
    "qc0xx.x(0)\n",
    "\n",
    "qc0yy = init_qc0()\n",
    "qc0yy.y(0)\n",
    "qc0yy.y(0)\n",
    "\n",
    "qc0zz = init_qc0()\n",
    "qc0zz.z(0)\n",
    "qc0zz.z(0)"
   ]
  },
  {
   "cell_type": "code",
   "execution_count": null,
   "metadata": {},
   "outputs": [],
   "source": [
    "visualize_transition(qc0xx, True)"
   ]
  },
  {
   "cell_type": "code",
   "execution_count": null,
   "metadata": {},
   "outputs": [],
   "source": [
    "visualize_transition(qc0yy, True)"
   ]
  },
  {
   "cell_type": "code",
   "execution_count": null,
   "metadata": {},
   "outputs": [],
   "source": [
    "visualize_transition(qc0zz, True)"
   ]
  },
  {
   "cell_type": "code",
   "execution_count": null,
   "metadata": {},
   "outputs": [],
   "source": [
    "# Apply XX, YY, and ZZ operators and then visualize\n",
    "\n",
    "qc1xx = init_qc1()\n",
    "qc1xx.x(0)\n",
    "qc1xx.x(0)\n",
    "\n",
    "qc1yy = init_qc1()\n",
    "qc1yy.y(0)\n",
    "qc1yy.y(0)\n",
    "\n",
    "qc1zz = init_qc1()\n",
    "qc1zz.z(0)\n",
    "qc1zz.z(0)"
   ]
  },
  {
   "cell_type": "code",
   "execution_count": null,
   "metadata": {},
   "outputs": [],
   "source": [
    "visualize_transition(qc1xx, True)"
   ]
  },
  {
   "cell_type": "code",
   "execution_count": null,
   "metadata": {},
   "outputs": [],
   "source": [
    "visualize_transition(qc1yy, True)"
   ]
  },
  {
   "cell_type": "code",
   "execution_count": null,
   "metadata": {},
   "outputs": [],
   "source": [
    "visualize_transition(qc1zz, True)"
   ]
  },
  {
   "cell_type": "code",
   "execution_count": null,
   "metadata": {},
   "outputs": [],
   "source": [
    "# Apply XX, YY, and ZZ operators and then visualize\n",
    "\n",
    "qc_plusxx = init_qc_plus()\n",
    "qc_plusxx.x(0)\n",
    "qc_plusxx.x(0)\n",
    "\n",
    "qc_plusyy = init_qc_plus()\n",
    "qc_plusyy.y(0)\n",
    "qc_plusyy.y(0)\n",
    "\n",
    "qc_pluszz = init_qc_plus()\n",
    "qc_pluszz.z(0)\n",
    "qc_pluszz.z(0)"
   ]
  },
  {
   "cell_type": "code",
   "execution_count": null,
   "metadata": {},
   "outputs": [],
   "source": [
    "visualize_transition(qc_plusxx, True)"
   ]
  },
  {
   "cell_type": "code",
   "execution_count": null,
   "metadata": {},
   "outputs": [],
   "source": [
    "visualize_transition(qc_plusyy, True)"
   ]
  },
  {
   "cell_type": "code",
   "execution_count": null,
   "metadata": {},
   "outputs": [],
   "source": [
    "visualize_transition(qc_pluszz, True)"
   ]
  },
  {
   "cell_type": "code",
   "execution_count": null,
   "metadata": {},
   "outputs": [],
   "source": [
    "# Apply XX, YY, and ZZ operators and then visualize\n",
    "\n",
    "qc_minusxx = init_qc_minus()\n",
    "qc_minusxx.x(0)\n",
    "qc_minusxx.x(0)\n",
    "\n",
    "qc_minusyy = init_qc_minus()\n",
    "qc_minusyy.y(0)\n",
    "qc_minusyy.y(0)\n",
    "\n",
    "qc_minuszz = init_qc_minus()\n",
    "qc_minuszz.z(0)\n",
    "qc_minuszz.z(0)"
   ]
  },
  {
   "cell_type": "code",
   "execution_count": null,
   "metadata": {},
   "outputs": [],
   "source": [
    "visualize_transition(qc_minusxx, True)"
   ]
  },
  {
   "cell_type": "code",
   "execution_count": null,
   "metadata": {},
   "outputs": [],
   "source": [
    "visualize_transition(qc_minusyy, True)"
   ]
  },
  {
   "cell_type": "code",
   "execution_count": null,
   "metadata": {},
   "outputs": [],
   "source": [
    "visualize_transition(qc_minuszz, True)"
   ]
  },
  {
   "cell_type": "markdown",
   "metadata": {},
   "source": [
    "### All of our visualizations confirm the expectation!"
   ]
  }
 ],
 "metadata": {
  "kernelspec": {
   "display_name": "qhw",
   "language": "python",
   "name": "python3"
  },
  "language_info": {
   "codemirror_mode": {
    "name": "ipython",
    "version": 3
   },
   "file_extension": ".py",
   "mimetype": "text/x-python",
   "name": "python",
   "nbconvert_exporter": "python",
   "pygments_lexer": "ipython3",
   "version": "3.12.7"
  }
 },
 "nbformat": 4,
 "nbformat_minor": 2
}
