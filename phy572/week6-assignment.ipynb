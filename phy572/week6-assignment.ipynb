{
 "cells": [
  {
   "cell_type": "markdown",
   "metadata": {},
   "source": [
    "### Adam Thomson - PHY572 - Assignment Week 6"
   ]
  },
  {
   "cell_type": "markdown",
   "metadata": {},
   "source": [
    "#### 1. Reproduce the circuits shown here in Qiskit and interpret.\n",
    "Bell States Qiskit https://github.com/asgunzi/Bell-and-GHZ "
   ]
  },
  {
   "cell_type": "code",
   "execution_count": null,
   "metadata": {},
   "outputs": [],
   "source": [
    "from qiskit import QuantumCircuit\n",
    "from qiskit.visualization import plot_histogram\n",
    "from qiskit_aer.primitives import SamplerV2\n",
    "\n",
    "sampler = SamplerV2()"
   ]
  },
  {
   "cell_type": "code",
   "execution_count": null,
   "metadata": {},
   "outputs": [],
   "source": [
    "# Setup a Bell State QC\n",
    "qcBell = QuantumCircuit(2)\n",
    "qcBell.h(0)\n",
    "qcBell.cx(0,1)\n",
    "qcBell.measure_all()\n",
    "qcBell.draw()"
   ]
  },
  {
   "cell_type": "code",
   "execution_count": null,
   "metadata": {},
   "outputs": [],
   "source": [
    "bell_result = sampler.run([qcBell], shots=512).result()\n",
    "plot_histogram(bell_result[0].data.meas.get_counts())"
   ]
  },
  {
   "cell_type": "markdown",
   "metadata": {},
   "source": [
    "Results match the expectation, only |00> and |11> measured."
   ]
  },
  {
   "cell_type": "code",
   "execution_count": null,
   "metadata": {},
   "outputs": [],
   "source": [
    "qcGHZ = QuantumCircuit(3)\n",
    "qcGHZ.h(0)\n",
    "qcGHZ.cx(0,1)\n",
    "qcGHZ.cx(1,2)\n",
    "qcGHZ.measure_all()\n",
    "qcGHZ.draw()"
   ]
  },
  {
   "cell_type": "code",
   "execution_count": null,
   "metadata": {},
   "outputs": [],
   "source": [
    "ghz_result = sampler.run([qcGHZ], shots=512).result()\n",
    "plot_histogram(ghz_result[0].data.meas.get_counts())"
   ]
  },
  {
   "cell_type": "markdown",
   "metadata": {},
   "source": [
    "Measurements match expectations, only |000> and |111> observed."
   ]
  },
  {
   "cell_type": "markdown",
   "metadata": {},
   "source": [
    "qc4 = QuantumCircuit(4)\n",
    "qc4.h(0)\n",
    "qc4.cx(0,1)\n",
    "qc4.cx(1,2)\n",
    "qc4.cx(2,3)\n",
    "qc4.measure_all()\n",
    "qc4.draw()"
   ]
  },
  {
   "cell_type": "code",
   "execution_count": null,
   "metadata": {},
   "outputs": [],
   "source": [
    "qc4_result = sampler.run([qc4], shots=512).result()\n",
    "plot_histogram(qc4_result[0].data.meas.get_counts())"
   ]
  },
  {
   "cell_type": "markdown",
   "metadata": {},
   "source": [
    "Measurements match expectations, all observations are |0000> or |1111>"
   ]
  },
  {
   "cell_type": "code",
   "execution_count": null,
   "metadata": {},
   "outputs": [],
   "source": [
    "n = 6\n",
    "qcN = QuantumCircuit(n)\n",
    "qcN.h(0)\n",
    "for i in range(n-1):\n",
    "  qcN.cx(i, i+1)\n",
    "qcN.measure_all()\n",
    "qcN.draw()"
   ]
  },
  {
   "cell_type": "code",
   "execution_count": null,
   "metadata": {},
   "outputs": [],
   "source": [
    "qcN_result = sampler.run([qc4], shots=512).result()\n",
    "plot_histogram(qcN_result[0].data.meas.get_counts())"
   ]
  },
  {
   "cell_type": "markdown",
   "metadata": {},
   "source": [
    "Observations continue to match expectations, all observations are |0..0> and |1..1>"
   ]
  },
  {
   "cell_type": "markdown",
   "metadata": {},
   "source": [
    "We can deduce that any number of qubits can be strongly entangled simply by chaining together enough Controlled-NOT gates after a single Hadamard gate."
   ]
  },
  {
   "cell_type": "markdown",
   "metadata": {},
   "source": [
    "### 2. [Attached as PDF]"
   ]
  },
  {
   "cell_type": "markdown",
   "metadata": {},
   "source": [
    "### 3a. Follow the instructions at this web site and create a Bell State"
   ]
  },
  {
   "cell_type": "code",
   "execution_count": null,
   "metadata": {},
   "outputs": [],
   "source": []
  },
  {
   "cell_type": "markdown",
   "metadata": {},
   "source": []
  }
 ],
 "metadata": {
  "language_info": {
   "name": "python"
  },
  "orig_nbformat": 4
 },
 "nbformat": 4,
 "nbformat_minor": 2
}
