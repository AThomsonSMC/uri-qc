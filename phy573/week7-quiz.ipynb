{
 "cells": [
  {
   "cell_type": "markdown",
   "metadata": {},
   "source": [
    "# Adam Thomson - PHY 573 - Quiz 7"
   ]
  },
  {
   "cell_type": "code",
   "execution_count": 1,
   "metadata": {},
   "outputs": [],
   "source": [
    "# import libraries\n",
    "from IPython.display import Math\n",
    "\n",
    "# Declare shortcut function\n",
    "def dm(x):\n",
    "    return display(Math(x))"
   ]
  },
  {
   "cell_type": "code",
   "execution_count": 42,
   "metadata": {},
   "outputs": [
    {
     "data": {
      "text/latex": [
       "$\\displaystyle \\text{What is the effect of } W = \\ket{f} \\bra{f} - 1 \\text{ on:}$"
      ],
      "text/plain": [
       "<IPython.core.display.Math object>"
      ]
     },
     "metadata": {},
     "output_type": "display_data"
    },
    {
     "data": {
      "text/latex": [
       "$\\displaystyle \\text{a) vectors parallel to } \\ket{f} ?$"
      ],
      "text/plain": [
       "<IPython.core.display.Math object>"
      ]
     },
     "metadata": {},
     "output_type": "display_data"
    },
    {
     "data": {
      "text/latex": [
       "$\\displaystyle \\text{b) vectors perpendicular to } \\ket{f} ?$"
      ],
      "text/plain": [
       "<IPython.core.display.Math object>"
      ]
     },
     "metadata": {},
     "output_type": "display_data"
    }
   ],
   "source": [
    "# State the quiz question:\n",
    "dm(r\"\\text{What is the effect of } W = \\ket{f} \\bra{f} - 1 \\text{ on:}\")\n",
    "dm(r\"\\text{a) vectors parallel to } \\ket{f} ?\")\n",
    "dm(r\"\\text{b) vectors perpendicular to } \\ket{f} ?\")"
   ]
  },
  {
   "cell_type": "markdown",
   "metadata": {},
   "source": [
    "This function is similar to, but not exactly the same as, Mermin's eq. (4.10) which acts as \"reflection\" across |φ〉. Let's examine how this change effects the results of this operator."
   ]
  },
  {
   "cell_type": "markdown",
   "metadata": {},
   "source": [
    "### a) Vectors parallel to |f>"
   ]
  },
  {
   "cell_type": "code",
   "execution_count": 83,
   "metadata": {},
   "outputs": [
    {
     "data": {
      "text/latex": [
       "$\\displaystyle \\ket{g} \\text{ is parallel to } \\ket{f} \\text{ means } \\ket{g} = c\\ket{f}, c \\isin \\R$"
      ],
      "text/plain": [
       "<IPython.core.display.Math object>"
      ]
     },
     "metadata": {},
     "output_type": "display_data"
    },
    {
     "data": {
      "text/latex": [
       "$\\displaystyle W \\ket{g} = c W \\ket{f} = c(\\ket{f}\\bra{f} - 1) \\ket{f}$"
      ],
      "text/plain": [
       "<IPython.core.display.Math object>"
      ]
     },
     "metadata": {},
     "output_type": "display_data"
    },
    {
     "data": {
      "text/latex": [
       "$\\displaystyle \\qquad = c(\\ket{f} \\braket{f|f} - 1\\ket{f})$"
      ],
      "text/plain": [
       "<IPython.core.display.Math object>"
      ]
     },
     "metadata": {},
     "output_type": "display_data"
    },
    {
     "data": {
      "text/latex": [
       "$\\displaystyle \\text{By definition: } \\braket{f|f} = 1$"
      ],
      "text/plain": [
       "<IPython.core.display.Math object>"
      ]
     },
     "metadata": {},
     "output_type": "display_data"
    },
    {
     "data": {
      "text/latex": [
       "$\\displaystyle W \\ket{g} = c(\\ket{f} - \\ket{f}) = 0$"
      ],
      "text/plain": [
       "<IPython.core.display.Math object>"
      ]
     },
     "metadata": {},
     "output_type": "display_data"
    }
   ],
   "source": [
    "# Examine vectors parallel to |f>\n",
    "dm(r\"\\ket{g} \\text{ is parallel to } \\ket{f} \\text{ means } \\ket{g} = c\\ket{f}, c \\isin \\R\")\n",
    "dm(r\"W \\ket{g} = c W \\ket{f} = c(\\ket{f}\\bra{f} - 1) \\ket{f}\")\n",
    "dm(r\"\\qquad = c(\\ket{f} \\braket{f|f} - 1\\ket{f})\")\n",
    "dm(r\"\\text{By definition: } \\braket{f|f} = 1\")\n",
    "dm(r\"W \\ket{g} = c(\\ket{f} - \\ket{f}) = 0\")\n"
   ]
  },
  {
   "cell_type": "markdown",
   "metadata": {},
   "source": [
    "Thus, W will collapse any vectors parallel to |f> down to the 0 vector, in contrast with Mermin's equation which preserves the component of the vector aligned with the standard state."
   ]
  },
  {
   "cell_type": "markdown",
   "metadata": {},
   "source": [
    "### b) Vectors perpendicular to |f>"
   ]
  },
  {
   "cell_type": "code",
   "execution_count": 85,
   "metadata": {},
   "outputs": [
    {
     "data": {
      "text/latex": [
       "$\\displaystyle \\ket{h} \\text{ is orthogonal to } \\ket{f} \\text{ means } \\braket{f|h} = 0$"
      ],
      "text/plain": [
       "<IPython.core.display.Math object>"
      ]
     },
     "metadata": {},
     "output_type": "display_data"
    },
    {
     "data": {
      "text/latex": [
       "$\\displaystyle W\\ket{h} = (\\ket{f}\\bra{f} - 1)\\ket{h}$"
      ],
      "text/plain": [
       "<IPython.core.display.Math object>"
      ]
     },
     "metadata": {},
     "output_type": "display_data"
    },
    {
     "data": {
      "text/latex": [
       "$\\displaystyle \\qquad = (\\ket{f} \\braket{f|h} - 1\\ket{h})$"
      ],
      "text/plain": [
       "<IPython.core.display.Math object>"
      ]
     },
     "metadata": {},
     "output_type": "display_data"
    },
    {
     "data": {
      "text/latex": [
       "$\\displaystyle \\qquad = (\\ket{f} 0 - \\ket{h})$"
      ],
      "text/plain": [
       "<IPython.core.display.Math object>"
      ]
     },
     "metadata": {},
     "output_type": "display_data"
    },
    {
     "data": {
      "text/latex": [
       "$\\displaystyle W\\ket{h} = -\\ket{h}$"
      ],
      "text/plain": [
       "<IPython.core.display.Math object>"
      ]
     },
     "metadata": {},
     "output_type": "display_data"
    }
   ],
   "source": [
    "# Examine vectors perpendicular to |f>\n",
    "dm(r\"\\ket{h} \\text{ is orthogonal to } \\ket{f} \\text{ means } \\braket{f|h} = 0\")\n",
    "dm(r\"W\\ket{h} = (\\ket{f}\\bra{f} - 1)\\ket{h}\")\n",
    "dm(r\"\\qquad = (\\ket{f} \\braket{f|h} - 1\\ket{h})\")\n",
    "dm(r\"\\qquad = (\\ket{f} 0 - \\ket{h})\")\n",
    "dm(r\"W\\ket{h} = -\\ket{h}\")"
   ]
  },
  {
   "cell_type": "markdown",
   "metadata": {},
   "source": [
    "Thus, W will \"reflect\" any vectors orthogonal to |f>, resulting in a negative sign for every component; this behavior is the same as Mermin's equation."
   ]
  }
 ],
 "metadata": {
  "kernelspec": {
   "display_name": "Python 3",
   "language": "python",
   "name": "python3"
  },
  "language_info": {
   "codemirror_mode": {
    "name": "ipython",
    "version": 3
   },
   "file_extension": ".py",
   "mimetype": "text/x-python",
   "name": "python",
   "nbconvert_exporter": "python",
   "pygments_lexer": "ipython3",
   "version": "3.12.6"
  }
 },
 "nbformat": 4,
 "nbformat_minor": 2
}
