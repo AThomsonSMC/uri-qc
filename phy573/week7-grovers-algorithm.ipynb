{
 "cells": [
  {
   "cell_type": "markdown",
   "metadata": {},
   "source": [
    "# Adam Thomson - PHY 573 - Week 7"
   ]
  },
  {
   "cell_type": "markdown",
   "metadata": {},
   "source": [
    "## Grover's Algorithm"
   ]
  },
  {
   "cell_type": "markdown",
   "metadata": {},
   "source": [
    "Following the qiskit tutorial https://github.com/Qiskit/textbook/blob/main/notebooks/ch-algorithms/grover.ipynb\n",
    "- Explain Introduction steps 1, 2, 3\n",
    "- Copy and run 2 qubit implementation\n",
    "- Explain the purpose of the diffuser"
   ]
  },
  {
   "cell_type": "markdown",
   "metadata": {},
   "source": [
    "Grover's Algorithm is a quantum solution to the unordered search problem. Let's examine how a quantum computer can provide a quadratic improvement over classical computing when searching an unstructured database."
   ]
  },
  {
   "cell_type": "code",
   "execution_count": 1,
   "metadata": {},
   "outputs": [],
   "source": [
    "# import libraries\n",
    "import numpy as np\n",
    "import matplotlib.pyplot as plt\n",
    "import pandas as pd\n",
    "\n",
    "from fractions import Fraction\n",
    "from math import gcd\n",
    "from numpy.random import randint\n",
    "from IPython.display import Math, HTML\n",
    "from qiskit import QuantumCircuit as QCir, transpile\n",
    "from qiskit.visualization import plot_histogram\n",
    "from qiskit_aer import AerSimulator\n",
    "\n",
    "# Initialize local simulator\n",
    "sampler = AerSimulator()\n",
    "\n",
    "# Declare shortcut function\n",
    "def dm(x):\n",
    "    return display(Math(x))"
   ]
  },
  {
   "cell_type": "code",
   "execution_count": 6,
   "metadata": {},
   "outputs": [
    {
     "data": {
      "text/latex": [
       "$\\displaystyle \\text{We start with an array of } N \\text{ items, for simplicity we'll assume } N=2^n$"
      ],
      "text/plain": [
       "<IPython.core.display.Math object>"
      ]
     },
     "metadata": {},
     "output_type": "display_data"
    },
    {
     "data": {
      "text/latex": [
       "$\\displaystyle \\text{In this array, there is a single item that satisfies our desired condition, at index } \\omega$"
      ],
      "text/plain": [
       "<IPython.core.display.Math object>"
      ]
     },
     "metadata": {},
     "output_type": "display_data"
    },
    {
     "data": {
      "text/latex": [
       "$\\displaystyle \\text{The tutorial provides an illustration where all items in a list are grey except one is purple, our } \\omega$"
      ],
      "text/plain": [
       "<IPython.core.display.Math object>"
      ]
     },
     "metadata": {},
     "output_type": "display_data"
    },
    {
     "data": {
      "text/latex": [
       "$\\displaystyle \\text{Classically, this search is } O(N), \\text{ as it picks random entries to check; in the worst case it checks all entries.}$"
      ],
      "text/plain": [
       "<IPython.core.display.Math object>"
      ]
     },
     "metadata": {},
     "output_type": "display_data"
    },
    {
     "data": {
      "text/latex": [
       "$\\displaystyle \\text{However, a quantum computer can leverage amplitude amplification to find } \\omega \\text{ in } \\sqrt{N} \\text{ steps.}$"
      ],
      "text/plain": [
       "<IPython.core.display.Math object>"
      ]
     },
     "metadata": {},
     "output_type": "display_data"
    }
   ],
   "source": [
    "# Explain the problem setup\n",
    "dm(r\"\\text{We start with an array of } N \\text{ items, for simplicity we'll assume } N=2^n\")\n",
    "dm(r\"\\text{In this array, there is a single item that satisfies our desired condition, at index } \\omega\")\n",
    "dm(r\"\\text{The tutorial provides an illustration where all items in a list are grey except one is purple, our } \\omega\")\n",
    "dm(r\"\\text{Classically, this search is } O(N), \\text{ as it picks random entries to check; in the worst case it checks all entries.}\")\n",
    "dm(r\"\\text{However, a quantum computer can leverage amplitude amplification to find } \\omega \\text{ in } \\sqrt{N} \\text{ steps.}\")"
   ]
  },
  {
   "cell_type": "markdown",
   "metadata": {},
   "source": [
    "### Algorithm Overview"
   ]
  },
  {
   "cell_type": "markdown",
   "metadata": {},
   "source": [
    "Grover's algorithm consists of 3 main steps: state preparation, the oracle function, and the diffusion operator. State preparation only happens once, but application of the oracle function and diffusion operator may need to be repeated before measurement for optimal results.\n",
    "\n",
    "- State preparation: By applying a Hadamard gate to all input qubits individually, we create a search space that includes all possible answers in a uniform superposition\n",
    "- Grover's Oracle: This step takes all qubits as input and is responsible for \"marking\" the correct entry by flipping the phase of its amplitude\n",
    "- Diffusion Operator: This step also takes in all qubits as input, and will result in growing the marked state's amplitude while dampening the amplitude of unmarked states\n",
    "- Measurement: After you have repeated the oracle and diffusion operator enough times that you've calculated the amplitude of the desired state to be maximal, you take a measurement\n",
    "\n",
    "The tutorial has 2 different ways of visualizing the circuit's state at each step that I will be referencing:\n",
    "- A graph of the amplitude of each possible state in the search space\n",
    "- A space defined by the vertical axis as |w>, our desired state, and the horizontal axis, |s'>, is a modified uniform superposition state such that the marked entry's amplitude is 0 and the leading coefficient is scaled accordingly"
   ]
  },
  {
   "cell_type": "markdown",
   "metadata": {},
   "source": [
    "#### Step 1 - Constructing the Search Space"
   ]
  },
  {
   "cell_type": "code",
   "execution_count": 35,
   "metadata": {},
   "outputs": [
    {
     "data": {
      "text/latex": [
       "$\\displaystyle \\text{To prepare for the algoritm, we need to initialize the state with a uniform superposition: } \\\n",
       "    \\ket{s} = \\frac1{\\sqrt{N}} \\sum_{x=0}^{N-1} \\ket{x}$"
      ],
      "text/plain": [
       "<IPython.core.display.Math object>"
      ]
     },
     "metadata": {},
     "output_type": "display_data"
    },
    {
     "data": {
      "text/latex": [
       "$\\displaystyle \\text{Starting from } \\ket{0}^{\\otimes n} \\text{, this is easily achieved by applying a Hadamard gate to all qubits.}$"
      ],
      "text/plain": [
       "<IPython.core.display.Math object>"
      ]
     },
     "metadata": {},
     "output_type": "display_data"
    },
    {
     "data": {
      "text/latex": [
       "$\\displaystyle \\ket{\\psi_0} = \\ket{s} = (H^{\\otimes n}) \\ket0^{\\otimes n}$"
      ],
      "text/plain": [
       "<IPython.core.display.Math object>"
      ]
     },
     "metadata": {},
     "output_type": "display_data"
    }
   ],
   "source": [
    "# Explain the setup\n",
    "dm(r\"\\text{To prepare for the algoritm, we need to initialize the state with a uniform superposition: } \\\n",
    "    \\ket{s} = \\frac1{\\sqrt{N}} \\sum_{x=0}^{N-1} \\ket{x}\")\n",
    "dm(r\"\\text{Starting from } \\ket{0}^{\\otimes n} \\text{, this is easily achieved by applying a Hadamard gate to all qubits.}\")\n",
    "dm(r\"\\ket{\\psi_0} = \\ket{s} = (H^{\\otimes n}) \\ket0^{\\otimes n}\")"
   ]
  },
  {
   "cell_type": "markdown",
   "metadata": {},
   "source": [
    "At this point, every state is just as likely to be measured as any other state; this is equivalent to the classical computing approach. Since no guess is any better than any other, we could repeat this and expect to find the right answer in O(N) steps, matching a classical computer."
   ]
  },
  {
   "cell_type": "markdown",
   "metadata": {},
   "source": [
    "The visualizations match our expectations, the amplitude of all states are equal as shown, and |s> is not quite horizontal since there is some probability of getting our desired w if we measured immediately. The exact difference between |s> and |s'> will become important in a moment, so let's zoom in."
   ]
  },
  {
   "cell_type": "code",
   "execution_count": 49,
   "metadata": {},
   "outputs": [
    {
     "data": {
      "text/latex": [
       "$\\displaystyle \\text{Above, we defined } \\ket{s'} \\text{ based on the uniform superposition } \\ket{s}$"
      ],
      "text/plain": [
       "<IPython.core.display.Math object>"
      ]
     },
     "metadata": {},
     "output_type": "display_data"
    },
    {
     "data": {
      "text/latex": [
       "$\\displaystyle \\ket{s'} := \\frac1{\\sqrt{N-1}} \\sum_{x=0}^{N-1}\n",
       "\\begin{cases}\n",
       "   \\ket{x} &\\text{if } x \\neq \\omega \\\\\n",
       "   0 &\\text{if } x = \\omega\n",
       "\\end{cases}\n",
       "$"
      ],
      "text/plain": [
       "<IPython.core.display.Math object>"
      ]
     },
     "metadata": {},
     "output_type": "display_data"
    },
    {
     "data": {
      "text/latex": [
       "$\\displaystyle \\text{Note that the angle between } \\ket{s} \\text{ and } \\ket{s'} \\text{ in our radial space, θ, depends on N}$"
      ],
      "text/plain": [
       "<IPython.core.display.Math object>"
      ]
     },
     "metadata": {},
     "output_type": "display_data"
    },
    {
     "data": {
      "text/latex": [
       "$\\displaystyle \\text{In fact, } \\theta = \\braket{s'|\\omega} = \\arcsin( \\frac1{\\sqrt{N}} )$"
      ],
      "text/plain": [
       "<IPython.core.display.Math object>"
      ]
     },
     "metadata": {},
     "output_type": "display_data"
    },
    {
     "data": {
      "text/latex": [
       "$\\displaystyle \\text{This means we can express the uniform superposition state in terms of the axes of the visualization:}$"
      ],
      "text/plain": [
       "<IPython.core.display.Math object>"
      ]
     },
     "metadata": {},
     "output_type": "display_data"
    },
    {
     "data": {
      "text/latex": [
       "$\\displaystyle \\ket{s} = \\sin \\theta \\ket{\\omega} + \\cos \\theta \\ket{s'}$"
      ],
      "text/plain": [
       "<IPython.core.display.Math object>"
      ]
     },
     "metadata": {},
     "output_type": "display_data"
    }
   ],
   "source": [
    "# Examine |s> and |s'>\n",
    "dm(r\"\\text{Above, we defined } \\ket{s'} \\text{ based on the uniform superposition } \\ket{s}\")\n",
    "dm(r\"\"\"\\ket{s'} := \\frac1{\\sqrt{N-1}} \\sum_{x=0}^{N-1}\n",
    "\\begin{cases}\n",
    "   \\ket{x} &\\text{if } x \\neq \\omega \\\\\n",
    "   0 &\\text{if } x = \\omega\n",
    "\\end{cases}\n",
    "\"\"\")\n",
    "dm(r\"\\text{Note that the angle between } \\ket{s} \\text{ and } \\ket{s'} \\text{ in our radial space, θ, depends on N}\")\n",
    "dm(r\"\\text{In fact, } \\theta = \\braket{s'|\\omega} = \\arcsin( \\frac1{\\sqrt{N}} )\")\n",
    "dm(r\"\\text{This means we can express the uniform superposition state in terms of the axes of the visualization:}\")\n",
    "dm(r\"\\ket{s} = \\sin \\theta \\ket{\\omega} + \\cos \\theta \\ket{s'}\")"
   ]
  },
  {
   "cell_type": "markdown",
   "metadata": {},
   "source": [
    "#### Step 2 - Applying the Oracle Function"
   ]
  },
  {
   "cell_type": "markdown",
   "metadata": {},
   "source": [
    "Now that we have a uniform superposition, we apply the provided oracle function U_f. Definitionally, the algorithm does not concern itself with how the oracle function works, but the result is that the desired result will have its phase flipped to be negative."
   ]
  },
  {
   "cell_type": "markdown",
   "metadata": {},
   "source": [
    "The graphs visualize what this does to the state with different effects but can be understood as representing the same action. For the amplitude bar graph, we see that the value for W has the same magnitude but is negative. You can think of this as mirroring the marked state across the horizontal axis of 0.\n",
    "\n",
    "The radial graph similarly shows that the state vector has been \"mirrored\" across the horizontal axis, |s'>. You can also think of this action as rotating the state by -2θ in this space."
   ]
  },
  {
   "cell_type": "markdown",
   "metadata": {},
   "source": [
    "Note that the amplitude bar graph also uses a dotted line to show that the new average value for all amplitudes is now less than it was in the uniform superposition, 1/√N"
   ]
  },
  {
   "cell_type": "code",
   "execution_count": 38,
   "metadata": {},
   "outputs": [
    {
     "data": {
      "text/latex": [
       "$\\displaystyle \\text{From the uniform superposition, we next apply the provided oracle function } U_f$"
      ],
      "text/plain": [
       "<IPython.core.display.Math object>"
      ]
     },
     "metadata": {},
     "output_type": "display_data"
    },
    {
     "data": {
      "text/latex": [
       "$\\displaystyle \\ket{\\psi_{0'}} = U_f \\ket{\\psi_0}$"
      ],
      "text/plain": [
       "<IPython.core.display.Math object>"
      ]
     },
     "metadata": {},
     "output_type": "display_data"
    },
    {
     "data": {
      "text/latex": [
       "$\\displaystyle \\ket{\\psi_{0'}} = \\frac1{\\sqrt{N}} \\sum_{x=0}^{N-1}\n",
       "\\begin{cases}\n",
       "   \\ket{x} &\\text{if } x \\neq \\omega \\\\\n",
       "   -\\ket{x} &\\text{if } x = \\omega\n",
       "\\end{cases}$"
      ],
      "text/plain": [
       "<IPython.core.display.Math object>"
      ]
     },
     "metadata": {},
     "output_type": "display_data"
    }
   ],
   "source": [
    "# Apply oracle function\n",
    "dm(r\"\\text{From the uniform superposition, we next apply the provided oracle function } U_f\")\n",
    "dm(r\"\\ket{\\psi_{0'}} = U_f \\ket{\\psi_0}\")\n",
    "dm(r\"\"\"\\ket{\\psi_{0'}} = \\frac1{\\sqrt{N}} \\sum_{x=0}^{N-1}\n",
    "\\begin{cases}\n",
    "   \\ket{x} &\\text{if } x \\neq \\omega \\\\\n",
    "   -\\ket{x} &\\text{if } x = \\omega\n",
    "\\end{cases}\"\"\")"
   ]
  },
  {
   "cell_type": "markdown",
   "metadata": {},
   "source": [
    "#### Step 3 - Applying the Diffusion Operator"
   ]
  },
  {
   "cell_type": "markdown",
   "metadata": {},
   "source": [
    "The Diffusion Operator, U_s, is described as \"reflection about the state |s>\". This transformation can be expressed as"
   ]
  },
  {
   "cell_type": "code",
   "execution_count": 25,
   "metadata": {},
   "outputs": [
    {
     "data": {
      "text/latex": [
       "$\\displaystyle U_s = 2\\ket{s} \\bra{s} - 1$"
      ],
      "text/plain": [
       "<IPython.core.display.Math object>"
      ]
     },
     "metadata": {},
     "output_type": "display_data"
    }
   ],
   "source": [
    "# Define diffusion operator\n",
    "dm(r\"U_s = 2\\ket{s} \\bra{s} - 1\")"
   ]
  },
  {
   "cell_type": "markdown",
   "metadata": {},
   "source": [
    "The graphs visualize this effect on the state in the following ways. The bar graph shows that the amplitude of the marked state has returned to being positive, and is now of greater magnitude than all of the other amplitudes. Due to the lowered \"average\" discussed above, the resulting amplitude for all non-marked values has dropped by twice that amount, with the marked value having \"absorbed\" them into it's own magnitude, now higher than when in the uniform state.\n",
    "\n",
    "In the radial visualization, we see that the diffusion operator acts as mirroring across the starting uniform superposition vector. This can also be thought of as rotating the state vector by 4θ in this space. This gives a total overall rotation of 2θ from our starting |s>."
   ]
  },
  {
   "cell_type": "code",
   "execution_count": 40,
   "metadata": {},
   "outputs": [
    {
     "data": {
      "text/latex": [
       "$\\displaystyle \\ket{\\psi_1} = U_s \\ket{\\psi_{0'}} = U_s U_f \\ket {s}$"
      ],
      "text/plain": [
       "<IPython.core.display.Math object>"
      ]
     },
     "metadata": {},
     "output_type": "display_data"
    }
   ],
   "source": [
    "# Describe the state after applying the diffusion operator\n",
    "dm(r\"\\ket{\\psi_1} = U_s \\ket{\\psi_{0'}} = U_s U_f \\ket {s}\")"
   ]
  },
  {
   "cell_type": "markdown",
   "metadata": {},
   "source": [
    "#### Repetition"
   ]
  },
  {
   "cell_type": "markdown",
   "metadata": {},
   "source": [
    "If we were to take a measurement now, we are more likely to measure the desired value than any other value, but there is still a significant probability that we will not measure the correct value. By repeating our application of U_f and U_s, we can further increase the probability of measuring w. However, note that after a certain point we will start to instead reduce the probability of measuring w! We can see this in the radial visualization, if we continue to rotate by 2θ past |w>, we will eventually return to |-s'>."
   ]
  },
  {
   "cell_type": "code",
   "execution_count": 42,
   "metadata": {},
   "outputs": [
    {
     "data": {
      "text/latex": [
       "$\\displaystyle \\text{In general, let's define } \\ket{\\psi_t} := (U_s U_f)^t \\ket{s}$"
      ],
      "text/plain": [
       "<IPython.core.display.Math object>"
      ]
     },
     "metadata": {},
     "output_type": "display_data"
    }
   ],
   "source": [
    "# Define iterating state\n",
    "dm(r\"\\text{In general, let's define } \\ket{\\psi_t} := (U_s U_f)^t \\ket{s}\")"
   ]
  },
  {
   "cell_type": "markdown",
   "metadata": {},
   "source": [
    "Clearly, the optimal number of repetitions depends on θ. So far we have only looked at the case when there is a single match in the search space, but the tutorial gives the formula for when there are multiple:"
   ]
  },
  {
   "cell_type": "code",
   "execution_count": 45,
   "metadata": {},
   "outputs": [
    {
     "data": {
      "text/latex": [
       "$\\displaystyle t = \\lfloor \\frac{\\pi}4 \\sqrt{\\frac{N}{m}} \\rfloor$"
      ],
      "text/plain": [
       "<IPython.core.display.Math object>"
      ]
     },
     "metadata": {},
     "output_type": "display_data"
    },
    {
     "data": {
      "text/latex": [
       "$\\displaystyle \\text{Where } N \\text{ is the size of the search space, and } m \\text{ is the number of matches that exist.}$"
      ],
      "text/plain": [
       "<IPython.core.display.Math object>"
      ]
     },
     "metadata": {},
     "output_type": "display_data"
    }
   ],
   "source": [
    "# Equation for optimal number of iterations\n",
    "dm(r\"t = \\lfloor \\frac{\\pi}4 \\sqrt{\\frac{N}{m}} \\rfloor\")\n",
    "dm(r\"\\text{Where } N \\text{ is the size of the search space, and } m \\text{ is the number of matches that exist.}\")"
   ]
  },
  {
   "cell_type": "markdown",
   "metadata": {},
   "source": [
    "For our example case of m=1, we see that our optimal t is ~√N, a large improvement on the classical average N/2!"
   ]
  },
  {
   "cell_type": "markdown",
   "metadata": {},
   "source": [
    "## Example Implementation"
   ]
  },
  {
   "cell_type": "markdown",
   "metadata": {},
   "source": [
    "We'll take a closer look at the implementation for when N=4, m=1. In this case, we will show that only a single iteration of the oracle and diffusion operator is required to reach |w>."
   ]
  },
  {
   "cell_type": "code",
   "execution_count": 58,
   "metadata": {},
   "outputs": [
    {
     "data": {
      "text/latex": [
       "$\\displaystyle \\text{Using previous equation, we find that for } N=4:$"
      ],
      "text/plain": [
       "<IPython.core.display.Math object>"
      ]
     },
     "metadata": {},
     "output_type": "display_data"
    },
    {
     "data": {
      "text/latex": [
       "$\\displaystyle \\theta = \\arcsin{\\frac12} = \\frac{\\pi}6$"
      ],
      "text/plain": [
       "<IPython.core.display.Math object>"
      ]
     },
     "metadata": {},
     "output_type": "display_data"
    },
    {
     "data": {
      "text/latex": [
       "$\\displaystyle \\ket{\\psi_t} = (U_s U_\\omega)^t \\ket{s} = \\sin \\theta_t \\ket\\omega + \\cos \\theta_t \\ket{s'}$"
      ],
      "text/plain": [
       "<IPython.core.display.Math object>"
      ]
     },
     "metadata": {},
     "output_type": "display_data"
    },
    {
     "data": {
      "text/latex": [
       "$\\displaystyle \\text{Where } \\theta_t := (2t + 1)\\theta$"
      ],
      "text/plain": [
       "<IPython.core.display.Math object>"
      ]
     },
     "metadata": {},
     "output_type": "display_data"
    },
    {
     "data": {
      "text/latex": [
       "$\\displaystyle \\text{In order to reach } \\ket\\omega \\text{ we need } \\theta_t = \\frac\\pi2$"
      ],
      "text/plain": [
       "<IPython.core.display.Math object>"
      ]
     },
     "metadata": {},
     "output_type": "display_data"
    },
    {
     "data": {
      "text/latex": [
       "$\\displaystyle \\text{Using θ from above, we find } \\frac\\pi2 = (2t + 1)\\frac\\pi6 \\rarr t=1$"
      ],
      "text/plain": [
       "<IPython.core.display.Math object>"
      ]
     },
     "metadata": {},
     "output_type": "display_data"
    }
   ],
   "source": [
    "# Describe the N=4 state\n",
    "dm(r\"\\text{Using previous equation, we find that for } N=4:\")\n",
    "dm(r\"\\theta = \\arcsin{\\frac12} = \\frac{\\pi}6\")\n",
    "dm(r\"\\ket{\\psi_t} = (U_s U_\\omega)^t \\ket{s} = \\sin \\theta_t \\ket\\omega + \\cos \\theta_t \\ket{s'}\")\n",
    "dm(r\"\\text{Where } \\theta_t := (2t + 1)\\theta\")\n",
    "dm(r\"\\text{In order to reach } \\ket\\omega \\text{ we need } \\theta_t = \\frac\\pi2\")\n",
    "dm(r\"\\text{Using θ from above, we find } \\frac\\pi2 = (2t + 1)\\frac\\pi6 \\rarr t=1\")"
   ]
  },
  {
   "cell_type": "markdown",
   "metadata": {},
   "source": [
    "To continue further, we need to construct the oracle function we will be using. For the sake of the example, we know that |w> = |11>. This means, we need to construct a function such that"
   ]
  },
  {
   "cell_type": "code",
   "execution_count": 59,
   "metadata": {},
   "outputs": [
    {
     "data": {
      "text/latex": [
       "$\\displaystyle U_\\omega \\ket{s} = \\frac12 (\\ket{00} + \\ket{01} + \\ket{10} - \\ket{11})$"
      ],
      "text/plain": [
       "<IPython.core.display.Math object>"
      ]
     },
     "metadata": {},
     "output_type": "display_data"
    }
   ],
   "source": [
    "# Define our oracle operator\n",
    "dm(r\"U_\\omega \\ket{s} = \\frac12 (\\ket{00} + \\ket{01} + \\ket{10} - \\ket{11})\")\n",
    "dm(r\"\"\"U_\\omega = \\begin{bmatrix}\n",
    "   1 & 0 & 0 & 0 \\\\\n",
    "   0 & 1 & 0 & 0 \\\\\n",
    "   0 & 0 & 1 & 0 \\\\\n",
    "   0 & 0 & 0 & 1\n",
    "\\end{bmatrix}\"\"\")"
   ]
  },
  {
   "cell_type": "markdown",
   "metadata": {},
   "source": []
  }
 ],
 "metadata": {
  "kernelspec": {
   "display_name": "Python 3",
   "language": "python",
   "name": "python3"
  },
  "language_info": {
   "codemirror_mode": {
    "name": "ipython",
    "version": 3
   },
   "file_extension": ".py",
   "mimetype": "text/x-python",
   "name": "python",
   "nbconvert_exporter": "python",
   "pygments_lexer": "ipython3",
   "version": "3.12.6"
  }
 },
 "nbformat": 4,
 "nbformat_minor": 2
}
