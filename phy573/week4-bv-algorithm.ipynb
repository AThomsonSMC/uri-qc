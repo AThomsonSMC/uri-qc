{
 "cells": [
  {
   "cell_type": "markdown",
   "metadata": {},
   "source": [
    "# Adam Thomson - PHY573 - Week 4"
   ]
  },
  {
   "cell_type": "markdown",
   "metadata": {},
   "source": [
    "## Bernstein-Vazirani Algorithm"
   ]
  },
  {
   "cell_type": "markdown",
   "metadata": {},
   "source": [
    "The goal of the Bernstein-Vazirani Algorithm is to determine the unknown bit-string associated with a black-box function. This function will return the bit-wise product of an input string and the secret string that needs to be solved for. The classical solution to this problem requires querying the function n times, where n is the input length.\n",
    "\n",
    "The quantum solution to this problem requires only a single call of the black-box function! It accomplishes this by first passing the initial input qubits |00..0> through Hadamard gates to create a superposition state |++..+> that gets fed into the black-box function. This will \"phase flip\" the bits associated with the secret string to |->, this means after another Hadamard transformation is applied to all input qubits, measurement will then reveal the unknown string.\n",
    "\n",
    "Let's follow the qiskit example here to see how https://github.com/Qiskit/textbook/blob/main/notebooks/ch-algorithms/bernstein-vazirani.ipynb"
   ]
  },
  {
   "cell_type": "markdown",
   "metadata": {},
   "source": [
    "### Example algorithm implementation"
   ]
  },
  {
   "cell_type": "code",
   "execution_count": 26,
   "metadata": {},
   "outputs": [],
   "source": [
    "# Import libraries\n",
    "import numpy as np\n",
    "from IPython.display import Math, HTML\n",
    "from qiskit import QuantumCircuit as QCir, transpile\n",
    "from qiskit.visualization import plot_histogram\n",
    "\n",
    "from qiskit_aer import AerSimulator\n",
    "\n",
    "sampler = AerSimulator()"
   ]
  },
  {
   "cell_type": "code",
   "execution_count": 22,
   "metadata": {},
   "outputs": [
    {
     "data": {
      "text/latex": [
       "$\\displaystyle \n",
       "\\text{Let's examine the specific example of a 2-bit secret string. We'll start with s=11 but modify to find an unknown value further down}\n",
       "$"
      ],
      "text/plain": [
       "<IPython.core.display.Math object>"
      ]
     },
     "metadata": {},
     "output_type": "display_data"
    },
    {
     "data": {
      "text/latex": [
       "$\\displaystyle \n",
       "\\text{Start by declaring the initial state}\n",
       "\\\\\\\\ \\ket{\\psi_0} = \\ket{00}\n",
       "$"
      ],
      "text/plain": [
       "<IPython.core.display.Math object>"
      ]
     },
     "metadata": {},
     "output_type": "display_data"
    },
    {
     "data": {
      "text/latex": [
       "$\\displaystyle \n",
       "\\text{Next, apply a Hadamard gate to both qubits}\n",
       "\\\\\\\\ \\ket{\\psi_1} = H^{\\otimes2} \\ket{\\psi_0} = \\frac1{\\sqrt2}(\\ket0 + \\ket1) \\otimes \\frac1{\\sqrt2}(\\ket0 + \\ket1)\n",
       "\\\\\\\\ \\ket{\\psi_1} = \\frac12 ( \\ket{00} + \\ket{01} + \\ket{10} + \\ket{11})\n",
       "$"
      ],
      "text/plain": [
       "<IPython.core.display.Math object>"
      ]
     },
     "metadata": {},
     "output_type": "display_data"
    },
    {
     "data": {
      "text/latex": [
       "$\\displaystyle \n",
       "\\text{Define the oracle function}\n",
       "\\\\\\\\ f_s := f_s\\ket x = (-1)^{x \\cdot s}\\ket x = (-1)^{x \\cdot 11}\\ket x\n",
       "$"
      ],
      "text/plain": [
       "<IPython.core.display.Math object>"
      ]
     },
     "metadata": {},
     "output_type": "display_data"
    },
    {
     "data": {
      "text/latex": [
       "$\\displaystyle \n",
       "\\text{And then apply it to our state}\n",
       "\\\\\\\\ \\ket{\\psi_2} = f_s \\ket{\\psi_1} = \\frac12 [\n",
       "    f_s \\ket{00} + f_s \\ket{01} + f_s \\ket{10} + f_s \\ket{11}\n",
       "]\n",
       "\\\\\\\\ \\ket{\\psi_2} = \\frac12 [\n",
       "    (-1)^{00 \\cdot 11} \\ket{00} + (-1)^{01 \\cdot 11} \\ket{01} + (-1)^{10 \\cdot 11} \\ket{10} + (-1)^{11 \\cdot 11} \\ket{11} + \n",
       "]\n",
       "\\\\\\\\ \\ket{\\psi_2} = \\frac12 ( \\ket{00} + (-1)\\ket{01} + (-1)\\ket{10} + (-1)^2\\ket{11} )\n",
       "\\\\\\\\ \\ket{\\psi_2} = \\frac12 ( \\ket{00} - \\ket{01} - \\ket{10} + \\ket{11} )\n",
       "$"
      ],
      "text/plain": [
       "<IPython.core.display.Math object>"
      ]
     },
     "metadata": {},
     "output_type": "display_data"
    },
    {
     "data": {
      "text/latex": [
       "$\\displaystyle \n",
       "\\text{Finally, apply a Hadamard gate to both qubits again to get the secret string.}\n",
       "\\\\\\\\ \\ket{\\psi_3} = H^{\\otimes2}\\ket{\\psi_2} = H^{\\otimes2}(\\frac12 ( \\ket{00} - \\ket{01} - \\ket{10} + \\ket{11} ))\n",
       "\\\\\\\\ \\ket{\\psi_3} = H^{\\otimes2}((\\ket0 - \\ket1) \\otimes (\\ket0 - \\ket1))\n",
       "\\\\\\\\ \\ket{\\psi_3} = H(\\ket0 - \\ket1) \\otimes H(\\ket0 - \\ket1) = \\ket1 \\otimes \\ket1\n",
       "\\\\\\\\ \\ket{\\psi_3} = \\ket{11}\n",
       "$"
      ],
      "text/plain": [
       "<IPython.core.display.Math object>"
      ]
     },
     "metadata": {},
     "output_type": "display_data"
    }
   ],
   "source": [
    "display(Math(r'''\n",
    "\\text{Let's examine the specific example of a 2-bit secret string. We'll start with s=11 but modify to find an unknown value further down}\n",
    "'''))\n",
    "\n",
    "display(Math(r'''\n",
    "\\text{Start by declaring the initial state}\n",
    "\\\\\\\\ \\ket{\\psi_0} = \\ket{00}\n",
    "'''))\n",
    "\n",
    "display(Math(r'''\n",
    "\\text{Next, apply a Hadamard gate to both qubits}\n",
    "\\\\\\\\ \\ket{\\psi_1} = H^{\\otimes2} \\ket{\\psi_0} = \\frac1{\\sqrt2}(\\ket0 + \\ket1) \\otimes \\frac1{\\sqrt2}(\\ket0 + \\ket1)\n",
    "\\\\\\\\ \\ket{\\psi_1} = \\frac12 ( \\ket{00} + \\ket{01} + \\ket{10} + \\ket{11})\n",
    "'''))\n",
    "\n",
    "display(Math(r'''\n",
    "\\text{Define the oracle function}\n",
    "\\\\\\\\ f_s := f_s\\ket x = (-1)^{x \\cdot s}\\ket x = (-1)^{x \\cdot 11}\\ket x\n",
    "'''))\n",
    "\n",
    "display(Math(r'''\n",
    "\\text{And then apply it to our state}\n",
    "\\\\\\\\ \\ket{\\psi_2} = f_s \\ket{\\psi_1} = \\frac12 [\n",
    "    f_s \\ket{00} + f_s \\ket{01} + f_s \\ket{10} + f_s \\ket{11}\n",
    "]\n",
    "\\\\\\\\ \\ket{\\psi_2} = \\frac12 [\n",
    "    (-1)^{00 \\cdot 11} \\ket{00} + (-1)^{01 \\cdot 11} \\ket{01} + (-1)^{10 \\cdot 11} \\ket{10} + (-1)^{11 \\cdot 11} \\ket{11} + \n",
    "]\n",
    "\\\\\\\\ \\ket{\\psi_2} = \\frac12 ( \\ket{00} + (-1)\\ket{01} + (-1)\\ket{10} + (-1)^2\\ket{11} )\n",
    "\\\\\\\\ \\ket{\\psi_2} = \\frac12 ( \\ket{00} - \\ket{01} - \\ket{10} + \\ket{11} )\n",
    "'''))\n",
    "\n",
    "display(Math(r'''\n",
    "\\text{Finally, apply a Hadamard gate to both qubits again to get the secret string.}\n",
    "\\\\\\\\ \\ket{\\psi_3} = H^{\\otimes2}\\ket{\\psi_2} = H^{\\otimes2}(\\frac12 ( \\ket{00} - \\ket{01} - \\ket{10} + \\ket{11} ))\n",
    "\\\\\\\\ \\ket{\\psi_3} = H^{\\otimes2}((\\ket0 - \\ket1) \\otimes (\\ket0 - \\ket1))\n",
    "\\\\\\\\ \\ket{\\psi_3} = H(\\ket0 - \\ket1) \\otimes H(\\ket0 - \\ket1) = \\ket1 \\otimes \\ket1\n",
    "\\\\\\\\ \\ket{\\psi_3} = \\ket{11}\n",
    "'''))"
   ]
  },
  {
   "cell_type": "markdown",
   "metadata": {},
   "source": [
    "### Qiskit implementation"
   ]
  },
  {
   "cell_type": "markdown",
   "metadata": {},
   "source": [
    "Let's now construct a quantum circuit with qiskit to find a 3-bit string, s=101"
   ]
  },
  {
   "cell_type": "code",
   "execution_count": 50,
   "metadata": {},
   "outputs": [],
   "source": [
    "# Setup high-level variables\n",
    "n = 3\n",
    "s = '101'\n",
    "\n",
    "def validate_input():\n",
    "    assert len(s) == n\n",
    "    for i in s:\n",
    "        assert i in ['0', '1']\n",
    "\n",
    "def set_random_secret():\n",
    "    b = np.random.randint(2**n)\n",
    "    return format(b, f'0{n}b')\n",
    "\n",
    "## Uncomment next line to use a truly secret oracle function\n",
    "# s = set_random_secret()\n",
    "\n",
    "validate_input()"
   ]
  },
  {
   "cell_type": "code",
   "execution_count": 51,
   "metadata": {},
   "outputs": [
    {
     "data": {
      "text/html": [
       "\n",
       "<details>\n",
       "    <summary>Click here to reveal the secret!</summary>\n",
       "    s=101\n",
       "</details>\n"
      ],
      "text/plain": [
       "<IPython.core.display.HTML object>"
      ]
     },
     "execution_count": 51,
     "metadata": {},
     "output_type": "execute_result"
    }
   ],
   "source": [
    "# Provide a way to peek into the black box to confirm results\n",
    "reveal_secret = f'''\n",
    "<details>\n",
    "    <summary>Click here to reveal the secret!</summary>\n",
    "    s={s}\n",
    "</details>\n",
    "'''\n",
    "HTML(reveal_secret)"
   ]
  },
  {
   "cell_type": "code",
   "execution_count": 53,
   "metadata": {},
   "outputs": [
    {
     "data": {
      "text/html": [
       "<pre style=\"word-wrap: normal;white-space: pre;background: #fff0;line-height: 1.1;font-family: &quot;Courier New&quot;,Courier,monospace\">     ┌───┐      ░            ░ ┌───┐┌─┐      \n",
       "q_0: ┤ H ├──────░───■────────░─┤ H ├┤M├──────\n",
       "     ├───┤      ░   │        ░ ├───┤└╥┘┌─┐   \n",
       "q_1: ┤ H ├──────░───┼────────░─┤ H ├─╫─┤M├───\n",
       "     ├───┤      ░   │        ░ ├───┤ ║ └╥┘┌─┐\n",
       "q_2: ┤ H ├──────░───┼────■───░─┤ H ├─╫──╫─┤M├\n",
       "     ├───┤┌───┐ ░ ┌─┴─┐┌─┴─┐ ░ └───┘ ║  ║ └╥┘\n",
       "q_3: ┤ X ├┤ H ├─░─┤ X ├┤ X ├─░───────╫──╫──╫─\n",
       "     └───┘└───┘ ░ └───┘└───┘ ░       ║  ║  ║ \n",
       "c: 3/════════════════════════════════╩══╩══╩═\n",
       "                                     0  1  2 </pre>"
      ],
      "text/plain": [
       "     ┌───┐      ░            ░ ┌───┐┌─┐      \n",
       "q_0: ┤ H ├──────░───■────────░─┤ H ├┤M├──────\n",
       "     ├───┤      ░   │        ░ ├───┤└╥┘┌─┐   \n",
       "q_1: ┤ H ├──────░───┼────────░─┤ H ├─╫─┤M├───\n",
       "     ├───┤      ░   │        ░ ├───┤ ║ └╥┘┌─┐\n",
       "q_2: ┤ H ├──────░───┼────■───░─┤ H ├─╫──╫─┤M├\n",
       "     ├───┤┌───┐ ░ ┌─┴─┐┌─┴─┐ ░ └───┘ ║  ║ └╥┘\n",
       "q_3: ┤ X ├┤ H ├─░─┤ X ├┤ X ├─░───────╫──╫──╫─\n",
       "     └───┘└───┘ ░ └───┘└───┘ ░       ║  ║  ║ \n",
       "c: 3/════════════════════════════════╩══╩══╩═\n",
       "                                     0  1  2 "
      ]
     },
     "execution_count": 53,
     "metadata": {},
     "output_type": "execute_result"
    }
   ],
   "source": [
    "# Initialize the quantum circuit\n",
    "# uses n qubits plus 1 auxiliary qubit, and n cbits for measurement\n",
    "bv_circuit = QCir(n+1, n)\n",
    "\n",
    "# flip auxiliary qubit to |-> state\n",
    "bv_circuit.x(n)\n",
    "bv_circuit.h(n)\n",
    "\n",
    "# apply H gates\n",
    "for i in range(n):\n",
    "    bv_circuit.h(i)\n",
    "\n",
    "bv_circuit.barrier()\n",
    "\n",
    "# apply oracle\n",
    "_s = s[::1] # reverse s to fit qiskit ordering\n",
    "for q in range(n):\n",
    "    if _s[q] == '1':\n",
    "        bv_circuit.cx(q,n)  # apply CNOT on auxiliary bit with input bit as control\n",
    "    else:\n",
    "        pass  # Do nothing, I-gate is deprecated\n",
    "\n",
    "bv_circuit.barrier()\n",
    "\n",
    "# apply H gates again\n",
    "for i in range(n):\n",
    "    bv_circuit.h(i)\n",
    "\n",
    "# measure to classical register\n",
    "for i in range(n):\n",
    "    bv_circuit.measure(i,i)\n",
    "\n",
    "bv_circuit.draw()"
   ]
  },
  {
   "cell_type": "code",
   "execution_count": 55,
   "metadata": {},
   "outputs": [
    {
     "data": {
      "image/png": "[encoded data removed]",
      "text/plain": [
       "<Figure size 640x480 with 1 Axes>"
      ]
     },
     "execution_count": 55,
     "metadata": {},
     "output_type": "execute_result"
    }
   ],
   "source": [
    "# run on local simulation\n",
    "results = sampler.run(bv_circuit).result()\n",
    "plot_histogram(results.get_counts())"
   ]
  },
  {
   "cell_type": "markdown",
   "metadata": {},
   "source": [
    "100% of measurements match our expected `s`!"
   ]
  },
  {
   "cell_type": "markdown",
   "metadata": {},
   "source": [
    "### Experimenting on real devices"
   ]
  },
  {
   "cell_type": "code",
   "execution_count": 56,
   "metadata": {},
   "outputs": [
    {
     "data": {
      "text/plain": [
       "'ibm_brisbane'"
      ]
     },
     "execution_count": 56,
     "metadata": {},
     "output_type": "execute_result"
    }
   ],
   "source": [
    "# Additional imports\n",
    "from qiskit_ibm_runtime import QiskitRuntimeService\n",
    "from qiskit_ibm_runtime import SamplerV2\n",
    "from qiskit.transpiler.preset_passmanagers import generate_preset_pass_manager\n",
    "\n",
    "# To run on hardware, select the backend with the fewest number of jobs in the queue\n",
    "service = QiskitRuntimeService(channel=\"ibm_quantum\")\n",
    "backend = service.least_busy(operational=True, simulator=False)\n",
    "backend.name"
   ]
  },
  {
   "cell_type": "code",
   "execution_count": 57,
   "metadata": {},
   "outputs": [
    {
     "data": {
      "image/png": "[encoded data removed]",
      "text/plain": [
       "<Figure size 2215.88x451.5 with 1 Axes>"
      ]
     },
     "execution_count": 57,
     "metadata": {},
     "output_type": "execute_result"
    }
   ],
   "source": [
    "# Transpile the circuit for operating on real quantum hardward\n",
    "target = backend.target\n",
    "pm = generate_preset_pass_manager(target=target, optimization_level=3)\n",
    "\n",
    "circuit_isa = pm.run(bv_circuit)\n",
    "circuit_isa.draw(output=\"mpl\", idle_wires=False, style=\"iqp\")"
   ]
  },
  {
   "cell_type": "code",
   "execution_count": 58,
   "metadata": {},
   "outputs": [],
   "source": [
    "# Run the circuit and wait for the results\n",
    "sampler2 = SamplerV2(mode=backend)\n",
    "sampler2.options.default_shots = 1_000\n",
    "result = sampler2.run([circuit_isa]).result()[0]"
   ]
  },
  {
   "cell_type": "code",
   "execution_count": 59,
   "metadata": {},
   "outputs": [
    {
     "data": {
      "image/png": "[encoded data removed]",
      "text/plain": [
       "<Figure size 640x480 with 1 Axes>"
      ]
     },
     "execution_count": 59,
     "metadata": {},
     "output_type": "execute_result"
    }
   ],
   "source": [
    "# Plot the results\n",
    "test_counts = result.data.c.get_counts()\n",
    "plot_histogram(test_counts)"
   ]
  },
  {
   "cell_type": "markdown",
   "metadata": {},
   "source": [
    "Most results matched our expected s, but there were other values measured due to errors on the quantum device."
   ]
  },
  {
   "cell_type": "markdown",
   "metadata": {},
   "source": []
  }
 ],
 "metadata": {
  "kernelspec": {
   "display_name": "Python 3",
   "language": "python",
   "name": "python3"
  },
  "language_info": {
   "codemirror_mode": {
    "name": "ipython",
    "version": 3
   },
   "file_extension": ".py",
   "mimetype": "text/x-python",
   "name": "python",
   "nbconvert_exporter": "python",
   "pygments_lexer": "ipython3",
   "version": "3.12.6"
  }
 },
 "nbformat": 4,
 "nbformat_minor": 2
}
