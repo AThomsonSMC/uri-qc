{
 "cells": [
  {
   "cell_type": "markdown",
   "metadata": {},
   "source": [
    "# Adam Thomson - PHY 573 - Week 5"
   ]
  },
  {
   "cell_type": "markdown",
   "metadata": {},
   "source": [
    "## QFT - Quantum Fourier Transform"
   ]
  },
  {
   "cell_type": "markdown",
   "metadata": {},
   "source": [
    "Work through the step by step details of Section 6 in the qiskit notebook on QFT https://github.com/Qiskit/textbook/blob/main/notebooks/ch-algorithms/quantum-fourier-transform.ipynb"
   ]
  },
  {
   "cell_type": "code",
   "execution_count": 18,
   "metadata": {},
   "outputs": [],
   "source": [
    "# Import libraies\n",
    "import numpy as np\n",
    "from IPython.display import Math, HTML\n",
    "from qiskit import QuantumCircuit as QCir, transpile\n",
    "from qiskit.visualization import plot_histogram\n",
    "\n",
    "from qiskit_aer import AerSimulator\n",
    "\n",
    "sampler = AerSimulator()"
   ]
  },
  {
   "cell_type": "markdown",
   "metadata": {},
   "source": [
    "This demonstrates the steps necessary to perform QFT using a 3-qubit state as an example. We want to show at the end that our resulting vector matches our expected defintion"
   ]
  },
  {
   "cell_type": "code",
   "execution_count": 19,
   "metadata": {},
   "outputs": [
    {
     "data": {
      "text/latex": [
       "$\\displaystyle \n",
       "\\ket{y_3y_2y_2} := U_{QFT}\\ket{x_3x_2x_1}\n",
       "$"
      ],
      "text/plain": [
       "<IPython.core.display.Math object>"
      ]
     },
     "metadata": {},
     "output_type": "display_data"
    },
    {
     "data": {
      "text/latex": [
       "$\\displaystyle \n",
       "\\text{Show that } \\forall k, y_k = \\frac1{\\sqrt N} \\sum_{j=0}^{N-1}x_jw_N^{jk}\n",
       "$"
      ],
      "text/plain": [
       "<IPython.core.display.Math object>"
      ]
     },
     "metadata": {},
     "output_type": "display_data"
    },
    {
     "data": {
      "text/latex": [
       "$\\displaystyle \n",
       "\\text{Where } w_N^{jk} := e^{2\\pi i \\frac{jk}N}\n",
       "$"
      ],
      "text/plain": [
       "<IPython.core.display.Math object>"
      ]
     },
     "metadata": {},
     "output_type": "display_data"
    }
   ],
   "source": [
    "# Describe the desired state\n",
    "display(Math(r\"\"\"\n",
    "\\ket{y_3y_2y_2} := U_{QFT}\\ket{x_3x_2x_1}\n",
    "\"\"\"))\n",
    "display(Math(r\"\"\"\n",
    "\\text{Show that } \\forall k, y_k = \\frac1{\\sqrt N} \\sum_{j=0}^{N-1}x_jw_N^{jk}\n",
    "\"\"\"))\n",
    "display(Math(r\"\"\"\n",
    "\\text{Where } w_N^{jk} := e^{2\\pi i \\frac{jk}N}\n",
    "\"\"\"))"
   ]
  },
  {
   "cell_type": "code",
   "execution_count": 20,
   "metadata": {},
   "outputs": [
    {
     "data": {
      "text/latex": [
       "$\\displaystyle \n",
       "\\ket{\\psi_0} = \\ket{x_3x_2x_1} = \\ket{x_3} \\otimes \\ket{x_2} \\otimes \\ket{x_1}\n",
       "$"
      ],
      "text/plain": [
       "<IPython.core.display.Math object>"
      ]
     },
     "metadata": {},
     "output_type": "display_data"
    }
   ],
   "source": [
    "# Step 0 - Estblish the input state |x>\n",
    "display(Math(r\"\"\"\n",
    "\\ket{\\psi_0} = \\ket{x_3x_2x_1} = \\ket{x_3} \\otimes \\ket{x_2} \\otimes \\ket{x_1}\n",
    "\"\"\"))"
   ]
  },
  {
   "cell_type": "code",
   "execution_count": 21,
   "metadata": {},
   "outputs": [
    {
     "data": {
      "text/latex": [
       "$\\displaystyle \n",
       "\\ket{\\psi_1} = (I \\otimes I \\otimes H)\\ket{\\psi_0}\n",
       "$"
      ],
      "text/plain": [
       "<IPython.core.display.Math object>"
      ]
     },
     "metadata": {},
     "output_type": "display_data"
    },
    {
     "data": {
      "text/latex": [
       "$\\displaystyle \\qquad = I\\ket{x_3} \\otimes I\\ket{x_2} \\otimes H\\ket{x_1}\n",
       "$"
      ],
      "text/plain": [
       "<IPython.core.display.Math object>"
      ]
     },
     "metadata": {},
     "output_type": "display_data"
    },
    {
     "data": {
      "text/latex": [
       "$\\displaystyle \\qquad = \\ket{x_3} \\otimes \\ket{x_2} \\otimes H\\ket{x_1}          \n",
       "$"
      ],
      "text/plain": [
       "<IPython.core.display.Math object>"
      ]
     },
     "metadata": {},
     "output_type": "display_data"
    },
    {
     "data": {
      "text/latex": [
       "$\\displaystyle \n",
       "\\text{We use the definition of H from above to match the example}\n",
       "$"
      ],
      "text/plain": [
       "<IPython.core.display.Math object>"
      ]
     },
     "metadata": {},
     "output_type": "display_data"
    },
    {
     "data": {
      "text/latex": [
       "$\\displaystyle \n",
       "H\\ket{x_k} = \\frac1{\\sqrt2}\\Big( \n",
       "    \\ket0 + e^{\\frac{2\\pi i}2 x_k} \\ket1             \n",
       "\\Big)\n",
       "$"
      ],
      "text/plain": [
       "<IPython.core.display.Math object>"
      ]
     },
     "metadata": {},
     "output_type": "display_data"
    },
    {
     "data": {
      "text/latex": [
       "$\\displaystyle \n",
       "\\ket{\\psi_1} = \\ket{x_3} \\otimes \\ket{x_2} \\otimes \\frac1{\\sqrt2} \\Big( \n",
       "    \\ket0 + e^{\\frac{2\\pi i}2 x_1} \\ket1             \n",
       "\\Big)\n",
       "$"
      ],
      "text/plain": [
       "<IPython.core.display.Math object>"
      ]
     },
     "metadata": {},
     "output_type": "display_data"
    }
   ],
   "source": [
    "# Step 1 - Apply Hadamard gate to the last qubit, x_1\n",
    "display(Math(r\"\"\"\n",
    "\\ket{\\psi_1} = (I \\otimes I \\otimes H)\\ket{\\psi_0}\n",
    "\"\"\"))\n",
    "display(Math(r\"\"\"\\qquad = I\\ket{x_3} \\otimes I\\ket{x_2} \\otimes H\\ket{x_1}\n",
    "\"\"\"))\n",
    "display(Math(r\"\"\"\\qquad = \\ket{x_3} \\otimes \\ket{x_2} \\otimes H\\ket{x_1}          \n",
    "\"\"\"))\n",
    "display(Math(r\"\"\"\n",
    "\\text{We use the definition of H from above to match the example}\n",
    "\"\"\"))\n",
    "display(Math(r\"\"\"\n",
    "H\\ket{x_k} = \\frac1{\\sqrt2}\\Big( \n",
    "    \\ket0 + e^{\\frac{2\\pi i}2 x_k} \\ket1             \n",
    "\\Big)\n",
    "\"\"\"))\n",
    "display(Math(r\"\"\"\n",
    "\\ket{\\psi_1} = \\ket{x_3} \\otimes \\ket{x_2} \\otimes \\frac1{\\sqrt2} \\Big( \n",
    "    \\ket0 + e^{\\frac{2\\pi i}2 x_1} \\ket1             \n",
    "\\Big)\n",
    "\"\"\"))"
   ]
  },
  {
   "cell_type": "code",
   "execution_count": 22,
   "metadata": {},
   "outputs": [
    {
     "data": {
      "text/latex": [
       "$\\displaystyle \n",
       "\\ket{\\psi_2} = (I \\otimes I \\otimes CROT_2)\\ket{\\psi_1}\n",
       "$"
      ],
      "text/plain": [
       "<IPython.core.display.Math object>"
      ]
     },
     "metadata": {},
     "output_type": "display_data"
    },
    {
     "data": {
      "text/latex": [
       "$\\displaystyle \n",
       "\\qquad = \\ket{x_3} \\otimes \\ket{x_2} \\otimes \\frac1{\\sqrt2} CROT_2\\Big( \n",
       "    \\ket0 + e^{\\frac{2\\pi i}2 x_1} \\ket1             \n",
       "\\Big)\n",
       "$"
      ],
      "text/plain": [
       "<IPython.core.display.Math object>"
      ]
     },
     "metadata": {},
     "output_type": "display_data"
    },
    {
     "data": {
      "text/latex": [
       "$\\displaystyle \\qquad = \\ket{x_3} \\otimes \\ket{x_2} \\otimes \\frac1{\\sqrt2} \\Big( \n",
       "     CROT_2\\ket{x_2 0} + e^{\\frac{2\\pi i}2 x_1}  CROT_2\\ket{x_2 1}             \n",
       "\\Big)\n",
       "$"
      ],
      "text/plain": [
       "<IPython.core.display.Math object>"
      ]
     },
     "metadata": {},
     "output_type": "display_data"
    },
    {
     "data": {
      "text/latex": [
       "$\\displaystyle \n",
       "\\text{Use the definition of CROT from above}\n",
       "$"
      ],
      "text/plain": [
       "<IPython.core.display.Math object>"
      ]
     },
     "metadata": {},
     "output_type": "display_data"
    },
    {
     "data": {
      "text/latex": [
       "$\\displaystyle  \n",
       "CROT_k := \\begin{bmatrix}\n",
       "   I & 0 \\\\\n",
       "   0 & {UROT_k}\n",
       "\\end{bmatrix}\n",
       "$"
      ],
      "text/plain": [
       "<IPython.core.display.Math object>"
      ]
     },
     "metadata": {},
     "output_type": "display_data"
    },
    {
     "data": {
      "text/latex": [
       "$\\displaystyle \n",
       "UROT_k := \\begin{bmatrix}\n",
       "   1 & 0 \\\\\n",
       "   0 & e^{\\frac{2\\pi i}{2^k}}\n",
       "\\end{bmatrix}\n",
       "$"
      ],
      "text/plain": [
       "<IPython.core.display.Math object>"
      ]
     },
     "metadata": {},
     "output_type": "display_data"
    },
    {
     "data": {
      "text/latex": [
       "$\\displaystyle \n",
       "\\text{This means that for any k and for any general } z = \\alpha \\ket0 + \\beta \\ket1\n",
       "$"
      ],
      "text/plain": [
       "<IPython.core.display.Math object>"
      ]
     },
     "metadata": {},
     "output_type": "display_data"
    },
    {
     "data": {
      "text/latex": [
       "$\\displaystyle  UROT_k \\ket z = \\alpha \\ket0 + e^{\\frac{2\\pi i}{2^k}}\\ket1\n",
       "$"
      ],
      "text/plain": [
       "<IPython.core.display.Math object>"
      ]
     },
     "metadata": {},
     "output_type": "display_data"
    },
    {
     "data": {
      "text/latex": [
       "$\\displaystyle \n",
       "\\text{And it follows that the 2-qubit gate } CROT_k\\ket{x_lx_j}\n",
       "\\text{ with target and control qubits, respecitvely has the following behavior}\n",
       "$"
      ],
      "text/plain": [
       "<IPython.core.display.Math object>"
      ]
     },
     "metadata": {},
     "output_type": "display_data"
    },
    {
     "data": {
      "text/latex": [
       "$\\displaystyle \n",
       "CROT_k \\ket{0x_j} = \\ket{0x_j}\n",
       "$"
      ],
      "text/plain": [
       "<IPython.core.display.Math object>"
      ]
     },
     "metadata": {},
     "output_type": "display_data"
    },
    {
     "data": {
      "text/latex": [
       "$\\displaystyle  CROT_k \\ket{1x_k} = e^{\\frac{2 \\pi i}{2^k}x_j} \\ket{1x_j}\n",
       "$"
      ],
      "text/plain": [
       "<IPython.core.display.Math object>"
      ]
     },
     "metadata": {},
     "output_type": "display_data"
    }
   ],
   "source": [
    "# Step 2 - Apply the CROT gate to x_1 depending on x_2\n",
    "display(Math(r\"\"\"\n",
    "\\ket{\\psi_2} = (I \\otimes I \\otimes CROT_2)\\ket{\\psi_1}\n",
    "\"\"\"))\n",
    "display(Math(r\"\"\"\n",
    "\\qquad = \\ket{x_3} \\otimes \\ket{x_2} \\otimes \\frac1{\\sqrt2} CROT_2\\Big( \n",
    "    \\ket0 + e^{\\frac{2\\pi i}2 x_1} \\ket1             \n",
    "\\Big)\n",
    "\"\"\"))\n",
    "display(Math(r\"\"\"\\qquad = \\ket{x_3} \\otimes \\ket{x_2} \\otimes \\frac1{\\sqrt2} \\Big( \n",
    "     CROT_2\\ket{x_2 0} + e^{\\frac{2\\pi i}2 x_1}  CROT_2\\ket{x_2 1}             \n",
    "\\Big)\n",
    "\"\"\"))\n",
    "display(Math(r\"\"\"\n",
    "\\text{Use the definition of CROT from above}\n",
    "\"\"\"))\n",
    "display(Math(r\"\"\" \n",
    "CROT_k := \\begin{bmatrix}\n",
    "   I & 0 \\\\\n",
    "   0 & {UROT_k}\n",
    "\\end{bmatrix}\n",
    "\"\"\"))\n",
    "display(Math(r\"\"\"\n",
    "UROT_k := \\begin{bmatrix}\n",
    "   1 & 0 \\\\\n",
    "   0 & e^{\\frac{2\\pi i}{2^k}}\n",
    "\\end{bmatrix}\n",
    "\"\"\"))\n",
    "display(Math(r\"\"\"\n",
    "\\text{This means that for any k and for any general } z = \\alpha \\ket0 + \\beta \\ket1\n",
    "\"\"\"))\n",
    "display(Math(r\"\"\" UROT_k \\ket z = \\alpha \\ket0 + e^{\\frac{2\\pi i}{2^k}}\\ket1\n",
    "\"\"\"))\n",
    "display(Math(r\"\"\"\n",
    "\\text{And it follows that the 2-qubit gate } CROT_k\\ket{x_lx_j}\n",
    "\\text{ with target and control qubits, respecitvely has the following behavior}\n",
    "\"\"\"))\n",
    "display(Math(r\"\"\"\n",
    "CROT_k \\ket{0x_j} = \\ket{0x_j}\n",
    "\"\"\"))\n",
    "display(Math(r\"\"\" CROT_k \\ket{1x_k} = e^{\\frac{2 \\pi i}{2^k}x_j} \\ket{1x_j}\n",
    "\"\"\"))"
   ]
  },
  {
   "cell_type": "code",
   "execution_count": 23,
   "metadata": {},
   "outputs": [
    {
     "data": {
      "text/latex": [
       "$\\displaystyle \n",
       "\\ket{\\psi_2} = \\ket{x_3} \\otimes \\ket{x_2} \\otimes \\frac1{\\sqrt2} \\Big( \n",
       "     CROT_2\\ket{x_2 0} + e^{\\frac{2\\pi i}2 x_1}  CROT_2\\ket{x_2 1}             \n",
       "\\Big)\n",
       "$"
      ],
      "text/plain": [
       "<IPython.core.display.Math object>"
      ]
     },
     "metadata": {},
     "output_type": "display_data"
    },
    {
     "data": {
      "text/latex": [
       "$\\displaystyle  \\qquad = \\ket{x_3} \\otimes \\ket{x_2} \\otimes \\frac1{\\sqrt2} \\Big( \n",
       "     \\ket0 + e^{\\frac{2\\pi i}2 x_1} e^{\\frac{2\\pi i}{2^2}x_2}\\ket1\n",
       "\\Big)\n",
       "$"
      ],
      "text/plain": [
       "<IPython.core.display.Math object>"
      ]
     },
     "metadata": {},
     "output_type": "display_data"
    },
    {
     "data": {
      "text/latex": [
       "$\\displaystyle  \\qquad = \\ket{x_3} \\otimes \\ket{x_2} \\otimes \\frac1{\\sqrt2} \\Big( \n",
       "     \\ket0 + e^{(\\frac{2\\pi i}{2^2}x_2 + \\frac{2\\pi i}2 x_1)} \\ket1\n",
       "\\Big)\n",
       "$"
      ],
      "text/plain": [
       "<IPython.core.display.Math object>"
      ]
     },
     "metadata": {},
     "output_type": "display_data"
    }
   ],
   "source": [
    "# Apply above to get to step 2\n",
    "display(Math(r\"\"\"\n",
    "\\ket{\\psi_2} = \\ket{x_3} \\otimes \\ket{x_2} \\otimes \\frac1{\\sqrt2} \\Big( \n",
    "     CROT_2\\ket{x_2 0} + e^{\\frac{2\\pi i}2 x_1}  CROT_2\\ket{x_2 1}             \n",
    "\\Big)\n",
    "\"\"\"))\n",
    "display(Math(r\"\"\" \\qquad = \\ket{x_3} \\otimes \\ket{x_2} \\otimes \\frac1{\\sqrt2} \\Big( \n",
    "     \\ket0 + e^{\\frac{2\\pi i}2 x_1} e^{\\frac{2\\pi i}{2^2}x_2}\\ket1\n",
    "\\Big)\n",
    "\"\"\"))\n",
    "display(Math(r\"\"\" \\qquad = \\ket{x_3} \\otimes \\ket{x_2} \\otimes \\frac1{\\sqrt2} \\Big( \n",
    "     \\ket0 + e^{(\\frac{2\\pi i}{2^2}x_2 + \\frac{2\\pi i}2 x_1)} \\ket1\n",
    "\\Big)\n",
    "\"\"\"))"
   ]
  },
  {
   "cell_type": "code",
   "execution_count": 24,
   "metadata": {},
   "outputs": [
    {
     "data": {
      "text/latex": [
       "$\\displaystyle \n",
       "\\ket{\\psi_3} = (I \\otimes I \\otimes UROT_3) \\ket{\\psi_2}\n",
       "$"
      ],
      "text/plain": [
       "<IPython.core.display.Math object>"
      ]
     },
     "metadata": {},
     "output_type": "display_data"
    },
    {
     "data": {
      "text/latex": [
       "$\\displaystyle  \\qquad = \\ket{x_3} \\otimes \\ket{x_2} \\otimes \\frac1{\\sqrt2} UROT_3\\Big( \n",
       "     \\ket0 + e^{(\\frac{2\\pi i}{2^2}x_2 + \\frac{2\\pi i}2 x_1)} \\ket1\n",
       "\\Big)\n",
       "$"
      ],
      "text/plain": [
       "<IPython.core.display.Math object>"
      ]
     },
     "metadata": {},
     "output_type": "display_data"
    },
    {
     "data": {
      "text/latex": [
       "$\\displaystyle \\qquad = \\ket{x_3} \\otimes \\ket{x_2} \\otimes \\frac1{\\sqrt2} \\Big( \n",
       "     CROT_3\\ket{x_3 0} + e^{(\\frac{2\\pi i}{2^2}x_2 + \\frac{2\\pi i}2 x_1)} CROT_3\\ket{x_3 1}\n",
       "\\Big)\n",
       "$"
      ],
      "text/plain": [
       "<IPython.core.display.Math object>"
      ]
     },
     "metadata": {},
     "output_type": "display_data"
    },
    {
     "data": {
      "text/latex": [
       "$\\displaystyle \\qquad = \\ket{x_3} \\otimes \\ket{x_2} \\otimes \\frac1{\\sqrt2} \\Big( \n",
       "     \\ket0 + e^{(\\frac{2\\pi i}{2^2}x_2 + \\frac{2\\pi i}2 x_1)} e^{\\frac{2\\pi i}{2^3}x_3} \\ket1\n",
       "\\Big)\n",
       "$"
      ],
      "text/plain": [
       "<IPython.core.display.Math object>"
      ]
     },
     "metadata": {},
     "output_type": "display_data"
    },
    {
     "data": {
      "text/latex": [
       "$\\displaystyle \n",
       "\\ket{\\psi_3} =  \\ket{x_3} \\otimes \\ket{x_2} \\otimes \\frac1{\\sqrt2} \\Big( \n",
       "     \\ket0 + e^{(\\frac{2\\pi i}{2^3}x_3 + \\frac{2\\pi i}{2^2}x_2 + \\frac{2\\pi i}2 x_1)} \\ket1\n",
       "\\Big)\n",
       "$"
      ],
      "text/plain": [
       "<IPython.core.display.Math object>"
      ]
     },
     "metadata": {},
     "output_type": "display_data"
    }
   ],
   "source": [
    "# Step 3 - Apply a UROT_3 gate to x_1 based on x_3\n",
    "display(Math(r\"\"\"\n",
    "\\ket{\\psi_3} = (I \\otimes I \\otimes UROT_3) \\ket{\\psi_2}\n",
    "\"\"\"))\n",
    "display(Math(r\"\"\" \\qquad = \\ket{x_3} \\otimes \\ket{x_2} \\otimes \\frac1{\\sqrt2} UROT_3\\Big( \n",
    "     \\ket0 + e^{(\\frac{2\\pi i}{2^2}x_2 + \\frac{2\\pi i}2 x_1)} \\ket1\n",
    "\\Big)\n",
    "\"\"\"))\n",
    "display(Math(r\"\"\"\\qquad = \\ket{x_3} \\otimes \\ket{x_2} \\otimes \\frac1{\\sqrt2} \\Big( \n",
    "     CROT_3\\ket{x_3 0} + e^{(\\frac{2\\pi i}{2^2}x_2 + \\frac{2\\pi i}2 x_1)} CROT_3\\ket{x_3 1}\n",
    "\\Big)\n",
    "\"\"\"))\n",
    "display(Math(r\"\"\"\\qquad = \\ket{x_3} \\otimes \\ket{x_2} \\otimes \\frac1{\\sqrt2} \\Big( \n",
    "     \\ket0 + e^{(\\frac{2\\pi i}{2^2}x_2 + \\frac{2\\pi i}2 x_1)} e^{\\frac{2\\pi i}{2^3}x_3} \\ket1\n",
    "\\Big)\n",
    "\"\"\"))\n",
    "display(Math(r\"\"\"\n",
    "\\ket{\\psi_3} =  \\ket{x_3} \\otimes \\ket{x_2} \\otimes \\frac1{\\sqrt2} \\Big( \n",
    "     \\ket0 + e^{(\\frac{2\\pi i}{2^3}x_3 + \\frac{2\\pi i}{2^2}x_2 + \\frac{2\\pi i}2 x_1)} \\ket1\n",
    "\\Big)\n",
    "\"\"\"))"
   ]
  },
  {
   "cell_type": "code",
   "execution_count": 25,
   "metadata": {},
   "outputs": [
    {
     "data": {
      "text/latex": [
       "$\\displaystyle \\text{Reuse the previous definition of H again}$"
      ],
      "text/plain": [
       "<IPython.core.display.Math object>"
      ]
     },
     "metadata": {},
     "output_type": "display_data"
    },
    {
     "data": {
      "text/latex": [
       "$\\displaystyle \n",
       "\\ket{\\psi_4} = (I \\otimes H \\otimes I)\\ket{\\psi_3}\n",
       "$"
      ],
      "text/plain": [
       "<IPython.core.display.Math object>"
      ]
     },
     "metadata": {},
     "output_type": "display_data"
    },
    {
     "data": {
      "text/latex": [
       "$\\displaystyle \\qquad = \\ket{x_3} \\otimes H\\ket{x_2} \\otimes \\frac1{\\sqrt2} \\Big( \n",
       "     \\ket0 + e^{(\\frac{2\\pi i}{2^3}x_3 + \\frac{2\\pi i}{2^2}x_2 + \\frac{2\\pi i}2 x_1)} \\ket1\n",
       "\\Big)\n",
       "$"
      ],
      "text/plain": [
       "<IPython.core.display.Math object>"
      ]
     },
     "metadata": {},
     "output_type": "display_data"
    },
    {
     "data": {
      "text/latex": [
       "$\\displaystyle \\qquad = \\ket{x_3}\n",
       "          \\otimes \n",
       "     \\frac1{\\sqrt2} \\Big( \n",
       "          \\ket0 + e^{\\frac{2\\pi i}2 x_2} \\ket1             \n",
       "     \\Big)\n",
       "          \\otimes \n",
       "     \\frac1{\\sqrt2} \\Big( \n",
       "          \\ket0 + e^{(\\frac{2\\pi i}{2^3}x_3 + \\frac{2\\pi i}{2^2}x_2 + \\frac{2\\pi i}2 x_1)} \\ket1\n",
       "     \\Big)\n",
       "$"
      ],
      "text/plain": [
       "<IPython.core.display.Math object>"
      ]
     },
     "metadata": {},
     "output_type": "display_data"
    }
   ],
   "source": [
    "# Step 4, apply a Hadamard gate to x_2\n",
    "display(Math(r\"\\text{Reuse the previous definition of H again}\"))\n",
    "display(Math(r\"\"\"\n",
    "\\ket{\\psi_4} = (I \\otimes H \\otimes I)\\ket{\\psi_3}\n",
    "\"\"\"))\n",
    "display(Math(r\"\"\"\\qquad = \\ket{x_3} \\otimes H\\ket{x_2} \\otimes \\frac1{\\sqrt2} \\Big( \n",
    "     \\ket0 + e^{(\\frac{2\\pi i}{2^3}x_3 + \\frac{2\\pi i}{2^2}x_2 + \\frac{2\\pi i}2 x_1)} \\ket1\n",
    "\\Big)\n",
    "\"\"\"))\n",
    "display(Math(r\"\"\"\\qquad = \\ket{x_3}\n",
    "          \\otimes \n",
    "     \\frac1{\\sqrt2} \\Big( \n",
    "          \\ket0 + e^{\\frac{2\\pi i}2 x_2} \\ket1             \n",
    "     \\Big)\n",
    "          \\otimes \n",
    "     \\frac1{\\sqrt2} \\Big( \n",
    "          \\ket0 + e^{(\\frac{2\\pi i}{2^3}x_3 + \\frac{2\\pi i}{2^2}x_2 + \\frac{2\\pi i}2 x_1)} \\ket1\n",
    "     \\Big)\n",
    "\"\"\"))"
   ]
  },
  {
   "cell_type": "code",
   "execution_count": 26,
   "metadata": {},
   "outputs": [
    {
     "data": {
      "text/latex": [
       "$\\displaystyle \n",
       "\\ket{\\psi_5} = (I \\otimes UROT_2 \\otimes I)\\ket{\\psi_4}\n",
       "$"
      ],
      "text/plain": [
       "<IPython.core.display.Math object>"
      ]
     },
     "metadata": {},
     "output_type": "display_data"
    },
    {
     "data": {
      "text/latex": [
       "$\\displaystyle \\qquad = \\ket{x_3}\n",
       "          \\otimes \n",
       "     \\frac1{\\sqrt2} \\Big( \n",
       "          CROT_2 \\ket{x_3 0} + e^{\\frac{2\\pi i}2 x_2} CROT_2 \\ket{x_3 1}    \n",
       "     \\Big)\n",
       "          \\otimes \n",
       "     \\frac1{\\sqrt2} \\Big( \n",
       "          \\ket0 + e^{(\\frac{2\\pi i}{2^3}x_3 + \\frac{2\\pi i}{2^2}x_2 + \\frac{2\\pi i}2 x_1)} \\ket1\n",
       "     \\Big)\n",
       "$"
      ],
      "text/plain": [
       "<IPython.core.display.Math object>"
      ]
     },
     "metadata": {},
     "output_type": "display_data"
    },
    {
     "data": {
      "text/latex": [
       "$\\displaystyle \\qquad = \\ket{x_3}\n",
       "          \\otimes \n",
       "     \\frac1{\\sqrt2} \\Big( \n",
       "          \\ket0 + e^{\\frac{2\\pi i}2 x_2} e^{\\frac{2 \\pi i}{2^2} x_3}\\ket1    \n",
       "     \\Big)\n",
       "          \\otimes \n",
       "     \\frac1{\\sqrt2} \\Big( \n",
       "          \\ket0 + e^{(\\frac{2\\pi i}{2^3}x_3 + \\frac{2\\pi i}{2^2}x_2 + \\frac{2\\pi i}2 x_1)} \\ket1\n",
       "     \\Big)\n",
       "$"
      ],
      "text/plain": [
       "<IPython.core.display.Math object>"
      ]
     },
     "metadata": {},
     "output_type": "display_data"
    },
    {
     "data": {
      "text/latex": [
       "$\\displaystyle \n",
       "\\ket{\\psi_5} = \\ket{x_3} \n",
       "        \\otimes \n",
       "    \\frac1{\\sqrt2} \\Big( \n",
       "        \\ket0 + e^{(\\frac{2 \\pi i}{2^2} x_3 + \\frac{2\\pi i}2 x_2)}\\ket1    \n",
       "    \\Big)\n",
       "        \\otimes \n",
       "    \\frac1{\\sqrt2} \\Big( \n",
       "        \\ket0 + e^{(\\frac{2\\pi i}{2^3}x_3 + \\frac{2\\pi i}{2^2}x_2 + \\frac{2\\pi i}2 x_1)} \\ket1\n",
       "    \\Big)\n",
       "$"
      ],
      "text/plain": [
       "<IPython.core.display.Math object>"
      ]
     },
     "metadata": {},
     "output_type": "display_data"
    }
   ],
   "source": [
    "# Step 5, apply a UROT_2 gate to x_2 depending on x_3\n",
    "display(Math(r\"\"\"\n",
    "\\ket{\\psi_5} = (I \\otimes UROT_2 \\otimes I)\\ket{\\psi_4}\n",
    "\"\"\"))\n",
    "display(Math(r\"\"\"\\qquad = \\ket{x_3}\n",
    "          \\otimes \n",
    "     \\frac1{\\sqrt2} \\Big( \n",
    "          CROT_2 \\ket{x_3 0} + e^{\\frac{2\\pi i}2 x_2} CROT_2 \\ket{x_3 1}    \n",
    "     \\Big)\n",
    "          \\otimes \n",
    "     \\frac1{\\sqrt2} \\Big( \n",
    "          \\ket0 + e^{(\\frac{2\\pi i}{2^3}x_3 + \\frac{2\\pi i}{2^2}x_2 + \\frac{2\\pi i}2 x_1)} \\ket1\n",
    "     \\Big)\n",
    "\"\"\"))\n",
    "display(Math(r\"\"\"\\qquad = \\ket{x_3}\n",
    "          \\otimes \n",
    "     \\frac1{\\sqrt2} \\Big( \n",
    "          \\ket0 + e^{\\frac{2\\pi i}2 x_2} e^{\\frac{2 \\pi i}{2^2} x_3}\\ket1    \n",
    "     \\Big)\n",
    "          \\otimes \n",
    "     \\frac1{\\sqrt2} \\Big( \n",
    "          \\ket0 + e^{(\\frac{2\\pi i}{2^3}x_3 + \\frac{2\\pi i}{2^2}x_2 + \\frac{2\\pi i}2 x_1)} \\ket1\n",
    "     \\Big)\n",
    "\"\"\"))\n",
    "display(Math(r\"\"\"\n",
    "\\ket{\\psi_5} = \\ket{x_3} \n",
    "        \\otimes \n",
    "    \\frac1{\\sqrt2} \\Big( \n",
    "        \\ket0 + e^{(\\frac{2 \\pi i}{2^2} x_3 + \\frac{2\\pi i}2 x_2)}\\ket1    \n",
    "    \\Big)\n",
    "        \\otimes \n",
    "    \\frac1{\\sqrt2} \\Big( \n",
    "        \\ket0 + e^{(\\frac{2\\pi i}{2^3}x_3 + \\frac{2\\pi i}{2^2}x_2 + \\frac{2\\pi i}2 x_1)} \\ket1\n",
    "    \\Big)\n",
    "\"\"\"))"
   ]
  },
  {
   "cell_type": "code",
   "execution_count": 27,
   "metadata": {},
   "outputs": [
    {
     "data": {
      "text/latex": [
       "$\\displaystyle \n",
       "\\ket{\\psi_6} = (H \\otimes I \\otimes I)\\ket{\\psi_5}\n",
       "$"
      ],
      "text/plain": [
       "<IPython.core.display.Math object>"
      ]
     },
     "metadata": {},
     "output_type": "display_data"
    },
    {
     "data": {
      "text/latex": [
       "$\\displaystyle \\qquad = H\\ket{x_3} \n",
       "        \\otimes \n",
       "    \\frac1{\\sqrt2} \\Big( \n",
       "        \\ket0 + e^{(\\frac{2 \\pi i}{2^2} x_3 + \\frac{2\\pi i}2 x_2)}\\ket1    \n",
       "    \\Big)\n",
       "        \\otimes \n",
       "    \\frac1{\\sqrt2} \\Big( \n",
       "        \\ket0 + e^{(\\frac{2\\pi i}{2^3}x_3 + \\frac{2\\pi i}{2^2}x_2 + \\frac{2\\pi i}2 x_1)} \\ket1\n",
       "    \\Big)\n",
       "$"
      ],
      "text/plain": [
       "<IPython.core.display.Math object>"
      ]
     },
     "metadata": {},
     "output_type": "display_data"
    },
    {
     "data": {
      "text/latex": [
       "$\\displaystyle \\qquad =\n",
       "    \\frac1{\\sqrt2} \\Big( \n",
       "        \\ket0 + e^{\\frac{2\\pi i}2 x_3}\\ket1    \n",
       "    \\Big)\n",
       "        \\otimes \n",
       "    \\frac1{\\sqrt2} \\Big( \n",
       "        \\ket0 + e^{(\\frac{2 \\pi i}{2^2} x_3 + \\frac{2\\pi i}2 x_2)}\\ket1    \n",
       "    \\Big)\n",
       "        \\otimes \n",
       "    \\frac1{\\sqrt2} \\Big( \n",
       "        \\ket0 + e^{(\\frac{2\\pi i}{2^3}x_3 + \\frac{2\\pi i}{2^2}x_2 + \\frac{2\\pi i}2 x_1)} \\ket1\n",
       "    \\Big)\n",
       "$"
      ],
      "text/plain": [
       "<IPython.core.display.Math object>"
      ]
     },
     "metadata": {},
     "output_type": "display_data"
    }
   ],
   "source": [
    "# Step 6 - Apply a Hadamard gate to x_3\n",
    "display(Math(r\"\"\"\n",
    "\\ket{\\psi_6} = (H \\otimes I \\otimes I)\\ket{\\psi_5}\n",
    "\"\"\"))\n",
    "display(Math(r\"\"\"\\qquad = H\\ket{x_3} \n",
    "        \\otimes \n",
    "    \\frac1{\\sqrt2} \\Big( \n",
    "        \\ket0 + e^{(\\frac{2 \\pi i}{2^2} x_3 + \\frac{2\\pi i}2 x_2)}\\ket1    \n",
    "    \\Big)\n",
    "        \\otimes \n",
    "    \\frac1{\\sqrt2} \\Big( \n",
    "        \\ket0 + e^{(\\frac{2\\pi i}{2^3}x_3 + \\frac{2\\pi i}{2^2}x_2 + \\frac{2\\pi i}2 x_1)} \\ket1\n",
    "    \\Big)\n",
    "\"\"\"))\n",
    "display(Math(r\"\"\"\\qquad =\n",
    "    \\frac1{\\sqrt2} \\Big( \n",
    "        \\ket0 + e^{\\frac{2\\pi i}2 x_3}\\ket1    \n",
    "    \\Big)\n",
    "        \\otimes \n",
    "    \\frac1{\\sqrt2} \\Big( \n",
    "        \\ket0 + e^{(\\frac{2 \\pi i}{2^2} x_3 + \\frac{2\\pi i}2 x_2)}\\ket1    \n",
    "    \\Big)\n",
    "        \\otimes \n",
    "    \\frac1{\\sqrt2} \\Big( \n",
    "        \\ket0 + e^{(\\frac{2\\pi i}{2^3}x_3 + \\frac{2\\pi i}{2^2}x_2 + \\frac{2\\pi i}2 x_1)} \\ket1\n",
    "    \\Big)\n",
    "\"\"\"))"
   ]
  },
  {
   "cell_type": "markdown",
   "metadata": {},
   "source": [
    "This is our expected finished state from the example! Make sure to keep in mind that the output state qubits are in the reverse order, so y_1 and y_3 are swapped."
   ]
  },
  {
   "cell_type": "markdown",
   "metadata": {},
   "source": [
    "## Figure 8.4 Explaination"
   ]
  },
  {
   "cell_type": "markdown",
   "metadata": {},
   "source": [
    "In Hidary's text, Figure 8.4 is a visualization of the steps involved in performing this 3-qubit QFT operation. It starts by giving an input state with the known frequency of 4 (|100>), described as"
   ]
  },
  {
   "cell_type": "code",
   "execution_count": 28,
   "metadata": {},
   "outputs": [
    {
     "data": {
      "text/latex": [
       "$\\displaystyle \\ket{\\psi_{in}} = (0.35 + 0.02i) \\ket{000} + (-0.32) \\ket{001}$"
      ],
      "text/plain": [
       "<IPython.core.display.Math object>"
      ]
     },
     "metadata": {},
     "output_type": "display_data"
    },
    {
     "data": {
      "text/latex": [
       "$\\displaystyle \\qquad + (0.37 - 0.02i) \\ket{010} + (-0.35 + 0.04i) \\ket{011}$"
      ],
      "text/plain": [
       "<IPython.core.display.Math object>"
      ]
     },
     "metadata": {},
     "output_type": "display_data"
    },
    {
     "data": {
      "text/latex": [
       "$\\displaystyle \\qquad + (0.30 - 0.02i) \\ket{100} + (-0.34) \\ket{101}$"
      ],
      "text/plain": [
       "<IPython.core.display.Math object>"
      ]
     },
     "metadata": {},
     "output_type": "display_data"
    },
    {
     "data": {
      "text/latex": [
       "$\\displaystyle \\qquad + (0.37 - 0.04i) \\ket{110} + (-0.41) \\ket{111}$"
      ],
      "text/plain": [
       "<IPython.core.display.Math object>"
      ]
     },
     "metadata": {},
     "output_type": "display_data"
    }
   ],
   "source": [
    "# Describe the input state\n",
    "display(Math(r\"\\ket{\\psi_{in}} = (0.35 + 0.02i) \\ket{000} + (-0.32) \\ket{001}\"))\n",
    "display(Math(r\"\\qquad + (0.37 - 0.02i) \\ket{010} + (-0.35 + 0.04i) \\ket{011}\"))\n",
    "display(Math(r\"\\qquad + (0.30 - 0.02i) \\ket{100} + (-0.34) \\ket{101}\"))\n",
    "display(Math(r\"\\qquad + (0.37 - 0.04i) \\ket{110} + (-0.41) \\ket{111}\"))"
   ]
  },
  {
   "cell_type": "markdown",
   "metadata": {},
   "source": [
    "This state is graphed in orange using each component value's real amplitude. We see that each state has roughly the same probability of measurement, with a slight preference for |111>"
   ]
  },
  {
   "cell_type": "markdown",
   "metadata": {},
   "source": [
    "On the next line, we see the output state after applying QFT both numerically and with real amplitudes graphed in blue. The output state is"
   ]
  },
  {
   "cell_type": "code",
   "execution_count": 29,
   "metadata": {},
   "outputs": [
    {
     "data": {
      "text/latex": [
       "$\\displaystyle \\ket{\\psi_{out}} = (0.01 - 0.01i) \\ket{000} + (-0.01 + 0.02i) \\ket{001}$"
      ],
      "text/plain": [
       "<IPython.core.display.Math object>"
      ]
     },
     "metadata": {},
     "output_type": "display_data"
    },
    {
     "data": {
      "text/latex": [
       "$\\displaystyle  \\qquad + (-0.02 + 0.06i) \\ket{010} + (0.03 + 0.04i) \\ket{011}$"
      ],
      "text/plain": [
       "<IPython.core.display.Math object>"
      ]
     },
     "metadata": {},
     "output_type": "display_data"
    },
    {
     "data": {
      "text/latex": [
       "$\\displaystyle  \\qquad + (0.99 - 0.04i) \\ket{100} + (0.03) \\ket{101}$"
      ],
      "text/plain": [
       "<IPython.core.display.Math object>"
      ]
     },
     "metadata": {},
     "output_type": "display_data"
    },
    {
     "data": {
      "text/latex": [
       "$\\displaystyle  \\qquad + (-0.05 - 0.01i) \\ket{110} + (0.03 - 0.02) \\ket{111}$"
      ],
      "text/plain": [
       "<IPython.core.display.Math object>"
      ]
     },
     "metadata": {},
     "output_type": "display_data"
    }
   ],
   "source": [
    "# Describe the state after applying QFT\n",
    "display(Math(r\"\\ket{\\psi_{out}} = (0.01 - 0.01i) \\ket{000} + (-0.01 + 0.02i) \\ket{001}\"))\n",
    "display(Math(r\" \\qquad + (-0.02 + 0.06i) \\ket{010} + (0.03 + 0.04i) \\ket{011}\"))\n",
    "display(Math(r\" \\qquad + (0.99 - 0.04i) \\ket{100} + (0.03) \\ket{101}\"))\n",
    "display(Math(r\" \\qquad + (-0.05 - 0.01i) \\ket{110} + (0.03 - 0.02) \\ket{111}\"))"
   ]
  },
  {
   "cell_type": "markdown",
   "metadata": {},
   "source": [
    "In the past panel, we show the state of the qubits after measurement in the most likely scenario. The graph has circled in orange the measured state, which has a very high probability of being |100>, matching our known frequency! We confirm this by calculating the square of the amplitude of that state"
   ]
  },
  {
   "cell_type": "code",
   "execution_count": 30,
   "metadata": {},
   "outputs": [
    {
     "data": {
      "text/latex": [
       "$\\displaystyle \\ket{\\psi_{meas}} = \\ket{100}$"
      ],
      "text/plain": [
       "<IPython.core.display.Math object>"
      ]
     },
     "metadata": {},
     "output_type": "display_data"
    },
    {
     "data": {
      "text/latex": [
       "$\\displaystyle \n",
       "Prob_{\\ket{100}} = |0.99 - 0.04i|^2 = (0.99 - 0.04i)(0.99 + 0.04i) = 0.9801 + .0016 = 0.9817\n",
       "$"
      ],
      "text/plain": [
       "<IPython.core.display.Math object>"
      ]
     },
     "metadata": {},
     "output_type": "display_data"
    },
    {
     "data": {
      "text/latex": [
       "$\\displaystyle Prob_{\\ket{100}} \\approx 98 \\%$"
      ],
      "text/plain": [
       "<IPython.core.display.Math object>"
      ]
     },
     "metadata": {},
     "output_type": "display_data"
    }
   ],
   "source": [
    "# Describe the most likely measurement\n",
    "display(Math(r\"\\ket{\\psi_{meas}} = \\ket{100}\"))\n",
    "display(Math(r\"\"\"\n",
    "Prob_{\\ket{100}} = |0.99 - 0.04i|^2 = (0.99 - 0.04i)(0.99 + 0.04i) = 0.9801 + .0016 = 0.9817\n",
    "\"\"\"))\n",
    "display(Math(r\"Prob_{\\ket{100}} \\approx 98 \\%\"))"
   ]
  },
  {
   "cell_type": "markdown",
   "metadata": {},
   "source": [
    "In this case, we know that the input frequency is 4, but if that was not known then after multiple measurements (likely all resulting in |100>) we can build confidence that the frequency of the input state is indeed 4."
   ]
  }
 ],
 "metadata": {
  "kernelspec": {
   "display_name": "Python 3",
   "language": "python",
   "name": "python3"
  },
  "language_info": {
   "codemirror_mode": {
    "name": "ipython",
    "version": 3
   },
   "file_extension": ".py",
   "mimetype": "text/x-python",
   "name": "python",
   "nbconvert_exporter": "python",
   "pygments_lexer": "ipython3",
   "version": "3.12.6"
  }
 },
 "nbformat": 4,
 "nbformat_minor": 2
}
