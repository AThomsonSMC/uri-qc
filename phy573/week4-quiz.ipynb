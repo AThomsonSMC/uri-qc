{
 "cells": [
  {
   "cell_type": "markdown",
   "metadata": {},
   "source": [
    "# Adam Thomson - PHY 573 - Quiz 4"
   ]
  },
  {
   "cell_type": "markdown",
   "metadata": {},
   "source": [
    "## Walk through the steps of how Mermin gets to equations (2.31), (2.32), and (2.33)"
   ]
  },
  {
   "cell_type": "code",
   "execution_count": 117,
   "metadata": {},
   "outputs": [],
   "source": [
    "# import library\n",
    "from IPython.display import Math"
   ]
  },
  {
   "cell_type": "markdown",
   "metadata": {},
   "source": [
    "### What we're calculating"
   ]
  },
  {
   "cell_type": "markdown",
   "metadata": {},
   "source": [
    "The goal is to show that for a given oracle function `U_f`, we are able to find the secret value `a` with the correct application of Hadamard gates alongside an auxiliary qubit."
   ]
  },
  {
   "cell_type": "markdown",
   "metadata": {},
   "source": [
    "#### Justify (2.31)"
   ]
  },
  {
   "cell_type": "code",
   "execution_count": 118,
   "metadata": {},
   "outputs": [
    {
     "data": {
      "text/latex": [
       "$\\displaystyle \\text{Initialize state with } \\ket{0}^{\\otimes n} \\text{ and an auxiliary } \\ket{1}$"
      ],
      "text/plain": [
       "<IPython.core.display.Math object>"
      ]
     },
     "metadata": {},
     "output_type": "display_data"
    },
    {
     "data": {
      "text/latex": [
       "$\\displaystyle \n",
       "\\ket{\\psi_0} = \\ket{0}_n \\otimes \\Chi\\ket{0}_1\n",
       "\\\\\\\\ \\qquad = \\ket{0}_n \\ket{1}\n",
       "$"
      ],
      "text/plain": [
       "<IPython.core.display.Math object>"
      ]
     },
     "metadata": {},
     "output_type": "display_data"
    }
   ],
   "source": [
    "# Define the initial state\n",
    "\n",
    "display(Math(r\"\\text{Initialize state with } \\ket{0}^{\\otimes n} \\text{ and an auxiliary } \\ket{1}\"))\n",
    "display(Math(r\"\"\"\n",
    "\\ket{\\psi_0} = \\ket{0}_n \\otimes \\Chi\\ket{0}_1\n",
    "\\\\\\\\ \\qquad = \\ket{0}_n \\ket{1}\n",
    "\"\"\"))"
   ]
  },
  {
   "cell_type": "code",
   "execution_count": 119,
   "metadata": {},
   "outputs": [
    {
     "data": {
      "text/latex": [
       "$\\displaystyle \\text{Apply a Hadamard gate to all } n+1 \\text{ qubits}$"
      ],
      "text/plain": [
       "<IPython.core.display.Math object>"
      ]
     },
     "metadata": {},
     "output_type": "display_data"
    },
    {
     "data": {
      "text/latex": [
       "$\\displaystyle \n",
       "\\ket{\\psi_1} = (\\Eta ^{\\otimes n} \\otimes \\Eta) \\ket{\\psi_0}\n",
       "\\\\\\\\ \\qquad = \\Eta ^{\\otimes n} \\ket{0}_n \\otimes \\Eta \\ket1\n",
       "$"
      ],
      "text/plain": [
       "<IPython.core.display.Math object>"
      ]
     },
     "metadata": {},
     "output_type": "display_data"
    },
    {
     "data": {
      "text/latex": [
       "$\\displaystyle \\text{Use equation (2.30) to simplify}$"
      ],
      "text/plain": [
       "<IPython.core.display.Math object>"
      ]
     },
     "metadata": {},
     "output_type": "display_data"
    },
    {
     "data": {
      "text/latex": [
       "$\\displaystyle \n",
       "\\Eta ^{\\otimes n} \\ket{0}_n = \\frac1{2^{n/2}} \\sum_{x=0}^{2^n-1}(-1)^{0 \\cdot x} \\ket{x}_n\n",
       "\\\\\\\\ \\quad = \\frac1{2^{n/2}} \\sum_{x=0}^{2^n-1} \\ket{x}_n\n",
       "$"
      ],
      "text/plain": [
       "<IPython.core.display.Math object>"
      ]
     },
     "metadata": {},
     "output_type": "display_data"
    },
    {
     "data": {
      "text/latex": [
       "$\\displaystyle \n",
       "\\ket{\\psi_1} = \\frac1{2^{n/2}} \\sum_{x=0}^{2^n-1} \\ket{x}_n \\otimes \\frac1{\\sqrt2}(\\ket0 - \\ket1)\n",
       "$"
      ],
      "text/plain": [
       "<IPython.core.display.Math object>"
      ]
     },
     "metadata": {},
     "output_type": "display_data"
    }
   ],
   "source": [
    "# Apply a Hadamard gate to all qubit\n",
    "display(Math(r\"\\text{Apply a Hadamard gate to all } n+1 \\text{ qubits}\"))\n",
    "display(Math(r\"\"\"\n",
    "\\ket{\\psi_1} = (\\Eta ^{\\otimes n} \\otimes \\Eta) \\ket{\\psi_0}\n",
    "\\\\\\\\ \\qquad = \\Eta ^{\\otimes n} \\ket{0}_n \\otimes \\Eta \\ket1\n",
    "\"\"\"))\n",
    "\n",
    "display(Math(r\"\\text{Use equation (2.30) to simplify}\"))\n",
    "display(Math(r\"\"\"\n",
    "\\Eta ^{\\otimes n} \\ket{0}_n = \\frac1{2^{n/2}} \\sum_{x=0}^{2^n-1}(-1)^{0 \\cdot x} \\ket{x}_n\n",
    "\\\\\\\\ \\quad = \\frac1{2^{n/2}} \\sum_{x=0}^{2^n-1} \\ket{x}_n\n",
    "\"\"\"))\n",
    "display(Math(r\"\"\"\n",
    "\\ket{\\psi_1} = \\frac1{2^{n/2}} \\sum_{x=0}^{2^n-1} \\ket{x}_n \\otimes \\frac1{\\sqrt2}(\\ket0 - \\ket1)\n",
    "\"\"\"))\n"
   ]
  },
  {
   "cell_type": "code",
   "execution_count": 120,
   "metadata": {},
   "outputs": [
    {
     "data": {
      "text/latex": [
       "$\\displaystyle \\text{Apply the oracle function } U_f \\text{ defined as (2.28)}$"
      ],
      "text/plain": [
       "<IPython.core.display.Math object>"
      ]
     },
     "metadata": {},
     "output_type": "display_data"
    },
    {
     "data": {
      "text/latex": [
       "$\\displaystyle \n",
       "\\ket{\\psi_2} = U_f \\ket{\\psi_1}\n",
       "$"
      ],
      "text/plain": [
       "<IPython.core.display.Math object>"
      ]
     },
     "metadata": {},
     "output_type": "display_data"
    },
    {
     "data": {
      "text/latex": [
       "$\\displaystyle \n",
       "\\ket{\\psi_2} = \\frac1{2^{n/2}} \\sum_{x=0}^{2^n-1} (-1)^{f(x)}\\ket{x} \\frac1{\\sqrt2}(\\ket0 - \\ket1)\n",
       "$"
      ],
      "text/plain": [
       "<IPython.core.display.Math object>"
      ]
     },
     "metadata": {},
     "output_type": "display_data"
    }
   ],
   "source": [
    "# Apply the oracle function\n",
    "display(Math(r\"\\text{Apply the oracle function } U_f \\text{ defined as (2.28)}\"))\n",
    "\n",
    "display(Math(r\"\"\"\n",
    "\\ket{\\psi_2} = U_f \\ket{\\psi_1}\n",
    "\"\"\"))\n",
    "display(Math(r\"\"\"\n",
    "\\ket{\\psi_2} = \\frac1{2^{n/2}} \\sum_{x=0}^{2^n-1} (-1)^{f(x)}\\ket{x} \\frac1{\\sqrt2}(\\ket0 - \\ket1)\n",
    "\"\"\"))"
   ]
  },
  {
   "cell_type": "code",
   "execution_count": 121,
   "metadata": {},
   "outputs": [
    {
     "data": {
      "text/latex": [
       "$\\displaystyle \\text{Apply a Hadamard gate to the input qubits again}$"
      ],
      "text/plain": [
       "<IPython.core.display.Math object>"
      ]
     },
     "metadata": {},
     "output_type": "display_data"
    },
    {
     "data": {
      "text/latex": [
       "$\\displaystyle \n",
       "\\ket{\\psi_3} = (\\Eta^{\\otimes n} \\otimes \\Iota) \\ket{\\psi_2}\n",
       "$"
      ],
      "text/plain": [
       "<IPython.core.display.Math object>"
      ]
     },
     "metadata": {},
     "output_type": "display_data"
    },
    {
     "data": {
      "text/latex": [
       "$\\displaystyle \n",
       "\\ket{\\psi_3} = \\frac1{2^{n/2}} \\Big( \\Eta^{\\otimes n} \\sum_{x=0}^{2^n-1} (-1)^{f(x)}\\ket{x} \\Big) \\otimes \\frac1{\\sqrt2}(\\ket0 -\\ket1)\n",
       "$"
      ],
      "text/plain": [
       "<IPython.core.display.Math object>"
      ]
     },
     "metadata": {},
     "output_type": "display_data"
    },
    {
     "data": {
      "text/latex": [
       "$\\displaystyle \\text{Use (2.30) again to simplify}$"
      ],
      "text/plain": [
       "<IPython.core.display.Math object>"
      ]
     },
     "metadata": {},
     "output_type": "display_data"
    },
    {
     "data": {
      "text/latex": [
       "$\\displaystyle \n",
       "\\ket{\\psi_3} = \\frac1{2^{n/2}} \\Big( \\frac1{2^{n/2}} \n",
       "    \\sum_{x=0}^{2^n-1} \\sum_{y=0}^{2^n-1} (-1)^{f(x)}(-1)^{x \\cdot y} \\ket y\n",
       "\\Big) \\otimes \\frac1{\\sqrt2}(\\ket0 -\\ket1)\n",
       "$"
      ],
      "text/plain": [
       "<IPython.core.display.Math object>"
      ]
     },
     "metadata": {},
     "output_type": "display_data"
    },
    {
     "data": {
      "text/latex": [
       "$\\displaystyle \\text{Arriving at (2.31)}$"
      ],
      "text/plain": [
       "<IPython.core.display.Math object>"
      ]
     },
     "metadata": {},
     "output_type": "display_data"
    },
    {
     "data": {
      "text/latex": [
       "$\\displaystyle \n",
       "\\ket{\\psi_3} = \\frac1{2^n} \\sum_{x=0}^{2^n-1} \\sum_{y=0}^{2^n-1}\n",
       "              (-1)^{f(x) + x \\cdot y} \\ket y \\frac1{\\sqrt2}(\\ket0 -\\ket1)\n",
       "$"
      ],
      "text/plain": [
       "<IPython.core.display.Math object>"
      ]
     },
     "metadata": {},
     "output_type": "display_data"
    }
   ],
   "source": [
    "# Apply Hadard gates on the first n bits again\n",
    "display(Math(r\"\\text{Apply a Hadamard gate to the input qubits again}\"))\n",
    "display(Math(r\"\"\"\n",
    "\\ket{\\psi_3} = (\\Eta^{\\otimes n} \\otimes \\Iota) \\ket{\\psi_2}\n",
    "\"\"\"))\n",
    "display(Math(r\"\"\"\n",
    "\\ket{\\psi_3} = \\frac1{2^{n/2}} \\Big( \\Eta^{\\otimes n} \\sum_{x=0}^{2^n-1} (-1)^{f(x)}\\ket{x} \\Big) \\otimes \\frac1{\\sqrt2}(\\ket0 -\\ket1)\n",
    "\"\"\"))\n",
    "display(Math(r\"\\text{Use (2.30) again to simplify}\"))\n",
    "display(Math(r\"\"\"\n",
    "\\ket{\\psi_3} = \\frac1{2^{n/2}} \\Big( \\frac1{2^{n/2}} \n",
    "    \\sum_{x=0}^{2^n-1} \\sum_{y=0}^{2^n-1} (-1)^{f(x)}(-1)^{x \\cdot y} \\ket y\n",
    "\\Big) \\otimes \\frac1{\\sqrt2}(\\ket0 -\\ket1)\n",
    "\"\"\"))\n",
    "display(Math(r\"\\text{Arriving at (2.31)}\"))\n",
    "display(Math(r\"\"\"\n",
    "\\ket{\\psi_3} = \\frac1{2^n} \\sum_{x=0}^{2^n-1} \\sum_{y=0}^{2^n-1}\n",
    "              (-1)^{f(x) + x \\cdot y} \\ket y \\frac1{\\sqrt2}(\\ket0 -\\ket1)\n",
    "\"\"\"))"
   ]
  },
  {
   "cell_type": "markdown",
   "metadata": {},
   "source": [
    "#### Justify (2.32)"
   ]
  },
  {
   "cell_type": "code",
   "execution_count": 122,
   "metadata": {},
   "outputs": [
    {
     "data": {
      "text/latex": [
       "$\\displaystyle \\text{To further simplify, use the definition of } f(x): a \\cdot x = a_0x_0 \\oplus a_1x_1 \\oplus ... a_nx_n$"
      ],
      "text/plain": [
       "<IPython.core.display.Math object>"
      ]
     },
     "metadata": {},
     "output_type": "display_data"
    },
    {
     "data": {
      "text/latex": [
       "$\\displaystyle \\text{That means for any given } y \\text{, the following is true.}$"
      ],
      "text/plain": [
       "<IPython.core.display.Math object>"
      ]
     },
     "metadata": {},
     "output_type": "display_data"
    },
    {
     "data": {
      "text/latex": [
       "$\\displaystyle \n",
       "\\sum_{x=0}^{2^n-1} (-1)^{f(x) + x \\cdot y} = \\sum_{x=0}^{2^n-1} (-1)^{(a \\cdot x)} (-1)^{(y \\cdot x)}\n",
       "\\\\\\\\ \\qquad = \\sum_{x=0}^{2^n-1} (-1)^{a_0x_0 \\oplus ... a_nx_n} (-1)^{y_0x_0 \\oplus ... y_nx_n} \n",
       "\\\\\\\\ \\qquad = \\sum_{x=0}^{2^n-1} (-1)^{(a_0 + y_0)x_0 \\oplus ... (a_n + y_n)x_n}\n",
       "$"
      ],
      "text/plain": [
       "<IPython.core.display.Math object>"
      ]
     },
     "metadata": {},
     "output_type": "display_data"
    },
    {
     "data": {
      "text/latex": [
       "$\\displaystyle \\text{We can then expand each } x \\text{ into its bitwise representation to match exponent}$"
      ],
      "text/plain": [
       "<IPython.core.display.Math object>"
      ]
     },
     "metadata": {},
     "output_type": "display_data"
    },
    {
     "data": {
      "text/latex": [
       "$\\displaystyle \n",
       "= \\sum_{x_1=0}^1 \\sum_{x_2=0}^1 ... \\sum_{x_n=0}^1 (-1)^{(a_0 + y_0)x_0 \\oplus ... (a_n + y_n)x_n}\n",
       "\\\\\\\\ = \\sum_{x_1=0}^1 \\sum_{x_2=0}^1 ... \\sum_{x_n=0}^1 (-1)^{(a_0 + y_0)x_0} (-1)^{(a_1 + y_1)x_1} ... (-1)^{(a_n + y_n)x_n}\n",
       "$"
      ],
      "text/plain": [
       "<IPython.core.display.Math object>"
      ]
     },
     "metadata": {},
     "output_type": "display_data"
    },
    {
     "data": {
      "text/latex": [
       "$\\displaystyle \\text{And then express as a series product to reach (2.32)}$"
      ],
      "text/plain": [
       "<IPython.core.display.Math object>"
      ]
     },
     "metadata": {},
     "output_type": "display_data"
    },
    {
     "data": {
      "text/latex": [
       "$\\displaystyle \n",
       "\\sum_{x=0}^{2^n-1} (-1)^{f(x) + x \\cdot y} =\n",
       "\\prod_{j=1}^n \\sum_{x_j=0}^1 (-1)^{(a_j + y_j)x_j}\n",
       "$"
      ],
      "text/plain": [
       "<IPython.core.display.Math object>"
      ]
     },
     "metadata": {},
     "output_type": "display_data"
    }
   ],
   "source": [
    "# Further simplify to reach (2.32)\n",
    "display(Math(r\"\\text{To further simplify, use the definition of } f(x): a \\cdot x = a_0x_0 \\oplus a_1x_1 \\oplus ... a_nx_n\"))\n",
    "display(Math(r\"\\text{That means for any given } y \\text{, the following is true.}\"))\n",
    "display(Math(r\"\"\"\n",
    "\\sum_{x=0}^{2^n-1} (-1)^{f(x) + x \\cdot y} = \\sum_{x=0}^{2^n-1} (-1)^{(a \\cdot x)} (-1)^{(y \\cdot x)}\n",
    "\\\\\\\\ \\qquad = \\sum_{x=0}^{2^n-1} (-1)^{a_0x_0 \\oplus ... a_nx_n} (-1)^{y_0x_0 \\oplus ... y_nx_n} \n",
    "\\\\\\\\ \\qquad = \\sum_{x=0}^{2^n-1} (-1)^{(a_0 + y_0)x_0 \\oplus ... (a_n + y_n)x_n}\n",
    "\"\"\"))\n",
    "display(Math(r\"\\text{We can then expand each } x \\text{ into its bitwise representation to match exponent}\"))\n",
    "display(Math(r\"\"\"\n",
    "= \\sum_{x_1=0}^1 \\sum_{x_2=0}^1 ... \\sum_{x_n=0}^1 (-1)^{(a_0 + y_0)x_0 \\oplus ... (a_n + y_n)x_n}\n",
    "\\\\\\\\ = \\sum_{x_1=0}^1 \\sum_{x_2=0}^1 ... \\sum_{x_n=0}^1 (-1)^{(a_0 + y_0)x_0} (-1)^{(a_1 + y_1)x_1} ... (-1)^{(a_n + y_n)x_n}\n",
    "\"\"\"))\n",
    "display(Math(r\"\\text{And then express as a series product to reach (2.32)}\"))\n",
    "display(Math(r\"\"\"\n",
    "\\sum_{x=0}^{2^n-1} (-1)^{f(x) + x \\cdot y} =\n",
    "\\prod_{j=1}^n \\sum_{x_j=0}^1 (-1)^{(a_j + y_j)x_j}\n",
    "\"\"\"))"
   ]
  },
  {
   "cell_type": "markdown",
   "metadata": {},
   "source": [
    "#### Justify (2.33)"
   ]
  },
  {
   "cell_type": "code",
   "execution_count": 127,
   "metadata": {},
   "outputs": [
    {
     "data": {
      "text/latex": [
       "$\\displaystyle \\text{Using this in our state function, we get the following}$"
      ],
      "text/plain": [
       "<IPython.core.display.Math object>"
      ]
     },
     "metadata": {},
     "output_type": "display_data"
    },
    {
     "data": {
      "text/latex": [
       "$\\displaystyle \n",
       "\\ket{\\psi_3} = \\frac1{2^n} \\prod_{j=1}^n \\sum_{x_j=0}^1 \n",
       "             \\sum_{y=0}^{2^n-1} (-1)^{(a_j + y_j)x_j} \\ket y\n",
       "             \\otimes \\frac1{\\sqrt2}(\\ket0 - \\ket1)\n",
       "$"
      ],
      "text/plain": [
       "<IPython.core.display.Math object>"
      ]
     },
     "metadata": {},
     "output_type": "display_data"
    }
   ],
   "source": [
    "# Use in previous equation\n",
    "display(Math(r\"\\text{Using this in our state function, we get the following}\"))\n",
    "display(Math(r\"\"\"\n",
    "\\ket{\\psi_3} = \\frac1{2^n} \\prod_{j=1}^n \\sum_{x_j=0}^1 \n",
    "             \\sum_{y=0}^{2^n-1} (-1)^{(a_j + y_j)x_j} \\ket y\n",
    "             \\otimes \\frac1{\\sqrt2}(\\ket0 - \\ket1)\n",
    "\"\"\"))"
   ]
  },
  {
   "cell_type": "code",
   "execution_count": 131,
   "metadata": {},
   "outputs": [
    {
     "data": {
      "text/latex": [
       "$\\displaystyle \\text{Consider the fact that over all values of } y \\text{, either } y=a \\text{ or } y \\neq a$"
      ],
      "text/plain": [
       "<IPython.core.display.Math object>"
      ]
     },
     "metadata": {},
     "output_type": "display_data"
    },
    {
     "data": {
      "text/latex": [
       "$\\displaystyle \\text{If we examine when } y \\neq a \\text{ then that implies } \\exists i: y_i \\neq a_i$"
      ],
      "text/plain": [
       "<IPython.core.display.Math object>"
      ]
     },
     "metadata": {},
     "output_type": "display_data"
    },
    {
     "data": {
      "text/latex": [
       "$\\displaystyle \\text{In that case, we see that the coefficient for } \\ket y \\text{ goes to 0  because } a_i + y_i = 1$"
      ],
      "text/plain": [
       "<IPython.core.display.Math object>"
      ]
     },
     "metadata": {},
     "output_type": "display_data"
    },
    {
     "data": {
      "text/latex": [
       "$\\displaystyle \\sum_{x_j=0}^1 (-1)^{(a_i + y_i)x_j} = (-1)^{(1)(0)} + (-1)^{(1)(1)} = 1 + (-1) = 0$"
      ],
      "text/plain": [
       "<IPython.core.display.Math object>"
      ]
     },
     "metadata": {},
     "output_type": "display_data"
    },
    {
     "data": {
      "text/latex": [
       "$\\displaystyle \\text{Regardless of all other terms in } y \\text{ and } a \\text{, the product is 0}$"
      ],
      "text/plain": [
       "<IPython.core.display.Math object>"
      ]
     },
     "metadata": {},
     "output_type": "display_data"
    },
    {
     "data": {
      "text/latex": [
       "$\\displaystyle \\text{Otherwise } y=a, \\forall i: y_i = a_i; a_i + y_i = 0 \\text{ (mod 2)}$"
      ],
      "text/plain": [
       "<IPython.core.display.Math object>"
      ]
     },
     "metadata": {},
     "output_type": "display_data"
    },
    {
     "data": {
      "text/latex": [
       "$\\displaystyle \\sum_{x_j=0}^1 (-1)^{(a_i + y_i)x_j} = (-1)^{(0)(0)} + (-1)^{(0)(1)} = 1 + 1 = 2$"
      ],
      "text/plain": [
       "<IPython.core.display.Math object>"
      ]
     },
     "metadata": {},
     "output_type": "display_data"
    }
   ],
   "source": [
    "# Explore different values of y\n",
    "display(Math(r\"\\text{Consider the fact that over all values of } y \\text{, either } y=a \\text{ or } y \\neq a\"))\n",
    "display(Math(r\"\\text{If we examine when } y \\neq a \\text{ then that implies } \\exists i: y_i \\neq a_i\"))\n",
    "display(Math(r\"\\text{In that case, we see that the coefficient for } \\ket y \\text{ goes to 0  because } a_i + y_i = 1\"))\n",
    "display(Math(r\"\\sum_{x_j=0}^1 (-1)^{(a_i + y_i)x_j} = (-1)^{(1)(0)} + (-1)^{(1)(1)} = 1 + (-1) = 0\"))\n",
    "display(Math(r\"\\text{Regardless of all other terms in } y \\text{ and } a \\text{, the product is 0}\"))\n",
    "display(Math(r\"\\text{Otherwise } y=a, \\forall i: y_i = a_i; a_i + y_i = 0 \\text{ (mod 2)}\"))\n",
    "display(Math(r\"\\sum_{x_j=0}^1 (-1)^{(a_i + y_i)x_j} = (-1)^{(0)(0)} + (-1)^{(0)(1)} = 1 + 1 = 2\"))"
   ]
  },
  {
   "cell_type": "code",
   "execution_count": 132,
   "metadata": {},
   "outputs": [
    {
     "data": {
      "text/latex": [
       "$\\displaystyle \\text{Since the only amplitude for } \\ket y \\text{ that isn't 0 is } y=a \\text{ we simplify further}$"
      ],
      "text/plain": [
       "<IPython.core.display.Math object>"
      ]
     },
     "metadata": {},
     "output_type": "display_data"
    },
    {
     "data": {
      "text/latex": [
       "$\\displaystyle \n",
       "\\ket{\\psi_3} = \\frac1{2^n} \\prod_{j=1}^n \\sum_{x_j=0}^1 (-1)^{(a_j + a_j)x_j} \\ket a_n\n",
       "             \\otimes \\frac1{\\sqrt2}(\\ket0 - \\ket1)\n",
       "$"
      ],
      "text/plain": [
       "<IPython.core.display.Math object>"
      ]
     },
     "metadata": {},
     "output_type": "display_data"
    },
    {
     "data": {
      "text/latex": [
       "$\\displaystyle \n",
       "\\forall j, a_j + a_j = 0 \\text{ (mod 2)}\n",
       "\\\\\\\\ \\sum_{x_j=0}^1 (-1)^{(a_j + a_j)x_j} = (-1)^{(0)(0)} + (-1)^{(0)(1)} = 1 + 1 = 2\n",
       "$"
      ],
      "text/plain": [
       "<IPython.core.display.Math object>"
      ]
     },
     "metadata": {},
     "output_type": "display_data"
    },
    {
     "data": {
      "text/latex": [
       "$\\displaystyle \n",
       "\\implies \\prod_{j=1}^n \\sum_{x_j=0}^1 (-1)^{(a_j + a_j)x_j} = 2 * 2 ... * 2 = 2^n\n",
       "$"
      ],
      "text/plain": [
       "<IPython.core.display.Math object>"
      ]
     },
     "metadata": {},
     "output_type": "display_data"
    },
    {
     "data": {
      "text/latex": [
       "$\\displaystyle \n",
       "\\ket{\\psi_3} = \\frac1{2^n} (2^n) \\ket a_n \\otimes \\frac1{\\sqrt2}(\\ket0 - \\ket1)\n",
       "\\\\\\\\ \\qquad = \\ket{a}_n \\frac1{\\sqrt2}(\\ket0 - \\ket1)\n",
       "$"
      ],
      "text/plain": [
       "<IPython.core.display.Math object>"
      ]
     },
     "metadata": {},
     "output_type": "display_data"
    }
   ],
   "source": [
    "# Simplify remaining terms\n",
    "display(Math(r\"\\text{Since the only amplitude for } \\ket y \\text{ that isn't 0 is } y=a \\text{ we simplify further}\"))\n",
    "display(Math(r\"\"\"\n",
    "\\ket{\\psi_3} = \\frac1{2^n} \\prod_{j=1}^n \\sum_{x_j=0}^1 (-1)^{(a_j + a_j)x_j} \\ket a_n\n",
    "             \\otimes \\frac1{\\sqrt2}(\\ket0 - \\ket1)\n",
    "\"\"\"))\n",
    "display(Math(r\"\"\"\n",
    "\\forall j, a_j + a_j = 0 \\text{ (mod 2)}\n",
    "\\\\\\\\ \\sum_{x_j=0}^1 (-1)^{(a_j + a_j)x_j} = (-1)^{(0)(0)} + (-1)^{(0)(1)} = 1 + 1 = 2\n",
    "\"\"\"))\n",
    "display(Math(r\"\"\"\n",
    "\\implies \\prod_{j=1}^n \\sum_{x_j=0}^1 (-1)^{(a_j + a_j)x_j} = 2 * 2 ... * 2 = 2^n\n",
    "\"\"\"))\n",
    "display(Math(r\"\"\"\n",
    "\\ket{\\psi_3} = \\frac1{2^n} (2^n) \\ket a_n \\otimes \\frac1{\\sqrt2}(\\ket0 - \\ket1)\n",
    "\\\\\\\\ \\qquad = \\ket{a}_n \\frac1{\\sqrt2}(\\ket0 - \\ket1)\n",
    "\"\"\"))"
   ]
  },
  {
   "cell_type": "code",
   "execution_count": 133,
   "metadata": {},
   "outputs": [
    {
     "data": {
      "text/latex": [
       "$\\displaystyle \\text{To finish reaching Mermin's (2.33), we apply a Hadamard gate to the\\\n",
       "                        last qubit to clean up the function representation}$"
      ],
      "text/plain": [
       "<IPython.core.display.Math object>"
      ]
     },
     "metadata": {},
     "output_type": "display_data"
    },
    {
     "data": {
      "text/latex": [
       "$\\displaystyle \n",
       "\\ket{\\psi_4} = (\\Iota^{\\otimes n} \\otimes \\Eta) \\ket{\\psi_3} = \\Eta^{\\otimes(n+1)} \\ket{\\psi_2}\n",
       "$"
      ],
      "text/plain": [
       "<IPython.core.display.Math object>"
      ]
     },
     "metadata": {},
     "output_type": "display_data"
    },
    {
     "data": {
      "text/latex": [
       "$\\displaystyle \n",
       "\\ket{\\psi_4} = \\ket{a}_n \\otimes \\Eta (\\frac1{\\sqrt2}(\\ket0 - \\ket1))\n",
       "             = \\ket{a}_n \\otimes (\\Eta \\Eta \\ket1_1)\n",
       "             = \\ket{a}_n \\ket1_1\n",
       "$"
      ],
      "text/plain": [
       "<IPython.core.display.Math object>"
      ]
     },
     "metadata": {},
     "output_type": "display_data"
    },
    {
     "data": {
      "text/latex": [
       "$\\displaystyle \n",
       "\\ket{\\psi_4} = \\Eta^{\\otimes (n+1)} U_f \\Eta^{\\otimes (n+1)} \\ket0_n \\ket1_1 = \\ket{a}_n \\ket1_1\n",
       "$"
      ],
      "text/plain": [
       "<IPython.core.display.Math object>"
      ]
     },
     "metadata": {},
     "output_type": "display_data"
    }
   ],
   "source": [
    "# Apply Hadamard gate to auxiliary qubit\n",
    "display(Math(r\"\\text{To finish reaching Mermin's (2.33), we apply a Hadamard gate to the\\\n",
    "                        last qubit to clean up the function representation}\"))\n",
    "display(Math(r\"\"\"\n",
    "\\ket{\\psi_4} = (\\Iota^{\\otimes n} \\otimes \\Eta) \\ket{\\psi_3} = \\Eta^{\\otimes(n+1)} \\ket{\\psi_2}\n",
    "\"\"\"))\n",
    "display(Math(r\"\"\"\n",
    "\\ket{\\psi_4} = \\ket{a}_n \\otimes \\Eta (\\frac1{\\sqrt2}(\\ket0 - \\ket1))\n",
    "             = \\ket{a}_n \\otimes (\\Eta \\Eta \\ket1_1)\n",
    "             = \\ket{a}_n \\ket1_1\n",
    "\"\"\"))\n",
    "display(Math(r\"\"\"\n",
    "\\ket{\\psi_4} = \\Eta^{\\otimes (n+1)} U_f \\Eta^{\\otimes (n+1)} \\ket0_n \\ket1_1 = \\ket{a}_n \\ket1_1\n",
    "\"\"\"))"
   ]
  },
  {
   "cell_type": "markdown",
   "metadata": {},
   "source": [
    "#### Conclusions"
   ]
  },
  {
   "cell_type": "markdown",
   "metadata": {},
   "source": [
    "We now find that measuring the state of the first n qubits will result in `a` 100% of the time! The amplitudes for all other possible states went to 0, and so this subroutine of wrapping the oracle function in Hadamard gates on both sides reveals its nature in a single query. It is worth noting that this is only true in theory, a real quantum computer would have potential errors causing values other than `a` to possibly be measured, so you can either check the measured value or use repeated runs to build up statistical confidence."
   ]
  }
 ],
 "metadata": {
  "kernelspec": {
   "display_name": "Python 3",
   "language": "python",
   "name": "python3"
  },
  "language_info": {
   "codemirror_mode": {
    "name": "ipython",
    "version": 3
   },
   "file_extension": ".py",
   "mimetype": "text/x-python",
   "name": "python",
   "nbconvert_exporter": "python",
   "pygments_lexer": "ipython3",
   "version": "3.12.6"
  }
 },
 "nbformat": 4,
 "nbformat_minor": 2
}
