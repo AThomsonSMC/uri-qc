{
 "cells": [
  {
   "cell_type": "markdown",
   "metadata": {},
   "source": [
    "# Adam Thomson - PHY573 - Quiz 3"
   ]
  },
  {
   "cell_type": "markdown",
   "metadata": {},
   "source": [
    "## Verify Mermin's equation (2.24) step-by-step"
   ]
  },
  {
   "cell_type": "code",
   "execution_count": 9,
   "metadata": {},
   "outputs": [],
   "source": [
    "# import libraries\n",
    "import numpy as np\n",
    "from IPython.display import Math"
   ]
  },
  {
   "cell_type": "markdown",
   "metadata": {},
   "source": [
    "#### The equation"
   ]
  },
  {
   "cell_type": "code",
   "execution_count": 14,
   "metadata": {},
   "outputs": [
    {
     "data": {
      "text/latex": [
       "$\\displaystyle \n",
       "\\text{Mermin's equation (2.24) states that}\n",
       "\\\\\\\\\n",
       "(H \\otimes 1)U_f(H \\otimes H)(X \\otimes X)(\\ket0 \\ket0) = \\begin{cases}\n",
       "    {\\ket1 \\frac1{\\sqrt2} \\big( \\ket{f(0)} - \\ket{\\tilde{f}0} \\big)} &{\\text{if }} {f(0) = f(1)} \\\\\n",
       "    {\\ket0 \\frac1{\\sqrt2} \\big( \\ket{f(0)} - \\ket{\\tilde{f}0} \\big)} &{\\text{if }} {f(0) \\neq f(1)} \\\\\n",
       "\\end{cases}             \n",
       "$"
      ],
      "text/plain": [
       "<IPython.core.display.Math object>"
      ]
     },
     "metadata": {},
     "output_type": "display_data"
    }
   ],
   "source": [
    "# start by stating our goal\n",
    "display(Math(r'''\n",
    "\\text{Mermin's equation (2.24) states that}\n",
    "\\\\\\\\\n",
    "(H \\otimes 1)U_f(H \\otimes H)(X \\otimes X)(\\ket0 \\ket0) = \\begin{cases}\n",
    "    {\\ket1 \\frac1{\\sqrt2} \\big( \\ket{f(0)} - \\ket{\\tilde{f}0} \\big)} &{\\text{if }} {f(0) = f(1)} \\\\\n",
    "    {\\ket0 \\frac1{\\sqrt2} \\big( \\ket{f(0)} - \\ket{\\tilde{f}0} \\big)} &{\\text{if }} {f(0) \\neq f(1)} \\\\\n",
    "\\end{cases}             \n",
    "'''))"
   ]
  },
  {
   "cell_type": "markdown",
   "metadata": {},
   "source": [
    "This is the simplest implementation of the Deutsch-Jozsa Algorithm with a single bit input. In the classical case, we would have to check both f(0) and f(1) to determine if the oracle function, U_f, is balanced or constant. However, this equation shows that with a quantum computer we can determine the nature of the oracle function with a single query."
   ]
  },
  {
   "cell_type": "code",
   "execution_count": 25,
   "metadata": {},
   "outputs": [
    {
     "data": {
      "text/latex": [
       "$\\displaystyle \n",
       "\\text{Start by following equation (2.17)}             \n",
       "\\\\\\\\(H \\otimes H)(X \\otimes X)(\\ket0 \\ket0) =\n",
       "\\\\\\\\ (H \\otimes H)(\\ket1 \\ket1) =\n",
       "\\\\\\\\ (\\frac1{\\sqrt2} \\ket0 - \\frac1{\\sqrt2} \\ket 1)(\\frac1{\\sqrt2} \\ket0 - \\frac1{\\sqrt2} \\ket 1) =\n",
       "\\\\\\\\ \\frac12 ( \\ket0 \\ket0 - \\ket1 \\ket0 - \\ket0 \\ket1 + \\ket1 \\ket1 )\n",
       "$"
      ],
      "text/plain": [
       "<IPython.core.display.Math object>"
      ]
     },
     "metadata": {},
     "output_type": "display_data"
    }
   ],
   "source": [
    "# start with simpler pieces and build up to (2.24)\n",
    "\n",
    "display(Math(r'''\n",
    "\\text{Start by following equation (2.17)}             \n",
    "\\\\\\\\(H \\otimes H)(X \\otimes X)(\\ket0 \\ket0) =\n",
    "\\\\\\\\ (H \\otimes H)(\\ket1 \\ket1) =\n",
    "\\\\\\\\ (\\frac1{\\sqrt2} \\ket0 - \\frac1{\\sqrt2} \\ket 1)(\\frac1{\\sqrt2} \\ket0 - \\frac1{\\sqrt2} \\ket 1) =\n",
    "\\\\\\\\ \\frac12 ( \\ket0 \\ket0 - \\ket1 \\ket0 - \\ket0 \\ket1 + \\ket1 \\ket1 )\n",
    "'''))"
   ]
  },
  {
   "cell_type": "code",
   "execution_count": 26,
   "metadata": {},
   "outputs": [
    {
     "data": {
      "text/latex": [
       "$\\displaystyle \n",
       "\\text{Refer back to equation (2.13) for the definition of } U_f\n",
       "\\\\\\\\ U_f := U_f (\\ket x \\ket y) = \\ket x \\ket{y \\oplus f(x)}\n",
       "$"
      ],
      "text/plain": [
       "<IPython.core.display.Math object>"
      ]
     },
     "metadata": {},
     "output_type": "display_data"
    },
    {
     "data": {
      "text/latex": [
       "$\\displaystyle \n",
       "\\text{Substituting into above, we get to (2.18)}\n",
       "\\\\\\\\ U_f (H \\otimes H)(X \\otimes X)(\\ket0 \\ket0) = \n",
       "\\\\\\\\ U_f \\big( \\frac12 ( \\ket0 \\ket0 - \\ket1 \\ket0 - \\ket0 \\ket1 + \\ket1 \\ket1 ) \\big) =\n",
       "\\\\\\\\ \\frac12 \\big( U_f(\\ket0 \\ket0) - U_f(\\ket1 \\ket0) - U_f(\\ket0 \\ket1) + U_f(\\ket1 \\ket1) \\big)\n",
       "$"
      ],
      "text/plain": [
       "<IPython.core.display.Math object>"
      ]
     },
     "metadata": {},
     "output_type": "display_data"
    }
   ],
   "source": [
    "# dedistribute the application of function U_f\n",
    "\n",
    "display(Math(r'''\n",
    "\\text{Substituting into above, we get to (2.18)}\n",
    "\\\\\\\\ U_f (H \\otimes H)(X \\otimes X)(\\ket0 \\ket0) = \n",
    "\\\\\\\\ U_f \\big( \\frac12 ( \\ket0 \\ket0 - \\ket1 \\ket0 - \\ket0 \\ket1 + \\ket1 \\ket1 ) \\big) =\n",
    "\\\\\\\\ \\frac12 \\big( U_f(\\ket0 \\ket0) - U_f(\\ket1 \\ket0) - U_f(\\ket0 \\ket1) + U_f(\\ket1 \\ket1) \\big)\n",
    "'''))"
   ]
  },
  {
   "cell_type": "code",
   "execution_count": 35,
   "metadata": {},
   "outputs": [
    {
     "data": {
      "text/latex": [
       "$\\displaystyle \n",
       "\\text{Refer back to equation (2.13) for the definition of } U_f\n",
       "\\\\\\\\ U_f := U_f (\\ket x \\ket y) = \\ket x \\ket{y \\oplus f(x)}\n",
       "\\\\\\\\ \\text{Note that } 0 \\oplus f(x) = f(x)\n",
       "$"
      ],
      "text/plain": [
       "<IPython.core.display.Math object>"
      ]
     },
     "metadata": {},
     "output_type": "display_data"
    },
    {
     "data": {
      "text/latex": [
       "$\\displaystyle \n",
       "\\text{To help continue simplifying, define } \\tilde f\n",
       "\\\\\\\\ \\tilde f (x) := 1 \\oplus f(x)\n",
       "\\\\\\\\ \\text{Always } f(x) \\neq \\tilde f(x)\n",
       "$"
      ],
      "text/plain": [
       "<IPython.core.display.Math object>"
      ]
     },
     "metadata": {},
     "output_type": "display_data"
    },
    {
     "data": {
      "text/latex": [
       "$\\displaystyle \n",
       "\\text{And use it to reach (2.19)}\n",
       "\\\\\\\\ \\frac12 \\big( U_f(\\ket0 \\ket0) - U_f(\\ket1 \\ket0) - U_f(\\ket0 \\ket1) + U_f(\\ket1 \\ket1) \\big) =\n",
       "\\\\\\\\ \\frac12 \\big( \\ket0 \\ket{f(0)} - \\ket 1 \\ket{f(1)} - \\ket0 \\ket{\\tilde f(0)} + \\ket1 \\ket{\\tilde f(1)} \\big)\n",
       "$"
      ],
      "text/plain": [
       "<IPython.core.display.Math object>"
      ]
     },
     "metadata": {},
     "output_type": "display_data"
    }
   ],
   "source": [
    "# apply U_f and finish simplifying\n",
    "\n",
    "display(Math(r'''\n",
    "\\text{Refer back to equation (2.13) for the definition of } U_f\n",
    "\\\\\\\\ U_f := U_f (\\ket x \\ket y) = \\ket x \\ket{y \\oplus f(x)}\n",
    "\\\\\\\\ \\text{Note that } 0 \\oplus f(x) = f(x)\n",
    "'''))\n",
    "\n",
    "display(Math(r'''\n",
    "\\text{To help continue simplifying, define } \\tilde f\n",
    "\\\\\\\\ \\tilde f (x) := 1 \\oplus f(x)\n",
    "\\\\\\\\ \\text{Always } f(x) \\neq \\tilde f(x)\n",
    "'''))\n",
    "\n",
    "display(Math(r'''\n",
    "\\text{And use it to reach (2.19)}\n",
    "\\\\\\\\ \\frac12 \\big( U_f(\\ket0 \\ket0) - U_f(\\ket1 \\ket0) - U_f(\\ket0 \\ket1) + U_f(\\ket1 \\ket1) \\big) =\n",
    "\\\\\\\\ \\frac12 \\big( \\ket0 \\ket{f(0)} - \\ket 1 \\ket{f(1)} - \\ket0 \\ket{\\tilde f(0)} + \\ket1 \\ket{\\tilde f(1)} \\big)\n",
    "'''))"
   ]
  },
  {
   "cell_type": "markdown",
   "metadata": {},
   "source": [
    "At this point, there are the two possibilities to consider: when the function returns are the same (f(0) = f(1)) or when they are different (f(0) != f(1))"
   ]
  },
  {
   "cell_type": "code",
   "execution_count": 43,
   "metadata": {},
   "outputs": [
    {
     "data": {
      "text/latex": [
       "$\\displaystyle \n",
       "\\text{When } U_f \\text{ is constant, } f(0) = f(1); \\tilde f(0) = \\tilde f(1) \\text{, thus...}\n",
       "\\\\\\\\ \\frac12 \\big( \\ket0 \\ket{f(0)} - \\ket1 \\ket{f(1)} - \\ket0 \\ket{\\tilde f(0)} + \\ket1 \\ket{\\tilde f(1)} \\big) =\n",
       "\\\\\\\\ \\frac12 \\big( \\ket0 \\ket{f(0)} - \\ket1 \\ket{f(0)} - \\ket0 \\ket{\\tilde f(0)} + \\ket1 \\ket{\\tilde f(0)} \\big) =\n",
       "\\\\\\\\ \\frac12 \\big( (\\ket0 - \\ket1)(\\ket{f(0)} - \\ket{\\tilde f(0)}) \\big)\n",
       "\\\\\\\\ \\text{This is equation (2.20)}\n",
       "$"
      ],
      "text/plain": [
       "<IPython.core.display.Math object>"
      ]
     },
     "metadata": {},
     "output_type": "display_data"
    }
   ],
   "source": [
    "# consider when f(0) = f(1)\n",
    "\n",
    "display(Math(r'''\n",
    "\\text{When } U_f \\text{ is always the same, } f(0) = f(1); \\tilde f(0) = \\tilde f(1) \\text{, thus...}\n",
    "\\\\\\\\ \\frac12 \\big( \\ket0 \\ket{f(0)} - \\ket1 \\ket{f(1)} - \\ket0 \\ket{\\tilde f(0)} + \\ket1 \\ket{\\tilde f(1)} \\big) =\n",
    "\\\\\\\\ \\frac12 \\big( \\ket0 \\ket{f(0)} - \\ket1 \\ket{f(0)} - \\ket0 \\ket{\\tilde f(0)} + \\ket1 \\ket{\\tilde f(0)} \\big) =\n",
    "\\\\\\\\ \\frac12 \\big( (\\ket0 - \\ket1)(\\ket{f(0)} - \\ket{\\tilde f(0)}) \\big)\n",
    "\\\\\\\\ \\text{This is equation (2.20)}\n",
    "'''))"
   ]
  },
  {
   "cell_type": "code",
   "execution_count": 69,
   "metadata": {},
   "outputs": [
    {
     "data": {
      "text/latex": [
       "$\\displaystyle \n",
       "\\text{When } U_f \\text{ could have either value, } f(0) \\neq f(1); \\tilde f(0) = f(1); \\tilde f(1) = f(0) \\text{, thus...}\n",
       "\\\\\\\\ \\frac12 \\big( \\ket0 \\ket{f(0)} - \\ket 1 \\ket{f(1)} - \\ket0 \\ket{\\tilde f(0)} + \\ket1 \\ket{\\tilde f(1)} \\big)\n",
       "\\\\\\\\ \\frac12 \\big( \\ket0 \\ket{f(0)} - \\ket 1 \\ket{f(1)} - \\ket0 \\ket{f(1)} + \\ket1 \\ket{f(0)} \\big) =\n",
       "\\\\\\\\ \\frac12 \\big( (\\ket0 + \\ket 1)(\\ket{f(0)} - \\ket{f(1)}) \\big) =\n",
       "\\\\\\\\ \\frac12 \\big( (\\ket0 + \\ket 1)(\\ket{f(0)} - \\ket{\\tilde f(0)}) \\big)\n",
       "$"
      ],
      "text/plain": [
       "<IPython.core.display.Math object>"
      ]
     },
     "metadata": {},
     "output_type": "display_data"
    }
   ],
   "source": [
    "# consider when f(0) != f(1)\n",
    "\n",
    "display(Math(r'''\n",
    "\\text{When } U_f \\text{ could have either value, } f(0) \\neq f(1); \\tilde f(0) = f(1); \\tilde f(1) = f(0) \\text{, thus...}\n",
    "\\\\\\\\ \\frac12 \\big( \\ket0 \\ket{f(0)} - \\ket 1 \\ket{f(1)} - \\ket0 \\ket{\\tilde f(0)} + \\ket1 \\ket{\\tilde f(1)} \\big)\n",
    "\\\\\\\\ \\frac12 \\big( \\ket0 \\ket{f(0)} - \\ket 1 \\ket{f(1)} - \\ket0 \\ket{f(1)} + \\ket1 \\ket{f(0)} \\big) =\n",
    "\\\\\\\\ \\frac12 \\big( (\\ket0 + \\ket 1)(\\ket{f(0)} - \\ket{f(1)}) \\big) =\n",
    "\\\\\\\\ \\frac12 \\big( (\\ket0 + \\ket 1)(\\ket{f(0)} - \\ket{\\tilde f(0)}) \\big)\n",
    "'''))"
   ]
  },
  {
   "cell_type": "code",
   "execution_count": 64,
   "metadata": {},
   "outputs": [
    {
     "data": {
      "text/latex": [
       "$\\displaystyle \n",
       "\\text{We apply one final Hadamard transformation to the first qubit}\n",
       "\\\\\\\\ (H \\otimes 1) U_f (H \\otimes H)(X \\otimes X)(\\ket0 \\ket0) =\n",
       "\\\\\\\\ (H \\otimes 1) \\Big[ \\frac12 \\big( \\ket0 \\ket{f(0)} - \\ket 1 \\ket{f(1)} - \\ket0 \\ket{\\tilde f(0)} + \\ket1 \\ket{\\tilde f(1)} \\big) \\Big]\n",
       "$"
      ],
      "text/plain": [
       "<IPython.core.display.Math object>"
      ]
     },
     "metadata": {},
     "output_type": "display_data"
    },
    {
     "data": {
      "text/latex": [
       "$\\displaystyle \n",
       "\\text{Define this symbol to simplify equations above}\n",
       "\\\\\\\\ \\ket{\\delta} = (\\ket f(0) - \\ket{\\tilde f(0)})\n",
       "$"
      ],
      "text/plain": [
       "<IPython.core.display.Math object>"
      ]
     },
     "metadata": {},
     "output_type": "display_data"
    },
    {
     "data": {
      "text/latex": [
       "$\\displaystyle \n",
       "\\text{Depending on the nature of the oracle function, we have two possibilities}\n",
       "\\\\\\\\ (H \\otimes 1) \\Big[ \\frac12 \\big( \\ket0 \\ket{f(0)} - \\ket 1 \\ket{f(1)} - \\ket0 \\ket{\\tilde f(0)} + \\ket1 \\ket{\\tilde f(1)} \\big) \\Big]\n",
       "= \\begin{cases}\n",
       "    (H \\otimes 1)\\frac12 \\big( (\\ket0 - \\ket1) \\ket{\\delta} \\big) &{\\text{if }} {f(0) = f(1)} \\\\\n",
       "    (H \\otimes 1)\\frac12 \\big( (\\ket0 + \\ket1) \\ket{\\delta} \\big) &{\\text{if }} {f(0) \\neq f(1)} \\\\\n",
       "\\end{cases}\n",
       "$"
      ],
      "text/plain": [
       "<IPython.core.display.Math object>"
      ]
     },
     "metadata": {},
     "output_type": "display_data"
    }
   ],
   "source": [
    "# Apply a Hadamard transformation to the first qubit\n",
    "\n",
    "display(Math(r'''\n",
    "\\text{We apply one final Hadamard transformation to the first qubit}\n",
    "\\\\\\\\ (H \\otimes 1) U_f (H \\otimes H)(X \\otimes X)(\\ket0 \\ket0) =\n",
    "\\\\\\\\ (H \\otimes 1) \\Big[ \\frac12 \\big( \\ket0 \\ket{f(0)} - \\ket 1 \\ket{f(1)} - \\ket0 \\ket{\\tilde f(0)} + \\ket1 \\ket{\\tilde f(1)} \\big) \\Big]\n",
    "'''))\n",
    "\n",
    "display(Math(r'''\n",
    "\\text{Define this symbol to simplify equations above}\n",
    "\\\\\\\\ \\ket{\\delta} = (\\ket f(0) - \\ket{\\tilde f(0)})\n",
    "'''))\n",
    "\n",
    "display(Math(r'''\n",
    "\\text{Depending on the nature of the oracle function, we have two possibilities}\n",
    "\\\\\\\\ (H \\otimes 1) \\Big[ \\frac12 \\big( \\ket0 \\ket{f(0)} - \\ket 1 \\ket{f(1)} - \\ket0 \\ket{\\tilde f(0)} + \\ket1 \\ket{\\tilde f(1)} \\big) \\Big]\n",
    "= \\begin{cases}\n",
    "    (H \\otimes 1)\\frac12 \\big( (\\ket0 - \\ket1) \\ket{\\delta} \\big) &{\\text{if }} {f(0) = f(1)} \\\\\n",
    "    (H \\otimes 1)\\frac12 \\big( (\\ket0 + \\ket1) \\ket{\\delta} \\big) &{\\text{if }} {f(0) \\neq f(1)} \\\\\n",
    "\\end{cases}\n",
    "'''))"
   ]
  },
  {
   "cell_type": "code",
   "execution_count": 93,
   "metadata": {},
   "outputs": [
    {
     "data": {
      "text/latex": [
       "$\\displaystyle \n",
       "\\text{Combine the fact that } H^2 = 1 \\text{ with } H\\ket0 \\text{ and } H\\ket1 \\text{to continue}\n",
       "\\\\\\\\ = \\begin{cases}\n",
       "    H \\frac1{\\sqrt2}(\\ket0 - \\ket1) \\frac1{\\sqrt2} \\ket{\\delta} \\big) &{\\text{if }} {f(0) = f(1)} \\\\\n",
       "    H \\frac1{\\sqrt2}(\\ket0 + \\ket1) \\frac1{\\sqrt2} \\ket{\\delta} \\big) &{\\text{if }} {f(0) \\neq f(1)} \\\\\n",
       "\\end{cases}\n",
       "\\\\\\\\ H\\ket0 = \\frac1{\\sqrt2}(\\ket0 + \\ket1) \\rArr H(\\frac1{\\sqrt2}(\\ket0 + \\ket1)) = \\ket0\n",
       "\\\\\\\\ H\\ket1 = \\frac1{\\sqrt2}(\\ket0 - \\ket1) \\rArr H(\\frac1{\\sqrt2}(\\ket0 - \\ket1)) = \\ket1\n",
       "\\\\\\\\ = \\begin{cases}\n",
       "    \\ket1 \\frac1{\\sqrt2} \\ket{\\delta} &{\\text{if }} {f(0) = f(1)} \\\\\n",
       "    \\ket0 \\frac1{\\sqrt2} \\ket{\\delta} &{\\text{if }} {f(0) \\neq f(1)} \\\\\n",
       "\\end{cases}\n",
       "$"
      ],
      "text/plain": [
       "<IPython.core.display.Math object>"
      ]
     },
     "metadata": {},
     "output_type": "display_data"
    }
   ],
   "source": [
    "# Continue to simplify\n",
    "\n",
    "display(Math(r'''\n",
    "\\text{Combine the fact that } H^2 = 1 \\text{ with } H\\ket0 \\text{ and } H\\ket1 \\text{to continue}\n",
    "\\\\\\\\ = \\begin{cases}\n",
    "    H \\frac1{\\sqrt2}(\\ket0 - \\ket1) \\frac1{\\sqrt2} \\ket{\\delta} \\big) &{\\text{if }} {f(0) = f(1)} \\\\\n",
    "    H \\frac1{\\sqrt2}(\\ket0 + \\ket1) \\frac1{\\sqrt2} \\ket{\\delta} \\big) &{\\text{if }} {f(0) \\neq f(1)} \\\\\n",
    "\\end{cases}\n",
    "\\\\\\\\ H\\ket0 = \\frac1{\\sqrt2}(\\ket0 + \\ket1) \\rArr H(\\frac1{\\sqrt2}(\\ket0 + \\ket1)) = \\ket0\n",
    "\\\\\\\\ H\\ket1 = \\frac1{\\sqrt2}(\\ket0 - \\ket1) \\rArr H(\\frac1{\\sqrt2}(\\ket0 - \\ket1)) = \\ket1\n",
    "\\\\\\\\ = \\begin{cases}\n",
    "    \\ket1 \\frac1{\\sqrt2} \\ket{\\delta} &{\\text{if }} {f(0) = f(1)} \\\\\n",
    "    \\ket0 \\frac1{\\sqrt2} \\ket{\\delta} &{\\text{if }} {f(0) \\neq f(1)} \\\\\n",
    "\\end{cases}\n",
    "'''))"
   ]
  },
  {
   "cell_type": "code",
   "execution_count": 94,
   "metadata": {},
   "outputs": [
    {
     "data": {
      "text/latex": [
       "$\\displaystyle \n",
       "\\text{Substitute } \\delta \\text{ back in to reach the goal equation.}\n",
       "\\\\\\\\ (H \\otimes 1)U_f(H \\otimes H)(X \\otimes X)(\\ket 0 \\ket 0) =\n",
       "\\begin{cases}\n",
       "    \\ket1 \\frac1{\\sqrt2} (\\ket{f(0)} - \\ket{\\tilde f(0)}) &{\\text{if }} {f(0) = f(1)}) \\\\\n",
       "    \\ket0 \\frac1{\\sqrt2} (\\ket{f(0)} - \\ket{\\tilde f(0)}) &{\\text{if }} {f(0) \\neq f(1)}) \\\\\n",
       "\\end{cases}\n",
       "$"
      ],
      "text/plain": [
       "<IPython.core.display.Math object>"
      ]
     },
     "metadata": {},
     "output_type": "display_data"
    }
   ],
   "source": [
    "# Combine everything together\n",
    "\n",
    "display(Math(r'''\n",
    "\\text{Substitute } \\delta \\text{ back in to reach the goal equation.}\n",
    "\\\\\\\\ (H \\otimes 1)U_f(H \\otimes H)(X \\otimes X)(\\ket 0 \\ket 0) =\n",
    "\\begin{cases}\n",
    "    \\ket1 \\frac1{\\sqrt2} (\\ket{f(0)} - \\ket{\\tilde f(0)}) &{\\text{if }} {f(0) = f(1)} \\\\\n",
    "    \\ket0 \\frac1{\\sqrt2} (\\ket{f(0)} - \\ket{\\tilde f(0)}) &{\\text{if }} {f(0) \\neq f(1)} \\\\\n",
    "\\end{cases}\n",
    "'''))"
   ]
  }
 ],
 "metadata": {
  "kernelspec": {
   "display_name": "Python 3",
   "language": "python",
   "name": "python3"
  },
  "language_info": {
   "codemirror_mode": {
    "name": "ipython",
    "version": 3
   },
   "file_extension": ".py",
   "mimetype": "text/x-python",
   "name": "python",
   "nbconvert_exporter": "python",
   "pygments_lexer": "ipython3",
   "version": "3.12.6"
  }
 },
 "nbformat": 4,
 "nbformat_minor": 2
}
