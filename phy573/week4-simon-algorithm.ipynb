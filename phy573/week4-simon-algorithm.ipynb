{
 "cells": [
  {
   "cell_type": "markdown",
   "metadata": {},
   "source": [
    "# Adam Thomson - PHY 573 - Week 4"
   ]
  },
  {
   "cell_type": "markdown",
   "metadata": {},
   "source": [
    "## Simon's Algorithm"
   ]
  },
  {
   "cell_type": "code",
   "execution_count": 6,
   "metadata": {},
   "outputs": [],
   "source": [
    "# Import libraies\n",
    "import numpy as np\n",
    "from IPython.display import Math, HTML\n",
    "from qiskit import QuantumCircuit as QCir, transpile\n",
    "from qiskit.visualization import plot_histogram\n",
    "\n",
    "from qiskit_aer import AerSimulator\n",
    "\n",
    "sampler = AerSimulator()"
   ]
  },
  {
   "cell_type": "markdown",
   "metadata": {},
   "source": [
    "Simon's Algorithm is another quantum improvement on the classical algorithm to categorize a black-box oracle function. In this case, the function is known to be either 1:1 or 2:1 (ie. either every input has a unique output, or every input has a paired input with a matching output). If the function is 2:1, then the mapping is defined according to a hidden bitstring, b, such that"
   ]
  },
  {
   "cell_type": "code",
   "execution_count": 3,
   "metadata": {},
   "outputs": [
    {
     "data": {
      "text/latex": [
       "$\\displaystyle \n",
       "\\text{given }x_1, x_2: f(x_1) = f(x_2) \\rArr x_1 \\oplus x_2 = b\n",
       "$"
      ],
      "text/plain": [
       "<IPython.core.display.Math object>"
      ]
     },
     "metadata": {},
     "output_type": "display_data"
    }
   ],
   "source": [
    "# define the hidden bitstring b\n",
    "display(Math(r'''\n",
    "\\text{given }x_1, x_2: f(x_1) = f(x_2) \\rArr x_1 \\oplus x_2 = b\n",
    "'''))"
   ]
  },
  {
   "cell_type": "markdown",
   "metadata": {},
   "source": [
    "Notice that the case for a 1:1 oracle is when b = 00..0\n",
    "\n",
    "Classically, this requires checking inputs until a matching output is found for a previous input. In a lucky best case, this is 2 checks that produce the same output. In the worst case, a 1:1 oracle will always require checking more than half of all possible inputs, 2^(n-1) + 1 times.\n",
    "\n",
    "The quantum approach uses 2 quantum registers of n qubits. The qubits in the first register pass through Hadamard gates before use in the oracle, which is applied to all qubits across both registers. Measurement of the second register at this point will yield a possible f(x); this value is not relevant to the question being solved, but does put the first register in a desirable state. The first register qubits then pass through another H-gate before measurement. This measurement will reveal one bitstring, z, whose inner product with b = 0. Through repeated application of the algorithm, b can be determined with enough values for z. This can be done in ~n applications, much fewer than the classical worst case!\n",
    "\n",
    "We'll examine how this works in more depth by following the qiskit example here: https://github.com/Qiskit/textbook/blob/main/notebooks/ch-algorithms/simon.ipynb"
   ]
  },
  {
   "cell_type": "markdown",
   "metadata": {},
   "source": [
    "### Example Application"
   ]
  },
  {
   "cell_type": "markdown",
   "metadata": {},
   "source": [
    "First, let's walkthrough the example where n=2; b=11. Note that there are 4 qubits in the full state because we need 2n inputs"
   ]
  },
  {
   "cell_type": "code",
   "execution_count": 8,
   "metadata": {},
   "outputs": [
    {
     "data": {
      "text/latex": [
       "$\\displaystyle \n",
       "\\ket{\\psi_1} = \\ket{00}_1 \\ket{00}_2\n",
       "$"
      ],
      "text/plain": [
       "<IPython.core.display.Math object>"
      ]
     },
     "metadata": {},
     "output_type": "display_data"
    }
   ],
   "source": [
    "# Initialize state\n",
    "display(Math(r\"\"\"\n",
    "\\ket{\\psi_1} = \\ket{00}_1 \\ket{00}_2\n",
    "\"\"\"))"
   ]
  },
  {
   "cell_type": "code",
   "execution_count": 16,
   "metadata": {},
   "outputs": [
    {
     "data": {
      "text/latex": [
       "$\\displaystyle \n",
       "\\ket{\\psi_2} = (H \\otimes H \\otimes I \\otimes I)\\ket{\\psi_1}\n",
       "\\\\\\\\\\qquad = (H \\otimes H)\\ket{00}_1 \\otimes \\ket{00}_2\n",
       "\\\\\\\\\\qquad = ((H\\ket0) \\otimes (H\\ket0))_1 \\otimes \\ket{00}_2\n",
       "\\\\\\\\\\qquad = ((\\frac1{\\sqrt2}(\\ket0 + \\ket1) \\otimes (\\frac1{\\sqrt2}(\\ket0 + \\ket1))_1 \\otimes \\ket{00}_2\n",
       "\\\\\\\\\\qquad = \\frac12(\\ket{00}_1 + \\ket{01}_1 + \\ket{10}_1 + \\ket{11}_1) \\otimes \\ket{00}_2\n",
       "$"
      ],
      "text/plain": [
       "<IPython.core.display.Math object>"
      ]
     },
     "metadata": {},
     "output_type": "display_data"
    }
   ],
   "source": [
    "# Apply a Hadamard to both qubits in first register\n",
    "display(Math(r\"\"\"\n",
    "\\ket{\\psi_2} = (H \\otimes H \\otimes I \\otimes I)\\ket{\\psi_1}\n",
    "\\\\\\\\\\qquad = (H \\otimes H)\\ket{00}_1 \\otimes \\ket{00}_2\n",
    "\\\\\\\\\\qquad = ((H\\ket0) \\otimes (H\\ket0))_1 \\otimes \\ket{00}_2\n",
    "\\\\\\\\\\qquad = ((\\frac1{\\sqrt2}(\\ket0 + \\ket1) \\otimes (\\frac1{\\sqrt2}(\\ket0 + \\ket1))_1 \\otimes \\ket{00}_2\n",
    "\\\\\\\\\\qquad = \\frac12(\\ket{00}_1 + \\ket{01}_1 + \\ket{10}_1 + \\ket{11}_1) \\otimes \\ket{00}_2\n",
    "\"\"\"))"
   ]
  },
  {
   "cell_type": "code",
   "execution_count": 37,
   "metadata": {},
   "outputs": [
    {
     "data": {
      "text/latex": [
       "$\\displaystyle \n",
       "Q_f = CX_{1_a 2_a}CX_{1_a 2_b}CX_{1_b 2_a}CX_{1_b 2_b}\n",
       "$"
      ],
      "text/plain": [
       "<IPython.core.display.Math object>"
      ]
     },
     "metadata": {},
     "output_type": "display_data"
    },
    {
     "data": {
      "text/latex": [
       "$\\displaystyle \n",
       "\\ket{\\psi_3} = Q_f \\ket{\\psi_2}\n",
       "\\\\\\\\\\qquad = [CX_{1_a 2_a}CX_{1_a 2_b}CX_{1_b 2_a}CX_{1_b 2_b}] \\ket{\\psi_2}\n",
       "\\\\\\\\\\qquad = CX_{1_b 2_b}(CX_{1_b 2_a}(CX_{1_a 2_b}(CX_{1_a 2_a} \\ket{\\psi_2})))\n",
       "$"
      ],
      "text/plain": [
       "<IPython.core.display.Math object>"
      ]
     },
     "metadata": {},
     "output_type": "display_data"
    }
   ],
   "source": [
    "# Use circuit diagram as demonstration for how to construct the oracle for b=11\n",
    "display(Math(r\"\"\"\n",
    "Q_f = CX_{1_a 2_a}CX_{1_a 2_b}CX_{1_b 2_a}CX_{1_b 2_b}\n",
    "\"\"\"))\n",
    "\n",
    "display(Math(r\"\"\"\n",
    "\\ket{\\psi_3} = Q_f \\ket{\\psi_2}\n",
    "\\\\\\\\\\qquad = [CX_{1_a 2_a}CX_{1_a 2_b}CX_{1_b 2_a}CX_{1_b 2_b}] \\ket{\\psi_2}\n",
    "\\\\\\\\\\qquad = CX_{1_b 2_b}(CX_{1_b 2_a}(CX_{1_a 2_b}(CX_{1_a 2_a} \\ket{\\psi_2})))\n",
    "\"\"\"))"
   ]
  },
  {
   "cell_type": "code",
   "execution_count": 36,
   "metadata": {},
   "outputs": [
    {
     "data": {
      "text/latex": [
       "$\\displaystyle \n",
       "CX_{1_a 2_a} \\ket{00}_1 \\ket{xy}_2 = \\ket{00}_1 \\ket{xy}_2\n",
       "\\\\\\\\ CX_{1_a 2_a} \\ket{01}_1 \\ket{xy}_2 = \\ket{01}_1 \\ket{xy}_2\n",
       "\\\\\\\\ CX_{1_a 2_a} \\ket{10}_1 \\ket{xy}_2 = \\ket{10}_1 \\ket{\\tilde xy}_2\n",
       "\\\\\\\\ CX_{1_a 2_a} \\ket{11}_1 \\ket{xy}_2 = \\ket{11}_1 \\ket{\\tilde xy}_2\n",
       "$"
      ],
      "text/plain": [
       "<IPython.core.display.Math object>"
      ]
     },
     "metadata": {},
     "output_type": "display_data"
    },
    {
     "data": {
      "text/latex": [
       "$\\displaystyle \n",
       "CX_{1_a 2_b} \\ket{00}_1 \\ket{xy}_2 = \\ket{00}_1 \\ket{xy}_2\n",
       "\\\\\\\\ CX_{1_a 2_b} \\ket{01}_1 \\ket{xy}_2 = \\ket{01}_1 \\ket{xy}_2\n",
       "\\\\\\\\ CX_{1_a 2_b} \\ket{10}_1 \\ket{xy}_2 = \\ket{10}_1 \\ket{x\\tilde y}_2\n",
       "\\\\\\\\ CX_{1_a 2_b} \\ket{11}_1 \\ket{xy}_2 = \\ket{11}_1 \\ket{x\\tilde y}_2\n",
       "$"
      ],
      "text/plain": [
       "<IPython.core.display.Math object>"
      ]
     },
     "metadata": {},
     "output_type": "display_data"
    },
    {
     "data": {
      "text/latex": [
       "$\\displaystyle \n",
       "CX_{1_b 2_a} \\ket{00}_1 \\ket{xy}_2 = \\ket{00}_1 \\ket{xy}_2\n",
       "\\\\\\\\ CX_{1_b 2_a} \\ket{01}_1 \\ket{xy}_2 = \\ket{01}_1 \\ket{\\tilde x y}_2\n",
       "\\\\\\\\ CX_{1_b 2_a} \\ket{10}_1 \\ket{xy}_2 = \\ket{10}_1 \\ket{xy}_2\n",
       "\\\\\\\\ CX_{1_b 2_a} \\ket{11}_1 \\ket{xy}_2 = \\ket{11}_1 \\ket{\\tilde x y}_2\n",
       "$"
      ],
      "text/plain": [
       "<IPython.core.display.Math object>"
      ]
     },
     "metadata": {},
     "output_type": "display_data"
    },
    {
     "data": {
      "text/latex": [
       "$\\displaystyle \n",
       "CX_{1_b 2_b} \\ket{00}_1 \\ket{xy}_2 = \\ket{00}_1 \\ket{xy}_2\n",
       "\\\\\\\\ CX_{1_b 2_b} \\ket{01}_1 \\ket{xy}_2 = \\ket{01}_1 \\ket{x\\tilde y}_2\n",
       "\\\\\\\\ CX_{1_b 2_b} \\ket{10}_1 \\ket{xy}_2 = \\ket{10}_1 \\ket{xy}_2\n",
       "\\\\\\\\ CX_{1_b 2_b} \\ket{11}_1 \\ket{xy}_2 = \\ket{11}_1 \\ket{x\\tilde y}_2\n",
       "$"
      ],
      "text/plain": [
       "<IPython.core.display.Math object>"
      ]
     },
     "metadata": {},
     "output_type": "display_data"
    }
   ],
   "source": [
    "# Examine how each CX gate effects each piece of the superposition\n",
    "display(Math(r\"\"\"\n",
    "CX_{1_a 2_a} \\ket{00}_1 \\ket{xy}_2 = \\ket{00}_1 \\ket{xy}_2\n",
    "\\\\\\\\ CX_{1_a 2_a} \\ket{01}_1 \\ket{xy}_2 = \\ket{01}_1 \\ket{xy}_2\n",
    "\\\\\\\\ CX_{1_a 2_a} \\ket{10}_1 \\ket{xy}_2 = \\ket{10}_1 \\ket{\\tilde xy}_2\n",
    "\\\\\\\\ CX_{1_a 2_a} \\ket{11}_1 \\ket{xy}_2 = \\ket{11}_1 \\ket{\\tilde xy}_2\n",
    "\"\"\"))\n",
    "\n",
    "display(Math(r\"\"\"\n",
    "CX_{1_a 2_b} \\ket{00}_1 \\ket{xy}_2 = \\ket{00}_1 \\ket{xy}_2\n",
    "\\\\\\\\ CX_{1_a 2_b} \\ket{01}_1 \\ket{xy}_2 = \\ket{01}_1 \\ket{xy}_2\n",
    "\\\\\\\\ CX_{1_a 2_b} \\ket{10}_1 \\ket{xy}_2 = \\ket{10}_1 \\ket{x\\tilde y}_2\n",
    "\\\\\\\\ CX_{1_a 2_b} \\ket{11}_1 \\ket{xy}_2 = \\ket{11}_1 \\ket{x\\tilde y}_2\n",
    "\"\"\"))\n",
    "\n",
    "display(Math(r\"\"\"\n",
    "CX_{1_b 2_a} \\ket{00}_1 \\ket{xy}_2 = \\ket{00}_1 \\ket{xy}_2\n",
    "\\\\\\\\ CX_{1_b 2_a} \\ket{01}_1 \\ket{xy}_2 = \\ket{01}_1 \\ket{\\tilde x y}_2\n",
    "\\\\\\\\ CX_{1_b 2_a} \\ket{10}_1 \\ket{xy}_2 = \\ket{10}_1 \\ket{xy}_2\n",
    "\\\\\\\\ CX_{1_b 2_a} \\ket{11}_1 \\ket{xy}_2 = \\ket{11}_1 \\ket{\\tilde x y}_2\n",
    "\"\"\"))\n",
    "\n",
    "display(Math(r\"\"\"\n",
    "CX_{1_b 2_b} \\ket{00}_1 \\ket{xy}_2 = \\ket{00}_1 \\ket{xy}_2\n",
    "\\\\\\\\ CX_{1_b 2_b} \\ket{01}_1 \\ket{xy}_2 = \\ket{01}_1 \\ket{x\\tilde y}_2\n",
    "\\\\\\\\ CX_{1_b 2_b} \\ket{10}_1 \\ket{xy}_2 = \\ket{10}_1 \\ket{xy}_2\n",
    "\\\\\\\\ CX_{1_b 2_b} \\ket{11}_1 \\ket{xy}_2 = \\ket{11}_1 \\ket{x\\tilde y}_2\n",
    "\"\"\"))\n"
   ]
  },
  {
   "cell_type": "code",
   "execution_count": 46,
   "metadata": {},
   "outputs": [
    {
     "data": {
      "text/latex": [
       "$\\displaystyle \n",
       "\\ket{\\psi_3} = CX_{1_b 2_b}(CX_{1_b 2_a}(CX_{1_a 2_b}(CX_{1_a 2_a} \\ket{\\psi_2})))\n",
       "$"
      ],
      "text/plain": [
       "<IPython.core.display.Math object>"
      ]
     },
     "metadata": {},
     "output_type": "display_data"
    },
    {
     "data": {
      "text/latex": [
       "$\\displaystyle \n",
       "\\qquad = \\frac12 CX_{1_b 2_b}(CX_{1_b 2_a}(CX_{1_a 2_b}(\n",
       " \\ket{00}_1 \\ket{00}_2 + \\ket{01}_1 \\ket{00}_2 + \\ket{10}_1 \\ket{10}_2 + \\ket{11}_1 \\ket{10}_2\n",
       ")))\n",
       "$"
      ],
      "text/plain": [
       "<IPython.core.display.Math object>"
      ]
     },
     "metadata": {},
     "output_type": "display_data"
    },
    {
     "data": {
      "text/latex": [
       "$\\displaystyle \n",
       "\\qquad = \\frac12 CX_{1_b 2_b}(CX_{1_b 2_a}(\n",
       " \\ket{00}_1 \\ket{00}_2 + \\ket{01}_1 \\ket{00}_2 + \\ket{10}_1 \\ket{11}_2 + \\ket{11}_1 \\ket{11}_2\n",
       "))\n",
       "$"
      ],
      "text/plain": [
       "<IPython.core.display.Math object>"
      ]
     },
     "metadata": {},
     "output_type": "display_data"
    },
    {
     "data": {
      "text/latex": [
       "$\\displaystyle \n",
       "\\qquad = \\frac12 CX_{1_b 2_b}(\n",
       " \\ket{00}_1 \\ket{00}_2 + \\ket{01}_1 \\ket{10}_2 + \\ket{10}_1 \\ket{11}_2 + \\ket{11}_1 \\ket{01}_2\n",
       "))\n",
       "$"
      ],
      "text/plain": [
       "<IPython.core.display.Math object>"
      ]
     },
     "metadata": {},
     "output_type": "display_data"
    },
    {
     "data": {
      "text/latex": [
       "$\\displaystyle \n",
       "\\qquad = \\frac12 (\n",
       " \\ket{00}_1 \\ket{00}_2 + \\ket{01}_1 \\ket{11}_2 + \\ket{10}_1 \\ket{11}_2 + \\ket{11}_1 \\ket{00}_2\n",
       "))\n",
       "$"
      ],
      "text/plain": [
       "<IPython.core.display.Math object>"
      ]
     },
     "metadata": {},
     "output_type": "display_data"
    }
   ],
   "source": [
    "# Apply oracle to state\n",
    "display(Math(r\"\"\"\n",
    "\\ket{\\psi_3} = CX_{1_b 2_b}(CX_{1_b 2_a}(CX_{1_a 2_b}(CX_{1_a 2_a} \\ket{\\psi_2})))\n",
    "\"\"\"))\n",
    "\n",
    "display(Math(r\"\"\"\n",
    "\\qquad = \\frac12 CX_{1_b 2_b}(CX_{1_b 2_a}(CX_{1_a 2_b}(\n",
    " \\ket{00}_1 \\ket{00}_2 + \\ket{01}_1 \\ket{00}_2 + \\ket{10}_1 \\ket{10}_2 + \\ket{11}_1 \\ket{10}_2\n",
    ")))\n",
    "\"\"\"))\n",
    "\n",
    "display(Math(r\"\"\"\n",
    "\\qquad = \\frac12 CX_{1_b 2_b}(CX_{1_b 2_a}(\n",
    " \\ket{00}_1 \\ket{00}_2 + \\ket{01}_1 \\ket{00}_2 + \\ket{10}_1 \\ket{11}_2 + \\ket{11}_1 \\ket{11}_2\n",
    "))\n",
    "\"\"\"))\n",
    "\n",
    "display(Math(r\"\"\"\n",
    "\\qquad = \\frac12 CX_{1_b 2_b}(\n",
    " \\ket{00}_1 \\ket{00}_2 + \\ket{01}_1 \\ket{10}_2 + \\ket{10}_1 \\ket{11}_2 + \\ket{11}_1 \\ket{01}_2\n",
    "))\n",
    "\"\"\"))\n",
    "\n",
    "display(Math(r\"\"\"\n",
    "\\qquad = \\frac12 (\n",
    " \\ket{00}_1 \\ket{00}_2 + \\ket{01}_1 \\ket{11}_2 + \\ket{10}_1 \\ket{11}_2 + \\ket{11}_1 \\ket{00}_2\n",
    "))\n",
    "\"\"\"))\n"
   ]
  },
  {
   "cell_type": "markdown",
   "metadata": {},
   "source": [
    "From this state, the second register will always produce a measurement of 00 or 11, each with a 50% probability. For the sake of the example, let's assume that second register is measured as 11. Measurement forces the system into the state"
   ]
  },
  {
   "cell_type": "code",
   "execution_count": 52,
   "metadata": {},
   "outputs": [
    {
     "data": {
      "text/latex": [
       "$\\displaystyle \n",
       "\\ket{\\psi_4} = \\frac1{\\sqrt2}( \\ket{01}_1 + \\ket{10}_1)\n",
       "$"
      ],
      "text/plain": [
       "<IPython.core.display.Math object>"
      ]
     },
     "metadata": {},
     "output_type": "display_data"
    }
   ],
   "source": [
    "# State after measurement, omitting second register\n",
    "display(Math(r\"\"\"\n",
    "\\ket{\\psi_4} = \\frac1{\\sqrt2}( \\ket{01}_1 + \\ket{10}_1)\n",
    "\"\"\"))"
   ]
  },
  {
   "cell_type": "markdown",
   "metadata": {},
   "source": [
    "We then apply Hadamard gates to the first register again, producing the final state"
   ]
  },
  {
   "cell_type": "code",
   "execution_count": 60,
   "metadata": {},
   "outputs": [
    {
     "data": {
      "text/latex": [
       "$\\displaystyle \n",
       "\\ket{\\psi_5} = (H \\otimes H) \\ket{\\psi_4}\n",
       "\\\\\\\\ \\qquad = \\frac1{\\sqrt2} ((H\\ket0 \\otimes H\\ket1) + (H\\ket1 \\otimes H\\ket0))\n",
       "$"
      ],
      "text/plain": [
       "<IPython.core.display.Math object>"
      ]
     },
     "metadata": {},
     "output_type": "display_data"
    },
    {
     "data": {
      "text/latex": [
       "$\\displaystyle \n",
       "\\qquad = \\frac1{\\sqrt2} \\Big(\n",
       "    \\frac12((\\ket0 + \\ket1) \\otimes (\\ket0 - \\ket1)) +  \n",
       "    \\frac12((\\ket0 - \\ket1) \\otimes (\\ket0 + \\ket1))\n",
       "\\Big)\n",
       "$"
      ],
      "text/plain": [
       "<IPython.core.display.Math object>"
      ]
     },
     "metadata": {},
     "output_type": "display_data"
    },
    {
     "data": {
      "text/latex": [
       "$\\displaystyle \n",
       "\\qquad = \\frac1{2\\sqrt2} \\Big(\n",
       "    \\ket{00} - \\cancel{\\ket{01}} + \\cancel{\\ket{10}} - \\ket{11} +\n",
       "    \\ket{00} + \\cancel{\\ket{01}} - \\cancel{\\ket{10}} - \\ket{11}\n",
       "\\Big)\n",
       "$"
      ],
      "text/plain": [
       "<IPython.core.display.Math object>"
      ]
     },
     "metadata": {},
     "output_type": "display_data"
    },
    {
     "data": {
      "text/latex": [
       "$\\displaystyle \n",
       "\\qquad = \\frac1{\\sqrt2} ( \\ket{00} - \\ket{11})\n",
       "$"
      ],
      "text/plain": [
       "<IPython.core.display.Math object>"
      ]
     },
     "metadata": {},
     "output_type": "display_data"
    }
   ],
   "source": [
    "# Finish circuit to prepare for measurement\n",
    "display(Math(r\"\"\"\n",
    "\\ket{\\psi_5} = (H \\otimes H) \\ket{\\psi_4}\n",
    "\\\\\\\\ \\qquad = \\frac1{\\sqrt2} ((H\\ket0 \\otimes H\\ket1) + (H\\ket1 \\otimes H\\ket0))\n",
    "\"\"\"))\n",
    "\n",
    "display(Math(r\"\"\"\n",
    "\\qquad = \\frac1{\\sqrt2} \\Big(\n",
    "    \\frac12((\\ket0 + \\ket1) \\otimes (\\ket0 - \\ket1)) +  \n",
    "    \\frac12((\\ket0 - \\ket1) \\otimes (\\ket0 + \\ket1))\n",
    "\\Big)\n",
    "\"\"\"))\n",
    "\n",
    "display(Math(r\"\"\"\n",
    "\\qquad = \\frac1{2\\sqrt2} \\Big(\n",
    "    \\ket{00} - \\cancel{\\ket{01}} + \\cancel{\\ket{10}} - \\ket{11} +\n",
    "    \\ket{00} + \\cancel{\\ket{01}} - \\cancel{\\ket{10}} - \\ket{11}\n",
    "\\Big)\n",
    "\"\"\"))\n",
    "\n",
    "display(Math(r\"\"\"\n",
    "\\qquad = \\frac1{\\sqrt2} ( \\ket{00} - \\ket{11})\n",
    "\"\"\"))"
   ]
  },
  {
   "cell_type": "markdown",
   "metadata": {},
   "source": [
    "Putting us in a state where measurement will yield either 00 or 11 with equal probability. What do these results tell us?"
   ]
  },
  {
   "cell_type": "code",
   "execution_count": 73,
   "metadata": {},
   "outputs": [
    {
     "data": {
      "text/latex": [
       "$\\displaystyle \n",
       "\\text{If we measure } \\ket{00} \\text{, we don't learn much. This is the trivial state since } \\forall x, y: xy \\cdot 00 = 0 \n",
       "$"
      ],
      "text/plain": [
       "<IPython.core.display.Math object>"
      ]
     },
     "metadata": {},
     "output_type": "display_data"
    },
    {
     "data": {
      "text/latex": [
       "$\\displaystyle \n",
       "\\text{If we measure } \\ket{11} \\text{, then we know that } b \\cdot 11 = 0\n",
       "$"
      ],
      "text/plain": [
       "<IPython.core.display.Math object>"
      ]
     },
     "metadata": {},
     "output_type": "display_data"
    },
    {
     "data": {
      "text/latex": [
       "$\\displaystyle \n",
       "\\text{This tells us that } b \\notin \\{ 01, 10 \\},\n",
       "             \\\\\\\\ \\therefore b \\in \\{ 00, 11 \\}\n",
       "$"
      ],
      "text/plain": [
       "<IPython.core.display.Math object>"
      ]
     },
     "metadata": {},
     "output_type": "display_data"
    }
   ],
   "source": [
    "# Examine consequences of measurement\n",
    "display(Math(r\"\"\"\n",
    "\\text{If we measure } \\ket{00} \\text{, we don't learn much. This is the trivial state since } \\forall x, y: xy \\cdot 00 = 0 \n",
    "\"\"\"))\n",
    "\n",
    "display(Math(r\"\"\"\n",
    "\\text{If we measure } \\ket{11} \\text{, then we know that } b \\cdot 11 = 0\n",
    "\"\"\"))\n",
    "\n",
    "display(Math(r\"\"\"\n",
    "\\text{This tells us that } b \\notin \\{ 01, 10 \\},\n",
    "             \\\\\\\\ \\therefore b \\in \\{ 00, 11 \\}\n",
    "\"\"\"))"
   ]
  },
  {
   "cell_type": "markdown",
   "metadata": {},
   "source": [
    "Again, b=00 is the trivial case that implies the oracle is 1:1, and will always be a potential solution. So if we assume that b=11, then we can check by picking a different input and verifying."
   ]
  },
  {
   "cell_type": "code",
   "execution_count": 81,
   "metadata": {},
   "outputs": [
    {
     "data": {
      "text/latex": [
       "$\\displaystyle \n",
       "x_i = 01\n",
       "\\\\\\\\ x_j = x_i \\oplus b = 01 \\oplus 11 = 10\n",
       "$"
      ],
      "text/plain": [
       "<IPython.core.display.Math object>"
      ]
     },
     "metadata": {},
     "output_type": "display_data"
    },
    {
     "data": {
      "text/latex": [
       "$\\displaystyle \n",
       "f(x_i) = f(x_j) = 11\n",
       "\\\\\\\\ \\therefore b=11\n",
       "$"
      ],
      "text/plain": [
       "<IPython.core.display.Math object>"
      ]
     },
     "metadata": {},
     "output_type": "display_data"
    }
   ],
   "source": [
    "# Pick a different input and verify\n",
    "display(Math(r\"\"\"\n",
    "x_i = 01\n",
    "\\\\\\\\ x_j = x_i \\oplus b = 01 \\oplus 11 = 10\n",
    "\"\"\"))\n",
    "\n",
    "display(Math(r\"\"\"\n",
    "f(x_i) = f(x_j) = 11\n",
    "\\\\\\\\ \\therefore b=11\n",
    "\"\"\"))"
   ]
  },
  {
   "cell_type": "markdown",
   "metadata": {},
   "source": [
    "### Example Circuit"
   ]
  },
  {
   "cell_type": "markdown",
   "metadata": {},
   "source": [
    "Let's construct a 3-qubit example circuit to run on a simulator and real hardware"
   ]
  },
  {
   "cell_type": "code",
   "execution_count": 83,
   "metadata": {},
   "outputs": [
    {
     "data": {
      "text/html": [
       "\n",
       "<details>\n",
       "    <summary>Click here to reveal the secret!</summary>\n",
       "    b=110\n",
       "</details>\n"
      ],
      "text/plain": [
       "<IPython.core.display.HTML object>"
      ]
     },
     "execution_count": 83,
     "metadata": {},
     "output_type": "execute_result"
    }
   ],
   "source": [
    "# set our secret string\n",
    "b = '110'\n",
    "reveal_secret = f'''\n",
    "<details>\n",
    "    <summary>Click here to reveal the secret!</summary>\n",
    "    b={b}\n",
    "</details>\n",
    "'''\n",
    "HTML(reveal_secret)"
   ]
  },
  {
   "cell_type": "code",
   "execution_count": 84,
   "metadata": {},
   "outputs": [
    {
     "data": {
      "image/png": "[encoded data removed]",
      "text/plain": [
       "<Figure size 1123.61x618.722 with 1 Axes>"
      ]
     },
     "execution_count": 84,
     "metadata": {},
     "output_type": "execute_result"
    }
   ],
   "source": [
    "# build the circuit\n",
    "n = len(b)\n",
    "\n",
    "# Need 2n qubits for input to the oracle and n classical bits for measurement\n",
    "simon_circuit = QCir(n*2, n)\n",
    "\n",
    "# Apply Hadamard gates to first quantum register\n",
    "simon_circuit.h(range(n))\n",
    "\n",
    "simon_circuit.barrier()\n",
    "\n",
    "# simon_oracle function is deprecated, copy setup from the book for this string\n",
    "simon_circuit.cx(0,n)\n",
    "simon_circuit.cx(1,n+1)\n",
    "simon_circuit.cx(2,n+2)\n",
    "simon_circuit.cx(1,n+1)\n",
    "simon_circuit.cx(1,n+2)\n",
    "\n",
    "simon_circuit.barrier()\n",
    "\n",
    "# Apply Hadamard gates to first register again\n",
    "simon_circuit.h(range(n))\n",
    "\n",
    "# Measure first register\n",
    "simon_circuit.measure(range(n), range(n))\n",
    "simon_circuit.draw(output=\"mpl\", style=\"iqp\")"
   ]
  },
  {
   "cell_type": "markdown",
   "metadata": {},
   "source": [
    "Simulate the circuit and interpret the results"
   ]
  },
  {
   "cell_type": "code",
   "execution_count": 87,
   "metadata": {},
   "outputs": [
    {
     "data": {
      "image/png": "[encoded data removed]",
      "text/plain": [
       "<Figure size 640x480 with 1 Axes>"
      ]
     },
     "execution_count": 87,
     "metadata": {},
     "output_type": "execute_result"
    }
   ],
   "source": [
    "# run on local simulation\n",
    "results = sampler.run(simon_circuit).result()\n",
    "counts = results.get_counts()\n",
    "plot_histogram(counts)"
   ]
  },
  {
   "cell_type": "markdown",
   "metadata": {},
   "source": [
    "We already know b=110, so we can verify these results"
   ]
  },
  {
   "cell_type": "code",
   "execution_count": 97,
   "metadata": {},
   "outputs": [
    {
     "data": {
      "text/latex": [
       "$\\displaystyle 110 \\cdot 111 = 0$"
      ],
      "text/plain": [
       "<IPython.core.display.Math object>"
      ]
     },
     "metadata": {},
     "output_type": "display_data"
    },
    {
     "data": {
      "text/latex": [
       "$\\displaystyle 110 \\cdot 110 = 0$"
      ],
      "text/plain": [
       "<IPython.core.display.Math object>"
      ]
     },
     "metadata": {},
     "output_type": "display_data"
    },
    {
     "data": {
      "text/latex": [
       "$\\displaystyle 110 \\cdot 000 = 0$"
      ],
      "text/plain": [
       "<IPython.core.display.Math object>"
      ]
     },
     "metadata": {},
     "output_type": "display_data"
    },
    {
     "data": {
      "text/latex": [
       "$\\displaystyle 110 \\cdot 001 = 0$"
      ],
      "text/plain": [
       "<IPython.core.display.Math object>"
      ]
     },
     "metadata": {},
     "output_type": "display_data"
    }
   ],
   "source": [
    "# Util for bitwise dot product\n",
    "def bdotz(b, z):\n",
    "    accum = 0\n",
    "    for i in range(len(b)):\n",
    "        accum += int(b[i]) * int(z[i])\n",
    "    return (accum % 2)\n",
    "\n",
    "for z in counts:\n",
    "    display(Math(r\"{} \\cdot {} = {}\".format(b, z, bdotz(b,z))))"
   ]
  },
  {
   "cell_type": "markdown",
   "metadata": {},
   "source": [
    "This confirms that our simulated results match the expected definition of b! But what if we didn't know b and only had the results, let's show how to solve for it.\n",
    "\n",
    "Use measured results and definition of b to recover the individual pieces.\n",
    "Since `z=000` is always an expected result, let's start with `z=001`."
   ]
  },
  {
   "cell_type": "code",
   "execution_count": 123,
   "metadata": {},
   "outputs": [
    {
     "data": {
      "text/latex": [
       "$\\displaystyle \n",
       "\\forall z: b \\cdot z = 0\n",
       "\\\\\\\\ z = 001\n",
       "\\\\\\\\ b \\cdot 001 = 0\n",
       "\\\\\\\\ \\cancel{(b_2 \\cdot 0)} + \\cancel{(b_1 \\cdot 0)} + (b_0 \\cdot 1) = 0\n",
       "\\\\\\\\ (b_0 \\cdot 1) = 0\n",
       "\\\\\\\\ \\therefore b_0 = 0\n",
       "$"
      ],
      "text/plain": [
       "<IPython.core.display.Math object>"
      ]
     },
     "metadata": {},
     "output_type": "display_data"
    },
    {
     "data": {
      "text/latex": [
       "$\\displaystyle \n",
       "\\text{It does not matter which other result we use, but let's pick 110 for the sake of not following the example exactly.}\n",
       "\\\\\\\\ z = 110\n",
       "\\\\\\\\ b \\cdot 110 = 0\n",
       "\\\\\\\\ (b_2 \\cdot 1) + (b_1 \\cdot 1) + \\cancel{(0 \\cdot 0)} = 0\n",
       "\\\\\\\\ (b_2 \\cdot 1) + (b_1 \\cdot 1) = 0\n",
       "$"
      ],
      "text/plain": [
       "<IPython.core.display.Math object>"
      ]
     },
     "metadata": {},
     "output_type": "display_data"
    },
    {
     "data": {
      "text/latex": [
       "$\\displaystyle \n",
       "\\text{This tells us that } b_2 = b_1, \\text{thus } b \\isin \\{ 000, 110 \\}\n",
       "$"
      ],
      "text/plain": [
       "<IPython.core.display.Math object>"
      ]
     },
     "metadata": {},
     "output_type": "display_data"
    }
   ],
   "source": [
    "# Use system of equations to find b\n",
    "display(Math(r\"\"\"\n",
    "\\forall z: b \\cdot z = 0\n",
    "\\\\\\\\ z = 001\n",
    "\\\\\\\\ b \\cdot 001 = 0\n",
    "\\\\\\\\ \\cancel{(b_2 \\cdot 0)} + \\cancel{(b_1 \\cdot 0)} + (b_0 \\cdot 1) = 0\n",
    "\\\\\\\\ (b_0 \\cdot 1) = 0\n",
    "\\\\\\\\ \\therefore b_0 = 0\n",
    "\"\"\"))\n",
    "\n",
    "display(Math(r\"\"\"\n",
    "\\text{It does not matter which other result we use, but let's pick 110 for the sake of not following the example exactly.}\n",
    "\\\\\\\\ z = 110\n",
    "\\\\\\\\ b \\cdot 110 = 0\n",
    "\\\\\\\\ (b_2 \\cdot 1) + (b_1 \\cdot 1) + \\cancel{(0 \\cdot 0)} = 0\n",
    "\\\\\\\\ (b_2 \\cdot 1) + (b_1 \\cdot 1) = 0\n",
    "\"\"\"))\n",
    "\n",
    "display(Math(r\"\"\"\n",
    "\\text{This tells us that } b_2 = b_1, \\text{thus } b \\isin \\{ 000, 110 \\}\n",
    "\"\"\"))"
   ]
  },
  {
   "cell_type": "markdown",
   "metadata": {},
   "source": [
    "Since b=000 is always a possible solution, we are left with the correct non-trivial solution `b=110`!"
   ]
  },
  {
   "cell_type": "markdown",
   "metadata": {},
   "source": [
    "### Experimenting on real hardware"
   ]
  },
  {
   "cell_type": "markdown",
   "metadata": {},
   "source": [
    "Now that qiskit allows for more than 6 qubits, we do not need to adjust the circuit to run on real hardware."
   ]
  },
  {
   "cell_type": "code",
   "execution_count": 124,
   "metadata": {},
   "outputs": [
    {
     "data": {
      "text/plain": [
       "'ibm_kyiv'"
      ]
     },
     "execution_count": 124,
     "metadata": {},
     "output_type": "execute_result"
    }
   ],
   "source": [
    "# Real hardware experiment setup\n",
    "# Additional imports\n",
    "from qiskit_ibm_runtime import QiskitRuntimeService\n",
    "from qiskit_ibm_runtime import SamplerV2\n",
    "from qiskit.transpiler.preset_passmanagers import generate_preset_pass_manager\n",
    "\n",
    "# To run on hardware, select the backend with the fewest number of jobs in the queue\n",
    "service = QiskitRuntimeService(channel=\"ibm_quantum\")\n",
    "backend = service.least_busy(operational=True, simulator=False)\n",
    "backend.name"
   ]
  },
  {
   "cell_type": "code",
   "execution_count": 127,
   "metadata": {},
   "outputs": [
    {
     "data": {
      "image/png": "[encoded data removed]",
      "text/plain": [
       "<Figure size 1964.64x367.889 with 1 Axes>"
      ]
     },
     "execution_count": 127,
     "metadata": {},
     "output_type": "execute_result"
    }
   ],
   "source": [
    "# Transpile the circuit for operating on real quantum hardward\n",
    "target = backend.target\n",
    "pm = generate_preset_pass_manager(target=target, optimization_level=3)\n",
    "\n",
    "circuit_isa = pm.run(simon_circuit)\n",
    "circuit_isa.draw(output=\"mpl\", idle_wires=False, style=\"iqp\")"
   ]
  },
  {
   "cell_type": "code",
   "execution_count": 128,
   "metadata": {},
   "outputs": [],
   "source": [
    "# Run the circuit and wait for the results\n",
    "sampler2 = SamplerV2(mode=backend)\n",
    "sampler2.options.default_shots = 1_000\n",
    "result = sampler2.run([circuit_isa]).result()[0]"
   ]
  },
  {
   "cell_type": "code",
   "execution_count": 129,
   "metadata": {},
   "outputs": [
    {
     "data": {
      "image/png": "[encoded data removed]",
      "text/plain": [
       "<Figure size 640x480 with 1 Axes>"
      ]
     },
     "execution_count": 129,
     "metadata": {},
     "output_type": "execute_result"
    }
   ],
   "source": [
    "# Plot the results\n",
    "test_counts = result.data.c.get_counts()\n",
    "plot_histogram(test_counts)"
   ]
  },
  {
   "cell_type": "markdown",
   "metadata": {},
   "source": [
    "We can see that the real results almost exactly match the simulated results in that the correct values of z have an almost equal probability of measurement, but we also see measurements for values where z ⋅ b != 0"
   ]
  },
  {
   "cell_type": "code",
   "execution_count": 131,
   "metadata": {},
   "outputs": [
    {
     "data": {
      "text/latex": [
       "$\\displaystyle 110 \\cdot 110 = 0 (27.1\\%)$"
      ],
      "text/plain": [
       "<IPython.core.display.Math object>"
      ]
     },
     "metadata": {},
     "output_type": "display_data"
    },
    {
     "data": {
      "text/latex": [
       "$\\displaystyle 110 \\cdot 000 = 0 (23.9\\%)$"
      ],
      "text/plain": [
       "<IPython.core.display.Math object>"
      ]
     },
     "metadata": {},
     "output_type": "display_data"
    },
    {
     "data": {
      "text/latex": [
       "$\\displaystyle 110 \\cdot 001 = 0 (22.4\\%)$"
      ],
      "text/plain": [
       "<IPython.core.display.Math object>"
      ]
     },
     "metadata": {},
     "output_type": "display_data"
    },
    {
     "data": {
      "text/latex": [
       "$\\displaystyle 110 \\cdot 101 = 1 (0.8\\%)$"
      ],
      "text/plain": [
       "<IPython.core.display.Math object>"
      ]
     },
     "metadata": {},
     "output_type": "display_data"
    },
    {
     "data": {
      "text/latex": [
       "$\\displaystyle 110 \\cdot 111 = 0 (23.5\\%)$"
      ],
      "text/plain": [
       "<IPython.core.display.Math object>"
      ]
     },
     "metadata": {},
     "output_type": "display_data"
    },
    {
     "data": {
      "text/latex": [
       "$\\displaystyle 110 \\cdot 010 = 1 (0.9\\%)$"
      ],
      "text/plain": [
       "<IPython.core.display.Math object>"
      ]
     },
     "metadata": {},
     "output_type": "display_data"
    },
    {
     "data": {
      "text/latex": [
       "$\\displaystyle 110 \\cdot 100 = 1 (0.7\\%)$"
      ],
      "text/plain": [
       "<IPython.core.display.Math object>"
      ]
     },
     "metadata": {},
     "output_type": "display_data"
    },
    {
     "data": {
      "text/latex": [
       "$\\displaystyle 110 \\cdot 011 = 1 (0.7\\%)$"
      ],
      "text/plain": [
       "<IPython.core.display.Math object>"
      ]
     },
     "metadata": {},
     "output_type": "display_data"
    }
   ],
   "source": [
    "# Verify real results\n",
    "for z in test_counts:\n",
    "    display(Math(r\"{} \\cdot {} = {} ({:.1f}\\%)\".format(b, z, bdotz(b,z), test_counts[z]*100/sampler2.options.default_shots)))"
   ]
  },
  {
   "cell_type": "markdown",
   "metadata": {},
   "source": [
    "This confirms that most of our results are correct in that `z ⋅ b = 0` (mod 2), but we have a small percentage chance of measuring a value that if used in our system of equation for b will produce incorrect results. By taking enough samples to gain statistical precision for calculating b, this can still be done in less queries than the classical O(2^(n-1))."
   ]
  },
  {
   "cell_type": "markdown",
   "metadata": {},
   "source": []
  }
 ],
 "metadata": {
  "kernelspec": {
   "display_name": "Python 3",
   "language": "python",
   "name": "python3"
  },
  "language_info": {
   "codemirror_mode": {
    "name": "ipython",
    "version": 3
   },
   "file_extension": ".py",
   "mimetype": "text/x-python",
   "name": "python",
   "nbconvert_exporter": "python",
   "pygments_lexer": "ipython3",
   "version": "3.12.6"
  }
 },
 "nbformat": 4,
 "nbformat_minor": 2
}
