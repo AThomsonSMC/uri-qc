{
 "cells": [
  {
   "cell_type": "markdown",
   "metadata": {},
   "source": [
    "# Adam Thomson - PHY573 - Week 3"
   ]
  },
  {
   "cell_type": "markdown",
   "metadata": {},
   "source": [
    "## Deutsch-Jozsa Algorithm"
   ]
  },
  {
   "cell_type": "markdown",
   "metadata": {},
   "source": [
    "The goal of the Deutsch-Jozsa Algorithm is to answer the question of whether a given oracle function is \"constant\" or \"balanced\". In other words, the algorithm will take an input function that always returns either the same single-bit answer or has a 50/50 chance of returning either a 0 or 1, and will determine which category the function is in. Classically, the best case scenario is querying the function twice and receiving different values to identify a balanced function; in the worst case it must query the function for more than half of all possible inputs to ensure it is constant. However, if the input function is implemented on a quantum computer, then the answer can be determined in a single query every time! Let's take a closer look at how this is possible by following the qiskit notebook https://github.com/Qiskit/textbook/blob/main/notebooks/ch-algorithms/deutsch-jozsa.ipynb"
   ]
  },
  {
   "cell_type": "code",
   "execution_count": 4,
   "metadata": {},
   "outputs": [],
   "source": [
    "# Import libraies\n",
    "from IPython.display import Math\n",
    "from qiskit import \\\n",
    "    transpile, \\\n",
    "    QuantumCircuit as QCir, \\\n",
    "    QuantumRegister as QReg, \\\n",
    "    ClassicalRegister as CReg\n",
    "from qiskit.circuit.library import Initialize\n",
    "from qiskit.result import marginal_counts\n",
    "from qiskit.quantum_info import random_statevector\n",
    "from qiskit.transpiler.preset_passmanagers import generate_preset_pass_manager\n",
    "from qiskit.visualization import \\\n",
    "    plot_histogram, \\\n",
    "    plot_bloch_multivector, \\\n",
    "    array_to_latex\n",
    "from qiskit_ibm_runtime import \\\n",
    "    QiskitRuntimeService, \\\n",
    "    SamplerV2\n",
    "\n",
    "from qiskit_aer import AerSimulator"
   ]
  },
  {
   "cell_type": "markdown",
   "metadata": {},
   "source": [
    "### Inspect the Quantum Solution"
   ]
  },
  {
   "cell_type": "code",
   "execution_count": 5,
   "metadata": {},
   "outputs": [
    {
     "data": {
      "text/latex": [
       "$\\displaystyle \\ket{\\psi_0} = \\ket0 ^{\\otimes n} \\ket1$"
      ],
      "text/plain": [
       "<IPython.core.display.Math object>"
      ]
     },
     "metadata": {},
     "output_type": "display_data"
    }
   ],
   "source": [
    "# We start with an initial state of a quantum register with as many qubits as the oracle function\n",
    "#  takes as input, n, in |0> and an additional qubit initialized to |1>\n",
    "\n",
    "display(Math(r'\\ket{\\psi_0} = \\ket0 ^{\\otimes n} \\ket1'))"
   ]
  },
  {
   "cell_type": "code",
   "execution_count": 10,
   "metadata": {},
   "outputs": [
    {
     "data": {
      "text/latex": [
       "$\\displaystyle \\ket{\\psi_1} = H^{\\otimes n + 1}\\ket{\\psi_0}$"
      ],
      "text/plain": [
       "<IPython.core.display.Math object>"
      ]
     },
     "metadata": {},
     "output_type": "display_data"
    },
    {
     "data": {
      "text/latex": [
       "$\\displaystyle \\ket{\\psi_1} = H^{\\otimes n} \\ket^{\\otimes n} \\otimes H\\ket1$"
      ],
      "text/plain": [
       "<IPython.core.display.Math object>"
      ]
     },
     "metadata": {},
     "output_type": "display_data"
    },
    {
     "data": {
      "text/latex": [
       "$\\displaystyle \n",
       "    H^{\\otimes n} \\ket0 = H\\ket0 \\otimes H\\ket0 ... \\otimes H\\ket0\n",
       "\\\\\\\\\\qquad\\qquad   = \\frac1{\\sqrt2}(\\ket0 + \\ket1) \\otimes ... \\otimes \\frac1{\\sqrt2}(\\ket0 + \\ket1)\n",
       "\\\\\\\\\\qquad\\qquad   = \\frac1{\\sqrt{2^n}} \\Big( \\ket0 + \\ket1 + \\ket2 + ... + \\ket{2^n - 1}  \\Big)\n",
       "\\\\\\\\\\qquad\\qquad   = \\frac1{\\sqrt{2^n}} \\sum_{x=0}^{2^n -1} \\ket x\n",
       "$"
      ],
      "text/plain": [
       "<IPython.core.display.Math object>"
      ]
     },
     "metadata": {},
     "output_type": "display_data"
    },
    {
     "data": {
      "text/latex": [
       "$\\displaystyle \n",
       "    \\ket{\\psi_1} = H^{\\otimes n} \\ket0 \\otimes H\\ket1\n",
       "\\\\\\\\\\qquad = \\frac1{\\sqrt{2^n}} \\sum_{x=0}^{2^n -1} \\ket x \\otimes (\\frac1{\\sqrt2})(\\ket0 - \\ket1)\n",
       "$"
      ],
      "text/plain": [
       "<IPython.core.display.Math object>"
      ]
     },
     "metadata": {},
     "output_type": "display_data"
    },
    {
     "data": {
      "text/latex": [
       "$\\displaystyle \n",
       "    \\ket{\\psi_1} = \\frac1{\\sqrt{2^{n + 1}}} \\sum_{x=0}^{2^n -1} \\ket x(\\ket0 - \\ket1)\n",
       "$"
      ],
      "text/plain": [
       "<IPython.core.display.Math object>"
      ]
     },
     "metadata": {},
     "output_type": "display_data"
    }
   ],
   "source": [
    "# We then apply a Haddamard gate to each qubit and simplify the state expression\n",
    "\n",
    "display(Math(r'\\ket{\\psi_1} = H^{\\otimes n + 1}\\ket{\\psi_0}'))\n",
    "display(Math(r'\\ket{\\psi_1} = H^{\\otimes n} \\ket0^{\\otimes n} \\otimes H\\ket1'))\n",
    "\n",
    "display(Math(r'''\n",
    "    H^{\\otimes n} \\ket0 = H\\ket0 \\otimes H\\ket0 ... \\otimes H\\ket0\n",
    "\\\\\\\\\\qquad\\qquad   = \\frac1{\\sqrt2}(\\ket0 + \\ket1) \\otimes ... \\otimes \\frac1{\\sqrt2}(\\ket0 + \\ket1)\n",
    "\\\\\\\\\\qquad\\qquad   = \\frac1{\\sqrt{2^n}} \\Big( \\ket0 + \\ket1 + \\ket2 + ... + \\ket{2^n - 1}  \\Big)\n",
    "\\\\\\\\\\qquad\\qquad   = \\frac1{\\sqrt{2^n}} \\sum_{x=0}^{2^n -1} \\ket x\n",
    "'''))\n",
    "\n",
    "display(Math(r'''\n",
    "    \\ket{\\psi_1} = H^{\\otimes n} \\ket0 \\otimes H\\ket1\n",
    "\\\\\\\\\\qquad = \\frac1{\\sqrt{2^n}} \\sum_{x=0}^{2^n -1} \\ket x \\otimes (\\frac1{\\sqrt2})(\\ket0 - \\ket1)\n",
    "'''))\n",
    "\n",
    "display(Math(r'''\n",
    "    \\ket{\\psi_1} = \\frac1{\\sqrt{2^{n + 1}}} \\sum_{x=0}^{2^n -1} \\ket x(\\ket0 - \\ket1)\n",
    "'''))"
   ]
  },
  {
   "cell_type": "code",
   "execution_count": 7,
   "metadata": {},
   "outputs": [
    {
     "data": {
      "text/latex": [
       "$\\displaystyle \n",
       "\\textnormal{Next, apply the oracle function on } \\ket{\\psi_1} \\textnormal{ such that } f(\\ket x \\ket y) = \\ket x \\ket{y \\oplus f(x)}\n",
       "$"
      ],
      "text/plain": [
       "<IPython.core.display.Math object>"
      ]
     },
     "metadata": {},
     "output_type": "display_data"
    },
    {
     "data": {
      "text/latex": [
       "$\\displaystyle \n",
       "\\ket{\\psi_2} = f \\big( \\frac1{\\sqrt{2^{n + 1}}} \\sum_{x=0}^{2^n -1} \\ket x(\\ket0 - \\ket1) \\big)\n",
       "\\\\\\\\ \\qquad = \\frac1{\\sqrt{2^{n + 1}}}\\sum_{x=0}^{2^n -1} (f\\ket x (\\ket0 - \\ket1))\n",
       "\\\\\\\\ \\qquad = \\frac1{\\sqrt{2^{n + 1}}}\\sum_{x=0}^{2^n -1} \\ket x (\\ket{0 \\oplus f(x)} - \\ket{1 \\oplus f(x)})\n",
       "$"
      ],
      "text/plain": [
       "<IPython.core.display.Math object>"
      ]
     },
     "metadata": {},
     "output_type": "display_data"
    },
    {
     "data": {
      "text/latex": [
       "$\\displaystyle \n",
       "\\forall x: f(x) = \\{0,1\\}\n",
       "$"
      ],
      "text/plain": [
       "<IPython.core.display.Math object>"
      ]
     },
     "metadata": {},
     "output_type": "display_data"
    },
    {
     "data": {
      "text/latex": [
       "$\\displaystyle \n",
       "\\textnormal{When }f(x)=0:\n",
       "\\\\\\\\ \\big(\\ket{0 \\oplus f(x)} - \\ket{1 \\oplus f(x)}\\big) = (\\ket0 - \\ket1) = (-1)^{f(x)}(\\ket0 - \\ket1)\n",
       "$"
      ],
      "text/plain": [
       "<IPython.core.display.Math object>"
      ]
     },
     "metadata": {},
     "output_type": "display_data"
    },
    {
     "data": {
      "text/latex": [
       "$\\displaystyle \n",
       "\\textnormal{When }f(x)=1: \n",
       "\\\\\\\\ \\big(\\ket{0 \\oplus f(x)} - \\ket{1 \\oplus f(x)}\\big) = (\\ket1 - \\ket0) = (-1)^{f(x)}(\\ket0 - \\ket1)\n",
       "$"
      ],
      "text/plain": [
       "<IPython.core.display.Math object>"
      ]
     },
     "metadata": {},
     "output_type": "display_data"
    },
    {
     "data": {
      "text/latex": [
       "$\\displaystyle \n",
       "\\therefore\n",
       "\\\\\\\\ \\ket{\\psi_2} = \\frac1{\\sqrt{2^{n+1}}} \\sum_{x=0}^{2^n -1} (-1)^{f(x)} \\ket x(\\ket0 - \\ket1)\n",
       "$"
      ],
      "text/plain": [
       "<IPython.core.display.Math object>"
      ]
     },
     "metadata": {},
     "output_type": "display_data"
    }
   ],
   "source": [
    "# Apply the oracle function\n",
    "display(Math(r'''\n",
    "\\textnormal{Next, apply the oracle function on } \\ket{\\psi_1} \\textnormal{ such that } f(\\ket x \\ket y) = \\ket x \\ket{y \\oplus f(x)}\n",
    "'''))\n",
    "\n",
    "display(Math(r'''\n",
    "\\ket{\\psi_2} = f \\big( \\frac1{\\sqrt{2^{n + 1}}} \\sum_{x=0}^{2^n -1} \\ket x(\\ket0 - \\ket1) \\big)\n",
    "\\\\\\\\ \\qquad = \\frac1{\\sqrt{2^{n + 1}}}\\sum_{x=0}^{2^n -1} (f\\ket x (\\ket0 - \\ket1))\n",
    "\\\\\\\\ \\qquad = \\frac1{\\sqrt{2^{n + 1}}}\\sum_{x=0}^{2^n -1} \\ket x (\\ket{0 \\oplus f(x)} - \\ket{1 \\oplus f(x)})\n",
    "'''))\n",
    "\n",
    "display(Math(r'''\n",
    "\\forall x: f(x) = \\{0,1\\}\n",
    "'''))\n",
    "\n",
    "display(Math(r'''\n",
    "\\textnormal{When }f(x)=0:\n",
    "\\\\\\\\ \\big(\\ket{0 \\oplus f(x)} - \\ket{1 \\oplus f(x)}\\big) = (\\ket0 - \\ket1) = (-1)^{f(x)}(\\ket0 - \\ket1)\n",
    "'''))\n",
    "\n",
    "display(Math(r'''\n",
    "\\textnormal{When }f(x)=1: \n",
    "\\\\\\\\ \\big(\\ket{0 \\oplus f(x)} - \\ket{1 \\oplus f(x)}\\big) = (\\ket1 - \\ket0) = (-1)^{f(x)}(\\ket0 - \\ket1)\n",
    "'''))\n",
    "\n",
    "display(Math(r'''\n",
    "\\therefore\n",
    "\\\\\\\\ \\ket{\\psi_2} = \\frac1{\\sqrt{2^{n+1}}} \\sum_{x=0}^{2^n -1} (-1)^{f(x)} \\ket x(\\ket0 - \\ket1)\n",
    "'''))"
   ]
  },
  {
   "cell_type": "code",
   "execution_count": 8,
   "metadata": {},
   "outputs": [
    {
     "data": {
      "text/latex": [
       "$\\displaystyle \\ket{\\psi_{2'}} = \\frac1{\\sqrt{2^n}} \\sum_{x=0}^{2^n -1} (-1)^{f(x)} \\ket x$"
      ],
      "text/plain": [
       "<IPython.core.display.Math object>"
      ]
     },
     "metadata": {},
     "output_type": "display_data"
    },
    {
     "data": {
      "text/latex": [
       "$\\displaystyle \n",
       "\\ket{\\psi_3} = H^{\\otimes n}\\ket{\\psi_{2'}}\n",
       "\\\\\\\\\\qquad = H^{\\otimes n}(\\frac1{\\sqrt{2^n}} \\sum_{x=0}^{2^n -1} (-1)^{f(x)} \\ket x)\n",
       "\\\\\\\\\\qquad = \\frac1{\\sqrt{2^n}} \\sum_{x=0}^{2^n -1} (-1)^{f(x)} H^{\\otimes n} \\ket x\n",
       "$"
      ],
      "text/plain": [
       "<IPython.core.display.Math object>"
      ]
     },
     "metadata": {},
     "output_type": "display_data"
    },
    {
     "data": {
      "text/latex": [
       "$\\displaystyle \n",
       "\\textnormal{For each individual qubit,} \\ket{x_i}\n",
       "\\\\\\\\ H\\ket{x_i} = \\frac1{\\sqrt2}(\\ket0 + (-1)^{x_i} \\ket 1)\n",
       "$"
      ],
      "text/plain": [
       "<IPython.core.display.Math object>"
      ]
     },
     "metadata": {},
     "output_type": "display_data"
    },
    {
     "data": {
      "text/latex": [
       "$\\displaystyle \n",
       "\\textnormal{To help simplify, define the bitwise product operation}\n",
       "\\\\\\\\\n",
       "x \\cdot y = x_0y_0 \\oplus x_1y_1 \\oplus ... \\oplus x_{n-1}y_{n-1}\n",
       "$"
      ],
      "text/plain": [
       "<IPython.core.display.Math object>"
      ]
     },
     "metadata": {},
     "output_type": "display_data"
    },
    {
     "data": {
      "text/latex": [
       "$\\displaystyle \\textnormal{So when summed over all qubits, we have}\n",
       "\\\\\\\\ H^{\\otimes n}\\ket x = \\frac{(-1)^{x\\cdot0}}{\\sqrt{2^n}} \\ket0 + \\frac{(-1)^{x\\cdot1}}{\\sqrt{2^n}} \\ket1 + ... \\frac{(-1)^{x\\cdot{2^n-1}}}{\\sqrt{2^n}} \\ket{2^n-1}\n",
       "\\\\\\\\\\qquad\\qquad = \\frac1{\\sqrt{2^n}} \\sum_{y=0}^{2^n-1} (-1)^{x \\cdot y} \\ket y\n",
       "$"
      ],
      "text/plain": [
       "<IPython.core.display.Math object>"
      ]
     },
     "metadata": {},
     "output_type": "display_data"
    },
    {
     "data": {
      "text/latex": [
       "$\\displaystyle \n",
       "\\textnormal{Going back to the original operation, we get equations matching the book}\n",
       "\\\\\\\\ \\ket{\\psi_3} = H^{\\otimes n}\\ket{\\psi_{2'}}\n",
       "\\\\\\\\\\qquad = \\frac1{\\sqrt{2^n}} \\sum_{x=0}^{2^n-1}(-1)^{f(x)} H^{\\otimes n} \\ket x\n",
       "\\\\\\\\\\qquad = \\frac1{\\sqrt{2^n}} \\sum_{x=0}^{2^n-1}(-1)^{f(x)} \\big[ \\frac1{\\sqrt{2^n}} \\sum_{y=0}^{2^n-1} (-1)^{x \\cdot y} \\ket y \\big]\n",
       "\\\\\\\\\\qquad = \\frac1{2^n} \\sum_{x=0}^{2^n-1}(-1)^{f(x)} \\big[ \\sum_{y=0}^{2^n-1} (-1)^{x \\cdot y} \\ket y \\big]\n",
       "\\\\\\\\\\qquad = \\frac1{2^n} \\sum_{y=0}^{2^n-1} \\Big [ \\sum_{x=0}^{2^n-1} (-1)^{f(x)} (-1)^{x \\cdot y} \\Big] \\ket y\n",
       "$"
      ],
      "text/plain": [
       "<IPython.core.display.Math object>"
      ]
     },
     "metadata": {},
     "output_type": "display_data"
    }
   ],
   "source": [
    "# Now, we ignore the second register and apply a Hadamard gate on all qubits in the first register again\n",
    "\n",
    "display(Math(r\"\\ket{\\psi_{2'}} = \\frac1{\\sqrt{2^n}} \\sum_{x=0}^{2^n -1} (-1)^{f(x)} \\ket x\"))\n",
    "display(Math(r'''\n",
    "\\ket{\\psi_3} = H^{\\otimes n}\\ket{\\psi_{2'}}\n",
    "\\\\\\\\\\qquad = H^{\\otimes n}(\\frac1{\\sqrt{2^n}} \\sum_{x=0}^{2^n -1} (-1)^{f(x)} \\ket x)\n",
    "\\\\\\\\\\qquad = \\frac1{\\sqrt{2^n}} \\sum_{x=0}^{2^n -1} (-1)^{f(x)} H^{\\otimes n} \\ket x\n",
    "'''))\n",
    "\n",
    "display(Math(r'''\n",
    "\\textnormal{For each individual qubit,} \\ket{x_i}\n",
    "\\\\\\\\ H\\ket{x_i} = \\frac1{\\sqrt2}(\\ket0 + (-1)^{x_i} \\ket 1)\n",
    "'''))\n",
    "\n",
    "display(Math(r'''\n",
    "\\textnormal{To help simplify, define the bitwise product operation}\n",
    "\\\\\\\\\n",
    "x \\cdot y = x_0y_0 \\oplus x_1y_1 \\oplus ... \\oplus x_{n-1}y_{n-1}\n",
    "'''))\n",
    "\n",
    "display(Math(r'''\\textnormal{So when summed over all qubits, we have}\n",
    "\\\\\\\\ H^{\\otimes n}\\ket x = \\frac{(-1)^{x\\cdot0}}{\\sqrt{2^n}} \\ket0 + \\frac{(-1)^{x\\cdot1}}{\\sqrt{2^n}} \\ket1 + ... \\frac{(-1)^{x\\cdot{2^n-1}}}{\\sqrt{2^n}} \\ket{2^n-1}\n",
    "\\\\\\\\\\qquad\\qquad = \\frac1{\\sqrt{2^n}} \\sum_{y=0}^{2^n-1} (-1)^{x \\cdot y} \\ket y\n",
    "'''))\n",
    "\n",
    "display(Math(r'''\n",
    "\\textnormal{Going back to the original operation, we get equations matching the book}\n",
    "\\\\\\\\ \\ket{\\psi_3} = H^{\\otimes n}\\ket{\\psi_{2'}}\n",
    "\\\\\\\\\\qquad = \\frac1{\\sqrt{2^n}} \\sum_{x=0}^{2^n-1}(-1)^{f(x)} H^{\\otimes n} \\ket x\n",
    "\\\\\\\\\\qquad = \\frac1{\\sqrt{2^n}} \\sum_{x=0}^{2^n-1}(-1)^{f(x)} \\big[ \\frac1{\\sqrt{2^n}} \\sum_{y=0}^{2^n-1} (-1)^{x \\cdot y} \\ket y \\big]\n",
    "\\\\\\\\\\qquad = \\frac1{2^n} \\sum_{x=0}^{2^n-1}(-1)^{f(x)} \\big[ \\sum_{y=0}^{2^n-1} (-1)^{x \\cdot y} \\ket y \\big]\n",
    "\\\\\\\\\\qquad = \\frac1{2^n} \\sum_{y=0}^{2^n-1} \\Big [ \\sum_{x=0}^{2^n-1} (-1)^{f(x)} (-1)^{x \\cdot y} \\Big] \\ket y\n",
    "'''))\n"
   ]
  },
  {
   "cell_type": "code",
   "execution_count": 9,
   "metadata": {},
   "outputs": [
    {
     "data": {
      "text/latex": [
       "$\\displaystyle \n",
       "\\textnormal{By measuring the state now, the oracle function can be determined to be constant or balanced.}\n",
       "$"
      ],
      "text/plain": [
       "<IPython.core.display.Math object>"
      ]
     },
     "metadata": {},
     "output_type": "display_data"
    },
    {
     "data": {
      "text/latex": [
       "$\\displaystyle \n",
       "\\textnormal{Consider the case when the oracle function is constant, or f(x) is always one of 0 or 1.}\n",
       "\\\\\\\\ \\textnormal{ - If f(x) = 0, then the term } (-1)^{f(x)} \\textnormal{ had no effect on the transformation and } H(H\\ket0) = \\ket0\n",
       "\\\\\\\\ \\textnormal{ - If f(x) = 1, then the term } (-1)^{f(x)} \\textnormal{ applied a phase flip to all qubits but did not effect measurement probabilities}\n",
       "\\\\\\\\ \\textnormal{Both of these scenarios always lead to a measurement of } \\ket0^{\\otimes n}\n",
       "$"
      ],
      "text/plain": [
       "<IPython.core.display.Math object>"
      ]
     },
     "metadata": {},
     "output_type": "display_data"
    },
    {
     "data": {
      "text/latex": [
       "$\\displaystyle \n",
       "\\\\\\\\ \\textnormal{Otherwise, the oracle function is balanced and will produce a 0 or 1 with equal probability across all inputs.}\n",
       "\\\\\\\\ \\textnormal{ - In this case, half of the qubits in the register have their phase flipped. This creates a state orthogonal to } \\ket{00..0}\n",
       "\\\\\\\\ \\textnormal{Meaning a balanced oracle will never result in a measurement of } \\ket0^{\\otimes n}\n",
       "$"
      ],
      "text/plain": [
       "<IPython.core.display.Math object>"
      ]
     },
     "metadata": {},
     "output_type": "display_data"
    }
   ],
   "source": [
    "# Discuss conclusions\n",
    "display(Math(r'''\n",
    "\\textnormal{By measuring the state now, the oracle function can be determined to be constant or balanced.}\n",
    "'''))\n",
    "display(Math(r'''\n",
    "\\textnormal{Consider the case when the oracle function is constant, or f(x) is always one of 0 or 1.}\n",
    "\\\\\\\\ \\textnormal{ - If f(x) = 0, then the term } (-1)^{f(x)} \\textnormal{ had no effect on the transformation and } H(H\\ket0) = \\ket0\n",
    "\\\\\\\\ \\textnormal{ - If f(x) = 1, then the term } (-1)^{f(x)} \\textnormal{ applied a phase flip to all qubits but did not effect measurement probabilities}\n",
    "\\\\\\\\ \\textnormal{Both of these scenarios always lead to a measurement of } \\ket0^{\\otimes n}\n",
    "'''))\n",
    "display(Math(r'''\n",
    "\\\\\\\\ \\textnormal{Otherwise, the oracle function is balanced and will produce a 0 or 1 with equal probability across all inputs.}\n",
    "\\\\\\\\ \\textnormal{ - In this case, half of the qubits in the register have their phase flipped. This creates a state orthogonal to } \\ket{00..0}\n",
    "\\\\\\\\ \\textnormal{Meaning a balanced oracle will never result in a measurement of } \\ket0^{\\otimes n}\n",
    "'''))"
   ]
  },
  {
   "cell_type": "markdown",
   "metadata": {},
   "source": [
    "### Example Circuit"
   ]
  },
  {
   "cell_type": "code",
   "execution_count": null,
   "metadata": {},
   "outputs": [],
   "source": []
  },
  {
   "cell_type": "markdown",
   "metadata": {},
   "source": []
  }
 ],
 "metadata": {
  "kernelspec": {
   "display_name": "Python 3",
   "language": "python",
   "name": "python3"
  },
  "language_info": {
   "codemirror_mode": {
    "name": "ipython",
    "version": 3
   },
   "file_extension": ".py",
   "mimetype": "text/x-python",
   "name": "python",
   "nbconvert_exporter": "python",
   "pygments_lexer": "ipython3",
   "version": "3.12.6"
  }
 },
 "nbformat": 4,
 "nbformat_minor": 2
}
