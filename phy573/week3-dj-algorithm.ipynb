{
 "cells": [
  {
   "cell_type": "markdown",
   "metadata": {},
   "source": [
    "# Adam Thomson - PHY573 - Week 3"
   ]
  },
  {
   "cell_type": "markdown",
   "metadata": {},
   "source": [
    "## Deutsch-Jozsa Algorithm"
   ]
  },
  {
   "cell_type": "markdown",
   "metadata": {},
   "source": [
    "The goal of the Deutsch-Jozsa Algorithm is to answer the question of whether a given oracle function is \"constant\" or \"balanced\". In other words, the algorithm will take an input function that always returns either the same single-bit answer or has a 50/50 chance of returning either a 0 or 1, and will determine which category the function is in. Classically, the best case scenario is querying the function twice and receiving different values to identify a balanced function; in the worst case it must query the function for more than half of all possible inputs to ensure it is constant. However, if the input function is implemented on a quantum computer, then the answer can be determined in a single query every time! Let's take a closer look at how this is possible by following the qiskit notebook https://github.com/Qiskit/textbook/blob/main/notebooks/ch-algorithms/deutsch-jozsa.ipynb"
   ]
  },
  {
   "cell_type": "code",
   "execution_count": 259,
   "metadata": {},
   "outputs": [],
   "source": [
    "# Import libraies\n",
    "import numpy as np\n",
    "from IPython.display import Math\n",
    "from qiskit import QuantumCircuit as QCir, transpile\n",
    "from qiskit.visualization import plot_histogram, plot_distribution\n",
    "\n",
    "from qiskit_aer import AerSimulator\n",
    "\n",
    "sampler = AerSimulator()"
   ]
  },
  {
   "cell_type": "markdown",
   "metadata": {},
   "source": [
    "### Inspect the Quantum Solution"
   ]
  },
  {
   "cell_type": "code",
   "execution_count": 292,
   "metadata": {},
   "outputs": [
    {
     "data": {
      "text/latex": [
       "$\\displaystyle \\ket{\\psi_0} = \\ket0 ^{\\otimes n} \\ket1$"
      ],
      "text/plain": [
       "<IPython.core.display.Math object>"
      ]
     },
     "metadata": {},
     "output_type": "display_data"
    }
   ],
   "source": [
    "# We start with an initial state of a quantum register with as many qubits as the oracle function\n",
    "#  takes as input, n, in |0> and an additional qubit initialized to |1>\n",
    "\n",
    "display(Math(r'\\ket{\\psi_0} = \\ket0 ^{\\otimes n} \\ket1'))"
   ]
  },
  {
   "cell_type": "code",
   "execution_count": 293,
   "metadata": {},
   "outputs": [
    {
     "data": {
      "text/latex": [
       "$\\displaystyle \\ket{\\psi_1} = H^{\\otimes n + 1}\\ket{\\psi_0}$"
      ],
      "text/plain": [
       "<IPython.core.display.Math object>"
      ]
     },
     "metadata": {},
     "output_type": "display_data"
    },
    {
     "data": {
      "text/latex": [
       "$\\displaystyle \\ket{\\psi_1} = H^{\\otimes n} \\ket0^{\\otimes n} \\otimes H\\ket1$"
      ],
      "text/plain": [
       "<IPython.core.display.Math object>"
      ]
     },
     "metadata": {},
     "output_type": "display_data"
    },
    {
     "data": {
      "text/latex": [
       "$\\displaystyle \n",
       "    H^{\\otimes n} \\ket0 = H\\ket0 \\otimes H\\ket0 ... \\otimes H\\ket0\n",
       "\\\\\\\\\\qquad\\qquad   = \\frac1{\\sqrt2}(\\ket0 + \\ket1) \\otimes ... \\otimes \\frac1{\\sqrt2}(\\ket0 + \\ket1)\n",
       "\\\\\\\\\\qquad\\qquad   = \\frac1{\\sqrt{2^n}} \\Big( \\ket0 + \\ket1 + \\ket2 + ... + \\ket{2^n - 1}  \\Big)\n",
       "\\\\\\\\\\qquad\\qquad   = \\frac1{\\sqrt{2^n}} \\sum_{x=0}^{2^n -1} \\ket x\n",
       "$"
      ],
      "text/plain": [
       "<IPython.core.display.Math object>"
      ]
     },
     "metadata": {},
     "output_type": "display_data"
    },
    {
     "data": {
      "text/latex": [
       "$\\displaystyle \n",
       "    \\ket{\\psi_1} = H^{\\otimes n} \\ket0 \\otimes H\\ket1\n",
       "\\\\\\\\\\qquad = \\frac1{\\sqrt{2^n}} \\sum_{x=0}^{2^n -1} \\ket x \\otimes (\\frac1{\\sqrt2})(\\ket0 - \\ket1)\n",
       "$"
      ],
      "text/plain": [
       "<IPython.core.display.Math object>"
      ]
     },
     "metadata": {},
     "output_type": "display_data"
    },
    {
     "data": {
      "text/latex": [
       "$\\displaystyle \n",
       "    \\ket{\\psi_1} = \\frac1{\\sqrt{2^{n + 1}}} \\sum_{x=0}^{2^n -1} \\ket x(\\ket0 - \\ket1)\n",
       "$"
      ],
      "text/plain": [
       "<IPython.core.display.Math object>"
      ]
     },
     "metadata": {},
     "output_type": "display_data"
    }
   ],
   "source": [
    "# We then apply a Haddamard gate to each qubit and simplify the state expression\n",
    "\n",
    "display(Math(r'\\ket{\\psi_1} = H^{\\otimes n + 1}\\ket{\\psi_0}'))\n",
    "display(Math(r'\\ket{\\psi_1} = H^{\\otimes n} \\ket0^{\\otimes n} \\otimes H\\ket1'))\n",
    "\n",
    "display(Math(r'''\n",
    "    H^{\\otimes n} \\ket0 = H\\ket0 \\otimes H\\ket0 ... \\otimes H\\ket0\n",
    "\\\\\\\\\\qquad\\qquad   = \\frac1{\\sqrt2}(\\ket0 + \\ket1) \\otimes ... \\otimes \\frac1{\\sqrt2}(\\ket0 + \\ket1)\n",
    "\\\\\\\\\\qquad\\qquad   = \\frac1{\\sqrt{2^n}} \\Big( \\ket0 + \\ket1 + \\ket2 + ... + \\ket{2^n - 1}  \\Big)\n",
    "\\\\\\\\\\qquad\\qquad   = \\frac1{\\sqrt{2^n}} \\sum_{x=0}^{2^n -1} \\ket x\n",
    "'''))\n",
    "\n",
    "display(Math(r'''\n",
    "    \\ket{\\psi_1} = H^{\\otimes n} \\ket0 \\otimes H\\ket1\n",
    "\\\\\\\\\\qquad = \\frac1{\\sqrt{2^n}} \\sum_{x=0}^{2^n -1} \\ket x \\otimes (\\frac1{\\sqrt2})(\\ket0 - \\ket1)\n",
    "'''))\n",
    "\n",
    "display(Math(r'''\n",
    "    \\ket{\\psi_1} = \\frac1{\\sqrt{2^{n + 1}}} \\sum_{x=0}^{2^n -1} \\ket x(\\ket0 - \\ket1)\n",
    "'''))"
   ]
  },
  {
   "cell_type": "code",
   "execution_count": 294,
   "metadata": {},
   "outputs": [
    {
     "data": {
      "text/latex": [
       "$\\displaystyle \n",
       "\\textnormal{Next, apply the oracle function on } \\ket{\\psi_1} \\textnormal{ such that } f(\\ket x \\ket y) = \\ket x \\ket{y \\oplus f(x)}\n",
       "$"
      ],
      "text/plain": [
       "<IPython.core.display.Math object>"
      ]
     },
     "metadata": {},
     "output_type": "display_data"
    },
    {
     "data": {
      "text/latex": [
       "$\\displaystyle \n",
       "\\ket{\\psi_2} = f \\big( \\frac1{\\sqrt{2^{n + 1}}} \\sum_{x=0}^{2^n -1} \\ket x(\\ket0 - \\ket1) \\big)\n",
       "\\\\\\\\ \\qquad = \\frac1{\\sqrt{2^{n + 1}}}\\sum_{x=0}^{2^n -1} (f\\ket x (\\ket0 - \\ket1))\n",
       "\\\\\\\\ \\qquad = \\frac1{\\sqrt{2^{n + 1}}}\\sum_{x=0}^{2^n -1} \\ket x (\\ket{0 \\oplus f(x)} - \\ket{1 \\oplus f(x)})\n",
       "$"
      ],
      "text/plain": [
       "<IPython.core.display.Math object>"
      ]
     },
     "metadata": {},
     "output_type": "display_data"
    },
    {
     "data": {
      "text/latex": [
       "$\\displaystyle \n",
       "\\forall x: f(x) = \\{0,1\\}\n",
       "$"
      ],
      "text/plain": [
       "<IPython.core.display.Math object>"
      ]
     },
     "metadata": {},
     "output_type": "display_data"
    },
    {
     "data": {
      "text/latex": [
       "$\\displaystyle \n",
       "\\textnormal{When }f(x)=0:\n",
       "\\\\\\\\ \\big(\\ket{0 \\oplus f(x)} - \\ket{1 \\oplus f(x)}\\big) = (\\ket0 - \\ket1) = (-1)^{f(x)}(\\ket0 - \\ket1)\n",
       "$"
      ],
      "text/plain": [
       "<IPython.core.display.Math object>"
      ]
     },
     "metadata": {},
     "output_type": "display_data"
    },
    {
     "data": {
      "text/latex": [
       "$\\displaystyle \n",
       "\\textnormal{When }f(x)=1: \n",
       "\\\\\\\\ \\big(\\ket{0 \\oplus f(x)} - \\ket{1 \\oplus f(x)}\\big) = (\\ket1 - \\ket0) = (-1)^{f(x)}(\\ket0 - \\ket1)\n",
       "$"
      ],
      "text/plain": [
       "<IPython.core.display.Math object>"
      ]
     },
     "metadata": {},
     "output_type": "display_data"
    },
    {
     "data": {
      "text/latex": [
       "$\\displaystyle \n",
       "\\therefore\n",
       "\\\\\\\\ \\ket{\\psi_2} = \\frac1{\\sqrt{2^{n+1}}} \\sum_{x=0}^{2^n -1} (-1)^{f(x)} \\ket x(\\ket0 - \\ket1)\n",
       "$"
      ],
      "text/plain": [
       "<IPython.core.display.Math object>"
      ]
     },
     "metadata": {},
     "output_type": "display_data"
    }
   ],
   "source": [
    "# Apply the oracle function\n",
    "display(Math(r'''\n",
    "\\textnormal{Next, apply the oracle function on } \\ket{\\psi_1} \\textnormal{ such that } f(\\ket x \\ket y) = \\ket x \\ket{y \\oplus f(x)}\n",
    "'''))\n",
    "\n",
    "display(Math(r'''\n",
    "\\ket{\\psi_2} = f \\big( \\frac1{\\sqrt{2^{n + 1}}} \\sum_{x=0}^{2^n -1} \\ket x(\\ket0 - \\ket1) \\big)\n",
    "\\\\\\\\ \\qquad = \\frac1{\\sqrt{2^{n + 1}}}\\sum_{x=0}^{2^n -1} (f\\ket x (\\ket0 - \\ket1))\n",
    "\\\\\\\\ \\qquad = \\frac1{\\sqrt{2^{n + 1}}}\\sum_{x=0}^{2^n -1} \\ket x (\\ket{0 \\oplus f(x)} - \\ket{1 \\oplus f(x)})\n",
    "'''))\n",
    "\n",
    "display(Math(r'''\n",
    "\\forall x: f(x) = \\{0,1\\}\n",
    "'''))\n",
    "\n",
    "display(Math(r'''\n",
    "\\textnormal{When }f(x)=0:\n",
    "\\\\\\\\ \\big(\\ket{0 \\oplus f(x)} - \\ket{1 \\oplus f(x)}\\big) = (\\ket0 - \\ket1) = (-1)^{f(x)}(\\ket0 - \\ket1)\n",
    "'''))\n",
    "\n",
    "display(Math(r'''\n",
    "\\textnormal{When }f(x)=1: \n",
    "\\\\\\\\ \\big(\\ket{0 \\oplus f(x)} - \\ket{1 \\oplus f(x)}\\big) = (\\ket1 - \\ket0) = (-1)^{f(x)}(\\ket0 - \\ket1)\n",
    "'''))\n",
    "\n",
    "display(Math(r'''\n",
    "\\therefore\n",
    "\\\\\\\\ \\ket{\\psi_2} = \\frac1{\\sqrt{2^{n+1}}} \\sum_{x=0}^{2^n -1} (-1)^{f(x)} \\ket x(\\ket0 - \\ket1)\n",
    "'''))"
   ]
  },
  {
   "cell_type": "code",
   "execution_count": 295,
   "metadata": {},
   "outputs": [
    {
     "data": {
      "text/latex": [
       "$\\displaystyle \\ket{\\psi_{2'}} = \\frac1{\\sqrt{2^n}} \\sum_{x=0}^{2^n -1} (-1)^{f(x)} \\ket x$"
      ],
      "text/plain": [
       "<IPython.core.display.Math object>"
      ]
     },
     "metadata": {},
     "output_type": "display_data"
    },
    {
     "data": {
      "text/latex": [
       "$\\displaystyle \n",
       "\\ket{\\psi_3} = H^{\\otimes n}\\ket{\\psi_{2'}}\n",
       "\\\\\\\\\\qquad = H^{\\otimes n}(\\frac1{\\sqrt{2^n}} \\sum_{x=0}^{2^n -1} (-1)^{f(x)} \\ket x)\n",
       "\\\\\\\\\\qquad = \\frac1{\\sqrt{2^n}} \\sum_{x=0}^{2^n -1} (-1)^{f(x)} H^{\\otimes n} \\ket x\n",
       "$"
      ],
      "text/plain": [
       "<IPython.core.display.Math object>"
      ]
     },
     "metadata": {},
     "output_type": "display_data"
    },
    {
     "data": {
      "text/latex": [
       "$\\displaystyle \n",
       "\\textnormal{For each individual qubit,} \\ket{x_i}\n",
       "\\\\\\\\ H\\ket{x_i} = \\frac1{\\sqrt2}(\\ket0 + (-1)^{x_i} \\ket 1)\n",
       "$"
      ],
      "text/plain": [
       "<IPython.core.display.Math object>"
      ]
     },
     "metadata": {},
     "output_type": "display_data"
    },
    {
     "data": {
      "text/latex": [
       "$\\displaystyle \n",
       "\\textnormal{To help simplify, define the bitwise product operation}\n",
       "\\\\\\\\\n",
       "x \\cdot y = x_0y_0 \\oplus x_1y_1 \\oplus ... \\oplus x_{n-1}y_{n-1}\n",
       "$"
      ],
      "text/plain": [
       "<IPython.core.display.Math object>"
      ]
     },
     "metadata": {},
     "output_type": "display_data"
    },
    {
     "data": {
      "text/latex": [
       "$\\displaystyle \\textnormal{So when summed over all qubits, we have}\n",
       "\\\\\\\\ H^{\\otimes n}\\ket x = \\frac{(-1)^{x\\cdot0}}{\\sqrt{2^n}} \\ket0 + \\frac{(-1)^{x\\cdot1}}{\\sqrt{2^n}} \\ket1 + ... \\frac{(-1)^{x\\cdot{2^n-1}}}{\\sqrt{2^n}} \\ket{2^n-1}\n",
       "\\\\\\\\\\qquad\\qquad = \\frac1{\\sqrt{2^n}} \\sum_{y=0}^{2^n-1} (-1)^{x \\cdot y} \\ket y\n",
       "$"
      ],
      "text/plain": [
       "<IPython.core.display.Math object>"
      ]
     },
     "metadata": {},
     "output_type": "display_data"
    },
    {
     "data": {
      "text/latex": [
       "$\\displaystyle \n",
       "\\textnormal{Going back to the original operation, we get equations matching the notebook}\n",
       "\\\\\\\\ \\ket{\\psi_3} = H^{\\otimes n}\\ket{\\psi_{2'}}\n",
       "\\\\\\\\\\qquad = \\frac1{\\sqrt{2^n}} \\sum_{x=0}^{2^n-1}(-1)^{f(x)} H^{\\otimes n} \\ket x\n",
       "\\\\\\\\\\qquad = \\frac1{\\sqrt{2^n}} \\sum_{x=0}^{2^n-1}(-1)^{f(x)} \\big[ \\frac1{\\sqrt{2^n}} \\sum_{y=0}^{2^n-1} (-1)^{x \\cdot y} \\ket y \\big]\n",
       "\\\\\\\\\\qquad = \\frac1{2^n} \\sum_{x=0}^{2^n-1}(-1)^{f(x)} \\big[ \\sum_{y=0}^{2^n-1} (-1)^{x \\cdot y} \\ket y \\big]\n",
       "\\\\\\\\\\qquad = \\frac1{2^n} \\sum_{y=0}^{2^n-1} \\Big [ \\sum_{x=0}^{2^n-1} (-1)^{f(x)} (-1)^{x \\cdot y} \\Big] \\ket y\n",
       "$"
      ],
      "text/plain": [
       "<IPython.core.display.Math object>"
      ]
     },
     "metadata": {},
     "output_type": "display_data"
    }
   ],
   "source": [
    "# Now, we ignore the second register and apply a Hadamard gate on all qubits in the first register again\n",
    "\n",
    "display(Math(r\"\\ket{\\psi_{2'}} = \\frac1{\\sqrt{2^n}} \\sum_{x=0}^{2^n -1} (-1)^{f(x)} \\ket x\"))\n",
    "display(Math(r'''\n",
    "\\ket{\\psi_3} = H^{\\otimes n}\\ket{\\psi_{2'}}\n",
    "\\\\\\\\\\qquad = H^{\\otimes n}(\\frac1{\\sqrt{2^n}} \\sum_{x=0}^{2^n -1} (-1)^{f(x)} \\ket x)\n",
    "\\\\\\\\\\qquad = \\frac1{\\sqrt{2^n}} \\sum_{x=0}^{2^n -1} (-1)^{f(x)} H^{\\otimes n} \\ket x\n",
    "'''))\n",
    "\n",
    "display(Math(r'''\n",
    "\\textnormal{For each individual qubit,} \\ket{x_i}\n",
    "\\\\\\\\ H\\ket{x_i} = \\frac1{\\sqrt2}(\\ket0 + (-1)^{x_i} \\ket 1)\n",
    "'''))\n",
    "\n",
    "display(Math(r'''\n",
    "\\textnormal{To help simplify, define the bitwise product operation}\n",
    "\\\\\\\\\n",
    "x \\cdot y = x_0y_0 \\oplus x_1y_1 \\oplus ... \\oplus x_{n-1}y_{n-1}\n",
    "'''))\n",
    "\n",
    "display(Math(r'''\\textnormal{So when summed over all qubits, we have}\n",
    "\\\\\\\\ H^{\\otimes n}\\ket x = \\frac{(-1)^{x\\cdot0}}{\\sqrt{2^n}} \\ket0 + \\frac{(-1)^{x\\cdot1}}{\\sqrt{2^n}} \\ket1 + ... \\frac{(-1)^{x\\cdot{2^n-1}}}{\\sqrt{2^n}} \\ket{2^n-1}\n",
    "\\\\\\\\\\qquad\\qquad = \\frac1{\\sqrt{2^n}} \\sum_{y=0}^{2^n-1} (-1)^{x \\cdot y} \\ket y\n",
    "'''))\n",
    "\n",
    "display(Math(r'''\n",
    "\\textnormal{Going back to the original operation, we get equations matching the notebook}\n",
    "\\\\\\\\ \\ket{\\psi_3} = H^{\\otimes n}\\ket{\\psi_{2'}}\n",
    "\\\\\\\\\\qquad = \\frac1{\\sqrt{2^n}} \\sum_{x=0}^{2^n-1}(-1)^{f(x)} H^{\\otimes n} \\ket x\n",
    "\\\\\\\\\\qquad = \\frac1{\\sqrt{2^n}} \\sum_{x=0}^{2^n-1}(-1)^{f(x)} \\big[ \\frac1{\\sqrt{2^n}} \\sum_{y=0}^{2^n-1} (-1)^{x \\cdot y} \\ket y \\big]\n",
    "\\\\\\\\\\qquad = \\frac1{2^n} \\sum_{x=0}^{2^n-1}(-1)^{f(x)} \\big[ \\sum_{y=0}^{2^n-1} (-1)^{x \\cdot y} \\ket y \\big]\n",
    "\\\\\\\\\\qquad = \\frac1{2^n} \\sum_{y=0}^{2^n-1} \\Big [ \\sum_{x=0}^{2^n-1} (-1)^{f(x)} (-1)^{x \\cdot y} \\Big] \\ket y\n",
    "'''))\n"
   ]
  },
  {
   "cell_type": "code",
   "execution_count": 296,
   "metadata": {},
   "outputs": [
    {
     "data": {
      "text/latex": [
       "$\\displaystyle \n",
       "\\textnormal{By measuring the state now, the oracle function can be determined to be constant or balanced.}\n",
       "$"
      ],
      "text/plain": [
       "<IPython.core.display.Math object>"
      ]
     },
     "metadata": {},
     "output_type": "display_data"
    },
    {
     "data": {
      "text/latex": [
       "$\\displaystyle \n",
       "\\textnormal{Consider the case when the oracle function is constant, or f(x) is always one of 0 or 1.}\n",
       "\\\\\\\\ \\textnormal{ - If f(x) = 0, then the term } (-1)^{f(x)} \\textnormal{ had no effect on the transformation and } H(H\\ket0) = \\ket0\n",
       "\\\\\\\\ \\textnormal{ - If f(x) = 1, then the term } (-1)^{f(x)} \\textnormal{ applied a phase flip to all qubits but did not effect measurement probabilities}\n",
       "\\\\\\\\ \\textnormal{Both of these scenarios always lead to a measurement of } \\ket0^{\\otimes n}\n",
       "$"
      ],
      "text/plain": [
       "<IPython.core.display.Math object>"
      ]
     },
     "metadata": {},
     "output_type": "display_data"
    },
    {
     "data": {
      "text/latex": [
       "$\\displaystyle \n",
       "\\\\\\\\ \\textnormal{Otherwise, the oracle function is balanced and will produce a 0 or 1 with equal probability across all inputs.}\n",
       "\\\\\\\\ \\textnormal{ - In this case, half of the qubits in the register have their phase flipped. This creates a state orthogonal to } \\ket{00..0}\n",
       "\\\\\\\\ \\textnormal{Meaning a balanced oracle will never result in a measurement of } \\ket0^{\\otimes n}\n",
       "$"
      ],
      "text/plain": [
       "<IPython.core.display.Math object>"
      ]
     },
     "metadata": {},
     "output_type": "display_data"
    }
   ],
   "source": [
    "# Discuss conclusions\n",
    "display(Math(r'''\n",
    "\\textnormal{By measuring the state now, the oracle function can be determined to be constant or balanced.}\n",
    "'''))\n",
    "display(Math(r'''\n",
    "\\textnormal{Consider the case when the oracle function is constant, or f(x) is always one of 0 or 1.}\n",
    "\\\\\\\\ \\textnormal{ - If f(x) = 0, then the term } (-1)^{f(x)} \\textnormal{ had no effect on the transformation and } H(H\\ket0) = \\ket0\n",
    "\\\\\\\\ \\textnormal{ - If f(x) = 1, then the term } (-1)^{f(x)} \\textnormal{ applied a phase flip to all qubits but did not effect measurement probabilities}\n",
    "\\\\\\\\ \\textnormal{Both of these scenarios always lead to a measurement of } \\ket0^{\\otimes n}\n",
    "'''))\n",
    "display(Math(r'''\n",
    "\\\\\\\\ \\textnormal{Otherwise, the oracle function is balanced and will produce a 0 or 1 with equal probability across all inputs.}\n",
    "\\\\\\\\ \\textnormal{ - In this case, half of the qubits in the register have their phase flipped. This creates a state orthogonal to } \\ket{00..0}\n",
    "\\\\\\\\ \\textnormal{Meaning a balanced oracle will never result in a measurement of } \\ket0^{\\otimes n}\n",
    "'''))"
   ]
  },
  {
   "cell_type": "markdown",
   "metadata": {},
   "source": [
    "### Example Circuits"
   ]
  },
  {
   "cell_type": "code",
   "execution_count": 236,
   "metadata": {},
   "outputs": [],
   "source": [
    "# length of the n-bit string that is input to the oracle\n",
    "EXAMPLE_N = 3\n",
    "ALLOWED_CHRS = ['0', '1']\n",
    "def validate_input(input_str, n):\n",
    "    assert len(input_str) == n\n",
    "    for i in input_str:\n",
    "        assert i in ['0', '1']"
   ]
  },
  {
   "cell_type": "code",
   "execution_count": 237,
   "metadata": {},
   "outputs": [
    {
     "data": {
      "text/html": [
       "<pre style=\"word-wrap: normal;white-space: pre;background: #fff0;line-height: 1.1;font-family: &quot;Courier New&quot;,Courier,monospace\">          \n",
       "q_0: ─────\n",
       "          \n",
       "q_1: ─────\n",
       "          \n",
       "q_2: ─────\n",
       "     ┌───┐\n",
       "q_3: ┤ X ├\n",
       "     └───┘</pre>"
      ],
      "text/plain": [
       "          \n",
       "q_0: ─────\n",
       "          \n",
       "q_1: ─────\n",
       "          \n",
       "q_2: ─────\n",
       "     ┌───┐\n",
       "q_3: ┤ X ├\n",
       "     └───┘"
      ]
     },
     "execution_count": 237,
     "metadata": {},
     "output_type": "execute_result"
    }
   ],
   "source": [
    "# Setup the example constant oracle\n",
    "const_oracle = QCir(EXAMPLE_N+1)\n",
    "\n",
    "# Randomly decide if the output qubit is 0 or 1\n",
    "output = np.random.randint(2)\n",
    "if output == 1:\n",
    "    const_oracle.x(EXAMPLE_N)\n",
    "\n",
    "const_oracle.draw()"
   ]
  },
  {
   "cell_type": "markdown",
   "metadata": {},
   "source": [
    "Note that this oracle is \"constant\" because the result of the function is determined once and used for all circuit runs. If you had a function that randomly determined at each invocation whether the circuit was going to include an X gate or not, then that is not a static oracle function to test."
   ]
  },
  {
   "cell_type": "markdown",
   "metadata": {},
   "source": [
    "More interesting is the case of the balanced oracle. In the example, we use a input string that will be used to determine which inputs should be wrapped in X-gates."
   ]
  },
  {
   "cell_type": "code",
   "execution_count": 238,
   "metadata": {},
   "outputs": [
    {
     "data": {
      "text/html": [
       "<pre style=\"word-wrap: normal;white-space: pre;background: #fff0;line-height: 1.1;font-family: &quot;Courier New&quot;,Courier,monospace\">     ┌───┐ ░ \n",
       "q_0: ┤ X ├─░─\n",
       "     └───┘ ░ \n",
       "q_1: ──────░─\n",
       "     ┌───┐ ░ \n",
       "q_2: ┤ X ├─░─\n",
       "     └───┘ ░ \n",
       "q_3: ──────░─\n",
       "           ░ </pre>"
      ],
      "text/plain": [
       "     ┌───┐ ░ \n",
       "q_0: ┤ X ├─░─\n",
       "     └───┘ ░ \n",
       "q_1: ──────░─\n",
       "     ┌───┐ ░ \n",
       "q_2: ┤ X ├─░─\n",
       "     └───┘ ░ \n",
       "q_3: ──────░─\n",
       "           ░ "
      ]
     },
     "execution_count": 238,
     "metadata": {},
     "output_type": "execute_result"
    }
   ],
   "source": [
    "# Set the input string and validate\n",
    "i_str = \"101\"\n",
    "validate_input(i_str, EXAMPLE_N)\n",
    "\n",
    "balanced_oracle = QCir(EXAMPLE_N+1)\n",
    "\n",
    "def place_xgates(qc, b_str):\n",
    "    # Skip the last qubit, not part of input register\n",
    "    for qubit in range(len(qc.qregs[0])-1):\n",
    "        if b_str[qubit] == '1':\n",
    "            qc.x(qubit)\n",
    "\n",
    "# Place X-gates\n",
    "place_xgates(balanced_oracle, i_str)\n",
    "balanced_oracle.barrier()\n",
    "\n",
    "balanced_oracle.draw()"
   ]
  },
  {
   "cell_type": "code",
   "execution_count": 239,
   "metadata": {},
   "outputs": [
    {
     "data": {
      "text/html": [
       "<pre style=\"word-wrap: normal;white-space: pre;background: #fff0;line-height: 1.1;font-family: &quot;Courier New&quot;,Courier,monospace\">     ┌───┐ ░                 ░ \n",
       "q_0: ┤ X ├─░───■─────────────░─\n",
       "     └───┘ ░   │             ░ \n",
       "q_1: ──────░───┼────■────────░─\n",
       "     ┌───┐ ░   │    │        ░ \n",
       "q_2: ┤ X ├─░───┼────┼────■───░─\n",
       "     └───┘ ░ ┌─┴─┐┌─┴─┐┌─┴─┐ ░ \n",
       "q_3: ──────░─┤ X ├┤ X ├┤ X ├─░─\n",
       "           ░ └───┘└───┘└───┘ ░ </pre>"
      ],
      "text/plain": [
       "     ┌───┐ ░                 ░ \n",
       "q_0: ┤ X ├─░───■─────────────░─\n",
       "     └───┘ ░   │             ░ \n",
       "q_1: ──────░───┼────■────────░─\n",
       "     ┌───┐ ░   │    │        ░ \n",
       "q_2: ┤ X ├─░───┼────┼────■───░─\n",
       "     └───┘ ░ ┌─┴─┐┌─┴─┐┌─┴─┐ ░ \n",
       "q_3: ──────░─┤ X ├┤ X ├┤ X ├─░─\n",
       "           ░ └───┘└───┘└───┘ ░ "
      ]
     },
     "execution_count": 239,
     "metadata": {},
     "output_type": "execute_result"
    }
   ],
   "source": [
    "# Then add CNOT gates using each input qubit as a control\n",
    "def place_cnots(qc):\n",
    "    for qubit in range(len(qc.qregs[0])-1):\n",
    "        qc.cx(qubit, len(qc.qregs[0])-1)\n",
    "\n",
    "place_cnots(balanced_oracle)\n",
    "balanced_oracle.barrier()\n",
    "balanced_oracle.draw()"
   ]
  },
  {
   "cell_type": "code",
   "execution_count": 240,
   "metadata": {},
   "outputs": [
    {
     "data": {
      "text/html": [
       "<pre style=\"word-wrap: normal;white-space: pre;background: #fff0;line-height: 1.1;font-family: &quot;Courier New&quot;,Courier,monospace\">     ┌───┐ ░                 ░ ┌───┐\n",
       "q_0: ┤ X ├─░───■─────────────░─┤ X ├\n",
       "     └───┘ ░   │             ░ └───┘\n",
       "q_1: ──────░───┼────■────────░──────\n",
       "     ┌───┐ ░   │    │        ░ ┌───┐\n",
       "q_2: ┤ X ├─░───┼────┼────■───░─┤ X ├\n",
       "     └───┘ ░ ┌─┴─┐┌─┴─┐┌─┴─┐ ░ └───┘\n",
       "q_3: ──────░─┤ X ├┤ X ├┤ X ├─░──────\n",
       "           ░ └───┘└───┘└───┘ ░      </pre>"
      ],
      "text/plain": [
       "     ┌───┐ ░                 ░ ┌───┐\n",
       "q_0: ┤ X ├─░───■─────────────░─┤ X ├\n",
       "     └───┘ ░   │             ░ └───┘\n",
       "q_1: ──────░───┼────■────────░──────\n",
       "     ┌───┐ ░   │    │        ░ ┌───┐\n",
       "q_2: ┤ X ├─░───┼────┼────■───░─┤ X ├\n",
       "     └───┘ ░ ┌─┴─┐┌─┴─┐┌─┴─┐ ░ └───┘\n",
       "q_3: ──────░─┤ X ├┤ X ├┤ X ├─░──────\n",
       "           ░ └───┘└───┘└───┘ ░      "
      ]
     },
     "execution_count": 240,
     "metadata": {},
     "output_type": "execute_result"
    }
   ],
   "source": [
    "# Finish \"wrapping\" the input bits in X-gates by repeating\n",
    "place_xgates(balanced_oracle, i_str)\n",
    "balanced_oracle.draw()"
   ]
  },
  {
   "cell_type": "code",
   "execution_count": 241,
   "metadata": {},
   "outputs": [],
   "source": [
    "# Create a util function\n",
    "def build_balanced_oracle(b_str):\n",
    "    r_qc = QCir(EXAMPLE_N+1)\n",
    "    place_xgates(r_qc, b_str)\n",
    "    r_qc.barrier()\n",
    "    place_cnots(r_qc)\n",
    "    r_qc.barrier()\n",
    "    place_xgates(r_qc, b_str)\n",
    "    return r_qc"
   ]
  },
  {
   "cell_type": "markdown",
   "metadata": {},
   "source": [
    "#### The Deutsch-Jozsa Algorithm"
   ]
  },
  {
   "cell_type": "code",
   "execution_count": 242,
   "metadata": {},
   "outputs": [
    {
     "data": {
      "text/html": [
       "<pre style=\"word-wrap: normal;white-space: pre;background: #fff0;line-height: 1.1;font-family: &quot;Courier New&quot;,Courier,monospace\">     ┌───┐     \n",
       "q_0: ┤ H ├─────\n",
       "     ├───┤     \n",
       "q_1: ┤ H ├─────\n",
       "     ├───┤     \n",
       "q_2: ┤ H ├─────\n",
       "     ├───┤┌───┐\n",
       "q_3: ┤ X ├┤ H ├\n",
       "     └───┘└───┘\n",
       "c: 3/══════════\n",
       "               </pre>"
      ],
      "text/plain": [
       "     ┌───┐     \n",
       "q_0: ┤ H ├─────\n",
       "     ├───┤     \n",
       "q_1: ┤ H ├─────\n",
       "     ├───┤     \n",
       "q_2: ┤ H ├─────\n",
       "     ├───┤┌───┐\n",
       "q_3: ┤ X ├┤ H ├\n",
       "     └───┘└───┘\n",
       "c: 3/══════════\n",
       "               "
      ]
     },
     "execution_count": 242,
     "metadata": {},
     "output_type": "execute_result"
    }
   ],
   "source": [
    "# Use the oracle in conjunction with other steps in the algorithm to produce this circuit\n",
    "\n",
    "# Initialize a quantum register with N+1 qubits and a classical register with N bits\n",
    "dj_circuit = QCir(EXAMPLE_N+1, EXAMPLE_N)\n",
    "\n",
    "# Apply a H-gate to all qubits except the last\n",
    "def place_hgates(qc):\n",
    "    for qubit in range(len(qc.qregs[0])-1):\n",
    "        qc.h(qubit)\n",
    "\n",
    "place_hgates(dj_circuit)\n",
    "\n",
    "# Flip the final qubit before applying a H-gate\n",
    "dj_circuit.x(EXAMPLE_N)\n",
    "dj_circuit.h(EXAMPLE_N)\n",
    "\n",
    "dj_circuit.draw()"
   ]
  },
  {
   "cell_type": "code",
   "execution_count": 243,
   "metadata": {},
   "outputs": [
    {
     "data": {
      "text/html": [
       "<pre style=\"word-wrap: normal;white-space: pre;background: #fff0;line-height: 1.1;font-family: &quot;Courier New&quot;,Courier,monospace\">     ┌───┐      ░                 ░      \n",
       "q_0: ┤ H ├──────░───■─────────────░──────\n",
       "     ├───┤      ░   │             ░      \n",
       "q_1: ┤ H ├──────░───┼────■────────░──────\n",
       "     ├───┤┌───┐ ░   │    │        ░ ┌───┐\n",
       "q_2: ┤ H ├┤ X ├─░───┼────┼────■───░─┤ X ├\n",
       "     ├───┤├───┤ ░ ┌─┴─┐┌─┴─┐┌─┴─┐ ░ └───┘\n",
       "q_3: ┤ X ├┤ H ├─░─┤ X ├┤ X ├┤ X ├─░──────\n",
       "     └───┘└───┘ ░ └───┘└───┘└───┘ ░      \n",
       "c: 3/════════════════════════════════════\n",
       "                                         </pre>"
      ],
      "text/plain": [
       "     ┌───┐      ░                 ░      \n",
       "q_0: ┤ H ├──────░───■─────────────░──────\n",
       "     ├───┤      ░   │             ░      \n",
       "q_1: ┤ H ├──────░───┼────■────────░──────\n",
       "     ├───┤┌───┐ ░   │    │        ░ ┌───┐\n",
       "q_2: ┤ H ├┤ X ├─░───┼────┼────■───░─┤ X ├\n",
       "     ├───┤├───┤ ░ ┌─┴─┐┌─┴─┐┌─┴─┐ ░ └───┘\n",
       "q_3: ┤ X ├┤ H ├─░─┤ X ├┤ X ├┤ X ├─░──────\n",
       "     └───┘└───┘ ░ └───┘└───┘└───┘ ░      \n",
       "c: 3/════════════════════════════════════\n",
       "                                         "
      ]
     },
     "execution_count": 243,
     "metadata": {},
     "output_type": "execute_result"
    }
   ],
   "source": [
    "# Add the balanced oracle defined previously\n",
    "test_input = '001'\n",
    "\n",
    "dj_circuit = dj_circuit.compose(build_balanced_oracle(test_input))\n",
    "dj_circuit.draw()"
   ]
  },
  {
   "cell_type": "code",
   "execution_count": 244,
   "metadata": {},
   "outputs": [
    {
     "data": {
      "image/png": "[encoded data removed]",
      "text/plain": [
       "<Figure size 1207.22x451.5 with 1 Axes>"
      ]
     },
     "execution_count": 244,
     "metadata": {},
     "output_type": "execute_result"
    }
   ],
   "source": [
    "# Finally, apply H-gates again and then take measurements\n",
    "place_hgates(dj_circuit)\n",
    "\n",
    "dj_circuit.barrier()\n",
    "\n",
    "def measure_dj(qc):\n",
    "    # Don't measure last qubit\n",
    "    for i in range(len(qc.qregs[0])-1):\n",
    "        qc.measure(i, i)\n",
    "\n",
    "measure_dj(dj_circuit)\n",
    "dj_circuit.draw(output=\"mpl\", style=\"iqp\")"
   ]
  },
  {
   "cell_type": "code",
   "execution_count": 245,
   "metadata": {},
   "outputs": [
    {
     "data": {
      "image/png": "[encoded data removed]",
      "text/plain": [
       "<Figure size 640x480 with 1 Axes>"
      ]
     },
     "execution_count": 245,
     "metadata": {},
     "output_type": "execute_result"
    }
   ],
   "source": [
    "# View the results with a local simulator\n",
    "dj_counts = sampler.run([dj_circuit]).result().get_counts()\n",
    "plot_histogram(dj_counts)"
   ]
  },
  {
   "cell_type": "code",
   "execution_count": 246,
   "metadata": {},
   "outputs": [],
   "source": [
    "# There is a 0% chance of measuring 000\n",
    "assert dj_counts.get('000', 0) == 0"
   ]
  },
  {
   "cell_type": "markdown",
   "metadata": {},
   "source": [
    "As predicted, this balanced oracle function will never result in a measurement of 000!"
   ]
  },
  {
   "cell_type": "markdown",
   "metadata": {},
   "source": [
    "### Generalised Circuits"
   ]
  },
  {
   "cell_type": "code",
   "execution_count": 247,
   "metadata": {},
   "outputs": [],
   "source": [
    "BALANCED = 'balanced'\n",
    "CONSTANT = 'constant'\n",
    "ALLOWED_CASES = [BALANCED, CONSTANT]\n",
    "\n",
    "def dj_oracle(case, n):\n",
    "    \"\"\"\n",
    "    This function takes in a string (\"balanced\" or \"constant\") along with the input\n",
    "    register size (n) to return the oracle circuit for that kind of oracle function.\n",
    "    \"\"\"\n",
    "    # Validate oracle cases\n",
    "    assert case in ALLOWED_CASES\n",
    "    \n",
    "    oracle_qc = QCir(n+1)\n",
    "\n",
    "    if case == BALANCED:\n",
    "        # Generate a random number that determines which CNOTS to wrap in X-gates\n",
    "        b = np.random.randint(1,2**n)\n",
    "        # Prepare b for the circuit as a binary with enough 0-padding\n",
    "        b_str = format(b, f'0{n}b')\n",
    "        # Balanced oracles start by applying X-gates\n",
    "        place_xgates(oracle_qc, b_str)\n",
    "        # Then apply CNOT gates to all qubits\n",
    "        place_cnots(oracle_qc)\n",
    "        # Repeat X-gates to finish wrapping them\n",
    "        place_xgates(oracle_qc, b_str)\n",
    "\n",
    "    if case == CONSTANT:\n",
    "        # Randomly decide if this oracle function is going to always return 0 or 1\n",
    "        output = np.random.randint(2)\n",
    "        if output == 1:\n",
    "            oracle_qc.x(n)\n",
    "\n",
    "    # Tidy this up for circuit drawing purposes and to obfuscate what kind of oracle is in use\n",
    "    oracle_gate = oracle_qc.to_gate()\n",
    "    oracle_gate.name = \"Oracle\"\n",
    "    return oracle_gate\n"
   ]
  },
  {
   "cell_type": "code",
   "execution_count": 248,
   "metadata": {},
   "outputs": [],
   "source": [
    "def dj_algorithm(oracle, n):\n",
    "    \"\"\"\n",
    "    Takes an oracle gate as input and builds a full Deutsch-Jozsa algorithm to measure what kind it is\n",
    "    \"\"\"\n",
    "    dj_circuit = QCir(n+1, n)\n",
    "\n",
    "    # Prepare the output qubit\n",
    "    dj_circuit.x(n)\n",
    "    dj_circuit.h(n)\n",
    "\n",
    "    # Setup input register\n",
    "    place_hgates(dj_circuit)\n",
    "\n",
    "    # Run the supplied oracle function\n",
    "    dj_circuit.append(oracle, range(n+1))\n",
    "\n",
    "    # Repeat H-gates and measure\n",
    "    place_hgates(dj_circuit)\n",
    "    measure_dj(dj_circuit)\n",
    "\n",
    "    return dj_circuit"
   ]
  },
  {
   "cell_type": "markdown",
   "metadata": {},
   "source": [
    "Time for some sandboxing to test the circuit"
   ]
  },
  {
   "cell_type": "code",
   "execution_count": 255,
   "metadata": {},
   "outputs": [
    {
     "data": {
      "image/png": "[encoded data removed]",
      "text/plain": [
       "<Figure size 872.774x535.111 with 1 Axes>"
      ]
     },
     "execution_count": 255,
     "metadata": {},
     "output_type": "execute_result"
    }
   ],
   "source": [
    "sb_n = 4\n",
    "# Randomly pick a type of oracle function to interpret results\n",
    "case = BALANCED if np.random.randint(2) == 1 else CONSTANT\n",
    "sb_gate = dj_oracle(case, sb_n)\n",
    "sb_circuit = dj_algorithm(sb_gate, sb_n)\n",
    "sb_circuit.draw(output=\"mpl\", style=\"iqp\")"
   ]
  },
  {
   "cell_type": "code",
   "execution_count": 256,
   "metadata": {},
   "outputs": [
    {
     "data": {
      "image/png": "[encoded data removed]",
      "text/plain": [
       "<Figure size 640x480 with 1 Axes>"
      ]
     },
     "execution_count": 256,
     "metadata": {},
     "output_type": "execute_result"
    }
   ],
   "source": [
    "# Plot the results of running the circuit\n",
    "trans_sb_circuit = transpile(sb_circuit, sampler)\n",
    "sb_results = sampler.run(trans_sb_circuit).result().get_counts()\n",
    "plot_histogram(sb_results)"
   ]
  },
  {
   "cell_type": "markdown",
   "metadata": {},
   "source": [
    "Note that running the previous two steps multiple times will result in two different scenarios:\n",
    "- If the oracle function was randomly chosen to be a CONSTANT oracle, then the result will always be 0000\n",
    "- If the oracle function was randomly chosen to be a BALANCED oracle, then the result will always be 1111"
   ]
  },
  {
   "cell_type": "markdown",
   "metadata": {},
   "source": [
    "#### Experimenting with real devices"
   ]
  },
  {
   "cell_type": "code",
   "execution_count": 273,
   "metadata": {},
   "outputs": [
    {
     "data": {
      "text/plain": [
       "'ibm_kyiv'"
      ]
     },
     "execution_count": 273,
     "metadata": {},
     "output_type": "execute_result"
    }
   ],
   "source": [
    "# Additional imports\n",
    "from qiskit_ibm_runtime import QiskitRuntimeService\n",
    "from qiskit_ibm_runtime import SamplerV2\n",
    "from qiskit.transpiler.preset_passmanagers import generate_preset_pass_manager\n",
    "\n",
    "# To run on hardware, select the backend with the fewest number of jobs in the queue\n",
    "service = QiskitRuntimeService(channel=\"ibm_quantum\")\n",
    "backend = service.least_busy(operational=True, simulator=False)\n",
    "backend.name"
   ]
  },
  {
   "cell_type": "code",
   "execution_count": 265,
   "metadata": {},
   "outputs": [
    {
     "data": {
      "image/png": "[encoded data removed]",
      "text/plain": [
       "<Figure size 2281.67x1120.39 with 1 Axes>"
      ]
     },
     "execution_count": 265,
     "metadata": {},
     "output_type": "execute_result"
    }
   ],
   "source": [
    "# Transpile the circuit for operating on real quantum hardward\n",
    "target = backend.target\n",
    "pm = generate_preset_pass_manager(target=target, optimization_level=3)\n",
    "\n",
    "circuit_isa = pm.run(sb_circuit)\n",
    "circuit_isa.draw(output=\"mpl\", idle_wires=False, style=\"iqp\")"
   ]
  },
  {
   "cell_type": "code",
   "execution_count": 274,
   "metadata": {},
   "outputs": [],
   "source": [
    "# Run the circuit and wait for the results\n",
    "sampler2 = SamplerV2(mode=backend)\n",
    "sampler2.options.default_shots = 1_000\n",
    "result = sampler2.run([circuit_isa]).result()[0]"
   ]
  },
  {
   "cell_type": "code",
   "execution_count": 290,
   "metadata": {},
   "outputs": [
    {
     "data": {
      "image/png": "[encoded data removed]",
      "text/plain": [
       "<Figure size 640x480 with 1 Axes>"
      ]
     },
     "execution_count": 290,
     "metadata": {},
     "output_type": "execute_result"
    }
   ],
   "source": [
    "# Plot the results\n",
    "test_counts = result.data.c.get_counts()\n",
    "plot_histogram(test_counts)"
   ]
  },
  {
   "cell_type": "markdown",
   "metadata": {},
   "source": [
    "The results from the real hardware generally align with the theoretical result, but we see some probability of measuring other values as well!"
   ]
  },
  {
   "cell_type": "code",
   "execution_count": 291,
   "metadata": {},
   "outputs": [],
   "source": [
    "# Verify the results match expected\n",
    "if case == BALANCED:\n",
    "    assert max(test_counts) == '1' * sb_n\n",
    "elif case == CONSTANT:\n",
    "    assert max(test_counts) == '0' * sb_n\n",
    "else:\n",
    "    assert False # case should never be something other than these"
   ]
  }
 ],
 "metadata": {
  "kernelspec": {
   "display_name": "Python 3",
   "language": "python",
   "name": "python3"
  },
  "language_info": {
   "codemirror_mode": {
    "name": "ipython",
    "version": 3
   },
   "file_extension": ".py",
   "mimetype": "text/x-python",
   "name": "python",
   "nbconvert_exporter": "python",
   "pygments_lexer": "ipython3",
   "version": "3.12.6"
  }
 },
 "nbformat": 4,
 "nbformat_minor": 2
}
